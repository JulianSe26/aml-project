{
 "cells": [
  {
   "cell_type": "code",
   "execution_count": 1,
   "id": "5da8666f",
   "metadata": {
    "pycharm": {
     "name": "#%%\n"
    }
   },
   "outputs": [
    {
     "name": "stdout",
     "output_type": "stream",
     "text": [
      "Requirement already satisfied: python-gdcm in /home/tkrieger/var/master-env/lib64/python3.9/site-packages (3.0.9.1)\r\n"
     ]
    }
   ],
   "source": [
    "!pip install python-gdcm\n",
    "\n",
    "import pydicom\n",
    "import pandas as pd\n",
    "import numpy as np\n",
    "from pathlib import Path\n",
    "import matplotlib.pyplot as plt\n",
    "import matplotlib.patches as patches\n",
    "import concurrent.futures\n",
    "import ast\n",
    "\n",
    "data_dir = \"~/var/aml-xrays\"\n",
    "data_path = Path(data_dir).expanduser()"
   ]
  },
  {
   "cell_type": "markdown",
   "id": "2136dd31",
   "metadata": {},
   "source": [
    "## CSVs\n",
    "### Image Level Train CSV"
   ]
  },
  {
   "cell_type": "code",
   "execution_count": 66,
   "id": "1183b9ea",
   "metadata": {},
   "outputs": [
    {
     "name": "stdout",
     "output_type": "stream",
     "text": [
      "6334\n"
     ]
    },
    {
     "data": {
      "text/plain": "                      id                                              boxes  \\\n0     000a312787f2_image  [{'x': 789.28836, 'y': 582.43035, 'width': 102...   \n1     000c3a3f293f_image                                                NaN   \n2     0012ff7358bc_image  [{'x': 677.42216, 'y': 197.97662, 'width': 867...   \n3     001398f4ff4f_image  [{'x': 2729, 'y': 2181.33331, 'width': 948.000...   \n4     001bd15d1891_image  [{'x': 623.23328, 'y': 1050, 'width': 714, 'he...   \n...                  ...                                                ...   \n6329  ffcc6edd9445_image                                                NaN   \n6330  ffd91a2c4ca0_image                                                NaN   \n6331  ffd9b6cf2961_image  [{'x': 2197.38566, 'y': 841.07361, 'width': 31...   \n6332  ffdc682f7680_image  [{'x': 2729.27083, 'y': 332.26044, 'width': 14...   \n6333  ffe942c8655f_image  [{'x': 208.86463, 'y': 91.53448, 'width': 450....   \n\n                                                  label StudyInstanceUID  \n0     opacity 1 789.28836 582.43035 1815.94498 2499....     5776db0cec75  \n1                                        none 1 0 0 1 1     ff0879eb20ed  \n2     opacity 1 677.42216 197.97662 1545.21983 1197....     9d514ce429a7  \n3       opacity 1 2729 2181.33331 3677.00012 2785.33331     28dddc8559b2  \n4     opacity 1 623.23328 1050 1337.23328 2156 opaci...     dfd9fdd85a3e  \n...                                                 ...              ...  \n6329                                     none 1 0 0 1 1     7e6c68462e06  \n6330                                     none 1 0 0 1 1     8332bdaddb6e  \n6331  opacity 1 2197.38566 841.07361 2513.80265 1292...     7eed9af03814  \n6332  opacity 1 2729.27083 332.26044 4225.52099 2936...     a0cb0b96fb3d  \n6333  opacity 1 208.86463 91.53448 659.8321 719.5892...     7d82d53204b8  \n\n[6334 rows x 4 columns]",
      "text/html": "<div>\n<style scoped>\n    .dataframe tbody tr th:only-of-type {\n        vertical-align: middle;\n    }\n\n    .dataframe tbody tr th {\n        vertical-align: top;\n    }\n\n    .dataframe thead th {\n        text-align: right;\n    }\n</style>\n<table border=\"1\" class=\"dataframe\">\n  <thead>\n    <tr style=\"text-align: right;\">\n      <th></th>\n      <th>id</th>\n      <th>boxes</th>\n      <th>label</th>\n      <th>StudyInstanceUID</th>\n    </tr>\n  </thead>\n  <tbody>\n    <tr>\n      <th>0</th>\n      <td>000a312787f2_image</td>\n      <td>[{'x': 789.28836, 'y': 582.43035, 'width': 102...</td>\n      <td>opacity 1 789.28836 582.43035 1815.94498 2499....</td>\n      <td>5776db0cec75</td>\n    </tr>\n    <tr>\n      <th>1</th>\n      <td>000c3a3f293f_image</td>\n      <td>NaN</td>\n      <td>none 1 0 0 1 1</td>\n      <td>ff0879eb20ed</td>\n    </tr>\n    <tr>\n      <th>2</th>\n      <td>0012ff7358bc_image</td>\n      <td>[{'x': 677.42216, 'y': 197.97662, 'width': 867...</td>\n      <td>opacity 1 677.42216 197.97662 1545.21983 1197....</td>\n      <td>9d514ce429a7</td>\n    </tr>\n    <tr>\n      <th>3</th>\n      <td>001398f4ff4f_image</td>\n      <td>[{'x': 2729, 'y': 2181.33331, 'width': 948.000...</td>\n      <td>opacity 1 2729 2181.33331 3677.00012 2785.33331</td>\n      <td>28dddc8559b2</td>\n    </tr>\n    <tr>\n      <th>4</th>\n      <td>001bd15d1891_image</td>\n      <td>[{'x': 623.23328, 'y': 1050, 'width': 714, 'he...</td>\n      <td>opacity 1 623.23328 1050 1337.23328 2156 opaci...</td>\n      <td>dfd9fdd85a3e</td>\n    </tr>\n    <tr>\n      <th>...</th>\n      <td>...</td>\n      <td>...</td>\n      <td>...</td>\n      <td>...</td>\n    </tr>\n    <tr>\n      <th>6329</th>\n      <td>ffcc6edd9445_image</td>\n      <td>NaN</td>\n      <td>none 1 0 0 1 1</td>\n      <td>7e6c68462e06</td>\n    </tr>\n    <tr>\n      <th>6330</th>\n      <td>ffd91a2c4ca0_image</td>\n      <td>NaN</td>\n      <td>none 1 0 0 1 1</td>\n      <td>8332bdaddb6e</td>\n    </tr>\n    <tr>\n      <th>6331</th>\n      <td>ffd9b6cf2961_image</td>\n      <td>[{'x': 2197.38566, 'y': 841.07361, 'width': 31...</td>\n      <td>opacity 1 2197.38566 841.07361 2513.80265 1292...</td>\n      <td>7eed9af03814</td>\n    </tr>\n    <tr>\n      <th>6332</th>\n      <td>ffdc682f7680_image</td>\n      <td>[{'x': 2729.27083, 'y': 332.26044, 'width': 14...</td>\n      <td>opacity 1 2729.27083 332.26044 4225.52099 2936...</td>\n      <td>a0cb0b96fb3d</td>\n    </tr>\n    <tr>\n      <th>6333</th>\n      <td>ffe942c8655f_image</td>\n      <td>[{'x': 208.86463, 'y': 91.53448, 'width': 450....</td>\n      <td>opacity 1 208.86463 91.53448 659.8321 719.5892...</td>\n      <td>7d82d53204b8</td>\n    </tr>\n  </tbody>\n</table>\n<p>6334 rows × 4 columns</p>\n</div>"
     },
     "execution_count": 66,
     "metadata": {},
     "output_type": "execute_result"
    }
   ],
   "source": [
    "image_level = pd.read_csv(data_path / \"train_image_level.csv\")\n",
    "image_level"
   ]
  },
  {
   "cell_type": "markdown",
   "id": "e2b3122a",
   "metadata": {},
   "source": [
    "### Study Level Train CSV"
   ]
  },
  {
   "cell_type": "code",
   "execution_count": 51,
   "id": "51ac9d95",
   "metadata": {},
   "outputs": [
    {
     "data": {
      "text/plain": "                      id  Negative for Pneumonia  Typical Appearance  \\\n0     00086460a852_study                       0                   1   \n1     000c9c05fd14_study                       0                   0   \n2     00292f8c37bd_study                       1                   0   \n3     005057b3f880_study                       1                   0   \n4     0051d9b12e72_study                       0                   0   \n...                  ...                     ...                 ...   \n6049  ffcb4630f46f_study                       0                   1   \n6050  ffe4d6e8fbb0_study                       0                   1   \n6051  ffe94fcb14fa_study                       0                   1   \n6052  ffebf1ef4a9c_study                       0                   1   \n6053  fff649d65f62_study                       0                   1   \n\n      Indeterminate Appearance  Atypical Appearance  \n0                            0                    0  \n1                            0                    1  \n2                            0                    0  \n3                            0                    0  \n4                            0                    1  \n...                        ...                  ...  \n6049                         0                    0  \n6050                         0                    0  \n6051                         0                    0  \n6052                         0                    0  \n6053                         0                    0  \n\n[6054 rows x 5 columns]",
      "text/html": "<div>\n<style scoped>\n    .dataframe tbody tr th:only-of-type {\n        vertical-align: middle;\n    }\n\n    .dataframe tbody tr th {\n        vertical-align: top;\n    }\n\n    .dataframe thead th {\n        text-align: right;\n    }\n</style>\n<table border=\"1\" class=\"dataframe\">\n  <thead>\n    <tr style=\"text-align: right;\">\n      <th></th>\n      <th>id</th>\n      <th>Negative for Pneumonia</th>\n      <th>Typical Appearance</th>\n      <th>Indeterminate Appearance</th>\n      <th>Atypical Appearance</th>\n    </tr>\n  </thead>\n  <tbody>\n    <tr>\n      <th>0</th>\n      <td>00086460a852_study</td>\n      <td>0</td>\n      <td>1</td>\n      <td>0</td>\n      <td>0</td>\n    </tr>\n    <tr>\n      <th>1</th>\n      <td>000c9c05fd14_study</td>\n      <td>0</td>\n      <td>0</td>\n      <td>0</td>\n      <td>1</td>\n    </tr>\n    <tr>\n      <th>2</th>\n      <td>00292f8c37bd_study</td>\n      <td>1</td>\n      <td>0</td>\n      <td>0</td>\n      <td>0</td>\n    </tr>\n    <tr>\n      <th>3</th>\n      <td>005057b3f880_study</td>\n      <td>1</td>\n      <td>0</td>\n      <td>0</td>\n      <td>0</td>\n    </tr>\n    <tr>\n      <th>4</th>\n      <td>0051d9b12e72_study</td>\n      <td>0</td>\n      <td>0</td>\n      <td>0</td>\n      <td>1</td>\n    </tr>\n    <tr>\n      <th>...</th>\n      <td>...</td>\n      <td>...</td>\n      <td>...</td>\n      <td>...</td>\n      <td>...</td>\n    </tr>\n    <tr>\n      <th>6049</th>\n      <td>ffcb4630f46f_study</td>\n      <td>0</td>\n      <td>1</td>\n      <td>0</td>\n      <td>0</td>\n    </tr>\n    <tr>\n      <th>6050</th>\n      <td>ffe4d6e8fbb0_study</td>\n      <td>0</td>\n      <td>1</td>\n      <td>0</td>\n      <td>0</td>\n    </tr>\n    <tr>\n      <th>6051</th>\n      <td>ffe94fcb14fa_study</td>\n      <td>0</td>\n      <td>1</td>\n      <td>0</td>\n      <td>0</td>\n    </tr>\n    <tr>\n      <th>6052</th>\n      <td>ffebf1ef4a9c_study</td>\n      <td>0</td>\n      <td>1</td>\n      <td>0</td>\n      <td>0</td>\n    </tr>\n    <tr>\n      <th>6053</th>\n      <td>fff649d65f62_study</td>\n      <td>0</td>\n      <td>1</td>\n      <td>0</td>\n      <td>0</td>\n    </tr>\n  </tbody>\n</table>\n<p>6054 rows × 5 columns</p>\n</div>"
     },
     "execution_count": 51,
     "metadata": {},
     "output_type": "execute_result"
    }
   ],
   "source": [
    "study_level = pd.read_csv(data_path / \"train_study_level.csv\")\n",
    "study_level"
   ]
  },
  {
   "cell_type": "code",
   "execution_count": 8,
   "outputs": [
    {
     "name": "stdout",
     "output_type": "stream",
     "text": [
      "      Negative for Pneumonia  Typical Appearance  Indeterminate Appearance  \\\n",
      "1142                       0                   0                         1   \n",
      "2654                       0                   1                         0   \n",
      "5395                       1                   0                         0   \n",
      "1170                       0                   0                         1   \n",
      "4371                       1                   0                         0   \n",
      "...                      ...                 ...                       ...   \n",
      "3772                       0                   1                         0   \n",
      "5191                       0                   1                         0   \n",
      "5226                       0                   0                         1   \n",
      "5390                       1                   0                         0   \n",
      "860                        0                   1                         0   \n",
      "\n",
      "      Atypical Appearance  \n",
      "1142                    0  \n",
      "2654                    0  \n",
      "5395                    0  \n",
      "1170                    0  \n",
      "4371                    0  \n",
      "...                   ...  \n",
      "3772                    0  \n",
      "5191                    0  \n",
      "5226                    0  \n",
      "5390                    0  \n",
      "860                     0  \n",
      "\n",
      "[5067 rows x 4 columns]\n",
      "0    3663\n",
      "1    1404\n",
      "Name: Negative for Pneumonia, dtype: int64\n",
      "0    2667\n",
      "1    2400\n",
      "Name: Typical Appearance, dtype: int64\n",
      "0    4191\n",
      "1     876\n",
      "Name: Indeterminate Appearance, dtype: int64\n",
      "0    4680\n",
      "1     387\n",
      "Name: Atypical Appearance, dtype: int64\n",
      "[ 2.60897436  1.11125     4.78424658 12.09302326]\n"
     ]
    }
   ],
   "source": [
    "from sklearn.model_selection import train_test_split\n",
    "\n",
    "def split_dataset(base_path: Path, random_state=42):\n",
    "    study_level = pd.read_csv(base_path / \"train_study_level.csv\")\n",
    "    image_level = pd.read_csv(base_path / \"train_image_level.csv\")\n",
    "    image_level[\"study_id\"] = image_level[\"StudyInstanceUID\"] + \"_study\"\n",
    "    merged = pd.merge(image_level, study_level, left_on=\"study_id\", right_on=\"id\", suffixes=(\"\", \"_o\"))\n",
    "    y = np.squeeze((merged.values[:, [5, 6, 7, 8]]))\n",
    "\n",
    "    merged = merged.drop([\"id_o\"], axis=1)\n",
    "\n",
    "    def to_file_path(row):\n",
    "        image_id = row[\"id\"][:-6]\n",
    "        return list(base_path.glob(f'data/train/{row[\"StudyInstanceUID\"]}/**/{image_id}.png'))[0]\n",
    "\n",
    "    merged[\"file_path\"] = merged.apply(to_file_path, axis=1)\n",
    "    train_X, test_X, _, _ = train_test_split(merged, y, test_size=0.2, random_state=random_state)\n",
    "    return train_X, test_X\n",
    "\n",
    "def build_bce_weights(merged_data):\n",
    "    pos_weights = np.ones(4)\n",
    "    labels_only = merged_data.iloc[:, 5:9]\n",
    "    print(labels_only)\n",
    "    for index in range(4):\n",
    "        values = labels_only.iloc[:, index].value_counts().sort_index()\n",
    "        print(values)\n",
    "        pos_weights[index] = values[0] / values[1]\n",
    "    return pos_weights\n",
    "\n",
    "train_x, _ = split_dataset(base_path=data_path)\n",
    "print(build_bce_weights(train_x))"
   ],
   "metadata": {
    "collapsed": false,
    "pycharm": {
     "name": "#%%\n"
    }
   }
  },
  {
   "cell_type": "markdown",
   "id": "661c3f21",
   "metadata": {},
   "source": [
    "### Sample Submission"
   ]
  },
  {
   "cell_type": "code",
   "execution_count": null,
   "id": "db48d53f",
   "metadata": {},
   "outputs": [],
   "source": [
    "sample_sub = pd.read_csv(data_path / \"sample_submission.csv\")\n",
    "sample_sub"
   ]
  },
  {
   "cell_type": "code",
   "execution_count": null,
   "id": "b1e5b704",
   "metadata": {},
   "outputs": [],
   "source": [
    "def resolve_image_paths(study_id, dataset=\"train\"):\n",
    "    study_path = data_path / dataset / study_id\n",
    "    image_paths = []\n",
    "    for series_path in study_path.iterdir():\n",
    "        if series_path.is_dir():\n",
    "            [image_paths.append(image_path) for image_path in series_path.iterdir()]\n",
    "    return image_paths\n",
    "\n",
    "def study_id_from_csv_id(csv_id):\n",
    "    return csv_id[:-6]\n",
    "\n",
    "def csv_id_to_paths(csv_id, dataset=\"train\"):\n",
    "    return resolve_image_paths(study_id_from_csv_id(csv_id), dataset)"
   ]
  },
  {
   "cell_type": "code",
   "execution_count": null,
   "id": "8821a237",
   "metadata": {},
   "outputs": [],
   "source": [
    "csv_id_to_paths(\"00086460a852_study\")"
   ]
  },
  {
   "cell_type": "code",
   "execution_count": null,
   "id": "df415963",
   "metadata": {},
   "outputs": [],
   "source": [
    "typical = study_level[study_level[\"Typical Appearance\"] == 1]"
   ]
  },
  {
   "cell_type": "code",
   "execution_count": null,
   "id": "d8b31239",
   "metadata": {},
   "outputs": [],
   "source": [
    "sample_csv_id = typical.head(1)[\"id\"].values[0]\n",
    "dicom_obj = pydicom.dcmread(csv_id_to_paths(sample_csv_id)[0])"
   ]
  },
  {
   "cell_type": "code",
   "execution_count": null,
   "id": "ca6960a1",
   "metadata": {},
   "outputs": [],
   "source": [
    "dicom_obj"
   ]
  },
  {
   "cell_type": "code",
   "execution_count": null,
   "id": "f3131176",
   "metadata": {},
   "outputs": [],
   "source": [
    "plt.figure(figsize=(10,20))\n",
    "plt.imshow(dicom_obj.pixel_array, cmap=plt.cm.bone)"
   ]
  },
  {
   "cell_type": "code",
   "execution_count": null,
   "id": "d348a6e4",
   "metadata": {},
   "outputs": [],
   "source": [
    "study_level.loc[:, study_level.columns != \"id\"].sum(axis=1).unique()"
   ]
  },
  {
   "cell_type": "code",
   "execution_count": null,
   "id": "a8485ebb",
   "metadata": {},
   "outputs": [],
   "source": [
    "def show_dcm(dcm, ax):\n",
    "    img_data = dcm.pixel_array\n",
    "    img_data = pydicom.pixel_data_handlers.util.apply_voi_lut(img_data, dcm)\n",
    "    if dcm.PhotometricInterpretation == \"MONOCHROME1\":\n",
    "        img_data = np.amax(img_data) - img_data\n",
    "    ax.imshow(img_data, cmap=plt.cm.bone)\n",
    "    \n",
    "def add_bounding_boxes(dcm, ax):\n",
    "    instance_uid = dcm.SOPInstanceUID\n",
    "    box_str = image_level[image_level[\"id\"] == instance_uid + \"_image\"][\"boxes\"].iloc[0]\n",
    "    if (not pd.isnull(box_str)):\n",
    "        boxes = ast.literal_eval(box_str)\n",
    "        if (isinstance(boxes, list)):\n",
    "            for box in boxes:\n",
    "                mp_box = patches.Rectangle((box['x'], box['y']), box['width'], box['height'], edgecolor=\"r\", facecolor='none')\n",
    "                ax.add_patch(mp_box)\n",
    "\n",
    "def show_samples_for(prediction, number_of_samples=3):\n",
    "    samples = study_level[study_level[prediction] == 1].sample(number_of_samples)\n",
    "    study_paths_iter = map(csv_id_to_paths, samples[\"id\"])\n",
    "    for i, study_paths in enumerate(study_paths_iter):\n",
    "        fig, axs = plt.subplots(1, len(study_paths), figsize=(10,8))\n",
    "        fig.suptitle(f'Study: {samples[\"id\"].iloc[i]}')\n",
    "        for im_i, image_path in enumerate(study_paths):\n",
    "            ax = axs[im_i] if isinstance(axs, np.ndarray) else axs\n",
    "            ax.set_title(f'Instance / Image Nr. {im_i + 1} / {len(study_paths)}')\n",
    "            dcm = pydicom.dcmread(image_path)\n",
    "            plt.figure()\n",
    "            show_dcm(dcm, ax)\n",
    "            add_bounding_boxes(dcm, ax)"
   ]
  },
  {
   "cell_type": "markdown",
   "id": "46bdd075",
   "metadata": {},
   "source": [
    "## Samples: Negative"
   ]
  },
  {
   "cell_type": "code",
   "execution_count": null,
   "id": "b7fff9ca",
   "metadata": {},
   "outputs": [],
   "source": [
    "show_samples_for(\"Negative for Pneumonia\")"
   ]
  },
  {
   "cell_type": "markdown",
   "id": "d394bae8",
   "metadata": {},
   "source": [
    "## Samples: Typical Appearance"
   ]
  },
  {
   "cell_type": "code",
   "execution_count": null,
   "id": "211992b9",
   "metadata": {},
   "outputs": [],
   "source": [
    "show_samples_for(\"Typical Appearance\")"
   ]
  },
  {
   "cell_type": "markdown",
   "id": "ed3e6497",
   "metadata": {},
   "source": [
    "## Samples: Indeterminate Appearance"
   ]
  },
  {
   "cell_type": "code",
   "execution_count": null,
   "id": "9d4a5bce",
   "metadata": {},
   "outputs": [],
   "source": [
    "show_samples_for(\"Indeterminate Appearance\")"
   ]
  },
  {
   "cell_type": "markdown",
   "id": "5c8b6dfb",
   "metadata": {},
   "source": [
    "## Samples: Atypical Appearance"
   ]
  },
  {
   "cell_type": "code",
   "execution_count": null,
   "id": "1bba36ac",
   "metadata": {},
   "outputs": [],
   "source": [
    "show_samples_for(\"Atypical Appearance\")"
   ]
  },
  {
   "cell_type": "markdown",
   "id": "5efc0620",
   "metadata": {
    "pycharm": {
     "name": "#%% md\n"
    }
   },
   "source": [
    "# Tests for image conversion\n",
    "## DICOM read to Pillow"
   ]
  },
  {
   "cell_type": "code",
   "execution_count": null,
   "id": "8a5e23e8",
   "metadata": {
    "pycharm": {
     "name": "#%%\n"
    }
   },
   "outputs": [],
   "source": [
    "dcm_obj = pydicom.dcmread(csv_id_to_paths(\"336b277e175e_study\")[0])"
   ]
  },
  {
   "cell_type": "code",
   "execution_count": null,
   "id": "e0d00f18",
   "metadata": {
    "pycharm": {
     "name": "#%%\n"
    }
   },
   "outputs": [],
   "source": [
    "from pydicom.pixel_data_handlers import apply_modality_lut\n",
    "from pydicom.pixel_data_handlers import apply_voi_lut\n",
    "from PIL import Image\n",
    "\n",
    "def to_pillow(dcm: pydicom.Dataset) -> Image:\n",
    "    img_array = apply_modality_lut(dcm.pixel_array, dcm)\n",
    "    img_array = apply_voi_lut(img_array, dcm)\n",
    "    if dcm.PhotometricInterpretation == \"MONOCHROME1\":\n",
    "        img_array = np.amax(img_array) - img_array\n",
    "\n",
    "    # every radiologist will kill us for that one:\n",
    "    # might scale based on target, e.g. tissue, bone etc. results in better predictions\n",
    "    img_array = img_array - np.min(img_array)\n",
    "    img_array = img_array / np.max(img_array)\n",
    "\n",
    "    img_array = (img_array * 255).astype(np.uint8)\n",
    "\n",
    "    return Image.fromarray(img_array)"
   ]
  },
  {
   "cell_type": "code",
   "execution_count": null,
   "id": "47fb81a2",
   "metadata": {
    "pycharm": {
     "name": "#%%\n"
    }
   },
   "outputs": [],
   "source": [
    "path = csv_id_to_paths('000c9c05fd14_study')[0]\n",
    "to_pillow(pydicom.dcmread(path)).show()"
   ]
  },
  {
   "cell_type": "markdown",
   "id": "cd2d111f",
   "metadata": {
    "pycharm": {
     "name": "#%% md\n"
    }
   },
   "source": [
    "### Figure out existing attributes in data set"
   ]
  },
  {
   "cell_type": "code",
   "execution_count": null,
   "id": "b8455f1f",
   "metadata": {
    "pycharm": {
     "name": "#%%\n"
    }
   },
   "outputs": [],
   "source": [
    "from tqdm import tqdm\n",
    "def find_attribute_values(dicom_attrs: list[str]):\n",
    "    attr_dict = {}\n",
    "    for attr in dicom_attrs:\n",
    "        attr_dict[attr] = set()\n",
    "\n",
    "    for study in tqdm(study_level['id']):\n",
    "        paths = csv_id_to_paths(study)\n",
    "        for single_path in paths:\n",
    "            dcm = pydicom.dcmread(single_path)\n",
    "            for attr in attr_dict.keys():\n",
    "                if attr in dcm:\n",
    "                    attr_dict[attr].add(dcm[attr].value)\n",
    "                if attr in dcm.file_meta:\n",
    "                    attr_dict[attr].add(dcm.file_meta[attr].value)\n",
    "\n",
    "    return attr_dict"
   ]
  },
  {
   "cell_type": "code",
   "execution_count": null,
   "id": "ff45d579",
   "metadata": {
    "pycharm": {
     "name": "#%%\n"
    }
   },
   "outputs": [],
   "source": [
    "found_values = find_attribute_values(['PhotometricInterpretation', 'BitsAllocated', 'Modality', 'TransferSyntaxUID'])"
   ]
  },
  {
   "cell_type": "code",
   "execution_count": null,
   "id": "b9540a83",
   "metadata": {
    "pycharm": {
     "name": "#%%\n"
    }
   },
   "outputs": [],
   "source": [
    "found_values"
   ]
  },
  {
   "cell_type": "markdown",
   "id": "ed1b8013",
   "metadata": {
    "pycharm": {
     "name": "#%% md\n"
    }
   },
   "source": [
    "Transfer types in Data Set:\n",
    "* (1.2.840.10008.1.2.1) Explicit VR Little Endian  --> supported by without additional library\n",
    "* (1.2.840.10008.1.2.4.70) JPEG Lossless, Nonhierarchical, First- Order Prediction  --> requires python-gdcm package installed"
   ]
  },
  {
   "cell_type": "markdown",
   "id": "ebccb19f",
   "metadata": {
    "pycharm": {
     "name": "#%% md\n"
    }
   },
   "source": [
    "## Convert all to .png (only for testing purpose - Do not use)"
   ]
  },
  {
   "cell_type": "code",
   "execution_count": null,
   "id": "15567eaf",
   "metadata": {
    "pycharm": {
     "name": "#%%\n"
    }
   },
   "outputs": [],
   "source": [
    "import math\n",
    "import concurrent\n",
    "\n",
    "def split_list(lst, parts):\n",
    "    n = math.ceil(len(lst) / parts)\n",
    "    for i in range(0, len(lst), n):\n",
    "        yield lst[i:i + n]\n",
    "\n",
    "def convert_all_to_png(search_dir: Path, thread_count=32):\n",
    "    paths = list(search_dir.glob('**/*.dcm'))\n",
    "    executor_pool = concurrent.futures.ThreadPoolExecutor(thread_count)\n",
    "    pending_futures = []\n",
    "    chunks = list(split_list(paths, thread_count))\n",
    "\n",
    "    for tid, next_chunk in enumerate(chunks):\n",
    "        pending_futures.append(executor_pool.submit(convert_chunk, next_chunk, search_dir, tid))\n",
    "\n",
    "    concurrent.futures.wait(pending_futures)\n",
    "\n",
    "def convert_chunk(chunk: list[Path], search_dir: Path):\n",
    "    for single_path in chunk:\n",
    "        dcm = pydicom.dcmread(single_path)\n",
    "        pillow_img = to_pillow(dcm)\n",
    "        new_path = search_dir / \"converted\" / single_path.with_suffix(\".png\").relative_to(data_path)\n",
    "        new_path.parent.mkdir(parents=True, exist_ok=True)\n",
    "        pillow_img.save(str(new_path))"
   ]
  },
  {
   "cell_type": "code",
   "execution_count": null,
   "id": "46bdfb92",
   "metadata": {
    "pycharm": {
     "name": "#%%\n"
    }
   },
   "outputs": [],
   "source": [
    "# convert_all_to_png(data_path)"
   ]
  },
  {
   "cell_type": "markdown",
   "id": "10a03563",
   "metadata": {
    "pycharm": {
     "name": "#%% md\n"
    }
   },
   "source": [
    "# Prepare Dataset\n",
    "Only the first cell of the notebook has to be executed before. The package `python-gdcm` needs to be installed\n",
    "used python env!\n",
    "1. Convert to .png (no progressbar ..). .Images will be located at: `$(data_dir)/converted/{train|test}/..`"
   ]
  },
  {
   "cell_type": "code",
   "execution_count": null,
   "id": "02fa7d5c",
   "metadata": {
    "pycharm": {
     "name": "#%%\n"
    }
   },
   "outputs": [],
   "source": [
    "import dataprep"
   ]
  },
  {
   "cell_type": "code",
   "execution_count": null,
   "id": "abd3add4",
   "metadata": {
    "pycharm": {
     "name": "#%%\n"
    }
   },
   "outputs": [],
   "source": [
    "dataprep.convert_all_to_png(data_path)"
   ]
  },
  {
   "cell_type": "markdown",
   "id": "e5dfebc5",
   "metadata": {
    "pycharm": {
     "name": "#%% md\n"
    }
   },
   "source": [
    "2. Create COCO annotation file for train set"
   ]
  },
  {
   "cell_type": "code",
   "execution_count": null,
   "id": "45a3b2e1",
   "metadata": {
    "pycharm": {
     "name": "#%%\n"
    }
   },
   "outputs": [],
   "source": [
    "coco = dataprep.CxrCOCO(data_path)\n",
    "coco.to_json_file()"
   ]
  },
  {
   "cell_type": "code",
   "execution_count": null,
   "id": "86140435",
   "metadata": {
    "pycharm": {
     "name": "#%%\n"
    }
   },
   "outputs": [],
   "source": [
    "import fiftyone as fo\n",
    "\n",
    "ds = fo.Dataset.from_dir(\n",
    "    dataset_type=fo.types.COCODetectionDataset,\n",
    "    labels_path=data_path / \"labels.json\",\n",
    "    data_path=data_path\n",
    ")\n",
    "session = fo.launch_app(ds)"
   ]
  },
  {
   "cell_type": "code",
   "execution_count": null,
   "id": "e2c0f22a",
   "metadata": {},
   "outputs": [],
   "source": [
    "from dataprep import append_labels_to_coco\n",
    "\n",
    "append_labels_to_coco(Path(\"~/var/aml-models/test.json\").expanduser(), data_path / \"train_study_level.csv\", data_path / \"train_image_level.csv\")\n"
   ]
  },
  {
   "cell_type": "code",
   "execution_count": null,
   "id": "1d62397d",
   "metadata": {},
   "outputs": [],
   "source": []
  }
 ],
 "metadata": {
  "kernelspec": {
   "display_name": "master-env",
   "language": "python",
   "name": "master-env"
  },
  "language_info": {
   "codemirror_mode": {
    "name": "ipython",
    "version": 3
   },
   "file_extension": ".py",
   "mimetype": "text/x-python",
   "name": "python",
   "nbconvert_exporter": "python",
   "pygments_lexer": "ipython3",
   "version": "3.9.6"
  }
 },
 "nbformat": 4,
 "nbformat_minor": 5
}