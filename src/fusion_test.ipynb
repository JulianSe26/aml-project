{
 "cells": [
  {
   "cell_type": "code",
   "execution_count": 1,
   "id": "60af1d7a",
   "metadata": {},
   "outputs": [],
   "source": [
    "import sys\n",
    "sys.path.append('./yolo')\n",
    "from detection_fusion import EnsembleModel\n",
    "from PIL import Image, ImageDraw\n",
    "import numpy as np\n",
    "import matplotlib.pyplot as plt\n",
    "from rcnn.dataset import ChestCocoDetection\n",
    "from torchvision import transforms\n",
    "import matplotlib.patches as patches\n",
    "from torch.utils.data import DataLoader\n",
    "import tqdm"
   ]
  },
  {
   "cell_type": "code",
   "execution_count": 2,
   "id": "ffecaa38",
   "metadata": {},
   "outputs": [],
   "source": [
    "def add_bounding_boxes(target, ax):\n",
    "    boxes = target['boxes']\n",
    "    for box in boxes:\n",
    "        mp_box = patches.Rectangle((box[0], box[1]), box[2] - box[0], box[3] - box[1], edgecolor=\"r\", facecolor='none')\n",
    "        ax.add_patch(mp_box)\n",
    "\n",
    "def show_samples_for(test, train):\n",
    "    fig, axs = plt.subplots(1, 2, figsize=(10,8))\n",
    "    #fig.suptitle(f'Study: {samples[\"id\"].iloc[i]}')\n",
    "    for im_i, (img, data) in enumerate([test, train]):\n",
    "        ax = axs[im_i] if isinstance(axs, np.ndarray) else axs\n",
    "        ax.set_title(f'Instance / Image Nr. {im_i + 1} / {2}')\n",
    "        #dcm = pydicom.dcmread(image_path)\n",
    "        plt.figure()\n",
    "        ax.imshow(img.permute(1,2,0))#,cmap=plt.cm.bone)\n",
    "        add_bounding_boxes(data, ax)\n",
    "    fig.savefig(\"combo.jpg\")"
   ]
  },
  {
   "cell_type": "code",
   "execution_count": null,
   "id": "d89adcfa",
   "metadata": {},
   "outputs": [],
   "source": [
    "test = ChestCocoDetection(root=\"F:\\\\aml-project\\data\\\\siim-covid19-detection\", ann_file=\"F:\\\\aml-project\\\\data\\\\siim-covid19-detection\\\\test.json\", training=False)"
   ]
  },
  {
   "cell_type": "code",
   "execution_count": null,
   "id": "642b7530",
   "metadata": {},
   "outputs": [],
   "source": [
    "idx = np.random.randint(len(test))\n",
    "test_img = test.__getitem__(idx)\n",
    "print(type(test_img[0]), test_img[0].shape)\n",
    "print(test_img[1])\n",
    "img = test_img[0]\n",
    "img_pil = transforms.ToPILImage()(img)"
   ]
  },
  {
   "cell_type": "code",
   "execution_count": null,
   "id": "505bce10",
   "metadata": {},
   "outputs": [],
   "source": [
    "results, boxes, scores = detection_fusion(img_pil)"
   ]
  },
  {
   "cell_type": "code",
   "execution_count": null,
   "id": "4fcf7422",
   "metadata": {},
   "outputs": [],
   "source": [
    "show_samples_for(test_img, (test_img[0], {\"boxes\":boxes}))"
   ]
  },
  {
   "cell_type": "markdown",
   "id": "5a0089df",
   "metadata": {},
   "source": [
    "### Evaluation of Ensemble method"
   ]
  },
  {
   "cell_type": "code",
   "execution_count": 3,
   "id": "2c232e73",
   "metadata": {},
   "outputs": [],
   "source": [
    "from yolo.utils.general import xywh2xyxy, scale_coords, box_iou\n",
    "from yolo.utils.metrics import ap_per_class\n",
    "import torch\n",
    "from rcnn.model import ChestRCNN\n",
    "from yolo.yolo import Model"
   ]
  },
  {
   "cell_type": "code",
   "execution_count": 4,
   "id": "eb6cbc25",
   "metadata": {},
   "outputs": [],
   "source": [
    "def collate_fn(batch):\n",
    "    imgs, targets = zip(*batch)\n",
    "    imgs = torch.stack(imgs)\n",
    "    return tuple((imgs, targets))"
   ]
  },
  {
   "cell_type": "code",
   "execution_count": 5,
   "id": "3ecd1b07",
   "metadata": {},
   "outputs": [
    {
     "name": "stdout",
     "output_type": "stream",
     "text": [
      "loading annotations into memory...\n",
      "Done (t=0.01s)\n",
      "creating index...\n",
      "index created!\n"
     ]
    }
   ],
   "source": [
    "# need bs = 1 because model fusion cannot handle batches \n",
    "test = ChestCocoDetection(root=\"F:\\\\aml-project\\data\\\\siim-covid19-detection\", ann_file=\"F:\\\\aml-project\\\\data\\\\siim-covid19-detection\\\\test.json\", training=False)\n",
    "test_loader = DataLoader(test, batch_size=1, shuffle=False, pin_memory=False, num_workers=0, collate_fn=collate_fn)"
   ]
  },
  {
   "cell_type": "code",
   "execution_count": 6,
   "id": "b7db3e98",
   "metadata": {},
   "outputs": [
    {
     "name": "stderr",
     "output_type": "stream",
     "text": [
      "D:\\Anaconda\\envs\\aml\\lib\\site-packages\\torch\\nn\\functional.py:718: UserWarning: Named tensors and all their associated APIs are an experimental feature and subject to change. Please do not use them for anything important until they are released as stable. (Triggered internally at  ..\\c10/core/TensorImpl.h:1156.)\n",
      "  return torch.max_pool2d(input, kernel_size, stride, padding, dilation, ceil_mode)\n"
     ]
    }
   ],
   "source": [
    "YOLO_FINAL_MODEL_PATH = \"./yolo/models_final_giou_40/yolov5_epoch_25.pt\"\n",
    "FASTER_RCNN_FINAL_MODEL_PATH = \"./rcnn/models/fasterrcnn_epoch_23.pt\"\n",
    "RESNET_BACKBONE_PATH = \"./resnet/models/resnext101_32x8d_epoch_35.pt\"\n",
    "\n",
    "yolov5_weights = torch.load(YOLO_FINAL_MODEL_PATH)\n",
    "fasterrcnn_r101_weights = torch.load(FASTER_RCNN_FINAL_MODEL_PATH)\n",
    "\n",
    "yolo = Model(cfg=\"./yolo/yolo5l.yaml\",ch=3,nc=1)\n",
    "yolo.load_state_dict(yolov5_weights, strict=False) \n",
    "\n",
    "fasterRcnn = ChestRCNN(RESNET_BACKBONE_PATH)\n",
    "fasterRcnn.load_state_dict(fasterrcnn_r101_weights)\n",
    "ensemble = EnsembleModel(fasterRcnn=fasterRcnn, yolo=yolo)"
   ]
  },
  {
   "cell_type": "code",
   "execution_count": 9,
   "id": "f3237cbf",
   "metadata": {},
   "outputs": [
    {
     "name": "stderr",
     "output_type": "stream",
     "text": [
      "  0%|                                                                                  | 1/859 [00:04<57:50,  4.05s/it]"
     ]
    },
    {
     "name": "stdout",
     "output_type": "stream",
     "text": [
      "tensor([[3.84430e+02, 1.83289e+02, 4.81437e+02, 3.53334e+02, 3.59826e-01, 0.00000e+00],\n",
      "        [1.22471e+02, 1.54861e+02, 2.25946e+02, 3.46088e+02, 2.74667e-01, 0.00000e+00]])\n"
     ]
    },
    {
     "name": "stderr",
     "output_type": "stream",
     "text": [
      "\r",
      "  0%|▏                                                                                 | 2/859 [00:08<57:15,  4.01s/it]"
     ]
    },
    {
     "name": "stdout",
     "output_type": "stream",
     "text": [
      "tensor([[8.47206e+01, 1.06839e+02, 2.28598e+02, 4.02877e+02, 3.09484e-01, 0.00000e+00],\n",
      "        [3.08120e+02, 9.64006e+01, 4.42179e+02, 3.92486e+02, 1.62329e-01, 0.00000e+00]])\n"
     ]
    },
    {
     "name": "stderr",
     "output_type": "stream",
     "text": [
      "\r",
      "  0%|▎                                                                                 | 3/859 [00:11<56:50,  3.98s/it]"
     ]
    },
    {
     "name": "stdout",
     "output_type": "stream",
     "text": [
      "tensor([[ 49.50877, 116.38432, 193.11484, 351.16776,   0.60096,   0.00000],\n",
      "        [267.87704, 112.66302, 401.65115, 328.18655,   0.58020,   0.00000]])\n"
     ]
    },
    {
     "name": "stderr",
     "output_type": "stream",
     "text": [
      "\r",
      "  0%|▍                                                                                 | 4/859 [00:15<56:51,  3.99s/it]"
     ]
    },
    {
     "name": "stdout",
     "output_type": "stream",
     "text": [
      "tensor([[1.35356e+02, 1.27861e+02, 2.35159e+02, 3.02709e+02, 2.55955e-01, 0.00000e+00],\n",
      "        [3.50593e+02, 1.54279e+02, 4.49835e+02, 3.71468e+02, 2.00076e-01, 0.00000e+00]])\n"
     ]
    },
    {
     "name": "stderr",
     "output_type": "stream",
     "text": [
      "\r",
      "  1%|▍                                                                                 | 5/859 [00:20<57:13,  4.02s/it]"
     ]
    },
    {
     "name": "stdout",
     "output_type": "stream",
     "text": [
      "tensor([[3.08526e+02, 2.27829e+01, 4.53206e+02, 3.33756e+02, 3.51378e-01, 0.00000e+00],\n",
      "        [8.81104e+01, 1.98779e+01, 2.31134e+02, 3.45322e+02, 2.53425e-01, 0.00000e+00]])\n"
     ]
    },
    {
     "name": "stderr",
     "output_type": "stream",
     "text": [
      "\r",
      "  1%|▌                                                                                 | 6/859 [00:24<57:36,  4.05s/it]"
     ]
    },
    {
     "name": "stdout",
     "output_type": "stream",
     "text": [
      "tensor([[3.46664e+02, 2.50795e+02, 4.64704e+02, 4.34285e+02, 3.26818e-01, 0.00000e+00],\n",
      "        [7.71062e+01, 1.13795e+02, 2.32757e+02, 4.54816e+02, 2.52083e-01, 0.00000e+00]])\n"
     ]
    },
    {
     "name": "stderr",
     "output_type": "stream",
     "text": [
      "\r",
      "  1%|▋                                                                                 | 7/859 [00:28<57:20,  4.04s/it]"
     ]
    },
    {
     "name": "stdout",
     "output_type": "stream",
     "text": [
      "tensor([[1.18197e+02, 5.79502e+01, 2.45121e+02, 2.74363e+02, 3.56811e-01, 0.00000e+00],\n",
      "        [3.36316e+02, 6.83857e+01, 4.55712e+02, 2.78123e+02, 3.41696e-01, 0.00000e+00]])\n"
     ]
    },
    {
     "name": "stderr",
     "output_type": "stream",
     "text": [
      "\r",
      "  1%|▊                                                                                 | 8/859 [00:32<57:39,  4.07s/it]"
     ]
    },
    {
     "name": "stdout",
     "output_type": "stream",
     "text": [
      "tensor([[8.88564e+01, 1.57318e+02, 1.94016e+02, 3.48288e+02, 4.30703e-01, 0.00000e+00],\n",
      "        [3.15296e+02, 1.53719e+02, 4.34111e+02, 3.41640e+02, 2.72617e-01, 0.00000e+00]])\n"
     ]
    },
    {
     "name": "stderr",
     "output_type": "stream",
     "text": [
      "\r",
      "  1%|▊                                                                                 | 9/859 [00:36<57:38,  4.07s/it]"
     ]
    },
    {
     "name": "stdout",
     "output_type": "stream",
     "text": [
      "tensor([[4.05166e+01, 1.26752e+02, 1.49915e+02, 3.56578e+02, 2.62837e-01, 0.00000e+00],\n",
      "        [2.96966e+02, 1.13245e+02, 4.31791e+02, 4.13993e+02, 1.54127e-01, 0.00000e+00]])\n"
     ]
    },
    {
     "name": "stderr",
     "output_type": "stream",
     "text": [
      "\r",
      "  1%|▉                                                                                | 10/859 [00:40<58:06,  4.11s/it]"
     ]
    },
    {
     "name": "stdout",
     "output_type": "stream",
     "text": [
      "tensor([[9.21310e+01, 9.17269e+01, 1.89568e+02, 2.64915e+02, 4.37780e-01, 0.00000e+00],\n",
      "        [3.02265e+02, 9.64072e+01, 4.17450e+02, 2.93351e+02, 2.93586e-01, 0.00000e+00]])\n"
     ]
    },
    {
     "name": "stderr",
     "output_type": "stream",
     "text": [
      "\r",
      "  1%|█                                                                                | 11/859 [00:44<58:40,  4.15s/it]"
     ]
    },
    {
     "name": "stdout",
     "output_type": "stream",
     "text": [
      "tensor([[1.04554e+02, 8.20878e+01, 2.39272e+02, 3.34861e+02, 4.36970e-01, 0.00000e+00],\n",
      "        [3.19915e+02, 1.15639e+02, 4.27367e+02, 3.93005e+02, 3.30241e-01, 0.00000e+00]])\n"
     ]
    },
    {
     "name": "stderr",
     "output_type": "stream",
     "text": [
      "\r",
      "  1%|█▏                                                                               | 12/859 [00:49<59:07,  4.19s/it]"
     ]
    },
    {
     "name": "stdout",
     "output_type": "stream",
     "text": [
      "tensor([[2.76943e+02, 1.68316e+02, 3.96139e+02, 4.49026e+02, 3.75579e-01, 0.00000e+00],\n",
      "        [4.58535e+01, 1.60690e+02, 1.97444e+02, 4.34424e+02, 3.39915e-01, 0.00000e+00]])\n"
     ]
    },
    {
     "name": "stderr",
     "output_type": "stream",
     "text": [
      "\r",
      "  2%|█▏                                                                               | 13/859 [00:53<59:17,  4.21s/it]"
     ]
    },
    {
     "name": "stdout",
     "output_type": "stream",
     "text": [
      "tensor([[9.05451e+00, 1.77231e+02, 1.85561e+02, 4.36029e+02, 3.70199e-01, 0.00000e+00],\n",
      "        [2.75012e+02, 1.73620e+02, 4.11807e+02, 4.16546e+02, 3.38670e-01, 0.00000e+00]])\n"
     ]
    },
    {
     "name": "stderr",
     "output_type": "stream",
     "text": [
      "\r",
      "  2%|█▎                                                                               | 14/859 [00:57<59:36,  4.23s/it]"
     ]
    },
    {
     "name": "stdout",
     "output_type": "stream",
     "text": [
      "tensor([[6.80145e+01, 1.74835e-01, 2.47020e+02, 3.10841e+02, 5.15090e-01, 0.00000e+00],\n",
      "        [3.00737e+02, 6.14824e+00, 4.66057e+02, 3.18832e+02, 4.39507e-01, 0.00000e+00]])\n"
     ]
    },
    {
     "name": "stderr",
     "output_type": "stream",
     "text": [
      "\r",
      "  2%|█▍                                                                               | 15/859 [01:01<58:24,  4.15s/it]"
     ]
    },
    {
     "name": "stdout",
     "output_type": "stream",
     "text": [
      "tensor([[3.16411e+02, 1.27766e+02, 4.22563e+02, 3.15367e+02, 2.55037e-01, 0.00000e+00],\n",
      "        [2.37852e+01, 1.12761e+02, 1.21151e+02, 3.18104e+02, 2.29625e-01, 0.00000e+00],\n",
      "        [1.07727e+02, 1.66708e+02, 2.06813e+02, 3.34843e+02, 1.78437e-01, 0.00000e+00]])\n"
     ]
    },
    {
     "name": "stderr",
     "output_type": "stream",
     "text": [
      "\r",
      "  2%|█▌                                                                               | 16/859 [01:05<57:39,  4.10s/it]"
     ]
    },
    {
     "name": "stdout",
     "output_type": "stream",
     "text": [
      "tensor([[2.76683e+02, 2.61304e+00, 4.48014e+02, 3.42406e+02, 3.14832e-01, 0.00000e+00],\n",
      "        [6.13481e+01, 2.48779e+01, 1.98579e+02, 3.18716e+02, 1.91609e-01, 0.00000e+00]])\n"
     ]
    },
    {
     "name": "stderr",
     "output_type": "stream",
     "text": [
      "\r",
      "  2%|█▌                                                                               | 17/859 [01:09<57:12,  4.08s/it]"
     ]
    },
    {
     "name": "stdout",
     "output_type": "stream",
     "text": [
      "tensor([[7.20935e+01, 2.56144e+01, 2.25397e+02, 3.45166e+02, 3.13186e-01, 0.00000e+00],\n",
      "        [2.98768e+02, 4.88642e+01, 4.34376e+02, 3.75334e+02, 2.66580e-01, 0.00000e+00]])\n"
     ]
    },
    {
     "name": "stderr",
     "output_type": "stream",
     "text": [
      "\r",
      "  2%|█▋                                                                               | 18/859 [01:13<57:15,  4.08s/it]"
     ]
    },
    {
     "name": "stdout",
     "output_type": "stream",
     "text": [
      "tensor([[1.20428e+02, 8.26698e+01, 2.43177e+02, 3.63558e+02, 3.29046e-01, 0.00000e+00],\n",
      "        [3.31250e+02, 7.56533e+01, 4.39916e+02, 2.69630e+02, 1.84200e-01, 0.00000e+00],\n",
      "        [3.40768e+02, 1.96931e+02, 4.91044e+02, 3.92992e+02, 1.03520e-01, 0.00000e+00]])\n"
     ]
    },
    {
     "name": "stderr",
     "output_type": "stream",
     "text": [
      "\r",
      "  2%|█▊                                                                               | 19/859 [01:17<57:58,  4.14s/it]"
     ]
    },
    {
     "name": "stdout",
     "output_type": "stream",
     "text": [
      "tensor([[3.36547e+02, 1.02791e+02, 4.62175e+02, 4.04242e+02, 4.57815e-01, 0.00000e+00],\n",
      "        [9.48083e+01, 1.44089e+02, 2.25709e+02, 3.72967e+02, 2.90297e-01, 0.00000e+00]])\n"
     ]
    },
    {
     "name": "stderr",
     "output_type": "stream",
     "text": [
      "\r",
      "  2%|█▉                                                                               | 20/859 [01:22<58:13,  4.16s/it]"
     ]
    },
    {
     "name": "stdout",
     "output_type": "stream",
     "text": [
      "tensor([[9.57107e+01, 4.67487e+01, 2.33344e+02, 3.91542e+02, 4.06558e-01, 0.00000e+00],\n",
      "        [3.03076e+02, 6.52217e+01, 4.20895e+02, 3.75225e+02, 2.21136e-01, 0.00000e+00]])\n"
     ]
    },
    {
     "name": "stderr",
     "output_type": "stream",
     "text": [
      "\r",
      "  2%|█▉                                                                               | 21/859 [01:26<59:02,  4.23s/it]"
     ]
    },
    {
     "name": "stdout",
     "output_type": "stream",
     "text": [
      "tensor([[3.31090e+02, 1.23754e+02, 4.61004e+02, 3.94300e+02, 3.33708e-01, 0.00000e+00],\n",
      "        [1.26980e+02, 1.22450e+02, 2.78666e+02, 3.92745e+02, 1.87716e-01, 0.00000e+00]])\n"
     ]
    },
    {
     "name": "stderr",
     "output_type": "stream",
     "text": [
      "\r",
      "  3%|██                                                                               | 22/859 [01:30<58:38,  4.20s/it]"
     ]
    },
    {
     "name": "stdout",
     "output_type": "stream",
     "text": [
      "tensor([[9.60806e+01, 8.24670e+01, 2.13332e+02, 3.37370e+02, 2.98768e-01, 0.00000e+00],\n",
      "        [2.81605e+02, 8.17110e+01, 3.98984e+02, 3.36540e+02, 1.82745e-01, 0.00000e+00]])\n"
     ]
    },
    {
     "name": "stderr",
     "output_type": "stream",
     "text": [
      "\r",
      "  3%|██▏                                                                              | 23/859 [01:34<58:36,  4.21s/it]"
     ]
    },
    {
     "name": "stdout",
     "output_type": "stream",
     "text": [
      "tensor([[8.73372e+01, 1.13834e+02, 2.28214e+02, 4.24855e+02, 2.60518e-01, 0.00000e+00],\n",
      "        [2.88496e+02, 1.42645e+02, 4.49953e+02, 3.74091e+02, 2.23118e-01, 0.00000e+00]])\n"
     ]
    },
    {
     "name": "stderr",
     "output_type": "stream",
     "text": [
      "\r",
      "  3%|██▎                                                                              | 24/859 [01:39<58:32,  4.21s/it]"
     ]
    },
    {
     "name": "stdout",
     "output_type": "stream",
     "text": [
      "tensor([[5.40571e+01, 9.27921e+01, 1.87962e+02, 3.91357e+02, 3.00075e-01, 0.00000e+00],\n",
      "        [2.51132e+02, 1.03014e+02, 3.90566e+02, 4.17869e+02, 1.48621e-01, 0.00000e+00]])\n"
     ]
    },
    {
     "name": "stderr",
     "output_type": "stream",
     "text": [
      "\r",
      "  3%|██▎                                                                              | 25/859 [01:43<58:42,  4.22s/it]"
     ]
    },
    {
     "name": "stdout",
     "output_type": "stream",
     "text": [
      "tensor([[3.76897e+01, 1.30112e+02, 1.96150e+02, 3.89745e+02, 4.67024e-01, 0.00000e+00],\n",
      "        [2.93187e+02, 1.35650e+02, 4.34325e+02, 3.91869e+02, 3.32688e-01, 0.00000e+00]])\n"
     ]
    },
    {
     "name": "stderr",
     "output_type": "stream",
     "text": [
      "\r",
      "  3%|██▍                                                                              | 26/859 [01:47<58:26,  4.21s/it]"
     ]
    },
    {
     "name": "stdout",
     "output_type": "stream",
     "text": [
      "tensor([[3.00065e+02, 8.44337e+01, 4.41775e+02, 3.35851e+02, 3.75610e-01, 0.00000e+00],\n",
      "        [4.17206e+01, 7.44594e+01, 1.82515e+02, 3.28959e+02, 1.90824e-01, 0.00000e+00]])\n"
     ]
    },
    {
     "name": "stderr",
     "output_type": "stream",
     "text": [
      "\r",
      "  3%|██▌                                                                              | 27/859 [01:51<58:28,  4.22s/it]"
     ]
    },
    {
     "name": "stdout",
     "output_type": "stream",
     "text": [
      "tensor([[2.93322e+02, 1.68147e+02, 4.05680e+02, 3.72600e+02, 2.87854e-01, 0.00000e+00],\n",
      "        [7.44545e+01, 2.09601e+02, 1.67286e+02, 3.56018e+02, 2.67090e-01, 0.00000e+00]])\n"
     ]
    },
    {
     "name": "stderr",
     "output_type": "stream",
     "text": [
      "C:\\Users\\Julian\\AppData\\Roaming\\Python\\Python39\\site-packages\\ensemble_boxes\\ensemble_boxes_wbf.py:76: UserWarning: Y1 < 0 in box. Set it to 0.\n",
      "  warnings.warn('Y1 < 0 in box. Set it to 0.')\n",
      "\r",
      "  3%|██▋                                                                              | 28/859 [01:55<57:41,  4.17s/it]"
     ]
    },
    {
     "name": "stdout",
     "output_type": "stream",
     "text": [
      "tensor([[ 8.08027e+01, -1.04866e-01,  2.53138e+02,  2.33335e+02,  3.95403e-01,  0.00000e+00],\n",
      "        [ 3.14457e+02,  3.68460e+00,  4.65761e+02,  2.24961e+02,  3.70092e-01,  0.00000e+00]])\n"
     ]
    },
    {
     "name": "stderr",
     "output_type": "stream",
     "text": [
      "\r",
      "  3%|██▋                                                                              | 29/859 [01:59<57:06,  4.13s/it]"
     ]
    },
    {
     "name": "stdout",
     "output_type": "stream",
     "text": [
      "tensor([[3.36114e+02, 2.18869e+02, 4.57839e+02, 4.15024e+02, 3.56854e-01, 0.00000e+00],\n",
      "        [9.75857e+01, 1.71208e+02, 2.36987e+02, 4.27497e+02, 1.84271e-01, 0.00000e+00]])\n"
     ]
    },
    {
     "name": "stderr",
     "output_type": "stream",
     "text": [
      "\r",
      "  3%|██▊                                                                              | 30/859 [02:03<56:13,  4.07s/it]"
     ]
    },
    {
     "name": "stdout",
     "output_type": "stream",
     "text": [
      "tensor([[8.16856e+01, 1.00481e+02, 2.10933e+02, 3.85535e+02, 3.44630e-01, 0.00000e+00],\n",
      "        [2.94926e+02, 1.01055e+02, 4.21302e+02, 4.05914e+02, 2.27214e-01, 0.00000e+00]])\n"
     ]
    },
    {
     "name": "stderr",
     "output_type": "stream",
     "text": [
      "\r",
      "  4%|██▉                                                                              | 31/859 [02:07<56:29,  4.09s/it]"
     ]
    },
    {
     "name": "stdout",
     "output_type": "stream",
     "text": [
      "tensor([[3.18162e+02, 7.70541e+01, 3.94499e+02, 2.33402e+02, 2.11242e-01, 0.00000e+00],\n",
      "        [3.62245e+00, 5.33278e+01, 1.39031e+02, 3.62586e+02, 1.34978e-01, 0.00000e+00]])\n"
     ]
    },
    {
     "name": "stderr",
     "output_type": "stream",
     "text": [
      "\r",
      "  4%|███                                                                              | 32/859 [02:12<56:22,  4.09s/it]"
     ]
    },
    {
     "name": "stdout",
     "output_type": "stream",
     "text": [
      "tensor([[3.08182e+02, 4.29789e+01, 4.48878e+02, 2.89852e+02, 4.66452e-01, 0.00000e+00],\n",
      "        [8.42874e+01, 3.66189e+01, 2.30127e+02, 2.86441e+02, 4.11923e-01, 0.00000e+00]])\n"
     ]
    },
    {
     "name": "stderr",
     "output_type": "stream",
     "text": [
      "\r",
      "  4%|███                                                                              | 33/859 [02:16<56:32,  4.11s/it]"
     ]
    },
    {
     "name": "stdout",
     "output_type": "stream",
     "text": [
      "tensor([[5.91075e+01, 1.38884e+02, 1.74041e+02, 3.69308e+02, 1.57635e-01, 0.00000e+00],\n",
      "        [3.07365e+02, 2.28660e+02, 4.38928e+02, 3.65231e+02, 1.36402e-01, 0.00000e+00]])\n"
     ]
    },
    {
     "name": "stderr",
     "output_type": "stream",
     "text": [
      "\r",
      "  4%|███▏                                                                             | 34/859 [02:20<56:34,  4.11s/it]"
     ]
    },
    {
     "name": "stdout",
     "output_type": "stream",
     "text": [
      "tensor([[3.05488e+02, 1.58050e+01, 4.73966e+02, 3.42614e+02, 4.24874e-01, 0.00000e+00],\n",
      "        [5.90241e+01, 3.48391e+01, 2.25927e+02, 3.35739e+02, 2.61981e-01, 0.00000e+00]])\n"
     ]
    },
    {
     "name": "stderr",
     "output_type": "stream",
     "text": [
      "\r",
      "  4%|███▎                                                                             | 35/859 [02:24<56:19,  4.10s/it]"
     ]
    },
    {
     "name": "stdout",
     "output_type": "stream",
     "text": [
      "tensor([[9.63557e+01, 3.80630e+01, 2.27649e+02, 3.02846e+02, 3.07521e-01, 0.00000e+00],\n",
      "        [2.99862e+02, 7.63843e+01, 4.39222e+02, 3.31767e+02, 2.10972e-01, 0.00000e+00]])\n"
     ]
    },
    {
     "name": "stderr",
     "output_type": "stream",
     "text": [
      "\r",
      "  4%|███▍                                                                             | 36/859 [02:28<56:21,  4.11s/it]"
     ]
    },
    {
     "name": "stdout",
     "output_type": "stream",
     "text": [
      "tensor([[3.19597e+02, 1.02936e+02, 4.22921e+02, 3.06354e+02, 3.95876e-01, 0.00000e+00],\n",
      "        [9.88722e+01, 8.56980e+01, 2.12025e+02, 3.25225e+02, 2.98354e-01, 0.00000e+00]])\n"
     ]
    },
    {
     "name": "stderr",
     "output_type": "stream",
     "text": [
      "\r",
      "  4%|███▍                                                                             | 37/859 [02:32<56:37,  4.13s/it]"
     ]
    },
    {
     "name": "stdout",
     "output_type": "stream",
     "text": [
      "tensor([[1.10396e+02, 7.43111e+01, 2.45680e+02, 3.70920e+02, 1.25809e-01, 0.00000e+00]])\n"
     ]
    },
    {
     "name": "stderr",
     "output_type": "stream",
     "text": [
      "\r",
      "  4%|███▌                                                                             | 38/859 [02:36<56:53,  4.16s/it]"
     ]
    },
    {
     "name": "stdout",
     "output_type": "stream",
     "text": [
      "tensor([[3.35046e+02, 1.51895e+02, 4.61701e+02, 3.83824e+02, 2.74318e-01, 0.00000e+00],\n",
      "        [6.81191e+01, 1.46738e+02, 1.96059e+02, 3.85293e+02, 1.99471e-01, 0.00000e+00]])\n"
     ]
    },
    {
     "name": "stderr",
     "output_type": "stream",
     "text": [
      "\r",
      "  5%|███▋                                                                             | 39/859 [02:41<56:49,  4.16s/it]"
     ]
    },
    {
     "name": "stdout",
     "output_type": "stream",
     "text": [
      "tensor([[3.29432e+02, 9.52505e+01, 4.53629e+02, 3.30379e+02, 2.39264e-01, 0.00000e+00],\n",
      "        [5.57718e+01, 9.42965e+01, 1.77279e+02, 3.24963e+02, 2.20665e-01, 0.00000e+00]])\n"
     ]
    },
    {
     "name": "stderr",
     "output_type": "stream",
     "text": [
      "\r",
      "  5%|███▊                                                                             | 40/859 [02:45<56:23,  4.13s/it]"
     ]
    },
    {
     "name": "stdout",
     "output_type": "stream",
     "text": [
      "tensor([[1.44455e+02, 1.68023e+02, 2.95530e+02, 4.09741e+02, 3.29981e-01, 0.00000e+00]])\n"
     ]
    },
    {
     "name": "stderr",
     "output_type": "stream",
     "text": [
      "\r",
      "  5%|███▊                                                                             | 41/859 [02:49<56:04,  4.11s/it]"
     ]
    },
    {
     "name": "stdout",
     "output_type": "stream",
     "text": [
      "tensor([[5.05060e+01, 8.47990e+01, 1.87437e+02, 3.26220e+02, 4.03363e-01, 0.00000e+00],\n",
      "        [2.95077e+02, 7.46032e+01, 4.43550e+02, 4.26747e+02, 3.91822e-01, 0.00000e+00]])\n"
     ]
    },
    {
     "name": "stderr",
     "output_type": "stream",
     "text": [
      "\r",
      "  5%|███▉                                                                             | 42/859 [02:53<56:05,  4.12s/it]"
     ]
    },
    {
     "name": "stdout",
     "output_type": "stream",
     "text": [
      "tensor([[2.41029e+02, 1.40079e+02, 3.68665e+02, 3.74123e+02, 3.11583e-01, 0.00000e+00],\n",
      "        [6.29694e+01, 1.52248e+02, 1.82341e+02, 3.56993e+02, 2.29946e-01, 0.00000e+00],\n",
      "        [3.68485e+02, 2.04357e+02, 4.67297e+02, 4.00666e+02, 1.70637e-01, 0.00000e+00]])\n"
     ]
    },
    {
     "name": "stderr",
     "output_type": "stream",
     "text": [
      "\r",
      "  5%|████                                                                             | 43/859 [02:57<55:29,  4.08s/it]"
     ]
    },
    {
     "name": "stdout",
     "output_type": "stream",
     "text": [
      "tensor([[5.61312e+01, 1.03576e+02, 1.94200e+02, 3.96114e+02, 1.87431e-01, 0.00000e+00],\n",
      "        [3.17045e+02, 1.00280e+02, 4.35613e+02, 3.26678e+02, 1.66954e-01, 0.00000e+00]])\n"
     ]
    },
    {
     "name": "stderr",
     "output_type": "stream",
     "text": [
      "\r",
      "  5%|████▏                                                                            | 44/859 [03:01<55:34,  4.09s/it]"
     ]
    },
    {
     "name": "stdout",
     "output_type": "stream",
     "text": [
      "tensor([[2.62606e+02, 9.97157e+01, 4.02153e+02, 3.87230e+02, 2.72192e-01, 0.00000e+00],\n",
      "        [9.21659e+01, 1.22268e+02, 2.00076e+02, 3.97126e+02, 2.04448e-01, 0.00000e+00]])\n"
     ]
    },
    {
     "name": "stderr",
     "output_type": "stream",
     "text": [
      "\r",
      "  5%|████▏                                                                            | 45/859 [03:05<55:55,  4.12s/it]"
     ]
    },
    {
     "name": "stdout",
     "output_type": "stream",
     "text": [
      "tensor([[3.10962e+02, 2.10360e+02, 4.28608e+02, 4.49557e+02, 2.32708e-01, 0.00000e+00],\n",
      "        [9.78024e+01, 2.25045e+02, 2.14564e+02, 4.10738e+02, 2.14551e-01, 0.00000e+00]])\n"
     ]
    },
    {
     "name": "stderr",
     "output_type": "stream",
     "text": [
      "\r",
      "  5%|████▎                                                                            | 46/859 [03:09<55:58,  4.13s/it]"
     ]
    },
    {
     "name": "stdout",
     "output_type": "stream",
     "text": [
      "tensor([[8.97606e+01, 2.70058e+02, 1.82723e+02, 3.73700e+02, 1.20684e-01, 0.00000e+00],\n",
      "        [2.98805e+02, 2.80224e+02, 4.00855e+02, 3.72789e+02, 1.16245e-01, 0.00000e+00]])\n"
     ]
    },
    {
     "name": "stderr",
     "output_type": "stream",
     "text": [
      "\r",
      "  5%|████▍                                                                            | 47/859 [03:13<55:36,  4.11s/it]"
     ]
    },
    {
     "name": "stdout",
     "output_type": "stream",
     "text": [
      "tensor([[2.99634e+02, 7.20015e+01, 4.38921e+02, 3.49068e+02, 3.88248e-01, 0.00000e+00],\n",
      "        [6.21167e+01, 7.23031e+01, 2.27003e+02, 3.60164e+02, 3.39810e-01, 0.00000e+00]])\n"
     ]
    },
    {
     "name": "stderr",
     "output_type": "stream",
     "text": [
      "\r",
      "  6%|████▌                                                                            | 48/859 [03:17<55:04,  4.08s/it]"
     ]
    },
    {
     "name": "stdout",
     "output_type": "stream",
     "text": [
      "tensor([[1.58895e+00, 2.88588e+02, 1.33495e+02, 4.43125e+02, 4.24142e-01, 0.00000e+00],\n",
      "        [2.42961e+02, 2.46930e+02, 3.52953e+02, 4.53688e+02, 1.95271e-01, 0.00000e+00]])\n"
     ]
    },
    {
     "name": "stderr",
     "output_type": "stream",
     "text": [
      "\r",
      "  6%|████▌                                                                            | 49/859 [03:22<55:27,  4.11s/it]"
     ]
    },
    {
     "name": "stdout",
     "output_type": "stream",
     "text": [
      "tensor([[1.02019e+02, 1.06444e+02, 2.31581e+02, 3.59101e+02, 4.12422e-01, 0.00000e+00],\n",
      "        [3.25354e+02, 8.96028e+01, 4.55922e+02, 3.49593e+02, 2.61829e-01, 0.00000e+00]])\n"
     ]
    },
    {
     "name": "stderr",
     "output_type": "stream",
     "text": [
      "\r",
      "  6%|████▋                                                                            | 50/859 [03:26<55:40,  4.13s/it]"
     ]
    },
    {
     "name": "stdout",
     "output_type": "stream",
     "text": [
      "tensor([[9.63354e+01, 8.69179e+01, 2.22903e+02, 3.02006e+02, 4.68121e-01, 0.00000e+00],\n",
      "        [3.09110e+02, 1.47963e+02, 4.35534e+02, 3.58382e+02, 3.92777e-01, 0.00000e+00]])\n"
     ]
    },
    {
     "name": "stderr",
     "output_type": "stream",
     "text": [
      "\r",
      "  6%|████▊                                                                            | 51/859 [03:30<55:47,  4.14s/it]"
     ]
    },
    {
     "name": "stdout",
     "output_type": "stream",
     "text": [
      "tensor([[2.89445e+02, 7.75525e+01, 4.22623e+02, 3.53190e+02, 4.73912e-01, 0.00000e+00],\n",
      "        [6.55535e+01, 1.17673e+02, 2.07373e+02, 3.88957e+02, 2.42655e-01, 0.00000e+00]])\n"
     ]
    },
    {
     "name": "stderr",
     "output_type": "stream",
     "text": [
      "\r",
      "  6%|████▉                                                                            | 52/859 [03:34<55:14,  4.11s/it]"
     ]
    },
    {
     "name": "stdout",
     "output_type": "stream",
     "text": [
      "tensor([[5.31109e+01, 1.94000e+02, 1.74022e+02, 3.96279e+02, 3.47320e-01, 0.00000e+00],\n",
      "        [2.24539e+02, 2.19349e+02, 3.35131e+02, 3.38973e+02, 1.46712e-01, 0.00000e+00]])\n"
     ]
    },
    {
     "name": "stderr",
     "output_type": "stream",
     "text": [
      "\r",
      "  6%|████▉                                                                            | 53/859 [03:38<55:03,  4.10s/it]"
     ]
    },
    {
     "name": "stdout",
     "output_type": "stream",
     "text": [
      "tensor([[3.45579e+02, 8.58385e+01, 4.84604e+02, 4.27477e+02, 3.44271e-01, 0.00000e+00],\n",
      "        [1.23177e+02, 1.03149e+02, 2.70411e+02, 3.97572e+02, 3.31960e-01, 0.00000e+00]])\n"
     ]
    },
    {
     "name": "stderr",
     "output_type": "stream",
     "text": [
      "\r",
      "  6%|█████                                                                            | 54/859 [03:42<55:00,  4.10s/it]"
     ]
    },
    {
     "name": "stdout",
     "output_type": "stream",
     "text": [
      "tensor([[2.73768e+02, 2.52816e+02, 4.04046e+02, 4.62377e+02, 3.97775e-01, 0.00000e+00],\n",
      "        [8.11579e+01, 1.79806e+02, 1.99582e+02, 4.47941e+02, 2.56078e-01, 0.00000e+00]])\n"
     ]
    },
    {
     "name": "stderr",
     "output_type": "stream",
     "text": [
      "\r",
      "  6%|█████▏                                                                           | 55/859 [03:46<54:27,  4.06s/it]"
     ]
    },
    {
     "name": "stdout",
     "output_type": "stream",
     "text": [
      "tensor([[3.75676e+01, 1.01846e+01, 1.85796e+02, 3.08367e+02, 3.25802e-01, 0.00000e+00],\n",
      "        [2.52949e+02, 1.10905e+01, 4.25439e+02, 3.58857e+02, 2.61991e-01, 0.00000e+00]])\n"
     ]
    },
    {
     "name": "stderr",
     "output_type": "stream",
     "text": [
      "\r",
      "  7%|█████▎                                                                           | 56/859 [03:50<54:29,  4.07s/it]"
     ]
    },
    {
     "name": "stdout",
     "output_type": "stream",
     "text": [
      "tensor([[2.94092e+01, 1.41761e+02, 1.63326e+02, 3.67307e+02, 2.67155e-01, 0.00000e+00],\n",
      "        [3.33048e+02, 2.13383e+02, 4.62807e+02, 4.17545e+02, 2.13728e-01, 0.00000e+00]])\n"
     ]
    },
    {
     "name": "stderr",
     "output_type": "stream",
     "text": [
      "\r",
      "  7%|█████▎                                                                           | 57/859 [03:54<54:06,  4.05s/it]"
     ]
    },
    {
     "name": "stdout",
     "output_type": "stream",
     "text": [
      "tensor([[3.32950e+02, 7.61838e+01, 5.11799e+02, 4.14250e+02, 2.96128e-01, 0.00000e+00],\n",
      "        [7.37323e+01, 1.21305e+02, 2.31045e+02, 3.97805e+02, 1.87707e-01, 0.00000e+00]])\n"
     ]
    },
    {
     "name": "stderr",
     "output_type": "stream",
     "text": [
      "\r",
      "  7%|█████▍                                                                           | 58/859 [03:58<54:13,  4.06s/it]"
     ]
    },
    {
     "name": "stdout",
     "output_type": "stream",
     "text": [
      "tensor([[2.91266e+02, 9.68842e+01, 4.42111e+02, 4.12843e+02, 4.37360e-01, 0.00000e+00],\n",
      "        [5.93314e+01, 9.79285e+01, 2.13630e+02, 3.98707e+02, 2.97009e-01, 0.00000e+00]])\n"
     ]
    },
    {
     "name": "stderr",
     "output_type": "stream",
     "text": [
      "\r",
      "  7%|█████▌                                                                           | 59/859 [04:02<54:04,  4.06s/it]"
     ]
    },
    {
     "name": "stdout",
     "output_type": "stream",
     "text": [
      "tensor([[3.21928e+02, 1.00346e+02, 4.46517e+02, 4.06567e+02, 3.28520e-01, 0.00000e+00],\n",
      "        [1.03484e+02, 1.89992e+02, 2.27132e+02, 4.11007e+02, 2.59998e-01, 0.00000e+00]])\n"
     ]
    },
    {
     "name": "stderr",
     "output_type": "stream",
     "text": [
      "\r",
      "  7%|█████▋                                                                           | 60/859 [04:06<53:58,  4.05s/it]"
     ]
    },
    {
     "name": "stdout",
     "output_type": "stream",
     "text": [
      "tensor([[3.02212e+02, 7.83398e+01, 4.27894e+02, 3.43650e+02, 2.75168e-01, 0.00000e+00],\n",
      "        [1.00523e+02, 6.13564e+01, 2.31576e+02, 3.51134e+02, 2.66827e-01, 0.00000e+00]])\n"
     ]
    },
    {
     "name": "stderr",
     "output_type": "stream",
     "text": [
      "\r",
      "  7%|█████▊                                                                           | 61/859 [04:10<54:09,  4.07s/it]"
     ]
    },
    {
     "name": "stdout",
     "output_type": "stream",
     "text": [
      "tensor([[8.80749e+01, 9.91852e+01, 2.07875e+02, 3.26214e+02, 1.96412e-01, 0.00000e+00],\n",
      "        [2.96768e+02, 1.02290e+02, 4.08942e+02, 3.34614e+02, 1.34290e-01, 0.00000e+00]])\n"
     ]
    },
    {
     "name": "stderr",
     "output_type": "stream",
     "text": [
      "\r",
      "  7%|█████▊                                                                           | 62/859 [04:14<53:42,  4.04s/it]"
     ]
    },
    {
     "name": "stdout",
     "output_type": "stream",
     "text": [
      "tensor([[1.06347e+02, 1.89724e+02, 2.22574e+02, 4.37410e+02, 2.64396e-01, 0.00000e+00],\n",
      "        [2.97645e+02, 1.79850e+02, 4.08705e+02, 4.49307e+02, 2.19413e-01, 0.00000e+00]])\n"
     ]
    },
    {
     "name": "stderr",
     "output_type": "stream",
     "text": [
      "\r",
      "  7%|█████▉                                                                           | 63/859 [04:19<53:36,  4.04s/it]"
     ]
    },
    {
     "name": "stdout",
     "output_type": "stream",
     "text": [
      "tensor([[8.51643e+01, 1.45719e+02, 2.25556e+02, 3.60298e+02, 3.01221e-01, 0.00000e+00],\n",
      "        [3.25251e+02, 1.47527e+02, 4.68973e+02, 3.84189e+02, 2.77497e-01, 0.00000e+00]])\n"
     ]
    },
    {
     "name": "stderr",
     "output_type": "stream",
     "text": [
      "\r",
      "  7%|██████                                                                           | 64/859 [04:23<53:44,  4.06s/it]"
     ]
    },
    {
     "name": "stdout",
     "output_type": "stream",
     "text": [
      "tensor([[251.64365,  90.61674, 426.11374, 383.05188,   0.57862,   0.00000],\n",
      "        [ 59.37352,  95.55161, 181.99565, 361.86707,   0.56122,   0.00000]])\n"
     ]
    },
    {
     "name": "stderr",
     "output_type": "stream",
     "text": [
      "\r",
      "  8%|██████▏                                                                          | 65/859 [04:27<54:09,  4.09s/it]"
     ]
    },
    {
     "name": "stdout",
     "output_type": "stream",
     "text": [
      "tensor([[3.09403e+02, 1.89082e+01, 4.77781e+02, 3.76996e+02, 2.77438e-01, 0.00000e+00],\n",
      "        [7.07829e+01, 4.10688e+01, 2.25508e+02, 3.67491e+02, 2.65949e-01, 0.00000e+00]])\n"
     ]
    },
    {
     "name": "stderr",
     "output_type": "stream",
     "text": [
      "\r",
      "  8%|██████▏                                                                          | 66/859 [04:31<54:08,  4.10s/it]"
     ]
    },
    {
     "name": "stdout",
     "output_type": "stream",
     "text": [
      "tensor([[2.35412e+01, 6.17025e+01, 1.85519e+02, 3.59799e+02, 3.75688e-01, 0.00000e+00],\n",
      "        [2.47062e+02, 6.70040e+01, 4.03814e+02, 3.46500e+02, 3.36346e-01, 0.00000e+00]])\n"
     ]
    },
    {
     "name": "stderr",
     "output_type": "stream",
     "text": [
      "\r",
      "  8%|██████▎                                                                          | 67/859 [04:35<54:05,  4.10s/it]"
     ]
    },
    {
     "name": "stdout",
     "output_type": "stream",
     "text": [
      "tensor([[9.66826e+01, 6.93634e+01, 2.21700e+02, 3.39562e+02, 1.85108e-01, 0.00000e+00],\n",
      "        [3.41466e+02, 1.72527e+02, 4.43747e+02, 3.62268e+02, 1.49422e-01, 0.00000e+00]])\n"
     ]
    },
    {
     "name": "stderr",
     "output_type": "stream",
     "text": [
      "C:\\Users\\Julian\\AppData\\Roaming\\Python\\Python39\\site-packages\\ensemble_boxes\\ensemble_boxes_wbf.py:73: UserWarning: X2 > 1 in box. Set it to 1. Check that you normalize boxes in [0, 1] range.\n",
      "  warnings.warn('X2 > 1 in box. Set it to 1. Check that you normalize boxes in [0, 1] range.')\n",
      "\r",
      "  8%|██████▍                                                                          | 68/859 [04:39<53:34,  4.06s/it]"
     ]
    },
    {
     "name": "stdout",
     "output_type": "stream",
     "text": [
      "tensor([[4.12885e+01, 7.84837e+01, 1.82794e+02, 3.20004e+02, 2.94229e-01, 0.00000e+00],\n",
      "        [4.17098e+02, 1.10429e+02, 5.12338e+02, 3.02003e+02, 1.58081e-01, 0.00000e+00],\n",
      "        [2.90670e+02, 1.75354e+02, 4.05392e+02, 3.33251e+02, 1.57763e-01, 0.00000e+00]])\n"
     ]
    },
    {
     "name": "stderr",
     "output_type": "stream",
     "text": [
      "\r",
      "  8%|██████▌                                                                          | 69/859 [04:43<53:34,  4.07s/it]"
     ]
    },
    {
     "name": "stdout",
     "output_type": "stream",
     "text": [
      "tensor([[9.20631e+01, 2.02456e+02, 2.17939e+02, 4.31811e+02, 2.60435e-01, 0.00000e+00],\n",
      "        [3.12058e+02, 3.27599e+02, 4.36125e+02, 4.61699e+02, 2.19080e-01, 0.00000e+00]])\n"
     ]
    },
    {
     "name": "stderr",
     "output_type": "stream",
     "text": [
      "\r",
      "  8%|██████▌                                                                          | 70/859 [04:47<53:20,  4.06s/it]"
     ]
    },
    {
     "name": "stdout",
     "output_type": "stream",
     "text": [
      "tensor([[3.26224e+02, 9.81683e+01, 4.56978e+02, 3.22615e+02, 2.43015e-01, 0.00000e+00],\n",
      "        [1.72127e+02, 1.66072e+02, 2.79877e+02, 3.62854e+02, 1.20613e-01, 0.00000e+00]])\n"
     ]
    },
    {
     "name": "stderr",
     "output_type": "stream",
     "text": [
      "\r",
      "  8%|██████▋                                                                          | 71/859 [04:51<53:16,  4.06s/it]"
     ]
    },
    {
     "name": "stdout",
     "output_type": "stream",
     "text": [
      "tensor([[8.79665e+01, 1.03799e+02, 2.42801e+02, 3.40318e+02, 3.13510e-01, 0.00000e+00],\n",
      "        [3.16047e+02, 9.47737e+01, 4.19675e+02, 2.54460e+02, 1.77563e-01, 0.00000e+00]])\n"
     ]
    },
    {
     "name": "stderr",
     "output_type": "stream",
     "text": [
      "\r",
      "  8%|██████▊                                                                          | 72/859 [04:55<52:52,  4.03s/it]"
     ]
    },
    {
     "name": "stdout",
     "output_type": "stream",
     "text": [
      "tensor([[2.72162e+00, 7.25640e+01, 1.55936e+02, 4.36428e+02, 2.36972e-01, 0.00000e+00],\n",
      "        [2.29492e+02, 5.75762e+01, 3.77097e+02, 3.74468e+02, 2.34009e-01, 0.00000e+00]])\n"
     ]
    },
    {
     "name": "stderr",
     "output_type": "stream",
     "text": [
      "\r",
      "  8%|██████▉                                                                          | 73/859 [04:59<52:38,  4.02s/it]"
     ]
    },
    {
     "name": "stdout",
     "output_type": "stream",
     "text": [
      "tensor([[7.97023e+01, 7.47849e+01, 2.30001e+02, 3.64434e+02, 3.56530e-01, 0.00000e+00],\n",
      "        [3.22180e+02, 7.96370e+01, 4.48646e+02, 3.56349e+02, 3.00659e-01, 0.00000e+00]])\n"
     ]
    },
    {
     "name": "stderr",
     "output_type": "stream",
     "text": [
      "\r",
      "  9%|██████▉                                                                          | 74/859 [05:03<53:12,  4.07s/it]"
     ]
    },
    {
     "name": "stdout",
     "output_type": "stream",
     "text": [
      "tensor([[1.27315e+02, 9.64116e+01, 2.39085e+02, 3.80366e+02, 2.23751e-01, 0.00000e+00],\n",
      "        [3.16098e+02, 1.22807e+02, 4.47965e+02, 3.64937e+02, 1.87426e-01, 0.00000e+00],\n",
      "        [1.55706e+02, 4.32213e-01, 2.99725e+02, 2.22165e+02, 1.40872e-01, 0.00000e+00]])\n"
     ]
    },
    {
     "name": "stderr",
     "output_type": "stream",
     "text": [
      "\r",
      "  9%|███████                                                                          | 75/859 [05:07<53:22,  4.08s/it]"
     ]
    },
    {
     "name": "stdout",
     "output_type": "stream",
     "text": [
      "tensor([[289.82306, 121.17889, 417.68256, 388.98264,   0.48560,   0.00000],\n",
      "        [ 93.13086, 132.37730, 220.86578, 378.00385,   0.47182,   0.00000]])\n"
     ]
    },
    {
     "name": "stderr",
     "output_type": "stream",
     "text": [
      "\r",
      "  9%|███████▏                                                                         | 76/859 [05:11<52:59,  4.06s/it]"
     ]
    },
    {
     "name": "stdout",
     "output_type": "stream",
     "text": [
      "tensor([[1.33403e+02, 1.84573e+02, 2.60606e+02, 4.31496e+02, 4.05143e-01, 0.00000e+00],\n",
      "        [3.24633e+02, 1.87710e+02, 4.13999e+02, 3.90626e+02, 1.13346e-01, 0.00000e+00]])\n"
     ]
    },
    {
     "name": "stderr",
     "output_type": "stream",
     "text": [
      "\r",
      "  9%|███████▎                                                                         | 77/859 [05:15<53:01,  4.07s/it]"
     ]
    },
    {
     "name": "stdout",
     "output_type": "stream",
     "text": [
      "tensor([[3.02886e+02, 5.50368e+01, 4.31075e+02, 3.56408e+02, 2.28124e-01, 0.00000e+00],\n",
      "        [7.67940e+01, 4.83226e+01, 1.99728e+02, 2.97270e+02, 2.25280e-01, 0.00000e+00]])\n"
     ]
    },
    {
     "name": "stderr",
     "output_type": "stream",
     "text": [
      "\r",
      "  9%|███████▎                                                                         | 78/859 [05:20<52:45,  4.05s/it]"
     ]
    },
    {
     "name": "stdout",
     "output_type": "stream",
     "text": [
      "tensor([[2.86146e+02, 6.99191e+01, 4.11451e+02, 4.13934e+02, 3.35317e-01, 0.00000e+00],\n",
      "        [8.41711e+01, 5.04522e+01, 2.20035e+02, 3.91949e+02, 2.38599e-01, 0.00000e+00]])\n"
     ]
    },
    {
     "name": "stderr",
     "output_type": "stream",
     "text": [
      "\r",
      "  9%|███████▍                                                                         | 79/859 [05:24<52:37,  4.05s/it]"
     ]
    },
    {
     "name": "stdout",
     "output_type": "stream",
     "text": [
      "tensor([[2.89993e+02, 8.69388e+00, 4.43018e+02, 3.90685e+02, 2.61293e-01, 0.00000e+00],\n",
      "        [5.16766e+01, 7.60643e+00, 2.17636e+02, 3.54303e+02, 2.23972e-01, 0.00000e+00]])\n"
     ]
    },
    {
     "name": "stderr",
     "output_type": "stream",
     "text": [
      "\r",
      "  9%|███████▌                                                                         | 80/859 [05:28<52:36,  4.05s/it]"
     ]
    },
    {
     "name": "stdout",
     "output_type": "stream",
     "text": [
      "tensor([[4.06175e+01, 1.90199e+02, 1.82970e+02, 3.89709e+02, 3.99374e-01, 0.00000e+00],\n",
      "        [3.53734e+02, 1.86228e+02, 4.84770e+02, 4.39252e+02, 3.08583e-01, 0.00000e+00]])\n"
     ]
    },
    {
     "name": "stderr",
     "output_type": "stream",
     "text": [
      "\r",
      "  9%|███████▋                                                                         | 81/859 [05:32<52:47,  4.07s/it]"
     ]
    },
    {
     "name": "stdout",
     "output_type": "stream",
     "text": [
      "tensor([[4.35620e+01, 7.38025e+01, 1.64369e+02, 3.56670e+02, 2.43482e-01, 0.00000e+00],\n",
      "        [2.44932e+02, 2.12231e+02, 3.50887e+02, 3.73870e+02, 2.16027e-01, 0.00000e+00]])\n"
     ]
    },
    {
     "name": "stderr",
     "output_type": "stream",
     "text": [
      "\r",
      " 10%|███████▋                                                                         | 82/859 [05:36<52:36,  4.06s/it]"
     ]
    },
    {
     "name": "stdout",
     "output_type": "stream",
     "text": [
      "tensor([[3.24313e+02, 2.33752e+02, 4.71602e+02, 4.00644e+02, 2.86959e-01, 0.00000e+00],\n",
      "        [5.39250e+01, 2.45802e+02, 1.75520e+02, 3.98767e+02, 2.33861e-01, 0.00000e+00]])\n"
     ]
    },
    {
     "name": "stderr",
     "output_type": "stream",
     "text": [
      "\r",
      " 10%|███████▊                                                                         | 83/859 [05:40<52:36,  4.07s/it]"
     ]
    },
    {
     "name": "stdout",
     "output_type": "stream",
     "text": [
      "tensor([[1.12253e+02, 5.60428e+01, 2.54550e+02, 3.64363e+02, 3.16577e-01, 0.00000e+00],\n",
      "        [3.17317e+02, 7.02034e+01, 4.59358e+02, 3.62606e+02, 3.15452e-01, 0.00000e+00]])\n"
     ]
    },
    {
     "name": "stderr",
     "output_type": "stream",
     "text": [
      "\r",
      " 10%|███████▉                                                                         | 84/859 [05:44<52:16,  4.05s/it]"
     ]
    },
    {
     "name": "stdout",
     "output_type": "stream",
     "text": [
      "tensor([[3.22907e+02, 9.07529e+01, 4.01891e+02, 2.40233e+02, 1.94766e-01, 0.00000e+00],\n",
      "        [1.10080e+02, 8.08320e+01, 2.43318e+02, 3.41588e+02, 1.73955e-01, 0.00000e+00]])\n"
     ]
    },
    {
     "name": "stderr",
     "output_type": "stream",
     "text": [
      "\r",
      " 10%|████████                                                                         | 85/859 [05:48<51:54,  4.02s/it]"
     ]
    },
    {
     "name": "stdout",
     "output_type": "stream",
     "text": [
      "tensor([[5.56032e+01, 1.59125e+02, 1.68546e+02, 3.49015e+02, 2.29240e-01, 0.00000e+00],\n",
      "        [2.83724e+02, 1.27600e+02, 3.93743e+02, 2.95021e+02, 1.56408e-01, 0.00000e+00],\n",
      "        [2.76523e+02, 2.33258e+02, 4.21830e+02, 3.92033e+02, 1.55422e-01, 0.00000e+00],\n",
      "        [3.73811e+02, 5.10128e+01, 5.08513e+02, 2.70250e+02, 1.01506e-01, 0.00000e+00]])\n"
     ]
    },
    {
     "name": "stderr",
     "output_type": "stream",
     "text": [
      "\r",
      " 10%|████████                                                                         | 86/859 [05:52<52:07,  4.05s/it]"
     ]
    },
    {
     "name": "stdout",
     "output_type": "stream",
     "text": [
      "tensor([[9.08987e+01, 7.45530e+01, 2.38617e+02, 3.43286e+02, 3.63511e-01, 0.00000e+00],\n",
      "        [3.13605e+02, 1.03622e+02, 4.34214e+02, 3.95418e+02, 1.47868e-01, 0.00000e+00]])\n"
     ]
    },
    {
     "name": "stderr",
     "output_type": "stream",
     "text": [
      "\r",
      " 10%|████████▏                                                                        | 87/859 [05:56<52:13,  4.06s/it]"
     ]
    },
    {
     "name": "stdout",
     "output_type": "stream",
     "text": [
      "tensor([[1.03486e+02, 9.31168e+01, 2.53704e+02, 3.92927e+02, 2.81863e-01, 0.00000e+00],\n",
      "        [3.04379e+02, 1.17690e+02, 4.28347e+02, 3.74233e+02, 2.23562e-01, 0.00000e+00]])\n"
     ]
    },
    {
     "name": "stderr",
     "output_type": "stream",
     "text": [
      "\r",
      " 10%|████████▎                                                                        | 88/859 [06:00<52:05,  4.05s/it]"
     ]
    },
    {
     "name": "stdout",
     "output_type": "stream",
     "text": [
      "tensor([[9.34292e+01, 1.03225e+02, 2.06037e+02, 3.25473e+02, 2.36084e-01, 0.00000e+00],\n",
      "        [2.94379e+02, 1.69367e+02, 3.96649e+02, 3.63009e+02, 1.54641e-01, 0.00000e+00]])\n"
     ]
    },
    {
     "name": "stderr",
     "output_type": "stream",
     "text": [
      "\r",
      " 10%|████████▍                                                                        | 89/859 [06:04<51:37,  4.02s/it]"
     ]
    },
    {
     "name": "stdout",
     "output_type": "stream",
     "text": [
      "tensor([[6.08320e+01, 1.16572e+02, 2.09791e+02, 4.45513e+02, 2.71054e-01, 0.00000e+00],\n",
      "        [3.21728e+02, 1.99670e+02, 4.62705e+02, 4.16969e+02, 2.32787e-01, 0.00000e+00]])\n"
     ]
    },
    {
     "name": "stderr",
     "output_type": "stream",
     "text": [
      "\r",
      " 10%|████████▍                                                                        | 90/859 [06:08<51:43,  4.04s/it]"
     ]
    },
    {
     "name": "stdout",
     "output_type": "stream",
     "text": [
      "tensor([[3.13771e+02, 2.60025e+02, 4.34563e+02, 4.60755e+02, 2.58944e-01, 0.00000e+00],\n",
      "        [8.43814e+01, 3.37505e+02, 2.18789e+02, 4.83362e+02, 2.54085e-01, 0.00000e+00]])\n"
     ]
    },
    {
     "name": "stderr",
     "output_type": "stream",
     "text": [
      "\r",
      " 11%|████████▌                                                                        | 91/859 [06:12<52:15,  4.08s/it]"
     ]
    },
    {
     "name": "stdout",
     "output_type": "stream",
     "text": [
      "tensor([[9.92075e+01, 8.46557e+01, 2.21430e+02, 3.52951e+02, 3.66215e-01, 0.00000e+00],\n",
      "        [2.84583e+02, 1.12944e+02, 4.07062e+02, 3.92823e+02, 3.14989e-01, 0.00000e+00]])\n"
     ]
    },
    {
     "name": "stderr",
     "output_type": "stream",
     "text": [
      "\r",
      " 11%|████████▋                                                                        | 92/859 [06:16<52:24,  4.10s/it]"
     ]
    },
    {
     "name": "stdout",
     "output_type": "stream",
     "text": [
      "tensor([[ 83.55699, 117.91851, 189.02681, 299.47675,   0.43832,   0.00000],\n",
      "        [276.51508, 148.55618, 372.36060, 339.67795,   0.37585,   0.00000]])\n"
     ]
    },
    {
     "name": "stderr",
     "output_type": "stream",
     "text": [
      "\r",
      " 11%|████████▊                                                                        | 93/859 [06:20<51:57,  4.07s/it]"
     ]
    },
    {
     "name": "stdout",
     "output_type": "stream",
     "text": [
      "tensor([[4.79539e+01, 1.03960e+02, 1.93770e+02, 3.91094e+02, 3.73137e-01, 0.00000e+00],\n",
      "        [2.62294e+02, 1.23460e+02, 4.10997e+02, 3.98288e+02, 2.35310e-01, 0.00000e+00]])\n"
     ]
    },
    {
     "name": "stderr",
     "output_type": "stream",
     "text": [
      "\r",
      " 11%|████████▊                                                                        | 94/859 [06:24<52:01,  4.08s/it]"
     ]
    },
    {
     "name": "stdout",
     "output_type": "stream",
     "text": [
      "tensor([[313.97552, 139.37503, 468.20471, 412.31088,   0.53750,   0.00000],\n",
      "        [138.67136, 161.61305, 259.95294, 442.09094,   0.51458,   0.00000]])\n"
     ]
    },
    {
     "name": "stderr",
     "output_type": "stream",
     "text": [
      "\r",
      " 11%|████████▉                                                                        | 95/859 [06:29<51:53,  4.07s/it]"
     ]
    },
    {
     "name": "stdout",
     "output_type": "stream",
     "text": [
      "tensor([[1.41311e+02, 8.29316e+01, 2.28103e+02, 2.80239e+02, 2.73014e-01, 0.00000e+00],\n",
      "        [3.18457e+02, 2.40054e+02, 4.22814e+02, 4.08387e+02, 1.48761e-01, 0.00000e+00]])\n"
     ]
    },
    {
     "name": "stderr",
     "output_type": "stream",
     "text": [
      "\r",
      " 11%|█████████                                                                        | 96/859 [06:32<51:10,  4.02s/it]"
     ]
    },
    {
     "name": "stdout",
     "output_type": "stream",
     "text": [
      "tensor([[3.51973e+02, 2.59243e+02, 4.52436e+02, 4.19580e+02, 2.80940e-01, 0.00000e+00],\n",
      "        [8.05741e+01, 2.42900e+02, 1.90836e+02, 4.19223e+02, 2.18846e-01, 0.00000e+00]])\n"
     ]
    },
    {
     "name": "stderr",
     "output_type": "stream",
     "text": [
      "\r",
      " 11%|█████████▏                                                                       | 97/859 [06:36<50:57,  4.01s/it]"
     ]
    },
    {
     "name": "stdout",
     "output_type": "stream",
     "text": [
      "tensor([[6.09088e+01, 1.66887e+02, 1.86070e+02, 4.66413e+02, 2.00241e-01, 0.00000e+00]])\n"
     ]
    },
    {
     "name": "stderr",
     "output_type": "stream",
     "text": [
      "\r",
      " 11%|█████████▏                                                                       | 98/859 [06:41<51:04,  4.03s/it]"
     ]
    },
    {
     "name": "stdout",
     "output_type": "stream",
     "text": [
      "tensor([[2.81912e+02, 1.03407e+02, 4.42875e+02, 3.90391e+02, 4.04491e-01, 0.00000e+00],\n",
      "        [5.85456e+01, 1.23759e+02, 2.04834e+02, 3.91788e+02, 3.59180e-01, 0.00000e+00]])\n"
     ]
    },
    {
     "name": "stderr",
     "output_type": "stream",
     "text": [
      "\r",
      " 12%|█████████▎                                                                       | 99/859 [06:44<50:35,  3.99s/it]"
     ]
    },
    {
     "name": "stdout",
     "output_type": "stream",
     "text": [
      "tensor([[1.15774e+02, 1.74313e+02, 2.16037e+02, 3.67097e+02, 1.90547e-01, 0.00000e+00],\n",
      "        [2.81670e+02, 2.48086e+02, 3.74683e+02, 4.07125e+02, 1.82185e-01, 0.00000e+00]])\n"
     ]
    },
    {
     "name": "stderr",
     "output_type": "stream",
     "text": [
      "\r",
      " 12%|█████████▎                                                                      | 100/859 [06:48<50:31,  3.99s/it]"
     ]
    },
    {
     "name": "stdout",
     "output_type": "stream",
     "text": [
      "tensor([[9.10944e+01, 1.58285e+02, 2.51534e+02, 4.60002e+02, 4.55750e-01, 0.00000e+00],\n",
      "        [3.29255e+02, 2.26646e+02, 4.60774e+02, 4.75495e+02, 2.94260e-01, 0.00000e+00]])\n"
     ]
    },
    {
     "name": "stderr",
     "output_type": "stream",
     "text": [
      "\r",
      " 12%|█████████▍                                                                      | 101/859 [06:53<51:02,  4.04s/it]"
     ]
    },
    {
     "name": "stdout",
     "output_type": "stream",
     "text": [
      "tensor([[2.73676e+02, 8.25675e+01, 4.39970e+02, 4.27611e+02, 3.60075e-01, 0.00000e+00],\n",
      "        [4.98775e+01, 9.61413e+01, 2.03047e+02, 4.43582e+02, 3.51633e-01, 0.00000e+00]])\n"
     ]
    },
    {
     "name": "stderr",
     "output_type": "stream",
     "text": [
      "\r",
      " 12%|█████████▍                                                                      | 102/859 [06:57<50:43,  4.02s/it]"
     ]
    },
    {
     "name": "stdout",
     "output_type": "stream",
     "text": [
      "tensor([[1.02091e+02, 1.02495e+02, 2.25740e+02, 3.81837e+02, 2.29898e-01, 0.00000e+00],\n",
      "        [3.07686e+02, 1.36877e+02, 4.16097e+02, 4.01344e+02, 1.46609e-01, 0.00000e+00]])\n"
     ]
    },
    {
     "name": "stderr",
     "output_type": "stream",
     "text": [
      "\r",
      " 12%|█████████▌                                                                      | 103/859 [07:01<50:28,  4.01s/it]"
     ]
    },
    {
     "name": "stdout",
     "output_type": "stream",
     "text": [
      "tensor([[8.12979e+01, 8.07680e+01, 2.06349e+02, 3.30542e+02, 2.14022e-01, 0.00000e+00],\n",
      "        [2.91895e+02, 1.11609e+02, 3.93511e+02, 3.19822e+02, 1.49165e-01, 0.00000e+00],\n",
      "        [1.38025e+02, 7.38149e+01, 2.03011e+02, 1.62713e+02, 1.21613e-01, 0.00000e+00]])\n"
     ]
    },
    {
     "name": "stderr",
     "output_type": "stream",
     "text": [
      "\r",
      " 12%|█████████▋                                                                      | 104/859 [07:05<50:40,  4.03s/it]"
     ]
    },
    {
     "name": "stdout",
     "output_type": "stream",
     "text": [
      "tensor([[2.61740e+02, 2.30437e+02, 3.97895e+02, 4.28200e+02, 2.66394e-01, 0.00000e+00],\n",
      "        [3.97144e+01, 7.37613e+01, 1.86221e+02, 3.44147e+02, 2.65499e-01, 0.00000e+00]])\n"
     ]
    },
    {
     "name": "stderr",
     "output_type": "stream",
     "text": [
      "\r",
      " 12%|█████████▊                                                                      | 105/859 [07:09<50:17,  4.00s/it]"
     ]
    },
    {
     "name": "stdout",
     "output_type": "stream",
     "text": [
      "tensor([[2.85497e+02, 3.72295e+01, 4.37779e+02, 3.73553e+02, 2.91479e-01, 0.00000e+00],\n",
      "        [8.91611e+01, 5.25849e+01, 2.12688e+02, 3.57002e+02, 2.35537e-01, 0.00000e+00]])\n"
     ]
    },
    {
     "name": "stderr",
     "output_type": "stream",
     "text": [
      "\r",
      " 12%|█████████▊                                                                      | 106/859 [07:13<50:22,  4.01s/it]"
     ]
    },
    {
     "name": "stdout",
     "output_type": "stream",
     "text": [
      "tensor([[5.35462e+01, 1.97164e+02, 1.95690e+02, 4.98466e+02, 5.07180e-01, 0.00000e+00],\n",
      "        [2.80475e+02, 1.58252e+02, 4.22889e+02, 4.92813e+02, 4.45551e-01, 0.00000e+00]])\n"
     ]
    },
    {
     "name": "stderr",
     "output_type": "stream",
     "text": [
      "\r",
      " 12%|█████████▉                                                                      | 107/859 [07:17<51:07,  4.08s/it]"
     ]
    },
    {
     "name": "stdout",
     "output_type": "stream",
     "text": [
      "tensor([[9.92076e+01, 9.66893e+01, 2.56202e+02, 4.41595e+02, 3.61892e-01, 0.00000e+00],\n",
      "        [3.40768e+02, 1.01703e+02, 4.91246e+02, 4.06687e+02, 2.25731e-01, 0.00000e+00]])\n"
     ]
    },
    {
     "name": "stderr",
     "output_type": "stream",
     "text": [
      "\r",
      " 13%|██████████                                                                      | 108/859 [07:21<51:18,  4.10s/it]"
     ]
    },
    {
     "name": "stdout",
     "output_type": "stream",
     "text": [
      "tensor([[113.97543,  68.09443, 250.40683, 321.61136,   0.56417,   0.00000],\n",
      "        [322.04922,  81.22708, 445.59616, 371.96033,   0.51783,   0.00000]])\n"
     ]
    },
    {
     "name": "stderr",
     "output_type": "stream",
     "text": [
      "\r",
      " 13%|██████████▏                                                                     | 109/859 [07:25<52:20,  4.19s/it]"
     ]
    },
    {
     "name": "stdout",
     "output_type": "stream",
     "text": [
      "tensor([[1.36444e+02, 6.68154e+01, 2.73113e+02, 3.56867e+02, 3.61946e-01, 0.00000e+00],\n",
      "        [3.35960e+02, 4.03033e+01, 4.97629e+02, 3.74114e+02, 2.70855e-01, 0.00000e+00]])\n"
     ]
    },
    {
     "name": "stderr",
     "output_type": "stream",
     "text": [
      "\r",
      " 13%|██████████▏                                                                     | 110/859 [07:30<53:03,  4.25s/it]"
     ]
    },
    {
     "name": "stdout",
     "output_type": "stream",
     "text": [
      "tensor([[3.26220e+02, 8.29660e+01, 4.55953e+02, 3.42321e+02, 5.00458e-01, 0.00000e+00],\n",
      "        [1.07051e+02, 7.68992e+01, 2.46376e+02, 3.55567e+02, 3.21700e-01, 0.00000e+00]])\n"
     ]
    },
    {
     "name": "stderr",
     "output_type": "stream",
     "text": [
      "\r",
      " 13%|██████████▎                                                                     | 111/859 [07:34<53:44,  4.31s/it]"
     ]
    },
    {
     "name": "stdout",
     "output_type": "stream",
     "text": [
      "tensor([[3.22597e+02, 8.42788e+01, 4.56031e+02, 3.20700e+02, 2.66521e-01, 0.00000e+00],\n",
      "        [1.16603e+02, 9.88140e+01, 2.41355e+02, 3.04704e+02, 2.57757e-01, 0.00000e+00]])\n"
     ]
    },
    {
     "name": "stderr",
     "output_type": "stream",
     "text": [
      "\r",
      " 13%|██████████▍                                                                     | 112/859 [07:38<52:46,  4.24s/it]"
     ]
    },
    {
     "name": "stdout",
     "output_type": "stream",
     "text": [
      "tensor([[2.86691e+02, 8.47225e+01, 3.98472e+02, 3.17530e+02, 4.30935e-01, 0.00000e+00],\n",
      "        [8.97259e+01, 2.27222e+01, 2.11909e+02, 3.39344e+02, 3.27063e-01, 0.00000e+00]])\n"
     ]
    },
    {
     "name": "stderr",
     "output_type": "stream",
     "text": [
      "\r",
      " 13%|██████████▌                                                                     | 113/859 [07:42<51:57,  4.18s/it]"
     ]
    },
    {
     "name": "stdout",
     "output_type": "stream",
     "text": [
      "tensor([[1.00753e+02, 9.76319e+01, 2.33635e+02, 3.42955e+02, 2.49823e-01, 0.00000e+00],\n",
      "        [3.00891e+02, 1.41922e+02, 4.26294e+02, 3.82707e+02, 1.79761e-01, 0.00000e+00]])\n"
     ]
    },
    {
     "name": "stderr",
     "output_type": "stream",
     "text": [
      "\r",
      " 13%|██████████▌                                                                     | 114/859 [07:46<51:20,  4.13s/it]"
     ]
    },
    {
     "name": "stdout",
     "output_type": "stream",
     "text": [
      "tensor([[5.69373e+01, 2.14110e+02, 1.91903e+02, 3.96168e+02, 2.73656e-01, 0.00000e+00],\n",
      "        [2.84375e+02, 2.38300e+02, 4.16175e+02, 4.18309e+02, 1.60130e-01, 0.00000e+00]])\n"
     ]
    },
    {
     "name": "stderr",
     "output_type": "stream",
     "text": [
      "\r",
      " 13%|██████████▋                                                                     | 115/859 [07:50<50:47,  4.10s/it]"
     ]
    },
    {
     "name": "stdout",
     "output_type": "stream",
     "text": [
      "tensor([[2.89994e+02, 1.00386e+02, 4.39053e+02, 3.27542e+02, 3.32022e-01, 0.00000e+00],\n",
      "        [5.81028e+01, 1.11940e+02, 2.00533e+02, 3.05793e+02, 2.66505e-01, 0.00000e+00]])\n"
     ]
    },
    {
     "name": "stderr",
     "output_type": "stream",
     "text": [
      "\r",
      " 14%|██████████▊                                                                     | 116/859 [07:54<50:46,  4.10s/it]"
     ]
    },
    {
     "name": "stdout",
     "output_type": "stream",
     "text": [
      "tensor([[2.84780e+02, 7.80771e+01, 4.45398e+02, 3.66463e+02, 2.74963e-01, 0.00000e+00],\n",
      "        [5.44356e+01, 6.42729e+01, 2.08156e+02, 3.73300e+02, 2.13434e-01, 0.00000e+00]])\n"
     ]
    },
    {
     "name": "stderr",
     "output_type": "stream",
     "text": [
      "\r",
      " 14%|██████████▉                                                                     | 117/859 [07:59<50:33,  4.09s/it]"
     ]
    },
    {
     "name": "stdout",
     "output_type": "stream",
     "text": [
      "tensor([[2.95256e+02, 2.16229e+02, 4.27244e+02, 4.03896e+02, 1.60788e-01, 0.00000e+00],\n",
      "        [6.95869e+01, 1.37434e+02, 1.96097e+02, 3.94883e+02, 1.21635e-01, 0.00000e+00]])\n"
     ]
    },
    {
     "name": "stderr",
     "output_type": "stream",
     "text": [
      "\r",
      " 14%|██████████▉                                                                     | 118/859 [08:03<50:26,  4.08s/it]"
     ]
    },
    {
     "name": "stdout",
     "output_type": "stream",
     "text": [
      "tensor([[2.98818e+02, 1.48356e+02, 4.39326e+02, 3.69617e+02, 2.58162e-01, 0.00000e+00],\n",
      "        [7.74454e+01, 1.19034e+02, 2.24670e+02, 3.93549e+02, 1.80455e-01, 0.00000e+00]])\n"
     ]
    },
    {
     "name": "stderr",
     "output_type": "stream",
     "text": [
      "\r",
      " 14%|███████████                                                                     | 119/859 [08:07<49:51,  4.04s/it]"
     ]
    },
    {
     "name": "stdout",
     "output_type": "stream",
     "text": [
      "tensor([[2.81051e+02, 5.32764e+01, 4.32482e+02, 3.69109e+02, 2.74657e-01, 0.00000e+00],\n",
      "        [9.76989e+01, 7.44868e+01, 2.41087e+02, 3.40509e+02, 1.37659e-01, 0.00000e+00]])\n"
     ]
    },
    {
     "name": "stderr",
     "output_type": "stream",
     "text": [
      "\r",
      " 14%|███████████▏                                                                    | 120/859 [08:11<49:50,  4.05s/it]"
     ]
    },
    {
     "name": "stdout",
     "output_type": "stream",
     "text": [
      "tensor([[4.94610e+01, 9.56717e+01, 1.99269e+02, 4.02366e+02, 2.12287e-01, 0.00000e+00],\n",
      "        [2.73722e+02, 1.03151e+02, 4.08300e+02, 4.42249e+02, 2.08264e-01, 0.00000e+00],\n",
      "        [1.31526e+02, 8.23302e+01, 2.01786e+02, 2.27224e+02, 1.19711e-01, 0.00000e+00]])\n"
     ]
    },
    {
     "name": "stderr",
     "output_type": "stream",
     "text": [
      "\r",
      " 14%|███████████▎                                                                    | 121/859 [08:15<49:59,  4.06s/it]"
     ]
    },
    {
     "name": "stdout",
     "output_type": "stream",
     "text": [
      "tensor([[1.44785e+02, 8.36021e+01, 2.78220e+02, 3.08520e+02, 2.90169e-01, 0.00000e+00],\n",
      "        [3.61010e+02, 1.67076e+02, 4.55016e+02, 3.44055e+02, 2.28452e-01, 0.00000e+00]])\n"
     ]
    },
    {
     "name": "stderr",
     "output_type": "stream",
     "text": [
      "\r",
      " 14%|███████████▎                                                                    | 122/859 [08:19<49:19,  4.02s/it]"
     ]
    },
    {
     "name": "stdout",
     "output_type": "stream",
     "text": [
      "tensor([[3.04927e+02, 1.27211e+02, 4.65935e+02, 4.34772e+02, 2.31380e-01, 0.00000e+00],\n",
      "        [8.35097e+01, 1.18018e+02, 2.20492e+02, 4.55538e+02, 2.04819e-01, 0.00000e+00]])\n"
     ]
    },
    {
     "name": "stderr",
     "output_type": "stream",
     "text": [
      "\r",
      " 14%|███████████▍                                                                    | 123/859 [08:23<49:06,  4.00s/it]"
     ]
    },
    {
     "name": "stdout",
     "output_type": "stream",
     "text": [
      "tensor([[2.74995e+02, 2.14986e+02, 4.06531e+02, 4.24043e+02, 1.79893e-01, 0.00000e+00],\n",
      "        [6.33603e+01, 1.13762e+02, 1.99655e+02, 4.25099e+02, 1.68997e-01, 0.00000e+00]])\n"
     ]
    },
    {
     "name": "stderr",
     "output_type": "stream",
     "text": [
      "\r",
      " 14%|███████████▌                                                                    | 124/859 [08:27<48:49,  3.99s/it]"
     ]
    },
    {
     "name": "stdout",
     "output_type": "stream",
     "text": [
      "tensor([[1.39360e+02, 1.49912e+02, 2.50250e+02, 4.32499e+02, 2.20555e-01, 0.00000e+00],\n",
      "        [3.33464e+02, 2.75676e+02, 4.50783e+02, 4.61938e+02, 1.86873e-01, 0.00000e+00]])\n"
     ]
    },
    {
     "name": "stderr",
     "output_type": "stream",
     "text": [
      "\r",
      " 15%|███████████▋                                                                    | 125/859 [08:31<49:31,  4.05s/it]"
     ]
    },
    {
     "name": "stdout",
     "output_type": "stream",
     "text": [
      "tensor([[3.68080e+01, 2.05908e+02, 2.09787e+02, 3.80475e+02, 3.11770e-01, 0.00000e+00],\n",
      "        [3.05173e+02, 2.35819e+02, 4.64057e+02, 4.09442e+02, 1.77531e-01, 0.00000e+00],\n",
      "        [3.11756e+02, 8.72664e+01, 4.34156e+02, 2.58655e+02, 1.39251e-01, 0.00000e+00],\n",
      "        [1.06153e+02, 6.29883e+01, 2.25184e+02, 2.31510e+02, 1.17866e-01, 0.00000e+00]])\n"
     ]
    },
    {
     "name": "stderr",
     "output_type": "stream",
     "text": [
      "\r",
      " 15%|███████████▋                                                                    | 126/859 [08:35<49:24,  4.04s/it]"
     ]
    },
    {
     "name": "stdout",
     "output_type": "stream",
     "text": [
      "tensor([[3.94248e+01, 5.84574e+01, 2.08737e+02, 4.34380e+02, 3.68306e-01, 0.00000e+00],\n",
      "        [2.95383e+02, 9.39636e+01, 4.46541e+02, 4.34730e+02, 1.47057e-01, 0.00000e+00]])\n"
     ]
    },
    {
     "name": "stderr",
     "output_type": "stream",
     "text": [
      "\r",
      " 15%|███████████▊                                                                    | 127/859 [08:39<49:10,  4.03s/it]"
     ]
    },
    {
     "name": "stdout",
     "output_type": "stream",
     "text": [
      "tensor([[3.91565e+01, 8.51003e+01, 1.69040e+02, 3.34869e+02, 2.35307e-01, 0.00000e+00],\n",
      "        [2.60529e+02, 8.01906e+01, 3.86965e+02, 3.59201e+02, 1.32015e-01, 0.00000e+00]])\n"
     ]
    },
    {
     "name": "stderr",
     "output_type": "stream",
     "text": [
      "\r",
      " 15%|███████████▉                                                                    | 128/859 [08:43<49:22,  4.05s/it]"
     ]
    },
    {
     "name": "stdout",
     "output_type": "stream",
     "text": [
      "tensor([[3.31718e+02, 1.02469e+02, 4.65737e+02, 4.11812e+02, 2.70948e-01, 0.00000e+00],\n",
      "        [7.95319e+01, 1.62069e+02, 1.97741e+02, 4.08609e+02, 2.37405e-01, 0.00000e+00]])\n"
     ]
    },
    {
     "name": "stderr",
     "output_type": "stream",
     "text": [
      "\r",
      " 15%|████████████                                                                    | 129/859 [08:47<49:20,  4.05s/it]"
     ]
    },
    {
     "name": "stdout",
     "output_type": "stream",
     "text": [
      "tensor([[7.36309e+01, 1.21539e+02, 2.18992e+02, 3.97025e+02, 4.16375e-01, 0.00000e+00],\n",
      "        [3.20119e+02, 1.22602e+02, 4.64774e+02, 4.20845e+02, 3.11312e-01, 0.00000e+00]])\n"
     ]
    },
    {
     "name": "stderr",
     "output_type": "stream",
     "text": [
      "\r",
      " 15%|████████████                                                                    | 130/859 [08:51<49:25,  4.07s/it]"
     ]
    },
    {
     "name": "stdout",
     "output_type": "stream",
     "text": [
      "tensor([[3.31279e+02, 1.58178e+02, 4.73124e+02, 3.82062e+02, 2.84041e-01, 0.00000e+00],\n",
      "        [8.88098e+01, 1.53587e+02, 2.06217e+02, 3.63670e+02, 2.58028e-01, 0.00000e+00]])\n"
     ]
    },
    {
     "name": "stderr",
     "output_type": "stream",
     "text": [
      "\r",
      " 15%|████████████▏                                                                   | 131/859 [08:55<49:08,  4.05s/it]"
     ]
    },
    {
     "name": "stdout",
     "output_type": "stream",
     "text": [
      "tensor([[1.55217e+01, 9.95164e+01, 1.55569e+02, 3.17612e+02, 3.21536e-01, 0.00000e+00],\n",
      "        [2.48056e+02, 1.42605e+02, 3.38087e+02, 3.65499e+02, 2.23826e-01, 0.00000e+00]])\n"
     ]
    },
    {
     "name": "stderr",
     "output_type": "stream",
     "text": [
      "\r",
      " 15%|████████████▎                                                                   | 132/859 [08:59<49:50,  4.11s/it]"
     ]
    },
    {
     "name": "stdout",
     "output_type": "stream",
     "text": [
      "tensor([[3.69063e+01, 5.74320e+01, 1.76926e+02, 3.07166e+02, 4.00442e-01, 0.00000e+00],\n",
      "        [2.42873e+02, 6.70851e+01, 3.80305e+02, 3.37686e+02, 2.53236e-01, 0.00000e+00]])\n"
     ]
    },
    {
     "name": "stderr",
     "output_type": "stream",
     "text": [
      "\r",
      " 15%|████████████▍                                                                   | 133/859 [09:03<49:42,  4.11s/it]"
     ]
    },
    {
     "name": "stdout",
     "output_type": "stream",
     "text": [
      "tensor([[2.98235e+02, 1.37630e+02, 4.47956e+02, 3.49325e+02, 3.49400e-01, 0.00000e+00],\n",
      "        [8.37779e+01, 1.06277e+02, 2.22295e+02, 4.14610e+02, 1.91219e-01, 0.00000e+00]])\n"
     ]
    },
    {
     "name": "stderr",
     "output_type": "stream",
     "text": [
      "\r",
      " 16%|████████████▍                                                                   | 134/859 [09:07<49:26,  4.09s/it]"
     ]
    },
    {
     "name": "stdout",
     "output_type": "stream",
     "text": [
      "tensor([[3.00442e+02, 1.16503e+02, 4.26013e+02, 3.88962e+02, 2.80567e-01, 0.00000e+00],\n",
      "        [1.07309e+02, 2.16082e+02, 2.27061e+02, 4.11886e+02, 2.48848e-01, 0.00000e+00]])\n"
     ]
    },
    {
     "name": "stderr",
     "output_type": "stream",
     "text": [
      "\r",
      " 16%|████████████▌                                                                   | 135/859 [09:11<49:12,  4.08s/it]"
     ]
    },
    {
     "name": "stdout",
     "output_type": "stream",
     "text": [
      "tensor([[3.22117e+02, 1.27602e+02, 3.86415e+02, 2.13762e+02, 2.24019e-01, 0.00000e+00],\n",
      "        [1.05440e+02, 1.48105e+02, 2.00552e+02, 3.42856e+02, 2.05791e-01, 0.00000e+00],\n",
      "        [3.24089e+02, 2.44490e+02, 4.31640e+02, 3.72411e+02, 1.71152e-01, 0.00000e+00]])\n"
     ]
    },
    {
     "name": "stderr",
     "output_type": "stream",
     "text": [
      "\r",
      " 16%|████████████▋                                                                   | 136/859 [09:15<48:39,  4.04s/it]"
     ]
    },
    {
     "name": "stdout",
     "output_type": "stream",
     "text": [
      "tensor([[1.39039e+02, 3.15007e+01, 2.82594e+02, 2.86634e+02, 4.13812e-01, 0.00000e+00],\n",
      "        [3.29058e+02, 6.55632e+01, 4.28606e+02, 2.74662e+02, 1.07249e-01, 0.00000e+00]])\n"
     ]
    },
    {
     "name": "stderr",
     "output_type": "stream",
     "text": [
      "\r",
      " 16%|████████████▊                                                                   | 137/859 [09:19<48:09,  4.00s/it]"
     ]
    },
    {
     "name": "stdout",
     "output_type": "stream",
     "text": [
      "tensor([[6.80127e+01, 7.65693e+01, 2.03198e+02, 3.56501e+02, 4.10357e-01, 0.00000e+00],\n",
      "        [2.88131e+02, 1.47018e+02, 4.03425e+02, 3.65598e+02, 1.92788e-01, 0.00000e+00]])\n"
     ]
    },
    {
     "name": "stderr",
     "output_type": "stream",
     "text": [
      "\r",
      " 16%|████████████▊                                                                   | 138/859 [09:23<48:31,  4.04s/it]"
     ]
    },
    {
     "name": "stdout",
     "output_type": "stream",
     "text": [
      "tensor([[3.49101e+02, 2.55359e+02, 4.68448e+02, 3.73522e+02, 2.04445e-01, 0.00000e+00],\n",
      "        [1.34022e+02, 1.20204e+02, 2.58180e+02, 3.89076e+02, 2.00734e-01, 0.00000e+00],\n",
      "        [3.21703e+02, 9.43577e+01, 4.08838e+02, 2.54936e+02, 1.27823e-01, 0.00000e+00]])\n"
     ]
    },
    {
     "name": "stderr",
     "output_type": "stream",
     "text": [
      "\r",
      " 16%|████████████▉                                                                   | 139/859 [09:28<49:33,  4.13s/it]"
     ]
    },
    {
     "name": "stdout",
     "output_type": "stream",
     "text": [
      "tensor([[2.70485e+02, 9.95912e+01, 3.99473e+02, 4.16858e+02, 2.72856e-01, 0.00000e+00],\n",
      "        [7.43760e+01, 1.18956e+02, 1.96919e+02, 4.17699e+02, 2.57670e-01, 0.00000e+00],\n",
      "        [3.21536e+02, 3.27036e+02, 4.00807e+02, 4.19617e+02, 1.92611e-01, 0.00000e+00]])\n"
     ]
    },
    {
     "name": "stderr",
     "output_type": "stream",
     "text": [
      "\r",
      " 16%|█████████████                                                                   | 140/859 [09:32<50:09,  4.19s/it]"
     ]
    },
    {
     "name": "stdout",
     "output_type": "stream",
     "text": [
      "tensor([[8.71440e+01, 7.29570e+01, 2.31370e+02, 3.37431e+02, 3.18400e-01, 0.00000e+00],\n",
      "        [3.16292e+02, 9.13686e+01, 4.48468e+02, 3.34817e+02, 2.28861e-01, 0.00000e+00]])\n"
     ]
    },
    {
     "name": "stderr",
     "output_type": "stream",
     "text": [
      "\r",
      " 16%|█████████████▏                                                                  | 141/859 [09:36<50:43,  4.24s/it]"
     ]
    },
    {
     "name": "stdout",
     "output_type": "stream",
     "text": [
      "tensor([[1.29352e+02, 1.28306e+02, 2.60893e+02, 3.78511e+02, 3.12893e-01, 0.00000e+00],\n",
      "        [3.42695e+02, 1.00743e+02, 4.99221e+02, 3.90271e+02, 1.27659e-01, 0.00000e+00]])\n"
     ]
    },
    {
     "name": "stderr",
     "output_type": "stream",
     "text": [
      "\r",
      " 17%|█████████████▏                                                                  | 142/859 [09:41<51:12,  4.28s/it]"
     ]
    },
    {
     "name": "stdout",
     "output_type": "stream",
     "text": [
      "tensor([[1.15987e+02, 2.18380e+02, 2.25566e+02, 3.35843e+02, 2.62097e-01, 0.00000e+00],\n",
      "        [3.10737e+02, 2.05657e+02, 4.25414e+02, 3.73093e+02, 2.23743e-01, 0.00000e+00]])\n"
     ]
    },
    {
     "name": "stderr",
     "output_type": "stream",
     "text": [
      "\r",
      " 17%|█████████████▎                                                                  | 143/859 [09:45<51:10,  4.29s/it]"
     ]
    },
    {
     "name": "stdout",
     "output_type": "stream",
     "text": [
      "tensor([[4.63702e+01, 1.00067e+02, 2.11894e+02, 4.16899e+02, 3.79817e-01, 0.00000e+00],\n",
      "        [3.62143e+02, 2.09430e+02, 4.52096e+02, 3.35679e+02, 2.24088e-01, 0.00000e+00]])\n"
     ]
    },
    {
     "name": "stderr",
     "output_type": "stream",
     "text": [
      "\r",
      " 17%|█████████████▍                                                                  | 144/859 [09:49<51:09,  4.29s/it]"
     ]
    },
    {
     "name": "stdout",
     "output_type": "stream",
     "text": [
      "tensor([[1.14192e+02, 1.40871e+02, 2.28500e+02, 3.49140e+02, 1.88908e-01, 0.00000e+00],\n",
      "        [3.02815e+02, 1.65346e+02, 4.08626e+02, 3.52300e+02, 1.19285e-01, 0.00000e+00]])\n"
     ]
    },
    {
     "name": "stderr",
     "output_type": "stream",
     "text": [
      "\r",
      " 17%|█████████████▌                                                                  | 145/859 [09:54<51:33,  4.33s/it]"
     ]
    },
    {
     "name": "stdout",
     "output_type": "stream",
     "text": [
      "tensor([[2.80056e+02, 2.44253e+02, 4.14040e+02, 4.13522e+02, 2.21765e-01, 0.00000e+00],\n",
      "        [7.48995e+01, 2.59106e+02, 1.93351e+02, 4.04756e+02, 2.05399e-01, 0.00000e+00]])\n"
     ]
    },
    {
     "name": "stderr",
     "output_type": "stream",
     "text": [
      "\r",
      " 17%|█████████████▌                                                                  | 146/859 [09:58<51:12,  4.31s/it]"
     ]
    },
    {
     "name": "stdout",
     "output_type": "stream",
     "text": [
      "tensor([[9.66286e+01, 7.89760e+01, 2.15789e+02, 3.22307e+02, 2.60791e-01, 0.00000e+00],\n",
      "        [3.01765e+02, 5.93959e+01, 4.19282e+02, 2.76357e+02, 1.84457e-01, 0.00000e+00]])\n"
     ]
    },
    {
     "name": "stderr",
     "output_type": "stream",
     "text": [
      "\r",
      " 17%|█████████████▋                                                                  | 147/859 [10:02<50:34,  4.26s/it]"
     ]
    },
    {
     "name": "stdout",
     "output_type": "stream",
     "text": [
      "tensor([[8.41960e+01, 9.78811e+01, 1.94208e+02, 2.72779e+02, 3.13928e-01, 0.00000e+00],\n",
      "        [2.99022e+02, 1.12647e+02, 4.11280e+02, 3.21798e+02, 2.22024e-01, 0.00000e+00]])\n"
     ]
    },
    {
     "name": "stderr",
     "output_type": "stream",
     "text": [
      "\r",
      " 17%|█████████████▊                                                                  | 148/859 [10:06<49:37,  4.19s/it]"
     ]
    },
    {
     "name": "stdout",
     "output_type": "stream",
     "text": [
      "tensor([[2.34981e+02, 1.15810e+02, 4.18183e+02, 3.84994e+02, 2.74276e-01, 0.00000e+00],\n",
      "        [1.46037e+02, 1.68375e+02, 3.04137e+02, 4.73503e+02, 1.45037e-01, 0.00000e+00],\n",
      "        [6.58410e+01, 2.01915e+02, 2.09768e+02, 4.01190e+02, 1.25224e-01, 0.00000e+00]])\n"
     ]
    },
    {
     "name": "stderr",
     "output_type": "stream",
     "text": [
      "\r",
      " 17%|█████████████▉                                                                  | 149/859 [10:10<48:48,  4.12s/it]"
     ]
    },
    {
     "name": "stdout",
     "output_type": "stream",
     "text": [
      "tensor([[2.55600e+02, 1.13665e+02, 4.07698e+02, 4.60670e+02, 2.52831e-01, 0.00000e+00],\n",
      "        [2.83529e+01, 1.16935e+02, 1.93622e+02, 5.03280e+02, 1.52473e-01, 0.00000e+00]])\n"
     ]
    },
    {
     "name": "stderr",
     "output_type": "stream",
     "text": [
      "\r",
      " 17%|█████████████▉                                                                  | 150/859 [10:14<48:26,  4.10s/it]"
     ]
    },
    {
     "name": "stdout",
     "output_type": "stream",
     "text": [
      "tensor([[4.00588e+01, 6.23346e+01, 1.81958e+02, 3.60720e+02, 2.60669e-01, 0.00000e+00],\n",
      "        [2.65836e+02, 8.04550e+01, 4.24212e+02, 4.30716e+02, 1.42910e-01, 0.00000e+00]])\n"
     ]
    },
    {
     "name": "stderr",
     "output_type": "stream",
     "text": [
      "\r",
      " 18%|██████████████                                                                  | 151/859 [10:19<48:45,  4.13s/it]"
     ]
    },
    {
     "name": "stdout",
     "output_type": "stream",
     "text": [
      "tensor([[3.15137e+02, 1.22921e+02, 4.54547e+02, 4.82353e+02, 3.02857e-01, 0.00000e+00],\n",
      "        [6.07745e+01, 1.06423e+02, 2.15840e+02, 4.12500e+02, 2.43730e-01, 0.00000e+00]])\n"
     ]
    },
    {
     "name": "stderr",
     "output_type": "stream",
     "text": [
      "\r",
      " 18%|██████████████▏                                                                 | 152/859 [10:23<48:28,  4.11s/it]"
     ]
    },
    {
     "name": "stdout",
     "output_type": "stream",
     "text": [
      "tensor([[3.05572e+02, 6.23997e+01, 4.32521e+02, 3.43311e+02, 2.99327e-01, 0.00000e+00],\n",
      "        [7.52325e+01, 2.78763e+01, 2.13067e+02, 3.13931e+02, 2.79146e-01, 0.00000e+00]])\n"
     ]
    },
    {
     "name": "stderr",
     "output_type": "stream",
     "text": [
      "\r",
      " 18%|██████████████▏                                                                 | 153/859 [10:27<48:17,  4.10s/it]"
     ]
    },
    {
     "name": "stdout",
     "output_type": "stream",
     "text": [
      "tensor([[6.27118e+01, 6.22606e+01, 1.77970e+02, 2.88125e+02, 3.92742e-01, 0.00000e+00],\n",
      "        [2.92410e+02, 7.86471e+01, 4.16846e+02, 3.04341e+02, 3.22866e-01, 0.00000e+00]])\n"
     ]
    },
    {
     "name": "stderr",
     "output_type": "stream",
     "text": [
      "\r",
      " 18%|██████████████▎                                                                 | 154/859 [10:31<48:10,  4.10s/it]"
     ]
    },
    {
     "name": "stdout",
     "output_type": "stream",
     "text": [
      "tensor([[3.18275e+00, 1.12692e+02, 1.42176e+02, 4.29618e+02, 3.25271e-01, 0.00000e+00],\n",
      "        [2.21556e+02, 1.51158e+02, 3.57782e+02, 4.15230e+02, 1.65483e-01, 0.00000e+00]])\n"
     ]
    },
    {
     "name": "stderr",
     "output_type": "stream",
     "text": [
      "\r",
      " 18%|██████████████▍                                                                 | 155/859 [10:35<48:29,  4.13s/it]"
     ]
    },
    {
     "name": "stdout",
     "output_type": "stream",
     "text": [
      "tensor([[2.90724e+02, 8.17400e+01, 4.76633e+02, 4.00144e+02, 4.29875e-01, 0.00000e+00],\n",
      "        [7.75202e+01, 9.38927e+01, 2.32807e+02, 4.09819e+02, 3.86917e-01, 0.00000e+00]])\n"
     ]
    },
    {
     "name": "stderr",
     "output_type": "stream",
     "text": [
      "\r",
      " 18%|██████████████▌                                                                 | 156/859 [10:39<49:10,  4.20s/it]"
     ]
    },
    {
     "name": "stdout",
     "output_type": "stream",
     "text": [
      "tensor([[5.56630e+01, 9.23568e+01, 1.86868e+02, 3.33700e+02, 3.31051e-01, 0.00000e+00],\n",
      "        [3.44668e+02, 1.26575e+02, 4.72667e+02, 3.62046e+02, 2.86818e-01, 0.00000e+00]])\n"
     ]
    },
    {
     "name": "stderr",
     "output_type": "stream",
     "text": [
      "\r",
      " 18%|██████████████▌                                                                 | 157/859 [10:44<49:25,  4.22s/it]"
     ]
    },
    {
     "name": "stdout",
     "output_type": "stream",
     "text": [
      "tensor([[5.59722e+01, 8.24189e+01, 2.07710e+02, 3.91952e+02, 2.97395e-01, 0.00000e+00],\n",
      "        [2.93323e+02, 1.01186e+02, 4.30099e+02, 3.76236e+02, 2.94044e-01, 0.00000e+00]])\n"
     ]
    },
    {
     "name": "stderr",
     "output_type": "stream",
     "text": [
      "\r",
      " 18%|██████████████▋                                                                 | 158/859 [10:48<49:19,  4.22s/it]"
     ]
    },
    {
     "name": "stdout",
     "output_type": "stream",
     "text": [
      "tensor([[1.04671e+01, 1.34591e+02, 1.91724e+02, 4.36130e+02, 2.05419e-01, 0.00000e+00],\n",
      "        [2.78160e+02, 2.54620e+02, 4.20774e+02, 4.48842e+02, 1.69864e-01, 0.00000e+00]])\n"
     ]
    },
    {
     "name": "stderr",
     "output_type": "stream",
     "text": [
      "\r",
      " 19%|██████████████▊                                                                 | 159/859 [10:52<48:48,  4.18s/it]"
     ]
    },
    {
     "name": "stdout",
     "output_type": "stream",
     "text": [
      "tensor([[1.64095e+02, 1.48577e+02, 2.80962e+02, 3.74582e+02, 2.21215e-01, 0.00000e+00],\n",
      "        [3.49095e+02, 1.48910e+02, 4.82504e+02, 4.70595e+02, 1.30897e-01, 0.00000e+00]])\n"
     ]
    },
    {
     "name": "stderr",
     "output_type": "stream",
     "text": [
      "\r",
      " 19%|██████████████▉                                                                 | 160/859 [10:56<48:37,  4.17s/it]"
     ]
    },
    {
     "name": "stdout",
     "output_type": "stream",
     "text": [
      "tensor([[6.82871e+01, 3.31084e+02, 1.79801e+02, 4.79192e+02, 2.32144e-01, 0.00000e+00],\n",
      "        [2.94716e+02, 2.00987e+02, 4.39163e+02, 4.25343e+02, 2.02087e-01, 0.00000e+00]])\n"
     ]
    },
    {
     "name": "stderr",
     "output_type": "stream",
     "text": [
      "\r",
      " 19%|██████████████▉                                                                 | 161/859 [11:00<48:17,  4.15s/it]"
     ]
    },
    {
     "name": "stdout",
     "output_type": "stream",
     "text": [
      "tensor([[301.17041,  79.20996, 428.85999, 309.58401,   0.70745,   0.00000],\n",
      "        [ 87.85029,  84.15369, 225.95001, 281.34760,   0.64550,   0.00000]])\n"
     ]
    },
    {
     "name": "stderr",
     "output_type": "stream",
     "text": [
      "\r",
      " 19%|███████████████                                                                 | 162/859 [11:04<48:04,  4.14s/it]"
     ]
    },
    {
     "name": "stdout",
     "output_type": "stream",
     "text": [
      "tensor([[3.83687e+02, 1.60390e+02, 4.91200e+02, 3.50084e+02, 3.62852e-01, 0.00000e+00],\n",
      "        [1.67743e+02, 8.51557e+01, 2.86748e+02, 2.86101e+02, 2.82507e-01, 0.00000e+00]])\n"
     ]
    },
    {
     "name": "stderr",
     "output_type": "stream",
     "text": [
      "\r",
      " 19%|███████████████▏                                                                | 163/859 [11:08<47:44,  4.12s/it]"
     ]
    },
    {
     "name": "stdout",
     "output_type": "stream",
     "text": [
      "tensor([[8.90129e+01, 1.39344e+02, 2.25956e+02, 3.59601e+02, 2.30033e-01, 0.00000e+00],\n",
      "        [3.31623e+02, 1.60259e+02, 4.60288e+02, 3.71202e+02, 1.75410e-01, 0.00000e+00]])\n"
     ]
    },
    {
     "name": "stderr",
     "output_type": "stream",
     "text": [
      "\r",
      " 19%|███████████████▎                                                                | 164/859 [11:12<47:20,  4.09s/it]"
     ]
    },
    {
     "name": "stdout",
     "output_type": "stream",
     "text": [
      "tensor([[3.55317e+02, 6.40434e+01, 4.80921e+02, 3.63305e+02, 2.57471e-01, 0.00000e+00],\n",
      "        [1.11374e+02, 7.01103e+01, 2.41697e+02, 3.44024e+02, 2.50494e-01, 0.00000e+00]])\n"
     ]
    },
    {
     "name": "stderr",
     "output_type": "stream",
     "text": [
      "\r",
      " 19%|███████████████▎                                                                | 165/859 [11:16<47:00,  4.06s/it]"
     ]
    },
    {
     "name": "stdout",
     "output_type": "stream",
     "text": [
      "tensor([[3.44877e+02, 1.79953e+02, 4.63221e+02, 4.16480e+02, 2.88289e-01, 0.00000e+00],\n",
      "        [1.08431e+02, 1.34266e+02, 2.25268e+02, 3.97561e+02, 2.85072e-01, 0.00000e+00]])\n"
     ]
    },
    {
     "name": "stderr",
     "output_type": "stream",
     "text": [
      "\r",
      " 19%|███████████████▍                                                                | 166/859 [11:20<46:53,  4.06s/it]"
     ]
    },
    {
     "name": "stdout",
     "output_type": "stream",
     "text": [
      "tensor([[3.30858e+02, 3.86230e+01, 4.98446e+02, 3.93052e+02, 2.95408e-01, 0.00000e+00],\n",
      "        [1.34359e+02, 1.11459e+02, 2.79303e+02, 4.08222e+02, 1.88623e-01, 0.00000e+00]])\n"
     ]
    },
    {
     "name": "stderr",
     "output_type": "stream",
     "text": [
      "\r",
      " 19%|███████████████▌                                                                | 167/859 [11:25<46:58,  4.07s/it]"
     ]
    },
    {
     "name": "stdout",
     "output_type": "stream",
     "text": [
      "tensor([[5.50952e+01, 1.21633e+02, 1.84637e+02, 4.33014e+02, 3.33775e-01, 0.00000e+00],\n",
      "        [2.58281e+02, 7.93098e+01, 4.22481e+02, 4.43785e+02, 3.05606e-01, 0.00000e+00]])\n"
     ]
    },
    {
     "name": "stderr",
     "output_type": "stream",
     "text": [
      "\r",
      " 20%|███████████████▋                                                                | 168/859 [11:29<46:39,  4.05s/it]"
     ]
    },
    {
     "name": "stdout",
     "output_type": "stream",
     "text": [
      "tensor([[4.89347e+01, 2.94096e+01, 2.05361e+02, 2.98304e+02, 4.66620e-01, 0.00000e+00],\n",
      "        [2.88672e+02, 7.39737e+01, 4.32544e+02, 3.10321e+02, 3.50325e-01, 0.00000e+00]])\n"
     ]
    },
    {
     "name": "stderr",
     "output_type": "stream",
     "text": [
      "\r",
      " 20%|███████████████▋                                                                | 169/859 [11:33<46:21,  4.03s/it]"
     ]
    },
    {
     "name": "stdout",
     "output_type": "stream",
     "text": [
      "tensor([[4.38190e+01, 3.90677e+01, 1.85081e+02, 3.17360e+02, 2.09011e-01, 0.00000e+00],\n",
      "        [2.77501e+02, 7.29117e+01, 4.10772e+02, 3.53854e+02, 1.94472e-01, 0.00000e+00]])\n"
     ]
    },
    {
     "name": "stderr",
     "output_type": "stream",
     "text": [
      "\r",
      " 20%|███████████████▊                                                                | 170/859 [11:37<46:08,  4.02s/it]"
     ]
    },
    {
     "name": "stdout",
     "output_type": "stream",
     "text": [
      "tensor([[5.95558e+01, 8.23557e+01, 2.52034e+02, 4.44453e+02, 4.79258e-01, 0.00000e+00],\n",
      "        [3.04387e+02, 2.11523e+02, 4.39744e+02, 4.86630e+02, 2.25028e-01, 0.00000e+00]])\n"
     ]
    },
    {
     "name": "stderr",
     "output_type": "stream",
     "text": [
      "\r",
      " 20%|███████████████▉                                                                | 171/859 [11:40<45:52,  4.00s/it]"
     ]
    },
    {
     "name": "stdout",
     "output_type": "stream",
     "text": [
      "tensor([[1.56587e+02, 1.43249e+02, 2.74090e+02, 3.77830e+02, 2.49690e-01, 0.00000e+00],\n",
      "        [3.57084e+02, 2.04048e+02, 4.76959e+02, 4.33755e+02, 1.76481e-01, 0.00000e+00]])\n"
     ]
    },
    {
     "name": "stderr",
     "output_type": "stream",
     "text": [
      "\r",
      " 20%|████████████████                                                                | 172/859 [11:45<46:17,  4.04s/it]"
     ]
    },
    {
     "name": "stdout",
     "output_type": "stream",
     "text": [
      "tensor([[1.19991e+02, 7.20822e+01, 2.49420e+02, 3.45705e+02, 3.72962e-01, 0.00000e+00],\n",
      "        [3.20183e+02, 7.20685e+01, 4.44281e+02, 3.57174e+02, 2.25473e-01, 0.00000e+00]])\n"
     ]
    },
    {
     "name": "stderr",
     "output_type": "stream",
     "text": [
      "\r",
      " 20%|████████████████                                                                | 173/859 [11:49<46:14,  4.04s/it]"
     ]
    },
    {
     "name": "stdout",
     "output_type": "stream",
     "text": [
      "tensor([[6.01868e+01, 1.27876e+02, 2.12617e+02, 3.65815e+02, 4.92593e-01, 0.00000e+00],\n",
      "        [2.76631e+02, 1.24740e+02, 4.29477e+02, 4.38560e+02, 2.88562e-01, 0.00000e+00]])\n"
     ]
    },
    {
     "name": "stderr",
     "output_type": "stream",
     "text": [
      "\r",
      " 20%|████████████████▏                                                               | 174/859 [11:53<46:25,  4.07s/it]"
     ]
    },
    {
     "name": "stdout",
     "output_type": "stream",
     "text": [
      "tensor([[2.91550e+02, 1.48049e+02, 4.11289e+02, 3.71758e+02, 2.38819e-01, 0.00000e+00],\n",
      "        [1.02642e+02, 1.99368e+02, 2.10116e+02, 3.82128e+02, 2.20220e-01, 0.00000e+00]])\n"
     ]
    },
    {
     "name": "stderr",
     "output_type": "stream",
     "text": [
      "\r",
      " 20%|████████████████▎                                                               | 175/859 [11:57<46:34,  4.09s/it]"
     ]
    },
    {
     "name": "stdout",
     "output_type": "stream",
     "text": [
      "tensor([[6.83306e+01, 1.97132e+02, 1.96647e+02, 4.28829e+02, 2.30762e-01, 0.00000e+00],\n",
      "        [2.76155e+02, 1.36263e+02, 3.89999e+02, 4.40568e+02, 1.68433e-01, 0.00000e+00]])\n"
     ]
    },
    {
     "name": "stderr",
     "output_type": "stream",
     "text": [
      "\r",
      " 20%|████████████████▍                                                               | 176/859 [12:01<46:45,  4.11s/it]"
     ]
    },
    {
     "name": "stdout",
     "output_type": "stream",
     "text": [
      "tensor([[3.30270e+02, 6.66553e+01, 4.82469e+02, 2.93025e+02, 4.18152e-01, 0.00000e+00],\n",
      "        [1.27903e+02, 6.17685e+01, 2.58352e+02, 2.77196e+02, 4.07006e-01, 0.00000e+00]])\n"
     ]
    },
    {
     "name": "stderr",
     "output_type": "stream",
     "text": [
      "\r",
      " 21%|████████████████▍                                                               | 177/859 [12:05<46:35,  4.10s/it]"
     ]
    },
    {
     "name": "stdout",
     "output_type": "stream",
     "text": [
      "tensor([[8.91797e+01, 2.06086e+02, 1.91566e+02, 3.58004e+02, 2.26322e-01, 0.00000e+00],\n",
      "        [3.35825e+02, 2.24819e+02, 4.26840e+02, 3.59038e+02, 1.07872e-01, 0.00000e+00]])\n"
     ]
    },
    {
     "name": "stderr",
     "output_type": "stream",
     "text": [
      "\r",
      " 21%|████████████████▌                                                               | 178/859 [12:09<46:28,  4.10s/it]"
     ]
    },
    {
     "name": "stdout",
     "output_type": "stream",
     "text": [
      "tensor([[3.18764e+02, 5.23962e+01, 4.63856e+02, 3.72564e+02, 2.79006e-01, 0.00000e+00],\n",
      "        [5.88414e+01, 4.68655e+01, 2.28931e+02, 3.84594e+02, 2.55580e-01, 0.00000e+00]])\n"
     ]
    },
    {
     "name": "stderr",
     "output_type": "stream",
     "text": [
      "\r",
      " 21%|████████████████▋                                                               | 179/859 [12:13<46:00,  4.06s/it]"
     ]
    },
    {
     "name": "stdout",
     "output_type": "stream",
     "text": [
      "tensor([[8.63943e+01, 1.99852e+02, 2.07328e+02, 3.86995e+02, 2.54969e-01, 0.00000e+00],\n",
      "        [2.85003e+02, 1.57345e+02, 4.05932e+02, 4.51146e+02, 2.53132e-01, 0.00000e+00]])\n"
     ]
    },
    {
     "name": "stderr",
     "output_type": "stream",
     "text": [
      "\r",
      " 21%|████████████████▊                                                               | 180/859 [12:17<45:45,  4.04s/it]"
     ]
    },
    {
     "name": "stdout",
     "output_type": "stream",
     "text": [
      "tensor([[9.26334e+01, 1.26184e+02, 2.18291e+02, 3.62782e+02, 3.56532e-01, 0.00000e+00],\n",
      "        [2.97708e+02, 1.29117e+02, 4.09943e+02, 3.67540e+02, 3.54345e-01, 0.00000e+00]])\n"
     ]
    },
    {
     "name": "stderr",
     "output_type": "stream",
     "text": [
      "\r",
      " 21%|████████████████▊                                                               | 181/859 [12:21<45:40,  4.04s/it]"
     ]
    },
    {
     "name": "stdout",
     "output_type": "stream",
     "text": [
      "tensor([[1.15968e+02, 8.57421e+01, 2.42732e+02, 4.36305e+02, 2.89794e-01, 0.00000e+00],\n",
      "        [2.89752e+02, 7.68414e+01, 4.35621e+02, 4.25972e+02, 2.79978e-01, 0.00000e+00]])\n"
     ]
    },
    {
     "name": "stderr",
     "output_type": "stream",
     "text": [
      "\r",
      " 21%|████████████████▉                                                               | 182/859 [12:25<45:15,  4.01s/it]"
     ]
    },
    {
     "name": "stdout",
     "output_type": "stream",
     "text": [
      "tensor([[3.23267e+02, 2.61413e+02, 4.64636e+02, 4.63830e+02, 1.90890e-01, 0.00000e+00],\n",
      "        [5.58694e+01, 9.53378e+01, 2.16550e+02, 4.44510e+02, 1.60014e-01, 0.00000e+00]])\n"
     ]
    },
    {
     "name": "stderr",
     "output_type": "stream",
     "text": [
      "\r",
      " 21%|█████████████████                                                               | 183/859 [12:29<45:01,  4.00s/it]"
     ]
    },
    {
     "name": "stdout",
     "output_type": "stream",
     "text": [
      "tensor([[2.95691e+02, 7.42447e+01, 4.25364e+02, 3.30374e+02, 4.47732e-01, 0.00000e+00],\n",
      "        [9.73032e+01, 1.00831e+02, 2.26221e+02, 3.14447e+02, 4.02221e-01, 0.00000e+00]])\n"
     ]
    },
    {
     "name": "stderr",
     "output_type": "stream",
     "text": [
      "\r",
      " 21%|█████████████████▏                                                              | 184/859 [12:33<45:11,  4.02s/it]"
     ]
    },
    {
     "name": "stdout",
     "output_type": "stream",
     "text": [
      "tensor([[8.09416e+01, 1.40929e+02, 2.11342e+02, 3.66180e+02, 2.93149e-01, 0.00000e+00],\n",
      "        [3.01495e+02, 1.39098e+02, 4.29540e+02, 3.67958e+02, 2.85625e-01, 0.00000e+00]])\n"
     ]
    },
    {
     "name": "stderr",
     "output_type": "stream",
     "text": [
      "\r",
      " 22%|█████████████████▏                                                              | 185/859 [12:37<45:11,  4.02s/it]"
     ]
    },
    {
     "name": "stdout",
     "output_type": "stream",
     "text": [
      "tensor([[3.83040e+01, 1.09201e+02, 1.75908e+02, 3.90438e+02, 3.58871e-01, 0.00000e+00],\n",
      "        [3.83232e+02, 1.13829e+02, 4.99543e+02, 3.86097e+02, 3.21282e-01, 0.00000e+00]])\n"
     ]
    },
    {
     "name": "stderr",
     "output_type": "stream",
     "text": [
      "\r",
      " 22%|█████████████████▎                                                              | 186/859 [12:41<45:25,  4.05s/it]"
     ]
    },
    {
     "name": "stdout",
     "output_type": "stream",
     "text": [
      "tensor([[7.34485e+01, 8.39449e+01, 2.06839e+02, 3.28821e+02, 3.27828e-01, 0.00000e+00],\n",
      "        [3.06753e+02, 7.47657e+01, 4.41167e+02, 3.52787e+02, 2.76670e-01, 0.00000e+00],\n",
      "        [3.01075e+02, 4.40255e+01, 3.84753e+02, 1.24143e+02, 1.24258e-01, 0.00000e+00]])\n"
     ]
    },
    {
     "name": "stderr",
     "output_type": "stream",
     "text": [
      "\r",
      " 22%|█████████████████▍                                                              | 187/859 [12:45<45:22,  4.05s/it]"
     ]
    },
    {
     "name": "stdout",
     "output_type": "stream",
     "text": [
      "tensor([[9.58013e+01, 6.66167e+01, 2.33164e+02, 3.18789e+02, 3.89680e-01, 0.00000e+00],\n",
      "        [2.94135e+02, 5.72882e+01, 4.23068e+02, 3.52416e+02, 3.79158e-01, 0.00000e+00]])\n"
     ]
    },
    {
     "name": "stderr",
     "output_type": "stream",
     "text": [
      "\r",
      " 22%|█████████████████▌                                                              | 188/859 [12:49<44:47,  4.01s/it]"
     ]
    },
    {
     "name": "stdout",
     "output_type": "stream",
     "text": [
      "tensor([[2.78738e+02, 1.22315e+02, 3.97515e+02, 3.65661e+02, 3.00091e-01, 0.00000e+00],\n",
      "        [1.11426e+02, 1.49431e+02, 2.19223e+02, 3.77687e+02, 1.50088e-01, 0.00000e+00]])\n"
     ]
    },
    {
     "name": "stderr",
     "output_type": "stream",
     "text": [
      "\r",
      " 22%|█████████████████▌                                                              | 189/859 [12:53<44:54,  4.02s/it]"
     ]
    },
    {
     "name": "stdout",
     "output_type": "stream",
     "text": [
      "tensor([[7.96883e+01, 5.05439e+01, 2.46744e+02, 3.95033e+02, 2.69702e-01, 0.00000e+00],\n",
      "        [2.77580e+02, 5.40080e+01, 4.41439e+02, 3.58803e+02, 1.67893e-01, 0.00000e+00]])\n"
     ]
    },
    {
     "name": "stderr",
     "output_type": "stream",
     "text": [
      "\r",
      " 22%|█████████████████▋                                                              | 190/859 [12:57<44:52,  4.02s/it]"
     ]
    },
    {
     "name": "stdout",
     "output_type": "stream",
     "text": [
      "tensor([[1.03461e+02, 9.23241e+01, 2.19085e+02, 3.26627e+02, 2.21042e-01, 0.00000e+00],\n",
      "        [3.22360e+02, 2.15859e+02, 4.06276e+02, 3.07131e+02, 1.04436e-01, 0.00000e+00]])\n"
     ]
    },
    {
     "name": "stderr",
     "output_type": "stream",
     "text": [
      "\r",
      " 22%|█████████████████▊                                                              | 191/859 [13:01<44:26,  3.99s/it]"
     ]
    },
    {
     "name": "stdout",
     "output_type": "stream",
     "text": [
      "tensor([[2.96413e+02, 4.75624e+01, 4.40600e+02, 3.45057e+02, 2.86151e-01, 0.00000e+00],\n",
      "        [8.94177e+01, 2.65694e+01, 2.35967e+02, 3.18064e+02, 2.81363e-01, 0.00000e+00]])\n"
     ]
    },
    {
     "name": "stderr",
     "output_type": "stream",
     "text": [
      "\r",
      " 22%|█████████████████▉                                                              | 192/859 [13:05<44:24,  3.99s/it]"
     ]
    },
    {
     "name": "stdout",
     "output_type": "stream",
     "text": [
      "tensor([[4.70157e+01, 1.41187e+02, 1.95320e+02, 4.45449e+02, 4.36783e-01, 0.00000e+00],\n",
      "        [2.83881e+02, 1.39309e+02, 4.36098e+02, 4.50331e+02, 3.06245e-01, 0.00000e+00]])\n"
     ]
    },
    {
     "name": "stderr",
     "output_type": "stream",
     "text": [
      "\r",
      " 22%|█████████████████▉                                                              | 193/859 [13:09<44:08,  3.98s/it]"
     ]
    },
    {
     "name": "stdout",
     "output_type": "stream",
     "text": [
      "tensor([[ 86.73019, 132.08794, 227.65421, 374.92340,   0.54227,   0.00000],\n",
      "        [336.78586, 110.80026, 488.61801, 371.45947,   0.49163,   0.00000]])\n"
     ]
    },
    {
     "name": "stderr",
     "output_type": "stream",
     "text": [
      "\r",
      " 23%|██████████████████                                                              | 194/859 [13:13<44:08,  3.98s/it]"
     ]
    },
    {
     "name": "stdout",
     "output_type": "stream",
     "text": [
      "tensor([[8.24203e+01, 2.66562e+02, 1.99425e+02, 4.73472e+02, 3.99692e-01, 0.00000e+00],\n",
      "        [2.93112e+02, 1.66411e+02, 4.38800e+02, 4.45533e+02, 2.46008e-01, 0.00000e+00]])\n"
     ]
    },
    {
     "name": "stderr",
     "output_type": "stream",
     "text": [
      "\r",
      " 23%|██████████████████▏                                                             | 195/859 [13:17<43:59,  3.98s/it]"
     ]
    },
    {
     "name": "stdout",
     "output_type": "stream",
     "text": [
      "tensor([[3.42136e+02, 8.26788e+01, 4.68245e+02, 3.59012e+02, 3.27113e-01, 0.00000e+00],\n",
      "        [1.28935e+02, 8.15446e+01, 2.41994e+02, 3.18885e+02, 3.16434e-01, 0.00000e+00]])\n"
     ]
    },
    {
     "name": "stderr",
     "output_type": "stream",
     "text": [
      "\r",
      " 23%|██████████████████▎                                                             | 196/859 [13:21<43:51,  3.97s/it]"
     ]
    },
    {
     "name": "stdout",
     "output_type": "stream",
     "text": [
      "tensor([[ 1.00616e+01, -1.53647e+00,  1.97974e+02,  3.26045e+02,  4.08001e-01,  0.00000e+00],\n",
      "        [ 2.43740e+02,  2.19556e+01,  3.83544e+02,  4.10031e+02,  2.45955e-01,  0.00000e+00]])\n"
     ]
    },
    {
     "name": "stderr",
     "output_type": "stream",
     "text": [
      "\r",
      " 23%|██████████████████▎                                                             | 197/859 [13:25<44:28,  4.03s/it]"
     ]
    },
    {
     "name": "stdout",
     "output_type": "stream",
     "text": [
      "tensor([[1.16404e+02, 7.84433e+01, 2.33499e+02, 3.41605e+02, 2.83364e-01, 0.00000e+00],\n",
      "        [2.61197e+02, 6.57621e+01, 3.88791e+02, 3.65023e+02, 1.00588e-01, 0.00000e+00]])\n"
     ]
    },
    {
     "name": "stderr",
     "output_type": "stream",
     "text": [
      "\r",
      " 23%|██████████████████▍                                                             | 198/859 [13:29<44:05,  4.00s/it]"
     ]
    },
    {
     "name": "stdout",
     "output_type": "stream",
     "text": [
      "tensor([[3.39614e+01, 7.85752e+01, 1.85256e+02, 3.24044e+02, 1.77403e-01, 0.00000e+00],\n",
      "        [2.82396e+02, 8.03218e+01, 4.03259e+02, 3.30747e+02, 1.07211e-01, 0.00000e+00]])\n"
     ]
    },
    {
     "name": "stderr",
     "output_type": "stream",
     "text": [
      "\r",
      " 23%|██████████████████▌                                                             | 199/859 [13:33<44:03,  4.00s/it]"
     ]
    },
    {
     "name": "stdout",
     "output_type": "stream",
     "text": [
      "tensor([[3.24737e+02, 1.73900e+02, 4.59337e+02, 4.43312e+02, 5.02164e-01, 0.00000e+00],\n",
      "        [7.54145e+01, 9.75394e+01, 2.52930e+02, 3.88777e+02, 4.00810e-01, 0.00000e+00]])\n"
     ]
    },
    {
     "name": "stderr",
     "output_type": "stream",
     "text": [
      "\r",
      " 23%|██████████████████▋                                                             | 200/859 [13:37<43:52,  4.00s/it]"
     ]
    },
    {
     "name": "stdout",
     "output_type": "stream",
     "text": [
      "tensor([[1.02984e+02, 1.98425e+02, 2.38536e+02, 4.46196e+02, 3.38480e-01, 0.00000e+00],\n",
      "        [3.40849e+02, 1.94892e+02, 4.81184e+02, 4.27639e+02, 1.51640e-01, 0.00000e+00]])\n"
     ]
    },
    {
     "name": "stderr",
     "output_type": "stream",
     "text": [
      "\r",
      " 23%|██████████████████▋                                                             | 201/859 [13:41<43:56,  4.01s/it]"
     ]
    },
    {
     "name": "stdout",
     "output_type": "stream",
     "text": [
      "tensor([[1.21721e+02, 9.16072e+01, 2.35071e+02, 3.07983e+02, 4.08149e-01, 0.00000e+00],\n",
      "        [2.99045e+02, 9.66898e+01, 4.05140e+02, 3.32914e+02, 1.33676e-01, 0.00000e+00]])\n"
     ]
    },
    {
     "name": "stderr",
     "output_type": "stream",
     "text": [
      "\r",
      " 24%|██████████████████▊                                                             | 202/859 [13:45<43:35,  3.98s/it]"
     ]
    },
    {
     "name": "stdout",
     "output_type": "stream",
     "text": [
      "tensor([[2.86752e+02, 1.67560e+02, 4.30651e+02, 4.38842e+02, 2.30407e-01, 0.00000e+00],\n",
      "        [4.36987e+01, 1.80043e+02, 2.02953e+02, 4.32603e+02, 1.77967e-01, 0.00000e+00]])\n"
     ]
    },
    {
     "name": "stderr",
     "output_type": "stream",
     "text": [
      "\r",
      " 24%|██████████████████▉                                                             | 203/859 [13:49<43:25,  3.97s/it]"
     ]
    },
    {
     "name": "stdout",
     "output_type": "stream",
     "text": [
      "tensor([[5.58829e+01, 9.29025e+01, 1.92856e+02, 3.48881e+02, 2.97907e-01, 0.00000e+00],\n",
      "        [2.85347e+02, 7.79622e+01, 4.02607e+02, 3.65651e+02, 1.71339e-01, 0.00000e+00],\n",
      "        [3.18468e+02, 3.25083e+02, 4.16852e+02, 4.10923e+02, 1.09188e-01, 0.00000e+00]])\n"
     ]
    },
    {
     "name": "stderr",
     "output_type": "stream",
     "text": [
      "\r",
      " 24%|██████████████████▉                                                             | 204/859 [13:53<43:35,  3.99s/it]"
     ]
    },
    {
     "name": "stdout",
     "output_type": "stream",
     "text": [
      "tensor([[5.63064e+01, 9.59766e+01, 1.87474e+02, 3.39563e+02, 2.34378e-01, 0.00000e+00],\n",
      "        [2.90236e+02, 1.69484e+02, 3.99531e+02, 3.62456e+02, 1.92328e-01, 0.00000e+00]])\n"
     ]
    },
    {
     "name": "stderr",
     "output_type": "stream",
     "text": [
      "\r",
      " 24%|███████████████████                                                             | 205/859 [13:57<43:10,  3.96s/it]"
     ]
    },
    {
     "name": "stdout",
     "output_type": "stream",
     "text": [
      "tensor([[9.12755e+01, 1.29480e+02, 2.27921e+02, 3.64482e+02, 2.91104e-01, 0.00000e+00],\n",
      "        [3.08137e+02, 1.26291e+02, 4.21694e+02, 4.01925e+02, 2.54505e-01, 0.00000e+00]])\n"
     ]
    },
    {
     "name": "stderr",
     "output_type": "stream",
     "text": [
      "\r",
      " 24%|███████████████████▏                                                            | 206/859 [14:01<43:19,  3.98s/it]"
     ]
    },
    {
     "name": "stdout",
     "output_type": "stream",
     "text": [
      "tensor([[2.93444e+01, 2.18470e+02, 1.63577e+02, 4.30578e+02, 2.92612e-01, 0.00000e+00],\n",
      "        [2.59932e+02, 2.88800e+02, 4.10901e+02, 4.32171e+02, 2.89494e-01, 0.00000e+00]])\n"
     ]
    },
    {
     "name": "stderr",
     "output_type": "stream",
     "text": [
      "\r",
      " 24%|███████████████████▎                                                            | 207/859 [14:05<43:09,  3.97s/it]"
     ]
    },
    {
     "name": "stdout",
     "output_type": "stream",
     "text": [
      "tensor([[9.94020e+01, 9.12096e+01, 2.34212e+02, 4.19764e+02, 2.51028e-01, 0.00000e+00],\n",
      "        [2.92336e+02, 8.66237e+01, 4.23013e+02, 4.49852e+02, 1.88872e-01, 0.00000e+00]])\n"
     ]
    },
    {
     "name": "stderr",
     "output_type": "stream",
     "text": [
      "\r",
      " 24%|███████████████████▎                                                            | 208/859 [14:09<43:00,  3.96s/it]"
     ]
    },
    {
     "name": "stdout",
     "output_type": "stream",
     "text": [
      "tensor([[8.58172e+01, 5.96316e+01, 2.16979e+02, 3.51859e+02, 3.46006e-01, 0.00000e+00],\n",
      "        [2.82720e+02, 7.29684e+01, 4.23204e+02, 3.62535e+02, 2.93039e-01, 0.00000e+00]])\n"
     ]
    },
    {
     "name": "stderr",
     "output_type": "stream",
     "text": [
      "\r",
      " 24%|███████████████████▍                                                            | 209/859 [14:13<43:06,  3.98s/it]"
     ]
    },
    {
     "name": "stdout",
     "output_type": "stream",
     "text": [
      "tensor([[2.76225e+02, 9.40823e+01, 4.03640e+02, 3.32989e+02, 4.98969e-01, 0.00000e+00],\n",
      "        [7.24466e+01, 8.33176e+01, 2.12135e+02, 3.14912e+02, 3.48295e-01, 0.00000e+00],\n",
      "        [2.53800e+02, 3.29544e+02, 3.51905e+02, 4.78714e+02, 1.14817e-01, 0.00000e+00]])\n"
     ]
    },
    {
     "name": "stderr",
     "output_type": "stream",
     "text": [
      "\r",
      " 24%|███████████████████▌                                                            | 210/859 [14:17<43:10,  3.99s/it]"
     ]
    },
    {
     "name": "stdout",
     "output_type": "stream",
     "text": [
      "tensor([[8.23433e+01, 1.60673e+02, 2.05085e+02, 4.19018e+02, 3.60206e-01, 0.00000e+00],\n",
      "        [3.24972e+02, 1.71387e+02, 4.73556e+02, 3.45385e+02, 1.35987e-01, 0.00000e+00]])\n"
     ]
    },
    {
     "name": "stderr",
     "output_type": "stream",
     "text": [
      "\r",
      " 25%|███████████████████▋                                                            | 211/859 [14:21<43:14,  4.00s/it]"
     ]
    },
    {
     "name": "stdout",
     "output_type": "stream",
     "text": [
      "tensor([[1.26300e+02, 9.27512e+01, 2.34800e+02, 2.52504e+02, 2.57464e-01, 0.00000e+00],\n",
      "        [2.80373e+02, 1.31661e+02, 3.74536e+02, 2.83019e+02, 2.50838e-01, 0.00000e+00]])\n"
     ]
    },
    {
     "name": "stderr",
     "output_type": "stream",
     "text": [
      "\r",
      " 25%|███████████████████▋                                                            | 212/859 [14:25<43:02,  3.99s/it]"
     ]
    },
    {
     "name": "stdout",
     "output_type": "stream",
     "text": [
      "tensor([[3.21374e+02, 1.45452e+02, 4.44698e+02, 3.50078e+02, 2.33075e-01, 0.00000e+00],\n",
      "        [1.04347e+02, 8.76523e+01, 2.32501e+02, 3.46663e+02, 2.30712e-01, 0.00000e+00]])\n"
     ]
    },
    {
     "name": "stderr",
     "output_type": "stream",
     "text": [
      "\r",
      " 25%|███████████████████▊                                                            | 213/859 [14:29<43:13,  4.02s/it]"
     ]
    },
    {
     "name": "stdout",
     "output_type": "stream",
     "text": [
      "tensor([[3.25091e+02, 1.13113e+02, 4.49085e+02, 4.06536e+02, 2.91122e-01, 0.00000e+00],\n",
      "        [9.67613e+01, 9.71181e+01, 2.36529e+02, 3.91177e+02, 2.54368e-01, 0.00000e+00]])\n"
     ]
    },
    {
     "name": "stderr",
     "output_type": "stream",
     "text": [
      "\r",
      " 25%|███████████████████▉                                                            | 214/859 [14:33<43:07,  4.01s/it]"
     ]
    },
    {
     "name": "stdout",
     "output_type": "stream",
     "text": [
      "tensor([[9.39054e+01, 8.11237e+01, 2.20225e+02, 4.23081e+02, 3.05968e-01, 0.00000e+00],\n",
      "        [3.20435e+02, 6.60285e+01, 4.74585e+02, 3.88167e+02, 2.57027e-01, 0.00000e+00]])\n"
     ]
    },
    {
     "name": "stderr",
     "output_type": "stream",
     "text": [
      "\r",
      " 25%|████████████████████                                                            | 215/859 [14:37<43:30,  4.05s/it]"
     ]
    },
    {
     "name": "stdout",
     "output_type": "stream",
     "text": [
      "tensor([[1.25128e+02, 1.25079e+02, 2.07231e+02, 2.88796e+02, 2.44938e-01, 0.00000e+00],\n",
      "        [3.32499e+02, 1.40025e+02, 4.57937e+02, 3.67572e+02, 2.04589e-01, 0.00000e+00]])\n"
     ]
    },
    {
     "name": "stderr",
     "output_type": "stream",
     "text": [
      "\r",
      " 25%|████████████████████                                                            | 216/859 [14:41<43:15,  4.04s/it]"
     ]
    },
    {
     "name": "stdout",
     "output_type": "stream",
     "text": [
      "tensor([[1.06951e+02, 1.50503e+02, 2.31317e+02, 3.70581e+02, 2.02605e-01, 0.00000e+00],\n",
      "        [3.03433e+02, 2.11794e+02, 4.45552e+02, 4.26835e+02, 1.90764e-01, 0.00000e+00]])\n"
     ]
    },
    {
     "name": "stderr",
     "output_type": "stream",
     "text": [
      "\r",
      " 25%|████████████████████▏                                                           | 217/859 [14:45<42:56,  4.01s/it]"
     ]
    },
    {
     "name": "stdout",
     "output_type": "stream",
     "text": [
      "tensor([[7.79289e+01, 4.86039e+01, 1.98131e+02, 3.01696e+02, 3.29627e-01, 0.00000e+00],\n",
      "        [2.86594e+02, 1.63191e+02, 4.01972e+02, 3.66278e+02, 1.17725e-01, 0.00000e+00]])\n"
     ]
    },
    {
     "name": "stderr",
     "output_type": "stream",
     "text": [
      "\r",
      " 25%|████████████████████▎                                                           | 218/859 [14:49<42:50,  4.01s/it]"
     ]
    },
    {
     "name": "stdout",
     "output_type": "stream",
     "text": [
      "tensor([[5.68569e+01, 1.22660e+02, 2.04586e+02, 4.17560e+02, 3.68756e-01, 0.00000e+00],\n",
      "        [2.85457e+02, 1.40584e+02, 4.08013e+02, 4.14349e+02, 2.72568e-01, 0.00000e+00]])\n"
     ]
    },
    {
     "name": "stderr",
     "output_type": "stream",
     "text": [
      "\r",
      " 25%|████████████████████▍                                                           | 219/859 [14:53<42:40,  4.00s/it]"
     ]
    },
    {
     "name": "stdout",
     "output_type": "stream",
     "text": [
      "tensor([[3.51560e+01, 7.41201e+01, 2.05041e+02, 3.50103e+02, 3.51861e-01, 0.00000e+00],\n",
      "        [3.02648e+02, 9.40531e+01, 4.42385e+02, 3.15135e+02, 2.40637e-01, 0.00000e+00]])\n"
     ]
    },
    {
     "name": "stderr",
     "output_type": "stream",
     "text": [
      "\r",
      " 26%|████████████████████▍                                                           | 220/859 [14:57<43:16,  4.06s/it]"
     ]
    },
    {
     "name": "stdout",
     "output_type": "stream",
     "text": [
      "tensor([[9.57678e+01, 1.20032e+02, 2.35007e+02, 3.83723e+02, 1.66591e-01, 0.00000e+00],\n",
      "        [3.31718e+02, 9.14260e+01, 4.76400e+02, 3.92306e+02, 1.33710e-01, 0.00000e+00]])\n"
     ]
    },
    {
     "name": "stderr",
     "output_type": "stream",
     "text": [
      "\r",
      " 26%|████████████████████▌                                                           | 221/859 [15:02<43:27,  4.09s/it]"
     ]
    },
    {
     "name": "stdout",
     "output_type": "stream",
     "text": [
      "tensor([[3.12350e+02, 2.93176e+02, 4.18337e+02, 4.23483e+02, 2.16734e-01, 0.00000e+00],\n",
      "        [9.50180e+01, 2.70489e+02, 2.18344e+02, 4.00419e+02, 2.14125e-01, 0.00000e+00]])\n"
     ]
    },
    {
     "name": "stderr",
     "output_type": "stream",
     "text": [
      "\r",
      " 26%|████████████████████▋                                                           | 222/859 [15:06<44:17,  4.17s/it]"
     ]
    },
    {
     "name": "stdout",
     "output_type": "stream",
     "text": [
      "tensor([[1.05970e+02, 4.74869e+01, 2.54908e+02, 2.79988e+02, 4.94781e-01, 0.00000e+00],\n",
      "        [3.30848e+02, 5.68292e+01, 4.45496e+02, 2.90070e+02, 3.33874e-01, 0.00000e+00]])\n"
     ]
    },
    {
     "name": "stderr",
     "output_type": "stream",
     "text": [
      "\r",
      " 26%|████████████████████▊                                                           | 223/859 [15:10<44:46,  4.22s/it]"
     ]
    },
    {
     "name": "stdout",
     "output_type": "stream",
     "text": [
      "tensor([[7.42856e+01, 7.97570e+01, 2.02293e+02, 3.54257e+02, 2.68167e-01, 0.00000e+00],\n",
      "        [2.80315e+02, 7.19488e+01, 4.31432e+02, 3.37739e+02, 2.49381e-01, 0.00000e+00]])\n"
     ]
    },
    {
     "name": "stderr",
     "output_type": "stream",
     "text": [
      "\r",
      " 26%|████████████████████▊                                                           | 224/859 [15:15<44:54,  4.24s/it]"
     ]
    },
    {
     "name": "stdout",
     "output_type": "stream",
     "text": [
      "tensor([[2.89164e+02, 8.27617e+01, 3.96773e+02, 2.63680e+02, 2.49500e-01, 0.00000e+00],\n",
      "        [8.92760e+01, 6.64032e+01, 1.95902e+02, 2.74134e+02, 2.36522e-01, 0.00000e+00]])\n"
     ]
    },
    {
     "name": "stderr",
     "output_type": "stream",
     "text": [
      "\r",
      " 26%|████████████████████▉                                                           | 225/859 [15:19<44:04,  4.17s/it]"
     ]
    },
    {
     "name": "stdout",
     "output_type": "stream",
     "text": [
      "tensor([[3.48668e+02, 2.11616e+02, 4.77516e+02, 4.82933e+02, 3.87525e-01, 0.00000e+00],\n",
      "        [9.68299e+01, 1.78839e+02, 2.57671e+02, 4.57020e+02, 3.82196e-01, 0.00000e+00]])\n"
     ]
    },
    {
     "name": "stderr",
     "output_type": "stream",
     "text": [
      "\r",
      " 26%|█████████████████████                                                           | 226/859 [15:23<43:48,  4.15s/it]"
     ]
    },
    {
     "name": "stdout",
     "output_type": "stream",
     "text": [
      "tensor([[2.76057e+02, 7.65853e+01, 4.17576e+02, 3.45350e+02, 5.34456e-01, 0.00000e+00],\n",
      "        [8.11700e+01, 8.82164e+01, 2.18586e+02, 2.81397e+02, 4.00143e-01, 0.00000e+00]])\n"
     ]
    },
    {
     "name": "stderr",
     "output_type": "stream",
     "text": [
      "\r",
      " 26%|█████████████████████▏                                                          | 227/859 [15:27<43:14,  4.10s/it]"
     ]
    },
    {
     "name": "stdout",
     "output_type": "stream",
     "text": [
      "tensor([[3.75657e+01, 1.13797e+02, 1.78504e+02, 3.90597e+02, 2.85513e-01, 0.00000e+00],\n",
      "        [2.71922e+02, 5.50900e+01, 4.53506e+02, 3.90840e+02, 2.57030e-01, 0.00000e+00]])\n"
     ]
    },
    {
     "name": "stderr",
     "output_type": "stream",
     "text": [
      "\r",
      " 27%|█████████████████████▏                                                          | 228/859 [15:31<42:29,  4.04s/it]"
     ]
    },
    {
     "name": "stdout",
     "output_type": "stream",
     "text": [
      "tensor([[2.59699e+01, 8.68197e+01, 1.39323e+02, 3.36583e+02, 3.53699e-01, 0.00000e+00],\n",
      "        [2.92722e+02, 2.12760e+02, 4.17272e+02, 4.10409e+02, 3.09030e-01, 0.00000e+00]])\n"
     ]
    },
    {
     "name": "stderr",
     "output_type": "stream",
     "text": [
      "\r",
      " 27%|█████████████████████▎                                                          | 229/859 [15:35<42:23,  4.04s/it]"
     ]
    },
    {
     "name": "stdout",
     "output_type": "stream",
     "text": [
      "tensor([[1.04477e+02, 8.89006e+01, 2.16826e+02, 3.27988e+02, 3.99913e-01, 0.00000e+00],\n",
      "        [2.74922e+02, 7.88275e+01, 3.80397e+02, 3.36090e+02, 3.38697e-01, 0.00000e+00]])\n"
     ]
    },
    {
     "name": "stderr",
     "output_type": "stream",
     "text": [
      "\r",
      " 27%|█████████████████████▍                                                          | 230/859 [15:39<41:55,  4.00s/it]"
     ]
    },
    {
     "name": "stdout",
     "output_type": "stream",
     "text": [
      "tensor([[3.26193e+02, 5.56300e+01, 4.71335e+02, 3.65595e+02, 3.69949e-01, 0.00000e+00],\n",
      "        [1.33691e+02, 4.05042e+01, 2.80180e+02, 3.11058e+02, 3.62689e-01, 0.00000e+00]])\n"
     ]
    },
    {
     "name": "stderr",
     "output_type": "stream",
     "text": [
      "\r",
      " 27%|█████████████████████▌                                                          | 231/859 [15:43<42:12,  4.03s/it]"
     ]
    },
    {
     "name": "stdout",
     "output_type": "stream",
     "text": [
      "tensor([[5.17844e+01, 7.30390e+01, 1.52751e+02, 3.21465e+02, 4.94256e-01, 0.00000e+00],\n",
      "        [3.30128e+02, 8.65779e+01, 4.14374e+02, 2.11264e+02, 3.99163e-01, 0.00000e+00]])\n"
     ]
    },
    {
     "name": "stderr",
     "output_type": "stream",
     "text": [
      "\r",
      " 27%|█████████████████████▌                                                          | 232/859 [15:47<42:11,  4.04s/it]"
     ]
    },
    {
     "name": "stdout",
     "output_type": "stream",
     "text": [
      "tensor([[8.28251e+01, 2.09526e+02, 2.27911e+02, 4.81771e+02, 2.78465e-01, 0.00000e+00],\n",
      "        [3.19143e+02, 2.47039e+02, 4.51666e+02, 4.85087e+02, 1.94660e-01, 0.00000e+00]])\n"
     ]
    },
    {
     "name": "stderr",
     "output_type": "stream",
     "text": [
      "\r",
      " 27%|█████████████████████▋                                                          | 233/859 [15:51<41:57,  4.02s/it]"
     ]
    },
    {
     "name": "stdout",
     "output_type": "stream",
     "text": [
      "tensor([[3.36950e+02, 5.02545e+01, 5.07285e+02, 4.82953e+02, 2.84730e-01, 0.00000e+00],\n",
      "        [1.23575e+02, 8.08907e+01, 2.81444e+02, 4.48068e+02, 2.47060e-01, 0.00000e+00]])\n"
     ]
    },
    {
     "name": "stderr",
     "output_type": "stream",
     "text": [
      "\r",
      " 27%|█████████████████████▊                                                          | 234/859 [15:55<41:48,  4.01s/it]"
     ]
    },
    {
     "name": "stdout",
     "output_type": "stream",
     "text": [
      "tensor([[3.83063e+02, 3.26031e+02, 5.05703e+02, 4.73312e+02, 1.60750e-01, 0.00000e+00],\n",
      "        [1.63564e+02, 2.15695e+02, 2.71973e+02, 4.21401e+02, 1.59562e-01, 0.00000e+00]])\n"
     ]
    },
    {
     "name": "stderr",
     "output_type": "stream",
     "text": [
      "\r",
      " 27%|█████████████████████▉                                                          | 235/859 [15:59<41:38,  4.00s/it]"
     ]
    },
    {
     "name": "stdout",
     "output_type": "stream",
     "text": [
      "tensor([[8.07987e+01, 1.21463e+02, 2.25660e+02, 3.79861e+02, 2.04438e-01, 0.00000e+00],\n",
      "        [3.13871e+02, 1.89512e+02, 4.39430e+02, 3.84041e+02, 1.78469e-01, 0.00000e+00]])\n"
     ]
    },
    {
     "name": "stderr",
     "output_type": "stream",
     "text": [
      "\r",
      " 27%|█████████████████████▉                                                          | 236/859 [16:03<41:54,  4.04s/it]"
     ]
    },
    {
     "name": "stdout",
     "output_type": "stream",
     "text": [
      "tensor([[7.10044e+01, 1.12128e+02, 2.14604e+02, 4.27698e+02, 1.51022e-01, 0.00000e+00],\n",
      "        [3.12153e+02, 1.48205e+02, 4.47219e+02, 4.31195e+02, 1.42707e-01, 0.00000e+00]])\n"
     ]
    },
    {
     "name": "stderr",
     "output_type": "stream",
     "text": [
      "\r",
      " 28%|██████████████████████                                                          | 237/859 [16:07<41:55,  4.04s/it]"
     ]
    },
    {
     "name": "stdout",
     "output_type": "stream",
     "text": [
      "tensor([[1.42029e+02, 1.41870e+02, 2.59767e+02, 3.59978e+02, 1.99115e-01, 0.00000e+00],\n",
      "        [3.78093e+02, 2.08618e+02, 4.73385e+02, 3.70566e+02, 1.91426e-01, 0.00000e+00]])\n"
     ]
    },
    {
     "name": "stderr",
     "output_type": "stream",
     "text": [
      "\r",
      " 28%|██████████████████████▏                                                         | 238/859 [16:11<41:29,  4.01s/it]"
     ]
    },
    {
     "name": "stdout",
     "output_type": "stream",
     "text": [
      "tensor([[8.83095e+01, 1.36095e+02, 2.45074e+02, 3.88433e+02, 4.24647e-01, 0.00000e+00],\n",
      "        [3.32806e+02, 1.15696e+02, 4.77898e+02, 4.37998e+02, 2.14117e-01, 0.00000e+00]])\n"
     ]
    },
    {
     "name": "stderr",
     "output_type": "stream",
     "text": [
      "\r",
      " 28%|██████████████████████▎                                                         | 239/859 [16:15<41:38,  4.03s/it]"
     ]
    },
    {
     "name": "stdout",
     "output_type": "stream",
     "text": [
      "tensor([[6.02040e+01, 1.85856e+02, 2.08762e+02, 3.27111e+02, 3.03582e-01, 0.00000e+00],\n",
      "        [3.15296e+02, 1.13099e+02, 4.25180e+02, 3.09425e+02, 2.66426e-01, 0.00000e+00]])\n"
     ]
    },
    {
     "name": "stderr",
     "output_type": "stream",
     "text": [
      "\r",
      " 28%|██████████████████████▎                                                         | 240/859 [16:19<41:40,  4.04s/it]"
     ]
    },
    {
     "name": "stdout",
     "output_type": "stream",
     "text": [
      "tensor([[2.93669e+02, 5.31172e+01, 4.45599e+02, 3.83899e+02, 2.41512e-01, 0.00000e+00],\n",
      "        [1.26887e+02, 5.30889e+01, 2.32988e+02, 2.07501e+02, 2.27610e-01, 0.00000e+00]])\n"
     ]
    },
    {
     "name": "stderr",
     "output_type": "stream",
     "text": [
      "\r",
      " 28%|██████████████████████▍                                                         | 241/859 [16:23<41:27,  4.03s/it]"
     ]
    },
    {
     "name": "stdout",
     "output_type": "stream",
     "text": [
      "tensor([[6.98189e+01, 1.35464e+02, 2.27575e+02, 4.31972e+02, 2.44965e-01, 0.00000e+00],\n",
      "        [3.39333e+02, 1.86205e+02, 4.73003e+02, 4.38155e+02, 1.12969e-01, 0.00000e+00]])\n"
     ]
    },
    {
     "name": "stderr",
     "output_type": "stream",
     "text": [
      "\r",
      " 28%|██████████████████████▌                                                         | 242/859 [16:27<41:10,  4.00s/it]"
     ]
    },
    {
     "name": "stdout",
     "output_type": "stream",
     "text": [
      "tensor([[1.19102e+02, 5.00464e+01, 2.96632e+02, 3.51650e+02, 5.65042e-01, 0.00000e+00],\n",
      "        [3.33557e+02, 4.17562e+01, 5.12192e+02, 3.59958e+02, 4.41445e-01, 0.00000e+00]])\n"
     ]
    },
    {
     "name": "stderr",
     "output_type": "stream",
     "text": [
      "\r",
      " 28%|██████████████████████▋                                                         | 243/859 [16:31<41:35,  4.05s/it]"
     ]
    },
    {
     "name": "stdout",
     "output_type": "stream",
     "text": [
      "tensor([[ 91.71684, 125.24427, 233.71384, 380.38052,   0.51583,   0.00000],\n",
      "        [311.74866, 132.50351, 454.61511, 375.96606,   0.46201,   0.00000]])\n"
     ]
    },
    {
     "name": "stderr",
     "output_type": "stream",
     "text": [
      "\r",
      " 28%|██████████████████████▋                                                         | 244/859 [16:35<41:18,  4.03s/it]"
     ]
    },
    {
     "name": "stdout",
     "output_type": "stream",
     "text": [
      "tensor([[3.41519e+02, 2.39055e+02, 4.91612e+02, 4.52309e+02, 3.51751e-01, 0.00000e+00],\n",
      "        [1.09547e+02, 2.87661e+02, 2.50902e+02, 4.50538e+02, 2.61578e-01, 0.00000e+00]])\n"
     ]
    },
    {
     "name": "stderr",
     "output_type": "stream",
     "text": [
      "\r",
      " 29%|██████████████████████▊                                                         | 245/859 [16:39<41:05,  4.01s/it]"
     ]
    },
    {
     "name": "stdout",
     "output_type": "stream",
     "text": [
      "tensor([[1.27249e+02, 1.21486e+02, 2.50166e+02, 3.67762e+02, 2.63855e-01, 0.00000e+00],\n",
      "        [3.44109e+02, 2.08575e+02, 4.65141e+02, 3.73343e+02, 1.74982e-01, 0.00000e+00]])\n"
     ]
    },
    {
     "name": "stderr",
     "output_type": "stream",
     "text": [
      "\r",
      " 29%|██████████████████████▉                                                         | 246/859 [16:43<41:12,  4.03s/it]"
     ]
    },
    {
     "name": "stdout",
     "output_type": "stream",
     "text": [
      "tensor([[9.63767e+01, 1.34202e+02, 2.29940e+02, 4.08781e+02, 5.33813e-01, 0.00000e+00],\n",
      "        [3.02145e+02, 1.47506e+02, 4.07117e+02, 4.14645e+02, 3.83647e-01, 0.00000e+00]])\n"
     ]
    },
    {
     "name": "stderr",
     "output_type": "stream",
     "text": [
      "\r",
      " 29%|███████████████████████                                                         | 247/859 [16:47<41:09,  4.04s/it]"
     ]
    },
    {
     "name": "stdout",
     "output_type": "stream",
     "text": [
      "tensor([[2.84940e+02, 1.01133e+02, 4.19090e+02, 3.80305e+02, 2.59279e-01, 0.00000e+00],\n",
      "        [8.79721e+01, 1.32334e+02, 2.03634e+02, 3.79194e+02, 2.19447e-01, 0.00000e+00]])\n"
     ]
    },
    {
     "name": "stderr",
     "output_type": "stream",
     "text": [
      "\r",
      " 29%|███████████████████████                                                         | 248/859 [16:51<41:26,  4.07s/it]"
     ]
    },
    {
     "name": "stdout",
     "output_type": "stream",
     "text": [
      "tensor([[1.37986e+02, 1.34972e+01, 2.68283e+02, 3.02325e+02, 3.43914e-01, 0.00000e+00],\n",
      "        [3.31837e+02, 1.24407e+01, 4.80646e+02, 3.17486e+02, 2.28191e-01, 0.00000e+00]])\n"
     ]
    },
    {
     "name": "stderr",
     "output_type": "stream",
     "text": [
      "\r",
      " 29%|███████████████████████▏                                                        | 249/859 [16:55<41:07,  4.04s/it]"
     ]
    },
    {
     "name": "stdout",
     "output_type": "stream",
     "text": [
      "tensor([[9.05457e+01, 1.31978e+02, 2.23743e+02, 3.58133e+02, 3.52668e-01, 0.00000e+00],\n",
      "        [3.36696e+02, 1.39659e+02, 4.51044e+02, 3.59809e+02, 3.45243e-01, 0.00000e+00]])\n"
     ]
    },
    {
     "name": "stderr",
     "output_type": "stream",
     "text": [
      "\r",
      " 29%|███████████████████████▎                                                        | 250/859 [16:59<41:04,  4.05s/it]"
     ]
    },
    {
     "name": "stdout",
     "output_type": "stream",
     "text": [
      "tensor([[8.78585e+01, 1.08794e+02, 2.05056e+02, 3.03977e+02, 3.38346e-01, 0.00000e+00],\n",
      "        [3.31337e+02, 1.02088e+02, 4.37777e+02, 3.44849e+02, 2.25023e-01, 0.00000e+00]])\n"
     ]
    },
    {
     "name": "stderr",
     "output_type": "stream",
     "text": [
      "\r",
      " 29%|███████████████████████▍                                                        | 251/859 [17:03<40:56,  4.04s/it]"
     ]
    },
    {
     "name": "stdout",
     "output_type": "stream",
     "text": [
      "tensor([[2.95160e+02, 1.15481e+02, 4.59699e+02, 3.88561e+02, 2.94413e-01, 0.00000e+00],\n",
      "        [7.56691e+01, 1.09473e+02, 2.37167e+02, 3.80583e+02, 2.51221e-01, 0.00000e+00]])\n"
     ]
    },
    {
     "name": "stderr",
     "output_type": "stream",
     "text": [
      "\r",
      " 29%|███████████████████████▍                                                        | 252/859 [17:08<41:46,  4.13s/it]"
     ]
    },
    {
     "name": "stdout",
     "output_type": "stream",
     "text": [
      "tensor([[2.86233e+02, 4.51967e+01, 4.07573e+02, 3.08717e+02, 2.62113e-01, 0.00000e+00],\n",
      "        [8.42241e+01, 1.03439e+02, 1.99128e+02, 3.20204e+02, 2.13316e-01, 0.00000e+00]])\n"
     ]
    },
    {
     "name": "stderr",
     "output_type": "stream",
     "text": [
      "\r",
      " 29%|███████████████████████▌                                                        | 253/859 [17:12<42:02,  4.16s/it]"
     ]
    },
    {
     "name": "stdout",
     "output_type": "stream",
     "text": [
      "tensor([[3.13758e+02, 1.52710e+02, 4.40174e+02, 3.54001e+02, 3.45365e-01, 0.00000e+00],\n",
      "        [1.22891e+02, 6.74496e+01, 2.45872e+02, 2.90622e+02, 3.23417e-01, 0.00000e+00]])\n"
     ]
    },
    {
     "name": "stderr",
     "output_type": "stream",
     "text": [
      "\r",
      " 30%|███████████████████████▋                                                        | 254/859 [17:16<42:11,  4.18s/it]"
     ]
    },
    {
     "name": "stdout",
     "output_type": "stream",
     "text": [
      "tensor([[8.00005e+01, 9.65780e+01, 2.10430e+02, 3.83264e+02, 2.94319e-01, 0.00000e+00],\n",
      "        [3.13339e+02, 1.03998e+02, 4.36117e+02, 3.74140e+02, 2.47757e-01, 0.00000e+00]])\n"
     ]
    },
    {
     "name": "stderr",
     "output_type": "stream",
     "text": [
      "\r",
      " 30%|███████████████████████▋                                                        | 255/859 [17:20<41:45,  4.15s/it]"
     ]
    },
    {
     "name": "stdout",
     "output_type": "stream",
     "text": [
      "tensor([[3.13464e+02, 1.73669e+02, 4.51675e+02, 4.05774e+02, 3.47794e-01, 0.00000e+00],\n",
      "        [8.97889e+01, 1.32860e+02, 2.32773e+02, 3.92456e+02, 3.02987e-01, 0.00000e+00]])\n"
     ]
    },
    {
     "name": "stderr",
     "output_type": "stream",
     "text": [
      "\r",
      " 30%|███████████████████████▊                                                        | 256/859 [17:24<41:16,  4.11s/it]"
     ]
    },
    {
     "name": "stdout",
     "output_type": "stream",
     "text": [
      "tensor([[106.95615,  71.09247, 228.65860, 315.84317,   0.49726,   0.00000],\n",
      "        [290.64355,  59.42299, 417.48474, 300.66162,   0.48243,   0.00000]])\n"
     ]
    },
    {
     "name": "stderr",
     "output_type": "stream",
     "text": [
      "\r",
      " 30%|███████████████████████▉                                                        | 257/859 [17:28<41:04,  4.09s/it]"
     ]
    },
    {
     "name": "stdout",
     "output_type": "stream",
     "text": [
      "tensor([[3.23469e+02, 1.33056e+02, 4.73901e+02, 4.94465e+02, 3.55863e-01, 0.00000e+00],\n",
      "        [6.49553e+01, 1.35365e+02, 2.31787e+02, 5.03511e+02, 2.75427e-01, 0.00000e+00]])\n"
     ]
    },
    {
     "name": "stderr",
     "output_type": "stream",
     "text": [
      "\r",
      " 30%|████████████████████████                                                        | 258/859 [17:32<40:50,  4.08s/it]"
     ]
    },
    {
     "name": "stdout",
     "output_type": "stream",
     "text": [
      "tensor([[2.97442e+02, 1.79537e+02, 4.30605e+02, 4.43994e+02, 2.29371e-01, 0.00000e+00],\n",
      "        [3.23528e+01, 1.34624e+02, 1.77609e+02, 4.32893e+02, 1.60385e-01, 0.00000e+00]])\n"
     ]
    },
    {
     "name": "stderr",
     "output_type": "stream",
     "text": [
      "\r",
      " 30%|████████████████████████                                                        | 259/859 [17:36<40:39,  4.07s/it]"
     ]
    },
    {
     "name": "stdout",
     "output_type": "stream",
     "text": [
      "tensor([[2.78505e+02, 7.11285e+00, 4.49929e+02, 3.02105e+02, 2.09475e-01, 0.00000e+00],\n",
      "        [7.99367e+01, 1.37288e+01, 2.26457e+02, 3.01353e+02, 2.05494e-01, 0.00000e+00]])\n"
     ]
    },
    {
     "name": "stderr",
     "output_type": "stream",
     "text": [
      "\r",
      " 30%|████████████████████████▏                                                       | 260/859 [17:40<40:24,  4.05s/it]"
     ]
    },
    {
     "name": "stdout",
     "output_type": "stream",
     "text": [
      "tensor([[3.43409e+02, 1.61381e+02, 4.98475e+02, 3.53764e+02, 4.13565e-01, 0.00000e+00],\n",
      "        [7.49425e+01, 1.18319e+02, 2.17002e+02, 3.53685e+02, 3.58622e-01, 0.00000e+00]])\n"
     ]
    },
    {
     "name": "stderr",
     "output_type": "stream",
     "text": [
      "\r",
      " 30%|████████████████████████▎                                                       | 261/859 [17:44<40:15,  4.04s/it]"
     ]
    },
    {
     "name": "stdout",
     "output_type": "stream",
     "text": [
      "tensor([[1.05536e+02, 7.93460e+01, 2.14406e+02, 3.57121e+02, 2.48921e-01, 0.00000e+00],\n",
      "        [2.99719e+02, 9.28542e+01, 4.10591e+02, 3.47136e+02, 2.48367e-01, 0.00000e+00]])\n"
     ]
    },
    {
     "name": "stderr",
     "output_type": "stream",
     "text": [
      "\r",
      " 31%|████████████████████████▍                                                       | 262/859 [17:48<40:08,  4.03s/it]"
     ]
    },
    {
     "name": "stdout",
     "output_type": "stream",
     "text": [
      "tensor([[2.97234e+02, 6.31968e+01, 4.48386e+02, 2.89510e+02, 2.46620e-01, 0.00000e+00],\n",
      "        [7.04910e+01, 7.03371e+01, 2.02288e+02, 2.99520e+02, 1.71120e-01, 0.00000e+00]])\n"
     ]
    },
    {
     "name": "stderr",
     "output_type": "stream",
     "text": [
      "\r",
      " 31%|████████████████████████▍                                                       | 263/859 [17:52<39:52,  4.01s/it]"
     ]
    },
    {
     "name": "stdout",
     "output_type": "stream",
     "text": [
      "tensor([[3.57724e+02, 1.45350e+02, 4.67216e+02, 3.59746e+02, 1.79403e-01, 0.00000e+00],\n",
      "        [1.01064e+02, 1.38843e+02, 2.30179e+02, 3.50866e+02, 1.28975e-01, 0.00000e+00]])\n"
     ]
    },
    {
     "name": "stderr",
     "output_type": "stream",
     "text": [
      "\r",
      " 31%|████████████████████████▌                                                       | 264/859 [17:56<39:38,  4.00s/it]"
     ]
    },
    {
     "name": "stdout",
     "output_type": "stream",
     "text": [
      "tensor([[5.34128e+01, 1.39198e+02, 1.99984e+02, 3.95437e+02, 3.17749e-01, 0.00000e+00],\n",
      "        [2.84605e+02, 1.28520e+02, 4.21021e+02, 3.77128e+02, 2.77884e-01, 0.00000e+00]])\n"
     ]
    },
    {
     "name": "stderr",
     "output_type": "stream",
     "text": [
      "\r",
      " 31%|████████████████████████▋                                                       | 265/859 [18:00<39:30,  3.99s/it]"
     ]
    },
    {
     "name": "stdout",
     "output_type": "stream",
     "text": [
      "tensor([[2.57365e+02, 1.44420e+02, 3.82361e+02, 3.63693e+02, 2.88843e-01, 0.00000e+00],\n",
      "        [6.03887e+01, 1.51778e+02, 1.77269e+02, 3.62798e+02, 1.64937e-01, 0.00000e+00]])\n"
     ]
    },
    {
     "name": "stderr",
     "output_type": "stream",
     "text": [
      "\r",
      " 31%|████████████████████████▊                                                       | 266/859 [18:04<39:43,  4.02s/it]"
     ]
    },
    {
     "name": "stdout",
     "output_type": "stream",
     "text": [
      "tensor([[6.95375e+01, 1.47925e+02, 2.30941e+02, 4.57850e+02, 2.65214e-01, 0.00000e+00],\n",
      "        [3.15105e+02, 1.96273e+02, 4.96541e+02, 5.07350e+02, 2.43335e-01, 0.00000e+00]])\n"
     ]
    },
    {
     "name": "stderr",
     "output_type": "stream",
     "text": [
      "\r",
      " 31%|████████████████████████▊                                                       | 267/859 [18:08<40:04,  4.06s/it]"
     ]
    },
    {
     "name": "stdout",
     "output_type": "stream",
     "text": [
      "tensor([[2.80076e+02, 1.22329e+02, 4.18371e+02, 4.22046e+02, 3.64972e-01, 0.00000e+00],\n",
      "        [5.73102e+01, 2.74652e+02, 1.72425e+02, 4.11904e+02, 2.83279e-01, 0.00000e+00],\n",
      "        [9.25549e+01, 1.52268e+02, 1.78997e+02, 3.28035e+02, 2.34065e-01, 0.00000e+00]])\n"
     ]
    },
    {
     "name": "stderr",
     "output_type": "stream",
     "text": [
      "\r",
      " 31%|████████████████████████▉                                                       | 268/859 [18:13<39:58,  4.06s/it]"
     ]
    },
    {
     "name": "stdout",
     "output_type": "stream",
     "text": [
      "tensor([[4.38382e+01, 1.58424e+02, 2.00739e+02, 4.31367e+02, 3.57369e-01, 0.00000e+00],\n",
      "        [2.66487e+02, 1.25438e+02, 4.28657e+02, 4.42069e+02, 2.78227e-01, 0.00000e+00]])\n"
     ]
    },
    {
     "name": "stderr",
     "output_type": "stream",
     "text": [
      "\r",
      " 31%|█████████████████████████                                                       | 269/859 [18:17<39:38,  4.03s/it]"
     ]
    },
    {
     "name": "stdout",
     "output_type": "stream",
     "text": [
      "tensor([[3.44733e+02, 9.94147e+01, 4.73732e+02, 3.85726e+02, 3.71802e-01, 0.00000e+00],\n",
      "        [9.31155e+01, 7.10533e+01, 2.38781e+02, 3.70331e+02, 3.42737e-01, 0.00000e+00]])\n"
     ]
    },
    {
     "name": "stderr",
     "output_type": "stream",
     "text": [
      "\r",
      " 31%|█████████████████████████▏                                                      | 270/859 [18:21<39:45,  4.05s/it]"
     ]
    },
    {
     "name": "stdout",
     "output_type": "stream",
     "text": [
      "tensor([[3.37379e+02, 5.13855e+01, 5.03111e+02, 3.62465e+02, 3.01359e-01, 0.00000e+00],\n",
      "        [1.07095e+02, 2.23381e+01, 2.61451e+02, 3.41100e+02, 2.93612e-01, 0.00000e+00]])\n"
     ]
    },
    {
     "name": "stderr",
     "output_type": "stream",
     "text": [
      "\r",
      " 32%|█████████████████████████▏                                                      | 271/859 [18:25<39:33,  4.04s/it]"
     ]
    },
    {
     "name": "stdout",
     "output_type": "stream",
     "text": [
      "tensor([[2.76241e+02, 6.65302e+01, 4.22919e+02, 3.48074e+02, 2.54784e-01, 0.00000e+00],\n",
      "        [1.09183e+02, 1.42863e+02, 2.25325e+02, 3.65255e+02, 2.23908e-01, 0.00000e+00]])\n"
     ]
    },
    {
     "name": "stderr",
     "output_type": "stream",
     "text": [
      "\r",
      " 32%|█████████████████████████▎                                                      | 272/859 [18:29<39:27,  4.03s/it]"
     ]
    },
    {
     "name": "stdout",
     "output_type": "stream",
     "text": [
      "tensor([[7.06489e+01, 9.27882e+01, 2.27144e+02, 4.09559e+02, 3.32415e-01, 0.00000e+00],\n",
      "        [3.00969e+02, 9.34738e+01, 4.48828e+02, 3.98958e+02, 3.04201e-01, 0.00000e+00]])\n"
     ]
    },
    {
     "name": "stderr",
     "output_type": "stream",
     "text": [
      "\r",
      " 32%|█████████████████████████▍                                                      | 273/859 [18:33<39:08,  4.01s/it]"
     ]
    },
    {
     "name": "stdout",
     "output_type": "stream",
     "text": [
      "tensor([[3.15604e+02, 4.56250e+01, 4.44784e+02, 3.54957e+02, 3.95010e-01, 0.00000e+00],\n",
      "        [1.12869e+02, 7.85808e+01, 2.42651e+02, 3.40906e+02, 3.32150e-01, 0.00000e+00]])\n"
     ]
    },
    {
     "name": "stderr",
     "output_type": "stream",
     "text": [
      "\r",
      " 32%|█████████████████████████▌                                                      | 274/859 [18:37<39:11,  4.02s/it]"
     ]
    },
    {
     "name": "stdout",
     "output_type": "stream",
     "text": [
      "tensor([[5.14056e+01, 1.10815e+02, 2.13742e+02, 3.73867e+02, 2.92991e-01, 0.00000e+00],\n",
      "        [2.95742e+02, 1.09035e+02, 4.40529e+02, 3.83047e+02, 2.84483e-01, 0.00000e+00]])\n"
     ]
    },
    {
     "name": "stderr",
     "output_type": "stream",
     "text": [
      "\r",
      " 32%|█████████████████████████▌                                                      | 275/859 [18:41<39:00,  4.01s/it]"
     ]
    },
    {
     "name": "stdout",
     "output_type": "stream",
     "text": [
      "tensor([[1.60215e+02, 1.30182e+02, 2.69664e+02, 3.64916e+02, 3.13134e-01, 0.00000e+00],\n",
      "        [3.60159e+02, 1.12013e+02, 4.86061e+02, 3.66834e+02, 2.33183e-01, 0.00000e+00]])\n"
     ]
    },
    {
     "name": "stderr",
     "output_type": "stream",
     "text": [
      "\r",
      " 32%|█████████████████████████▋                                                      | 276/859 [18:45<38:40,  3.98s/it]"
     ]
    },
    {
     "name": "stdout",
     "output_type": "stream",
     "text": [
      "tensor([[1.03150e+02, 6.79550e+01, 2.15442e+02, 3.57460e+02, 2.90563e-01, 0.00000e+00],\n",
      "        [3.05704e+02, 7.16473e+01, 4.37650e+02, 3.32084e+02, 2.15986e-01, 0.00000e+00]])\n"
     ]
    },
    {
     "name": "stderr",
     "output_type": "stream",
     "text": [
      "\r",
      " 32%|█████████████████████████▊                                                      | 277/859 [18:48<38:31,  3.97s/it]"
     ]
    },
    {
     "name": "stdout",
     "output_type": "stream",
     "text": [
      "tensor([[2.74171e+02, 1.26866e+02, 4.15046e+02, 4.02940e+02, 2.54227e-01, 0.00000e+00],\n",
      "        [6.86495e+01, 9.56972e+01, 2.58785e+02, 4.20001e+02, 1.15479e-01, 0.00000e+00]])\n"
     ]
    },
    {
     "name": "stderr",
     "output_type": "stream",
     "text": [
      "\r",
      " 32%|█████████████████████████▉                                                      | 278/859 [18:52<38:21,  3.96s/it]"
     ]
    },
    {
     "name": "stdout",
     "output_type": "stream",
     "text": [
      "tensor([[1.07456e+02, 1.60930e+02, 2.18894e+02, 3.42098e+02, 3.58179e-01, 0.00000e+00],\n",
      "        [2.83102e+02, 1.67038e+02, 3.94763e+02, 3.34774e+02, 2.16599e-01, 0.00000e+00]])\n"
     ]
    },
    {
     "name": "stderr",
     "output_type": "stream",
     "text": [
      "\r",
      " 32%|█████████████████████████▉                                                      | 279/859 [18:56<38:11,  3.95s/it]"
     ]
    },
    {
     "name": "stdout",
     "output_type": "stream",
     "text": [
      "tensor([[4.94228e+01, 1.71290e+02, 1.76384e+02, 4.53776e+02, 1.99231e-01, 0.00000e+00],\n",
      "        [2.62577e+02, 1.49181e+02, 4.05730e+02, 4.39112e+02, 1.93451e-01, 0.00000e+00],\n",
      "        [4.04212e+02, 1.26899e+02, 4.96047e+02, 3.10426e+02, 1.13120e-01, 0.00000e+00]])\n"
     ]
    },
    {
     "name": "stderr",
     "output_type": "stream",
     "text": [
      "\r",
      " 33%|██████████████████████████                                                      | 280/859 [19:00<38:22,  3.98s/it]"
     ]
    },
    {
     "name": "stdout",
     "output_type": "stream",
     "text": [
      "tensor([[6.43781e+01, 6.32505e+01, 1.98889e+02, 3.32887e+02, 3.31937e-01, 0.00000e+00],\n",
      "        [2.74370e+02, 5.44905e+01, 4.09828e+02, 3.46445e+02, 3.17885e-01, 0.00000e+00]])\n"
     ]
    },
    {
     "name": "stderr",
     "output_type": "stream",
     "text": [
      "\r",
      " 33%|██████████████████████████▏                                                     | 281/859 [19:04<38:32,  4.00s/it]"
     ]
    },
    {
     "name": "stdout",
     "output_type": "stream",
     "text": [
      "tensor([[3.07752e+02, 1.88933e+02, 4.41718e+02, 3.85363e+02, 2.95671e-01, 0.00000e+00],\n",
      "        [9.03381e+01, 1.58966e+02, 2.14463e+02, 3.90089e+02, 2.81475e-01, 0.00000e+00]])\n"
     ]
    },
    {
     "name": "stderr",
     "output_type": "stream",
     "text": [
      "\r",
      " 33%|██████████████████████████▎                                                     | 282/859 [19:09<39:00,  4.06s/it]"
     ]
    },
    {
     "name": "stdout",
     "output_type": "stream",
     "text": [
      "tensor([[1.12897e+02, 8.32021e+01, 2.47586e+02, 3.86944e+02, 4.09973e-01, 0.00000e+00],\n",
      "        [3.02246e+02, 1.13814e+02, 4.23192e+02, 4.00550e+02, 3.86895e-01, 0.00000e+00]])\n"
     ]
    },
    {
     "name": "stderr",
     "output_type": "stream",
     "text": [
      "\r",
      " 33%|██████████████████████████▎                                                     | 283/859 [19:13<39:34,  4.12s/it]"
     ]
    },
    {
     "name": "stdout",
     "output_type": "stream",
     "text": [
      "tensor([[284.16806, 188.87811, 396.38412, 360.81281,   0.46110,   0.00000],\n",
      "        [109.34679, 177.21516, 215.21962, 352.05078,   0.40688,   0.00000]])\n"
     ]
    },
    {
     "name": "stderr",
     "output_type": "stream",
     "text": [
      "\r",
      " 33%|██████████████████████████▍                                                     | 284/859 [19:17<39:21,  4.11s/it]"
     ]
    },
    {
     "name": "stdout",
     "output_type": "stream",
     "text": [
      "tensor([[2.35633e+02, 9.78455e+01, 4.11410e+02, 4.21748e+02, 5.71344e-01, 0.00000e+00],\n",
      "        [2.61566e-01, 1.06578e+02, 1.63471e+02, 4.19958e+02, 2.65271e-01, 0.00000e+00]])\n"
     ]
    },
    {
     "name": "stderr",
     "output_type": "stream",
     "text": [
      "\r",
      " 33%|██████████████████████████▌                                                     | 285/859 [19:21<39:07,  4.09s/it]"
     ]
    },
    {
     "name": "stdout",
     "output_type": "stream",
     "text": [
      "tensor([[6.98455e+01, 1.44566e+02, 1.88433e+02, 3.47902e+02, 3.01352e-01, 0.00000e+00],\n",
      "        [2.68849e+02, 1.38157e+02, 3.85949e+02, 3.86993e+02, 2.53712e-01, 0.00000e+00]])\n"
     ]
    },
    {
     "name": "stderr",
     "output_type": "stream",
     "text": [
      "\r",
      " 33%|██████████████████████████▋                                                     | 286/859 [19:25<38:49,  4.07s/it]"
     ]
    },
    {
     "name": "stdout",
     "output_type": "stream",
     "text": [
      "tensor([[6.62587e+01, 1.05165e+02, 1.90023e+02, 3.32465e+02, 5.14493e-01, 0.00000e+00],\n",
      "        [2.78875e+02, 1.39789e+02, 4.07595e+02, 3.77875e+02, 3.16238e-01, 0.00000e+00]])\n"
     ]
    },
    {
     "name": "stderr",
     "output_type": "stream",
     "text": [
      "\r",
      " 33%|██████████████████████████▋                                                     | 287/859 [19:29<38:23,  4.03s/it]"
     ]
    },
    {
     "name": "stdout",
     "output_type": "stream",
     "text": [
      "tensor([[6.16918e+01, 5.17843e+01, 1.91150e+02, 2.89364e+02, 3.24484e-01, 0.00000e+00],\n",
      "        [2.61325e+02, 8.30635e+01, 3.88494e+02, 3.14303e+02, 1.99431e-01, 0.00000e+00]])\n"
     ]
    },
    {
     "name": "stderr",
     "output_type": "stream",
     "text": [
      "\r",
      " 34%|██████████████████████████▊                                                     | 288/859 [19:33<38:25,  4.04s/it]"
     ]
    },
    {
     "name": "stdout",
     "output_type": "stream",
     "text": [
      "tensor([[8.39257e+01, 1.58958e+02, 2.14235e+02, 3.61015e+02, 2.94553e-01, 0.00000e+00],\n",
      "        [2.69222e+02, 1.34819e+02, 4.02231e+02, 3.70388e+02, 2.14707e-01, 0.00000e+00]])\n"
     ]
    },
    {
     "name": "stderr",
     "output_type": "stream",
     "text": [
      "\r",
      " 34%|██████████████████████████▉                                                     | 289/859 [19:37<38:35,  4.06s/it]"
     ]
    },
    {
     "name": "stdout",
     "output_type": "stream",
     "text": [
      "tensor([[1.14045e+02, 2.32793e+02, 2.40936e+02, 4.17029e+02, 1.72746e-01, 0.00000e+00],\n",
      "        [3.21461e+02, 2.25745e+02, 4.39654e+02, 4.21773e+02, 1.54037e-01, 0.00000e+00]])\n"
     ]
    },
    {
     "name": "stderr",
     "output_type": "stream",
     "text": [
      "\r",
      " 34%|███████████████████████████                                                     | 290/859 [19:41<38:40,  4.08s/it]"
     ]
    },
    {
     "name": "stdout",
     "output_type": "stream",
     "text": [
      "tensor([[9.68952e+01, 9.28215e+01, 2.25070e+02, 3.47588e+02, 2.82045e-01, 0.00000e+00],\n",
      "        [3.02216e+02, 8.48027e+01, 4.48697e+02, 3.50790e+02, 2.64473e-01, 0.00000e+00]])\n"
     ]
    },
    {
     "name": "stderr",
     "output_type": "stream",
     "text": [
      "\r",
      " 34%|███████████████████████████                                                     | 291/859 [19:45<38:32,  4.07s/it]"
     ]
    },
    {
     "name": "stdout",
     "output_type": "stream",
     "text": [
      "tensor([[3.26858e+02, 7.32670e+01, 4.38557e+02, 2.74941e+02, 3.24993e-01, 0.00000e+00],\n",
      "        [1.38923e+02, 8.67633e+01, 2.61921e+02, 3.06312e+02, 2.27622e-01, 0.00000e+00],\n",
      "        [2.94268e+02, 2.95276e+02, 3.93529e+02, 4.35283e+02, 1.41658e-01, 0.00000e+00]])\n"
     ]
    },
    {
     "name": "stderr",
     "output_type": "stream",
     "text": [
      "\r",
      " 34%|███████████████████████████▏                                                    | 292/859 [19:49<38:13,  4.05s/it]"
     ]
    },
    {
     "name": "stdout",
     "output_type": "stream",
     "text": [
      "tensor([[3.07114e+02, 7.25661e+01, 4.73882e+02, 3.61884e+02, 2.78771e-01, 0.00000e+00],\n",
      "        [8.16311e+01, 8.29200e+01, 2.13351e+02, 3.49262e+02, 1.79625e-01, 0.00000e+00]])\n"
     ]
    },
    {
     "name": "stderr",
     "output_type": "stream",
     "text": [
      "\r",
      " 34%|███████████████████████████▎                                                    | 293/859 [19:53<38:00,  4.03s/it]"
     ]
    },
    {
     "name": "stdout",
     "output_type": "stream",
     "text": [
      "tensor([[7.49689e+01, 1.18232e+02, 2.41977e+02, 4.63404e+02, 3.13644e-01, 0.00000e+00],\n",
      "        [3.13322e+02, 1.15131e+02, 4.78499e+02, 4.78589e+02, 3.00197e-01, 0.00000e+00]])\n"
     ]
    },
    {
     "name": "stderr",
     "output_type": "stream",
     "text": [
      "\r",
      " 34%|███████████████████████████▍                                                    | 294/859 [19:57<38:13,  4.06s/it]"
     ]
    },
    {
     "name": "stdout",
     "output_type": "stream",
     "text": [
      "tensor([[6.62466e+01, 6.31416e+01, 2.20319e+02, 3.59651e+02, 3.49572e-01, 0.00000e+00],\n",
      "        [2.91412e+02, 1.36191e+02, 4.38898e+02, 3.75278e+02, 2.17139e-01, 0.00000e+00]])\n"
     ]
    },
    {
     "name": "stderr",
     "output_type": "stream",
     "text": [
      "C:\\Users\\Julian\\AppData\\Roaming\\Python\\Python39\\site-packages\\ensemble_boxes\\ensemble_boxes_wbf.py:64: UserWarning: X1 < 0 in box. Set it to 0.\n",
      "  warnings.warn('X1 < 0 in box. Set it to 0.')\n",
      "\r",
      " 34%|███████████████████████████▍                                                    | 295/859 [20:01<38:11,  4.06s/it]"
     ]
    },
    {
     "name": "stdout",
     "output_type": "stream",
     "text": [
      "tensor([[-8.31375e-02,  1.89442e+02,  1.44903e+02,  4.99963e+02,  3.26177e-01,  0.00000e+00],\n",
      "        [ 2.39815e+02,  2.48078e+02,  3.57551e+02,  4.54444e+02,  1.94010e-01,  0.00000e+00]])\n"
     ]
    },
    {
     "name": "stderr",
     "output_type": "stream",
     "text": [
      "\r",
      " 34%|███████████████████████████▌                                                    | 296/859 [20:06<38:06,  4.06s/it]"
     ]
    },
    {
     "name": "stdout",
     "output_type": "stream",
     "text": [
      "tensor([[3.38398e+02, 1.88064e+02, 4.68847e+02, 4.09980e+02, 3.72636e-01, 0.00000e+00],\n",
      "        [1.17272e+02, 1.98708e+02, 2.37758e+02, 4.15992e+02, 3.23251e-01, 0.00000e+00]])\n"
     ]
    },
    {
     "name": "stderr",
     "output_type": "stream",
     "text": [
      "\r",
      " 35%|███████████████████████████▋                                                    | 297/859 [20:10<37:57,  4.05s/it]"
     ]
    },
    {
     "name": "stdout",
     "output_type": "stream",
     "text": [
      "tensor([[2.91635e+02, 1.36619e+02, 4.18875e+02, 4.00875e+02, 3.63747e-01, 0.00000e+00],\n",
      "        [3.64647e+01, 1.02407e+02, 1.68608e+02, 4.05846e+02, 2.68342e-01, 0.00000e+00]])\n"
     ]
    },
    {
     "name": "stderr",
     "output_type": "stream",
     "text": [
      "\r",
      " 35%|███████████████████████████▊                                                    | 298/859 [20:14<37:38,  4.03s/it]"
     ]
    },
    {
     "name": "stdout",
     "output_type": "stream",
     "text": [
      "tensor([[2.91033e+02, 6.29949e+01, 4.37936e+02, 4.20540e+02, 4.18804e-01, 0.00000e+00],\n",
      "        [6.54282e+01, 3.89318e+01, 2.29502e+02, 3.86433e+02, 3.72826e-01, 0.00000e+00]])\n"
     ]
    },
    {
     "name": "stderr",
     "output_type": "stream",
     "text": [
      "\r",
      " 35%|███████████████████████████▊                                                    | 299/859 [20:18<37:40,  4.04s/it]"
     ]
    },
    {
     "name": "stdout",
     "output_type": "stream",
     "text": [
      "tensor([[1.69693e+02, 6.96292e+01, 2.74645e+02, 2.98568e+02, 4.02843e-01, 0.00000e+00],\n",
      "        [3.66027e+02, 1.01477e+02, 4.58651e+02, 3.18127e+02, 2.62806e-01, 0.00000e+00]])\n"
     ]
    },
    {
     "name": "stderr",
     "output_type": "stream",
     "text": [
      "\r",
      " 35%|███████████████████████████▉                                                    | 300/859 [20:22<37:14,  4.00s/it]"
     ]
    },
    {
     "name": "stdout",
     "output_type": "stream",
     "text": [
      "tensor([[2.56516e+02, 1.73795e+02, 3.70184e+02, 3.30946e+02, 2.76474e-01, 0.00000e+00],\n",
      "        [5.90675e+01, 1.07328e+02, 1.65849e+02, 3.00311e+02, 2.73299e-01, 0.00000e+00]])\n"
     ]
    },
    {
     "name": "stderr",
     "output_type": "stream",
     "text": [
      "\r",
      " 35%|████████████████████████████                                                    | 301/859 [20:25<37:04,  3.99s/it]"
     ]
    },
    {
     "name": "stdout",
     "output_type": "stream",
     "text": [
      "tensor([[5.41259e+01, 1.82403e+02, 1.54296e+02, 3.91500e+02, 4.59208e-01, 0.00000e+00],\n",
      "        [2.90771e+02, 1.33449e+02, 4.05213e+02, 3.89815e+02, 1.89088e-01, 0.00000e+00]])\n"
     ]
    },
    {
     "name": "stderr",
     "output_type": "stream",
     "text": [
      "\r",
      " 35%|████████████████████████████▏                                                   | 302/859 [20:30<37:08,  4.00s/it]"
     ]
    },
    {
     "name": "stdout",
     "output_type": "stream",
     "text": [
      "tensor([[5.05294e+01, 1.74799e+02, 1.73028e+02, 3.90761e+02, 2.58115e-01, 0.00000e+00],\n",
      "        [2.48767e+02, 1.09821e+02, 3.79112e+02, 3.70371e+02, 1.79958e-01, 0.00000e+00]])\n"
     ]
    },
    {
     "name": "stderr",
     "output_type": "stream",
     "text": [
      "\r",
      " 35%|████████████████████████████▏                                                   | 303/859 [20:34<37:25,  4.04s/it]"
     ]
    },
    {
     "name": "stdout",
     "output_type": "stream",
     "text": [
      "tensor([[4.38120e+01, 7.56680e+01, 1.92401e+02, 3.37793e+02, 4.38996e-01, 0.00000e+00],\n",
      "        [2.71344e+02, 1.06467e+02, 4.03028e+02, 3.89305e+02, 3.38740e-01, 0.00000e+00]])\n"
     ]
    },
    {
     "name": "stderr",
     "output_type": "stream",
     "text": [
      "\r",
      " 35%|████████████████████████████▎                                                   | 304/859 [20:38<37:17,  4.03s/it]"
     ]
    },
    {
     "name": "stdout",
     "output_type": "stream",
     "text": [
      "tensor([[6.69295e+01, 8.11266e+01, 2.37573e+02, 4.16261e+02, 3.69974e-01, 0.00000e+00],\n",
      "        [3.00693e+02, 1.75783e+02, 4.42847e+02, 4.41715e+02, 3.45932e-01, 0.00000e+00]])\n"
     ]
    },
    {
     "name": "stderr",
     "output_type": "stream",
     "text": [
      "\r",
      " 36%|████████████████████████████▍                                                   | 305/859 [20:42<37:06,  4.02s/it]"
     ]
    },
    {
     "name": "stdout",
     "output_type": "stream",
     "text": [
      "tensor([[1.06267e+02, 8.81270e+01, 2.32896e+02, 3.57042e+02, 2.78255e-01, 0.00000e+00],\n",
      "        [3.04157e+02, 8.27150e+01, 4.35613e+02, 3.56477e+02, 2.49611e-01, 0.00000e+00]])\n"
     ]
    },
    {
     "name": "stderr",
     "output_type": "stream",
     "text": [
      "\r",
      " 36%|████████████████████████████▍                                                   | 306/859 [20:46<37:15,  4.04s/it]"
     ]
    },
    {
     "name": "stdout",
     "output_type": "stream",
     "text": [
      "tensor([[4.01372e+01, 1.18602e+02, 1.70077e+02, 3.73125e+02, 4.55613e-01, 0.00000e+00],\n",
      "        [2.47365e+02, 1.34273e+02, 3.70162e+02, 4.05842e+02, 3.26744e-01, 0.00000e+00]])\n"
     ]
    },
    {
     "name": "stderr",
     "output_type": "stream",
     "text": [
      "\r",
      " 36%|████████████████████████████▌                                                   | 307/859 [20:50<37:09,  4.04s/it]"
     ]
    },
    {
     "name": "stdout",
     "output_type": "stream",
     "text": [
      "tensor([[2.31719e+02, 2.73912e+01, 3.98983e+02, 3.67256e+02, 2.59894e-01, 0.00000e+00],\n",
      "        [2.06474e-01, 3.11531e+01, 1.37132e+02, 3.92508e+02, 1.36273e-01, 0.00000e+00]])\n"
     ]
    },
    {
     "name": "stderr",
     "output_type": "stream",
     "text": [
      "\r",
      " 36%|████████████████████████████▋                                                   | 308/859 [20:54<36:57,  4.02s/it]"
     ]
    },
    {
     "name": "stdout",
     "output_type": "stream",
     "text": [
      "tensor([[8.09830e+01, 7.93474e+01, 2.26896e+02, 3.16671e+02, 3.19277e-01, 0.00000e+00],\n",
      "        [3.08439e+02, 8.78532e+01, 4.35050e+02, 3.51338e+02, 1.83530e-01, 0.00000e+00],\n",
      "        [3.54972e+02, 2.74140e+02, 4.39577e+02, 3.72906e+02, 1.31718e-01, 0.00000e+00]])\n"
     ]
    },
    {
     "name": "stderr",
     "output_type": "stream",
     "text": [
      "\r",
      " 36%|████████████████████████████▊                                                   | 309/859 [20:58<36:49,  4.02s/it]"
     ]
    },
    {
     "name": "stdout",
     "output_type": "stream",
     "text": [
      "tensor([[3.31350e+02, 2.25006e+01, 4.89625e+02, 2.93924e+02, 3.58820e-01, 0.00000e+00],\n",
      "        [5.54752e+01, 3.25900e+01, 2.28681e+02, 3.06096e+02, 2.58336e-01, 0.00000e+00]])\n"
     ]
    },
    {
     "name": "stderr",
     "output_type": "stream",
     "text": [
      "\r",
      " 36%|████████████████████████████▊                                                   | 310/859 [21:02<36:37,  4.00s/it]"
     ]
    },
    {
     "name": "stdout",
     "output_type": "stream",
     "text": [
      "tensor([[8.92793e+00, 2.22454e+02, 1.36501e+02, 4.33640e+02, 3.89727e-01, 0.00000e+00],\n",
      "        [2.48772e+02, 2.62277e+02, 3.51602e+02, 4.15644e+02, 2.75688e-01, 0.00000e+00]])\n"
     ]
    },
    {
     "name": "stderr",
     "output_type": "stream",
     "text": [
      "\r",
      " 36%|████████████████████████████▉                                                   | 311/859 [21:06<37:00,  4.05s/it]"
     ]
    },
    {
     "name": "stdout",
     "output_type": "stream",
     "text": [
      "tensor([[2.54773e+02, 2.64280e+02, 3.76031e+02, 3.94564e+02, 3.92526e-01, 0.00000e+00],\n",
      "        [3.82229e+01, 1.07626e+02, 1.75423e+02, 4.01133e+02, 2.91726e-01, 0.00000e+00]])\n"
     ]
    },
    {
     "name": "stderr",
     "output_type": "stream",
     "text": [
      "\r",
      " 36%|█████████████████████████████                                                   | 312/859 [21:10<37:38,  4.13s/it]"
     ]
    },
    {
     "name": "stdout",
     "output_type": "stream",
     "text": [
      "tensor([[1.50187e+01, 1.21337e+02, 1.49435e+02, 3.60755e+02, 2.87442e-01, 0.00000e+00],\n",
      "        [2.51016e+02, 1.22505e+02, 3.78273e+02, 3.60960e+02, 1.70075e-01, 0.00000e+00]])\n"
     ]
    },
    {
     "name": "stderr",
     "output_type": "stream",
     "text": [
      "\r",
      " 36%|█████████████████████████████▏                                                  | 313/859 [21:14<37:55,  4.17s/it]"
     ]
    },
    {
     "name": "stdout",
     "output_type": "stream",
     "text": [
      "tensor([[4.46664e+01, 6.40841e+01, 1.83532e+02, 3.23488e+02, 1.89534e-01, 0.00000e+00],\n",
      "        [2.79280e+02, 1.70729e+02, 3.98974e+02, 3.40328e+02, 1.59555e-01, 0.00000e+00]])\n"
     ]
    },
    {
     "name": "stderr",
     "output_type": "stream",
     "text": [
      "\r",
      " 37%|█████████████████████████████▏                                                  | 314/859 [21:19<37:38,  4.14s/it]"
     ]
    },
    {
     "name": "stdout",
     "output_type": "stream",
     "text": [
      "tensor([[3.23431e+01, 5.16127e+01, 1.83777e+02, 4.48278e+02, 1.78064e-01, 0.00000e+00]])\n"
     ]
    },
    {
     "name": "stderr",
     "output_type": "stream",
     "text": [
      "\r",
      " 37%|█████████████████████████████▎                                                  | 315/859 [21:23<37:17,  4.11s/it]"
     ]
    },
    {
     "name": "stdout",
     "output_type": "stream",
     "text": [
      "tensor([[3.32749e+02, 1.71563e+02, 4.43816e+02, 3.25470e+02, 2.56665e-01, 0.00000e+00],\n",
      "        [1.27790e+02, 1.26635e+02, 2.37816e+02, 3.04951e+02, 2.48628e-01, 0.00000e+00]])\n"
     ]
    },
    {
     "name": "stderr",
     "output_type": "stream",
     "text": [
      "\r",
      " 37%|█████████████████████████████▍                                                  | 316/859 [21:27<36:51,  4.07s/it]"
     ]
    },
    {
     "name": "stdout",
     "output_type": "stream",
     "text": [
      "tensor([[9.78218e+01, 4.18598e+01, 2.14289e+02, 3.21164e+02, 2.30074e-01, 0.00000e+00],\n",
      "        [3.08297e+02, 4.07303e+01, 4.27357e+02, 3.01500e+02, 1.87473e-01, 0.00000e+00]])\n"
     ]
    },
    {
     "name": "stderr",
     "output_type": "stream",
     "text": [
      "\r",
      " 37%|█████████████████████████████▌                                                  | 317/859 [21:31<36:24,  4.03s/it]"
     ]
    },
    {
     "name": "stdout",
     "output_type": "stream",
     "text": [
      "tensor([[3.80429e+01, 7.39615e+01, 1.74069e+02, 2.60916e+02, 2.56125e-01, 0.00000e+00],\n",
      "        [2.92114e+02, 7.18641e+01, 4.18048e+02, 2.69374e+02, 2.54289e-01, 0.00000e+00]])\n"
     ]
    },
    {
     "name": "stderr",
     "output_type": "stream",
     "text": [
      "\r",
      " 37%|█████████████████████████████▌                                                  | 318/859 [21:35<36:17,  4.02s/it]"
     ]
    },
    {
     "name": "stdout",
     "output_type": "stream",
     "text": [
      "tensor([[6.00810e+01, 9.59834e+01, 2.04550e+02, 4.00051e+02, 2.74709e-01, 0.00000e+00],\n",
      "        [3.27839e+02, 1.25828e+02, 4.48887e+02, 3.99668e+02, 1.77190e-01, 0.00000e+00]])\n"
     ]
    },
    {
     "name": "stderr",
     "output_type": "stream",
     "text": [
      "\r",
      " 37%|█████████████████████████████▋                                                  | 319/859 [21:39<36:11,  4.02s/it]"
     ]
    },
    {
     "name": "stdout",
     "output_type": "stream",
     "text": [
      "tensor([[1.43901e+02, 9.95126e+01, 2.44224e+02, 3.19876e+02, 2.65202e-01, 0.00000e+00],\n",
      "        [3.12688e+02, 1.55861e+02, 4.29716e+02, 3.52765e+02, 2.14975e-01, 0.00000e+00]])\n"
     ]
    },
    {
     "name": "stderr",
     "output_type": "stream",
     "text": [
      "\r",
      " 37%|█████████████████████████████▊                                                  | 320/859 [21:43<36:05,  4.02s/it]"
     ]
    },
    {
     "name": "stdout",
     "output_type": "stream",
     "text": [
      "tensor([[3.52572e+02, 2.87219e+02, 4.68945e+02, 4.41022e+02, 2.66187e-01, 0.00000e+00],\n",
      "        [1.27312e+02, 2.50438e+02, 2.65475e+02, 4.52675e+02, 2.26104e-01, 0.00000e+00]])\n"
     ]
    },
    {
     "name": "stderr",
     "output_type": "stream",
     "text": [
      "\r",
      " 37%|█████████████████████████████▉                                                  | 321/859 [21:46<35:49,  4.00s/it]"
     ]
    },
    {
     "name": "stdout",
     "output_type": "stream",
     "text": [
      "tensor([[4.81216e+01, 1.01406e+02, 2.01175e+02, 4.43505e+02, 3.77341e-01, 0.00000e+00],\n",
      "        [2.73254e+02, 7.45441e+01, 4.70022e+02, 4.08595e+02, 2.97141e-01, 0.00000e+00]])\n"
     ]
    },
    {
     "name": "stderr",
     "output_type": "stream",
     "text": [
      "\r",
      " 37%|█████████████████████████████▉                                                  | 322/859 [21:51<35:50,  4.01s/it]"
     ]
    },
    {
     "name": "stdout",
     "output_type": "stream",
     "text": [
      "tensor([[2.99019e+02, 1.06370e+02, 4.28146e+02, 3.65391e+02, 3.74103e-01, 0.00000e+00],\n",
      "        [8.99745e+01, 9.90427e+01, 2.18544e+02, 3.02237e+02, 2.93209e-01, 0.00000e+00]])\n"
     ]
    },
    {
     "name": "stderr",
     "output_type": "stream",
     "text": [
      "\r",
      " 38%|██████████████████████████████                                                  | 323/859 [21:55<36:01,  4.03s/it]"
     ]
    },
    {
     "name": "stdout",
     "output_type": "stream",
     "text": [
      "tensor([[3.15290e+02, 1.51239e+02, 4.58078e+02, 4.59806e+02, 4.73778e-01, 0.00000e+00],\n",
      "        [9.14091e+01, 1.63523e+02, 2.38229e+02, 4.71405e+02, 4.07947e-01, 0.00000e+00]])\n"
     ]
    },
    {
     "name": "stderr",
     "output_type": "stream",
     "text": [
      "\r",
      " 38%|██████████████████████████████▏                                                 | 324/859 [21:59<35:55,  4.03s/it]"
     ]
    },
    {
     "name": "stdout",
     "output_type": "stream",
     "text": [
      "tensor([[5.71425e+01, 9.64425e+01, 2.22227e+02, 4.39595e+02, 3.37372e-01, 0.00000e+00],\n",
      "        [2.98599e+02, 1.24374e+02, 4.45145e+02, 4.37232e+02, 2.48756e-01, 0.00000e+00]])\n"
     ]
    },
    {
     "name": "stderr",
     "output_type": "stream",
     "text": [
      "\r",
      " 38%|██████████████████████████████▎                                                 | 325/859 [22:03<35:33,  4.00s/it]"
     ]
    },
    {
     "name": "stdout",
     "output_type": "stream",
     "text": [
      "tensor([[2.83075e+02, 2.14189e+02, 4.31400e+02, 4.09843e+02, 1.66458e-01, 0.00000e+00],\n",
      "        [1.03923e+02, 2.48993e+02, 2.06423e+02, 4.01739e+02, 1.15157e-01, 0.00000e+00]])\n"
     ]
    },
    {
     "name": "stderr",
     "output_type": "stream",
     "text": [
      "\r",
      " 38%|██████████████████████████████▎                                                 | 326/859 [22:07<35:28,  3.99s/it]"
     ]
    },
    {
     "name": "stdout",
     "output_type": "stream",
     "text": [
      "tensor([[2.71185e+02, 7.08305e+01, 4.22887e+02, 4.39944e+02, 2.78926e-01, 0.00000e+00],\n",
      "        [1.72123e+01, 5.62763e+01, 1.91808e+02, 4.71837e+02, 2.73237e-01, 0.00000e+00]])\n"
     ]
    },
    {
     "name": "stderr",
     "output_type": "stream",
     "text": [
      "\r",
      " 38%|██████████████████████████████▍                                                 | 327/859 [22:11<35:32,  4.01s/it]"
     ]
    },
    {
     "name": "stdout",
     "output_type": "stream",
     "text": [
      "tensor([[3.27831e+02, 2.11394e+02, 4.66121e+02, 4.24575e+02, 1.61054e-01, 0.00000e+00]])\n"
     ]
    },
    {
     "name": "stderr",
     "output_type": "stream",
     "text": [
      "\r",
      " 38%|██████████████████████████████▌                                                 | 328/859 [22:15<35:24,  4.00s/it]"
     ]
    },
    {
     "name": "stdout",
     "output_type": "stream",
     "text": [
      "tensor([[8.73179e+01, 6.10271e+01, 2.28525e+02, 3.67310e+02, 1.84435e-01, 0.00000e+00],\n",
      "        [3.01276e+02, 1.24564e+02, 4.32125e+02, 3.87442e+02, 1.44509e-01, 0.00000e+00]])\n"
     ]
    },
    {
     "name": "stderr",
     "output_type": "stream",
     "text": [
      "\r",
      " 38%|██████████████████████████████▋                                                 | 329/859 [22:19<35:16,  3.99s/it]"
     ]
    },
    {
     "name": "stdout",
     "output_type": "stream",
     "text": [
      "tensor([[4.53936e+01, 1.48368e+02, 1.96543e+02, 4.36620e+02, 4.04838e-01, 0.00000e+00],\n",
      "        [2.62635e+02, 1.59705e+02, 3.92278e+02, 4.60683e+02, 2.94655e-01, 0.00000e+00]])\n"
     ]
    },
    {
     "name": "stderr",
     "output_type": "stream",
     "text": [
      "\r",
      " 38%|██████████████████████████████▋                                                 | 330/859 [22:23<35:15,  4.00s/it]"
     ]
    },
    {
     "name": "stdout",
     "output_type": "stream",
     "text": [
      "tensor([[1.13014e+02, 8.82283e+01, 2.47539e+02, 3.42518e+02, 3.01841e-01, 0.00000e+00],\n",
      "        [3.32074e+02, 8.60847e+01, 4.41301e+02, 3.51024e+02, 2.01573e-01, 0.00000e+00]])\n"
     ]
    },
    {
     "name": "stderr",
     "output_type": "stream",
     "text": [
      "\r",
      " 39%|██████████████████████████████▊                                                 | 331/859 [22:27<35:09,  4.00s/it]"
     ]
    },
    {
     "name": "stdout",
     "output_type": "stream",
     "text": [
      "tensor([[3.10869e+02, 1.07357e+02, 4.35768e+02, 3.86138e+02, 2.93576e-01, 0.00000e+00],\n",
      "        [7.21176e+01, 9.07440e+01, 2.11361e+02, 3.36344e+02, 2.88709e-01, 0.00000e+00]])\n"
     ]
    },
    {
     "name": "stderr",
     "output_type": "stream",
     "text": [
      "\r",
      " 39%|██████████████████████████████▉                                                 | 332/859 [22:30<35:00,  3.99s/it]"
     ]
    },
    {
     "name": "stdout",
     "output_type": "stream",
     "text": [
      "tensor([[4.05176e+01, 1.36419e+02, 2.06882e+02, 4.66392e+02, 1.82661e-01, 0.00000e+00],\n",
      "        [3.38085e+02, 8.78982e+01, 5.06833e+02, 4.59608e+02, 1.34779e-01, 0.00000e+00]])\n"
     ]
    },
    {
     "name": "stderr",
     "output_type": "stream",
     "text": [
      "\r",
      " 39%|███████████████████████████████                                                 | 333/859 [22:34<34:49,  3.97s/it]"
     ]
    },
    {
     "name": "stdout",
     "output_type": "stream",
     "text": [
      "tensor([[3.23815e+02, 1.41829e+02, 4.35127e+02, 3.50515e+02, 1.71372e-01, 0.00000e+00],\n",
      "        [9.20615e+01, 1.57046e+02, 2.07146e+02, 3.34539e+02, 1.71290e-01, 0.00000e+00]])\n"
     ]
    },
    {
     "name": "stderr",
     "output_type": "stream",
     "text": [
      "\r",
      " 39%|███████████████████████████████                                                 | 334/859 [22:38<34:59,  4.00s/it]"
     ]
    },
    {
     "name": "stdout",
     "output_type": "stream",
     "text": [
      "tensor([[5.82600e+01, 7.86893e+01, 1.96546e+02, 3.71288e+02, 4.88309e-01, 0.00000e+00],\n",
      "        [2.75310e+02, 7.93068e+01, 4.32071e+02, 3.56343e+02, 4.19505e-01, 0.00000e+00]])\n"
     ]
    },
    {
     "name": "stderr",
     "output_type": "stream",
     "text": [
      "\r",
      " 39%|███████████████████████████████▏                                                | 335/859 [22:42<34:47,  3.98s/it]"
     ]
    },
    {
     "name": "stdout",
     "output_type": "stream",
     "text": [
      "tensor([[2.45905e+02, 2.17932e+02, 3.83128e+02, 3.87186e+02, 3.22897e-01, 0.00000e+00],\n",
      "        [6.91987e+01, 1.45267e+02, 1.92027e+02, 4.03363e+02, 1.74032e-01, 0.00000e+00]])\n"
     ]
    },
    {
     "name": "stderr",
     "output_type": "stream",
     "text": [
      "\r",
      " 39%|███████████████████████████████▎                                                | 336/859 [22:46<34:33,  3.97s/it]"
     ]
    },
    {
     "name": "stdout",
     "output_type": "stream",
     "text": [
      "tensor([[5.59281e+01, 1.33146e+02, 1.73694e+02, 4.26522e+02, 2.66941e-01, 0.00000e+00],\n",
      "        [2.59524e+02, 9.63058e+01, 4.26825e+02, 3.81375e+02, 2.15778e-01, 0.00000e+00]])\n"
     ]
    },
    {
     "name": "stderr",
     "output_type": "stream",
     "text": [
      "\r",
      " 39%|███████████████████████████████▍                                                | 337/859 [22:50<34:36,  3.98s/it]"
     ]
    },
    {
     "name": "stdout",
     "output_type": "stream",
     "text": [
      "tensor([[2.36544e+02, 1.33344e+01, 4.24659e+02, 3.20385e+02, 4.36247e-01, 0.00000e+00],\n",
      "        [2.89360e-01, 4.18010e+01, 1.56427e+02, 3.49914e+02, 2.56244e-01, 0.00000e+00]])\n"
     ]
    },
    {
     "name": "stderr",
     "output_type": "stream",
     "text": [
      "\r",
      " 39%|███████████████████████████████▍                                                | 338/859 [22:54<34:34,  3.98s/it]"
     ]
    },
    {
     "name": "stdout",
     "output_type": "stream",
     "text": [
      "tensor([[9.60802e+01, 1.06871e+02, 2.35472e+02, 3.80203e+02, 3.26535e-01, 0.00000e+00],\n",
      "        [3.10993e+02, 9.75011e+01, 4.44963e+02, 3.90493e+02, 2.60076e-01, 0.00000e+00]])\n"
     ]
    },
    {
     "name": "stderr",
     "output_type": "stream",
     "text": [
      "\r",
      " 39%|███████████████████████████████▌                                                | 339/859 [22:58<34:30,  3.98s/it]"
     ]
    },
    {
     "name": "stdout",
     "output_type": "stream",
     "text": [
      "tensor([[8.38354e+01, 6.87131e+01, 2.26954e+02, 3.47466e+02, 3.28706e-01, 0.00000e+00],\n",
      "        [3.07231e+02, 7.50843e+01, 4.35898e+02, 3.45893e+02, 2.92300e-01, 0.00000e+00]])\n"
     ]
    },
    {
     "name": "stderr",
     "output_type": "stream",
     "text": [
      "\r",
      " 40%|███████████████████████████████▋                                                | 340/859 [23:02<34:39,  4.01s/it]"
     ]
    },
    {
     "name": "stdout",
     "output_type": "stream",
     "text": [
      "tensor([[1.38098e+02, 1.01856e+01, 3.15738e+02, 3.97563e+02, 3.34132e-01, 0.00000e+00],\n",
      "        [3.99004e+02, 8.24533e+00, 5.12965e+02, 3.13211e+02, 1.05214e-01, 0.00000e+00]])\n"
     ]
    },
    {
     "name": "stderr",
     "output_type": "stream",
     "text": [
      "\r",
      " 40%|███████████████████████████████▊                                                | 341/859 [23:07<35:19,  4.09s/it]"
     ]
    },
    {
     "name": "stdout",
     "output_type": "stream",
     "text": [
      "tensor([[1.39287e+02, 9.02858e+01, 2.67479e+02, 3.26114e+02, 4.10102e-01, 0.00000e+00],\n",
      "        [3.27001e+02, 6.49203e+01, 4.59932e+02, 2.95250e+02, 4.00757e-01, 0.00000e+00]])\n"
     ]
    },
    {
     "name": "stderr",
     "output_type": "stream",
     "text": [
      "\r",
      " 40%|███████████████████████████████▊                                                | 342/859 [23:11<35:29,  4.12s/it]"
     ]
    },
    {
     "name": "stdout",
     "output_type": "stream",
     "text": [
      "tensor([[7.95119e+01, 1.47851e+02, 2.13301e+02, 3.75052e+02, 1.81297e-01, 0.00000e+00],\n",
      "        [2.88665e+02, 1.27506e+02, 4.03711e+02, 4.05805e+02, 1.78950e-01, 0.00000e+00]])\n"
     ]
    },
    {
     "name": "stderr",
     "output_type": "stream",
     "text": [
      "\r",
      " 40%|███████████████████████████████▉                                                | 343/859 [23:15<35:37,  4.14s/it]"
     ]
    },
    {
     "name": "stdout",
     "output_type": "stream",
     "text": [
      "tensor([[5.95192e+01, 1.08197e+02, 2.17380e+02, 3.95932e+02, 3.11150e-01, 0.00000e+00],\n",
      "        [2.90598e+02, 9.17626e+01, 4.45830e+02, 3.61993e+02, 2.87981e-01, 0.00000e+00]])\n"
     ]
    },
    {
     "name": "stderr",
     "output_type": "stream",
     "text": [
      "\r",
      " 40%|████████████████████████████████                                                | 344/859 [23:19<35:33,  4.14s/it]"
     ]
    },
    {
     "name": "stdout",
     "output_type": "stream",
     "text": [
      "tensor([[9.94918e+01, 1.22466e+02, 2.27812e+02, 3.68463e+02, 3.02846e-01, 0.00000e+00],\n",
      "        [2.90150e+02, 1.36991e+02, 4.34209e+02, 3.76475e+02, 2.84554e-01, 0.00000e+00]])\n"
     ]
    },
    {
     "name": "stderr",
     "output_type": "stream",
     "text": [
      "\r",
      " 40%|████████████████████████████████▏                                               | 345/859 [23:23<34:58,  4.08s/it]"
     ]
    },
    {
     "name": "stdout",
     "output_type": "stream",
     "text": [
      "tensor([[4.82412e+01, 1.46195e+02, 1.64944e+02, 3.96634e+02, 3.37674e-01, 0.00000e+00],\n",
      "        [2.58859e+02, 1.70556e+02, 3.87820e+02, 4.30664e+02, 1.78247e-01, 0.00000e+00]])\n"
     ]
    },
    {
     "name": "stderr",
     "output_type": "stream",
     "text": [
      "\r",
      " 40%|████████████████████████████████▏                                               | 346/859 [23:27<34:49,  4.07s/it]"
     ]
    },
    {
     "name": "stdout",
     "output_type": "stream",
     "text": [
      "tensor([[2.87445e+02, 9.55048e+01, 4.34660e+02, 4.02589e+02, 4.06607e-01, 0.00000e+00],\n",
      "        [5.54578e+01, 1.06776e+02, 2.04424e+02, 3.78645e+02, 3.34236e-01, 0.00000e+00]])\n"
     ]
    },
    {
     "name": "stderr",
     "output_type": "stream",
     "text": [
      "\r",
      " 40%|████████████████████████████████▎                                               | 347/859 [23:31<34:24,  4.03s/it]"
     ]
    },
    {
     "name": "stdout",
     "output_type": "stream",
     "text": [
      "tensor([[3.01460e+02, 5.69797e+01, 4.56806e+02, 3.48663e+02, 3.06490e-01, 0.00000e+00],\n",
      "        [8.42046e+01, 7.83777e+01, 1.95834e+02, 3.39002e+02, 2.56927e-01, 0.00000e+00]])\n"
     ]
    },
    {
     "name": "stderr",
     "output_type": "stream",
     "text": [
      "\r",
      " 41%|████████████████████████████████▍                                               | 348/859 [23:35<34:12,  4.02s/it]"
     ]
    },
    {
     "name": "stdout",
     "output_type": "stream",
     "text": [
      "tensor([[1.04787e+02, 7.78981e+01, 2.12407e+02, 3.10679e+02, 3.88643e-01, 0.00000e+00],\n",
      "        [2.98748e+02, 7.27153e+01, 4.19559e+02, 3.39134e+02, 3.62894e-01, 0.00000e+00]])\n"
     ]
    },
    {
     "name": "stderr",
     "output_type": "stream",
     "text": [
      "\r",
      " 41%|████████████████████████████████▌                                               | 349/859 [23:39<34:12,  4.02s/it]"
     ]
    },
    {
     "name": "stdout",
     "output_type": "stream",
     "text": [
      "tensor([[6.55659e+01, 6.86046e+01, 2.02967e+02, 3.41809e+02, 2.13475e-01, 0.00000e+00],\n",
      "        [3.49492e+02, 1.55816e+02, 4.85261e+02, 3.65778e+02, 1.84094e-01, 0.00000e+00]])\n"
     ]
    },
    {
     "name": "stderr",
     "output_type": "stream",
     "text": [
      "\r",
      " 41%|████████████████████████████████▌                                               | 350/859 [23:43<33:56,  4.00s/it]"
     ]
    },
    {
     "name": "stdout",
     "output_type": "stream",
     "text": [
      "tensor([[3.17789e+02, 8.12557e+01, 4.55046e+02, 4.28481e+02, 3.30814e-01, 0.00000e+00],\n",
      "        [1.49333e+02, 1.02624e+02, 2.69191e+02, 4.28098e+02, 1.75504e-01, 0.00000e+00]])\n"
     ]
    },
    {
     "name": "stderr",
     "output_type": "stream",
     "text": [
      "\r",
      " 41%|████████████████████████████████▋                                               | 351/859 [23:47<34:00,  4.02s/it]"
     ]
    },
    {
     "name": "stdout",
     "output_type": "stream",
     "text": [
      "tensor([[1.49170e+02, 4.98998e+01, 2.73506e+02, 2.99480e+02, 6.07003e-01, 0.00000e+00],\n",
      "        [3.32145e+02, 9.35583e+01, 4.36595e+02, 3.20036e+02, 4.21339e-01, 0.00000e+00]])\n"
     ]
    },
    {
     "name": "stderr",
     "output_type": "stream",
     "text": [
      "\r",
      " 41%|████████████████████████████████▊                                               | 352/859 [23:51<33:50,  4.00s/it]"
     ]
    },
    {
     "name": "stdout",
     "output_type": "stream",
     "text": [
      "tensor([[3.04967e+02, 1.20444e+02, 4.35638e+02, 3.59595e+02, 2.78325e-01, 0.00000e+00],\n",
      "        [8.75700e+01, 8.47303e+01, 2.14022e+02, 3.59970e+02, 2.57554e-01, 0.00000e+00]])\n"
     ]
    },
    {
     "name": "stderr",
     "output_type": "stream",
     "text": [
      "\r",
      " 41%|████████████████████████████████▉                                               | 353/859 [23:55<33:36,  3.99s/it]"
     ]
    },
    {
     "name": "stdout",
     "output_type": "stream",
     "text": [
      "tensor([[3.22063e+02, 9.74754e+01, 4.65111e+02, 4.03710e+02, 5.11188e-01, 0.00000e+00],\n",
      "        [4.58055e+01, 6.95644e+01, 2.41673e+02, 3.32665e+02, 4.16014e-01, 0.00000e+00]])\n"
     ]
    },
    {
     "name": "stderr",
     "output_type": "stream",
     "text": [
      "\r",
      " 41%|████████████████████████████████▉                                               | 354/859 [23:59<33:40,  4.00s/it]"
     ]
    },
    {
     "name": "stdout",
     "output_type": "stream",
     "text": [
      "tensor([[5.75092e+01, 1.65499e+02, 1.85579e+02, 4.68438e+02, 3.72908e-01, 0.00000e+00],\n",
      "        [2.94836e+02, 1.25457e+02, 4.31837e+02, 4.11216e+02, 1.69038e-01, 0.00000e+00]])\n"
     ]
    },
    {
     "name": "stderr",
     "output_type": "stream",
     "text": [
      "\r",
      " 41%|█████████████████████████████████                                               | 355/859 [24:03<33:47,  4.02s/it]"
     ]
    },
    {
     "name": "stdout",
     "output_type": "stream",
     "text": [
      "tensor([[9.20455e+01, 8.75486e+01, 1.98988e+02, 3.21950e+02, 3.38859e-01, 0.00000e+00],\n",
      "        [2.88066e+02, 1.45832e+02, 3.94808e+02, 3.46829e+02, 2.74096e-01, 0.00000e+00]])\n"
     ]
    },
    {
     "name": "stderr",
     "output_type": "stream",
     "text": [
      "\r",
      " 41%|█████████████████████████████████▏                                              | 356/859 [24:07<33:46,  4.03s/it]"
     ]
    },
    {
     "name": "stdout",
     "output_type": "stream",
     "text": [
      "tensor([[3.23220e+02, 1.61320e+02, 4.78700e+02, 4.82224e+02, 1.63932e-01, 0.00000e+00],\n",
      "        [7.72405e+01, 1.62027e+02, 2.25520e+02, 5.00780e+02, 1.48379e-01, 0.00000e+00]])\n"
     ]
    },
    {
     "name": "stderr",
     "output_type": "stream",
     "text": [
      "\r",
      " 42%|█████████████████████████████████▏                                              | 357/859 [24:11<33:41,  4.03s/it]"
     ]
    },
    {
     "name": "stdout",
     "output_type": "stream",
     "text": [
      "tensor([[1.04309e+02, 8.87432e+01, 2.22433e+02, 3.27716e+02, 2.95670e-01, 0.00000e+00],\n",
      "        [3.07141e+02, 8.24863e+01, 4.23015e+02, 3.32639e+02, 2.57453e-01, 0.00000e+00]])\n"
     ]
    },
    {
     "name": "stderr",
     "output_type": "stream",
     "text": [
      "\r",
      " 42%|█████████████████████████████████▎                                              | 358/859 [24:15<33:23,  4.00s/it]"
     ]
    },
    {
     "name": "stdout",
     "output_type": "stream",
     "text": [
      "tensor([[3.14810e+02, 2.91477e+02, 4.28794e+02, 4.34253e+02, 2.54149e-01, 0.00000e+00],\n",
      "        [8.86236e+01, 2.69815e+02, 2.18227e+02, 4.09037e+02, 2.40120e-01, 0.00000e+00]])\n"
     ]
    },
    {
     "name": "stderr",
     "output_type": "stream",
     "text": [
      "\r",
      " 42%|█████████████████████████████████▍                                              | 359/859 [24:19<33:24,  4.01s/it]"
     ]
    },
    {
     "name": "stdout",
     "output_type": "stream",
     "text": [
      "tensor([[3.11911e+02, 2.31262e+02, 4.25841e+02, 4.25419e+02, 2.18162e-01, 0.00000e+00],\n",
      "        [9.25059e+01, 8.55433e+01, 2.31225e+02, 4.38445e+02, 1.75586e-01, 0.00000e+00]])\n"
     ]
    },
    {
     "name": "stderr",
     "output_type": "stream",
     "text": [
      "\r",
      " 42%|█████████████████████████████████▌                                              | 360/859 [24:23<33:16,  4.00s/it]"
     ]
    },
    {
     "name": "stdout",
     "output_type": "stream",
     "text": [
      "tensor([[3.20009e+02, 1.45306e+02, 4.52703e+02, 3.48864e+02, 3.47412e-01, 0.00000e+00],\n",
      "        [8.58038e+01, 1.09599e+02, 2.17598e+02, 3.30937e+02, 2.71782e-01, 0.00000e+00]])\n"
     ]
    },
    {
     "name": "stderr",
     "output_type": "stream",
     "text": [
      "\r",
      " 42%|█████████████████████████████████▌                                              | 361/859 [24:27<33:20,  4.02s/it]"
     ]
    },
    {
     "name": "stdout",
     "output_type": "stream",
     "text": [
      "tensor([[4.29059e+01, 1.29287e+02, 1.78218e+02, 3.54502e+02, 4.44674e-01, 0.00000e+00],\n",
      "        [2.73983e+02, 1.25858e+02, 3.95077e+02, 3.81778e+02, 3.01278e-01, 0.00000e+00]])\n"
     ]
    },
    {
     "name": "stderr",
     "output_type": "stream",
     "text": [
      "\r",
      " 42%|█████████████████████████████████▋                                              | 362/859 [24:31<33:22,  4.03s/it]"
     ]
    },
    {
     "name": "stdout",
     "output_type": "stream",
     "text": [
      "tensor([[2.79447e+02, 1.40589e+02, 4.13058e+02, 4.48280e+02, 3.43407e-01, 0.00000e+00],\n",
      "        [1.07257e+01, 1.08971e+02, 1.88168e+02, 4.78158e+02, 2.46343e-01, 0.00000e+00]])\n"
     ]
    },
    {
     "name": "stderr",
     "output_type": "stream",
     "text": [
      "\r",
      " 42%|█████████████████████████████████▊                                              | 363/859 [24:35<33:29,  4.05s/it]"
     ]
    },
    {
     "name": "stdout",
     "output_type": "stream",
     "text": [
      "tensor([[3.02945e+02, 1.58696e+02, 4.35487e+02, 4.36262e+02, 3.46704e-01, 0.00000e+00],\n",
      "        [1.04925e+02, 1.75082e+02, 2.35346e+02, 4.31991e+02, 2.48272e-01, 0.00000e+00]])\n"
     ]
    },
    {
     "name": "stderr",
     "output_type": "stream",
     "text": [
      "\r",
      " 42%|█████████████████████████████████▉                                              | 364/859 [24:39<33:09,  4.02s/it]"
     ]
    },
    {
     "name": "stdout",
     "output_type": "stream",
     "text": [
      "tensor([[ 62.12874,  60.09582, 176.39049, 299.45432,   0.40848,   0.00000],\n",
      "        [246.01395,  97.01385, 369.19724, 337.74359,   0.39212,   0.00000]])\n"
     ]
    },
    {
     "name": "stderr",
     "output_type": "stream",
     "text": [
      "\r",
      " 42%|█████████████████████████████████▉                                              | 365/859 [24:43<33:14,  4.04s/it]"
     ]
    },
    {
     "name": "stdout",
     "output_type": "stream",
     "text": [
      "tensor([[4.94667e+01, 1.05463e+02, 2.05151e+02, 4.00121e+02, 4.17192e-01, 0.00000e+00],\n",
      "        [3.26642e+02, 1.08740e+02, 4.81868e+02, 4.02067e+02, 3.35572e-01, 0.00000e+00]])\n"
     ]
    },
    {
     "name": "stderr",
     "output_type": "stream",
     "text": [
      "\r",
      " 43%|██████████████████████████████████                                              | 366/859 [24:47<33:02,  4.02s/it]"
     ]
    },
    {
     "name": "stdout",
     "output_type": "stream",
     "text": [
      "tensor([[3.23161e+02, 2.14200e+02, 4.65786e+02, 4.13672e+02, 3.07580e-01, 0.00000e+00],\n",
      "        [5.78615e+01, 1.17722e+02, 2.36545e+02, 4.09260e+02, 2.47484e-01, 0.00000e+00],\n",
      "        [4.75487e+02, 1.97548e+02, 5.11178e+02, 2.58776e+02, 1.09830e-01, 0.00000e+00]])\n"
     ]
    },
    {
     "name": "stderr",
     "output_type": "stream",
     "text": [
      "\r",
      " 43%|██████████████████████████████████▏                                             | 367/859 [24:51<32:56,  4.02s/it]"
     ]
    },
    {
     "name": "stdout",
     "output_type": "stream",
     "text": [
      "tensor([[1.05701e+02, 9.16880e+01, 2.51236e+02, 3.84642e+02, 2.52154e-01, 0.00000e+00],\n",
      "        [3.32005e+02, 1.23094e+02, 4.91696e+02, 3.78684e+02, 2.19162e-01, 0.00000e+00]])\n"
     ]
    },
    {
     "name": "stderr",
     "output_type": "stream",
     "text": [
      "\r",
      " 43%|██████████████████████████████████▎                                             | 368/859 [24:56<33:06,  4.05s/it]"
     ]
    },
    {
     "name": "stdout",
     "output_type": "stream",
     "text": [
      "tensor([[9.03388e+01, 1.37869e+02, 2.39892e+02, 4.82442e+02, 1.78683e-01, 0.00000e+00],\n",
      "        [3.00547e+02, 1.17138e+02, 4.52909e+02, 4.73152e+02, 1.77946e-01, 0.00000e+00],\n",
      "        [3.36197e+02, 3.78901e+02, 4.12236e+02, 4.64561e+02, 1.02312e-01, 0.00000e+00]])\n"
     ]
    },
    {
     "name": "stderr",
     "output_type": "stream",
     "text": [
      "\r",
      " 43%|██████████████████████████████████▎                                             | 369/859 [25:00<33:11,  4.07s/it]"
     ]
    },
    {
     "name": "stdout",
     "output_type": "stream",
     "text": [
      "tensor([[3.89894e+01, 1.45622e+02, 1.29407e+02, 2.84416e+02, 2.61598e-01, 0.00000e+00],\n",
      "        [2.82482e+02, 1.81060e+02, 3.80334e+02, 3.15251e+02, 2.27656e-01, 0.00000e+00]])\n"
     ]
    },
    {
     "name": "stderr",
     "output_type": "stream",
     "text": [
      "\r",
      " 43%|██████████████████████████████████▍                                             | 370/859 [25:04<33:16,  4.08s/it]"
     ]
    },
    {
     "name": "stdout",
     "output_type": "stream",
     "text": [
      "tensor([[3.36961e+02, 1.19931e+02, 4.87521e+02, 3.34441e+02, 5.55206e-01, 0.00000e+00],\n",
      "        [1.48306e+02, 1.64064e+02, 2.76142e+02, 3.35353e+02, 4.74600e-01, 0.00000e+00]])\n"
     ]
    },
    {
     "name": "stderr",
     "output_type": "stream",
     "text": [
      "\r",
      " 43%|██████████████████████████████████▌                                             | 371/859 [25:08<33:31,  4.12s/it]"
     ]
    },
    {
     "name": "stdout",
     "output_type": "stream",
     "text": [
      "tensor([[9.49158e+01, 4.99569e+01, 2.24109e+02, 3.30820e+02, 3.85028e-01, 0.00000e+00],\n",
      "        [2.98810e+02, 6.95398e+01, 4.24360e+02, 3.34962e+02, 3.78245e-01, 0.00000e+00],\n",
      "        [2.94936e+02, 3.41866e+02, 3.54215e+02, 3.81403e+02, 1.72596e-01, 0.00000e+00]])\n"
     ]
    },
    {
     "name": "stderr",
     "output_type": "stream",
     "text": [
      "\r",
      " 43%|██████████████████████████████████▋                                             | 372/859 [25:12<33:59,  4.19s/it]"
     ]
    },
    {
     "name": "stdout",
     "output_type": "stream",
     "text": [
      "tensor([[ 39.01115,  81.59112, 167.44142, 330.30542,   0.40040,   0.00000],\n",
      "        [245.42914,  56.57039, 377.30945, 350.76392,   0.39897,   0.00000]])\n"
     ]
    },
    {
     "name": "stderr",
     "output_type": "stream",
     "text": [
      "\r",
      " 43%|██████████████████████████████████▋                                             | 373/859 [25:17<34:19,  4.24s/it]"
     ]
    },
    {
     "name": "stdout",
     "output_type": "stream",
     "text": [
      "tensor([[4.47978e+01, 1.36808e+02, 1.62300e+02, 3.78186e+02, 2.90335e-01, 0.00000e+00],\n",
      "        [2.31960e+02, 1.16950e+02, 3.58046e+02, 3.84429e+02, 2.39155e-01, 0.00000e+00]])\n"
     ]
    },
    {
     "name": "stderr",
     "output_type": "stream",
     "text": [
      "\r",
      " 44%|██████████████████████████████████▊                                             | 374/859 [25:21<33:52,  4.19s/it]"
     ]
    },
    {
     "name": "stdout",
     "output_type": "stream",
     "text": [
      "tensor([[3.29379e+01, 1.91892e+02, 1.78936e+02, 3.39156e+02, 3.29227e-01, 0.00000e+00],\n",
      "        [2.55138e+02, 1.47210e+02, 3.98706e+02, 3.46765e+02, 3.22556e-01, 0.00000e+00]])\n"
     ]
    },
    {
     "name": "stderr",
     "output_type": "stream",
     "text": [
      "\r",
      " 44%|██████████████████████████████████▉                                             | 375/859 [25:25<33:24,  4.14s/it]"
     ]
    },
    {
     "name": "stdout",
     "output_type": "stream",
     "text": [
      "tensor([[4.16540e+00, 1.04408e+02, 1.49001e+02, 3.97272e+02, 3.92674e-01, 0.00000e+00],\n",
      "        [2.91545e+02, 1.30080e+02, 4.15583e+02, 3.93075e+02, 2.47452e-01, 0.00000e+00]])\n"
     ]
    },
    {
     "name": "stderr",
     "output_type": "stream",
     "text": [
      "\r",
      " 44%|███████████████████████████████████                                             | 376/859 [25:29<32:53,  4.09s/it]"
     ]
    },
    {
     "name": "stdout",
     "output_type": "stream",
     "text": [
      "tensor([[3.58143e+01, 9.36428e+01, 2.22199e+02, 4.21178e+02, 1.90702e-01, 0.00000e+00],\n",
      "        [2.96156e+02, 2.56938e+02, 4.42527e+02, 4.56973e+02, 1.49548e-01, 0.00000e+00]])\n"
     ]
    },
    {
     "name": "stderr",
     "output_type": "stream",
     "text": [
      "\r",
      " 44%|███████████████████████████████████                                             | 377/859 [25:33<32:51,  4.09s/it]"
     ]
    },
    {
     "name": "stdout",
     "output_type": "stream",
     "text": [
      "tensor([[2.73038e+02, 1.50916e+02, 3.85831e+02, 4.22794e+02, 2.19325e-01, 0.00000e+00],\n",
      "        [4.42945e+01, 1.16076e+02, 1.72659e+02, 4.10890e+02, 1.67675e-01, 0.00000e+00]])\n"
     ]
    },
    {
     "name": "stderr",
     "output_type": "stream",
     "text": [
      "\r",
      " 44%|███████████████████████████████████▏                                            | 378/859 [25:37<32:33,  4.06s/it]"
     ]
    },
    {
     "name": "stdout",
     "output_type": "stream",
     "text": [
      "tensor([[1.02563e+02, 1.40704e+02, 2.21649e+02, 3.45001e+02, 3.24482e-01, 0.00000e+00],\n",
      "        [3.48512e+02, 2.72642e+02, 4.42520e+02, 4.07790e+02, 1.67153e-01, 0.00000e+00]])\n"
     ]
    },
    {
     "name": "stderr",
     "output_type": "stream",
     "text": [
      "\r",
      " 44%|███████████████████████████████████▎                                            | 379/859 [25:41<32:25,  4.05s/it]"
     ]
    },
    {
     "name": "stdout",
     "output_type": "stream",
     "text": [
      "tensor([[2.94284e+02, 1.56572e+02, 4.28264e+02, 3.58496e+02, 2.87120e-01, 0.00000e+00],\n",
      "        [7.60627e+01, 1.22580e+02, 2.17533e+02, 3.77594e+02, 2.28478e-01, 0.00000e+00]])\n"
     ]
    },
    {
     "name": "stderr",
     "output_type": "stream",
     "text": [
      "\r",
      " 44%|███████████████████████████████████▍                                            | 380/859 [25:45<32:09,  4.03s/it]"
     ]
    },
    {
     "name": "stdout",
     "output_type": "stream",
     "text": [
      "tensor([[7.93677e+01, 1.08957e+02, 2.10204e+02, 4.08537e+02, 2.96785e-01, 0.00000e+00],\n",
      "        [2.97979e+02, 1.09569e+02, 4.25254e+02, 4.10425e+02, 2.71813e-01, 0.00000e+00]])\n"
     ]
    },
    {
     "name": "stderr",
     "output_type": "stream",
     "text": [
      "\r",
      " 44%|███████████████████████████████████▍                                            | 381/859 [25:49<32:00,  4.02s/it]"
     ]
    },
    {
     "name": "stdout",
     "output_type": "stream",
     "text": [
      "tensor([[3.22542e+02, 1.49641e+02, 4.45975e+02, 2.95318e+02, 4.50370e-01, 0.00000e+00],\n",
      "        [8.22168e+01, 8.14860e+01, 2.39601e+02, 3.35799e+02, 3.84650e-01, 0.00000e+00]])\n"
     ]
    },
    {
     "name": "stderr",
     "output_type": "stream",
     "text": [
      "\r",
      " 44%|███████████████████████████████████▌                                            | 382/859 [25:53<31:47,  4.00s/it]"
     ]
    },
    {
     "name": "stdout",
     "output_type": "stream",
     "text": [
      "tensor([[9.08286e+01, 1.37128e+02, 1.98576e+02, 2.94121e+02, 1.60440e-01, 0.00000e+00],\n",
      "        [2.81539e+02, 1.35193e+02, 3.82213e+02, 2.88697e+02, 1.16254e-01, 0.00000e+00]])\n"
     ]
    },
    {
     "name": "stderr",
     "output_type": "stream",
     "text": [
      "\r",
      " 45%|███████████████████████████████████▋                                            | 383/859 [25:57<31:26,  3.96s/it]"
     ]
    },
    {
     "name": "stdout",
     "output_type": "stream",
     "text": [
      "tensor([[3.07740e+02, 7.40448e+01, 4.36351e+02, 3.20330e+02, 3.26986e-01, 0.00000e+00],\n",
      "        [7.49578e+01, 9.48386e+01, 2.20198e+02, 3.19257e+02, 2.84885e-01, 0.00000e+00]])\n"
     ]
    },
    {
     "name": "stderr",
     "output_type": "stream",
     "text": [
      "\r",
      " 45%|███████████████████████████████████▊                                            | 384/859 [26:01<31:29,  3.98s/it]"
     ]
    },
    {
     "name": "stdout",
     "output_type": "stream",
     "text": [
      "tensor([[1.37015e+02, 1.47781e+02, 2.57061e+02, 3.71243e+02, 2.05705e-01, 0.00000e+00],\n",
      "        [3.55313e+02, 1.61573e+02, 4.86498e+02, 4.10693e+02, 1.71179e-01, 0.00000e+00]])\n"
     ]
    },
    {
     "name": "stderr",
     "output_type": "stream",
     "text": [
      "\r",
      " 45%|███████████████████████████████████▊                                            | 385/859 [26:05<31:27,  3.98s/it]"
     ]
    },
    {
     "name": "stdout",
     "output_type": "stream",
     "text": [
      "tensor([[2.65454e+02, 6.44417e+01, 4.03542e+02, 2.73342e+02, 3.61058e-01, 0.00000e+00],\n",
      "        [1.12856e+02, 1.21087e+02, 1.99671e+02, 3.58662e+02, 1.94627e-01, 0.00000e+00]])\n"
     ]
    },
    {
     "name": "stderr",
     "output_type": "stream",
     "text": [
      "\r",
      " 45%|███████████████████████████████████▉                                            | 386/859 [26:09<31:41,  4.02s/it]"
     ]
    },
    {
     "name": "stdout",
     "output_type": "stream",
     "text": [
      "tensor([[7.95550e+01, 8.38630e+01, 2.48648e+02, 4.17730e+02, 3.49554e-01, 0.00000e+00],\n",
      "        [3.27113e+02, 7.35750e+01, 4.98743e+02, 4.36300e+02, 2.21096e-01, 0.00000e+00]])\n"
     ]
    },
    {
     "name": "stderr",
     "output_type": "stream",
     "text": [
      "\r",
      " 45%|████████████████████████████████████                                            | 387/859 [26:13<31:22,  3.99s/it]"
     ]
    },
    {
     "name": "stdout",
     "output_type": "stream",
     "text": [
      "tensor([[2.83182e+02, 2.09217e+02, 4.06845e+02, 3.65739e+02, 4.18587e-01, 0.00000e+00],\n",
      "        [6.50210e+01, 1.62556e+02, 1.79075e+02, 3.22218e+02, 2.66701e-01, 0.00000e+00]])\n"
     ]
    },
    {
     "name": "stderr",
     "output_type": "stream",
     "text": [
      "\r",
      " 45%|████████████████████████████████████▏                                           | 388/859 [26:17<31:22,  4.00s/it]"
     ]
    },
    {
     "name": "stdout",
     "output_type": "stream",
     "text": [
      "tensor([[2.88010e+02, 1.38202e+02, 4.34754e+02, 3.51873e+02, 2.40260e-01, 0.00000e+00],\n",
      "        [9.30151e+01, 7.16557e+01, 2.53690e+02, 4.45147e+02, 1.53438e-01, 0.00000e+00]])\n"
     ]
    },
    {
     "name": "stderr",
     "output_type": "stream",
     "text": [
      "\r",
      " 45%|████████████████████████████████████▏                                           | 389/859 [26:21<31:03,  3.96s/it]"
     ]
    },
    {
     "name": "stdout",
     "output_type": "stream",
     "text": [
      "tensor([[5.28320e+01, 1.34077e+02, 1.83850e+02, 3.78309e+02, 1.74174e-01, 0.00000e+00],\n",
      "        [3.10234e+02, 2.10248e+02, 4.18852e+02, 3.95724e+02, 1.18387e-01, 0.00000e+00]])\n"
     ]
    },
    {
     "name": "stderr",
     "output_type": "stream",
     "text": [
      "\r",
      " 45%|████████████████████████████████████▎                                           | 390/859 [26:25<30:55,  3.96s/it]"
     ]
    },
    {
     "name": "stdout",
     "output_type": "stream",
     "text": [
      "tensor([[5.96413e+01, 1.49662e+02, 2.05017e+02, 3.71936e+02, 3.85885e-01, 0.00000e+00],\n",
      "        [2.53433e+02, 1.28530e+02, 4.24521e+02, 3.54130e+02, 2.90657e-01, 0.00000e+00]])\n"
     ]
    },
    {
     "name": "stderr",
     "output_type": "stream",
     "text": [
      "\r",
      " 46%|████████████████████████████████████▍                                           | 391/859 [26:29<30:53,  3.96s/it]"
     ]
    },
    {
     "name": "stdout",
     "output_type": "stream",
     "text": [
      "tensor([[2.93685e+02, 9.05209e+01, 4.28391e+02, 3.95683e+02, 3.03799e-01, 0.00000e+00],\n",
      "        [7.84840e+01, 7.54240e+01, 2.20440e+02, 3.71451e+02, 3.02046e-01, 0.00000e+00]])\n"
     ]
    },
    {
     "name": "stderr",
     "output_type": "stream",
     "text": [
      "\r",
      " 46%|████████████████████████████████████▌                                           | 392/859 [26:32<30:47,  3.96s/it]"
     ]
    },
    {
     "name": "stdout",
     "output_type": "stream",
     "text": [
      "tensor([[8.56284e+01, 7.81687e+01, 1.95912e+02, 3.44362e+02, 4.71816e-01, 0.00000e+00],\n",
      "        [3.00544e+02, 6.39252e+01, 4.40440e+02, 3.44387e+02, 1.89187e-01, 0.00000e+00]])\n"
     ]
    },
    {
     "name": "stderr",
     "output_type": "stream",
     "text": [
      "\r",
      " 46%|████████████████████████████████████▌                                           | 393/859 [26:36<30:42,  3.95s/it]"
     ]
    },
    {
     "name": "stdout",
     "output_type": "stream",
     "text": [
      "tensor([[4.74065e+01, 1.15468e+02, 1.60237e+02, 3.69883e+02, 3.24541e-01, 0.00000e+00],\n",
      "        [2.85155e+02, 1.78364e+02, 4.13512e+02, 4.37881e+02, 2.76405e-01, 0.00000e+00]])\n"
     ]
    },
    {
     "name": "stderr",
     "output_type": "stream",
     "text": [
      "\r",
      " 46%|████████████████████████████████████▋                                           | 394/859 [26:40<30:43,  3.97s/it]"
     ]
    },
    {
     "name": "stdout",
     "output_type": "stream",
     "text": [
      "tensor([[1.03488e+02, 1.58808e+02, 2.24692e+02, 3.89555e+02, 2.82875e-01, 0.00000e+00],\n",
      "        [3.29577e+02, 2.10966e+02, 4.72498e+02, 4.05771e+02, 1.96406e-01, 0.00000e+00]])\n"
     ]
    },
    {
     "name": "stderr",
     "output_type": "stream",
     "text": [
      "\r",
      " 46%|████████████████████████████████████▊                                           | 395/859 [26:44<30:43,  3.97s/it]"
     ]
    },
    {
     "name": "stdout",
     "output_type": "stream",
     "text": [
      "tensor([[1.17234e+01, 1.57738e+02, 1.73302e+02, 4.79129e+02, 4.85903e-01, 0.00000e+00],\n",
      "        [2.73943e+02, 1.42634e+02, 4.10497e+02, 4.96053e+02, 4.35312e-01, 0.00000e+00],\n",
      "        [3.10846e+02, 1.50761e+02, 3.79212e+02, 2.72173e+02, 1.32260e-01, 0.00000e+00]])\n"
     ]
    },
    {
     "name": "stderr",
     "output_type": "stream",
     "text": [
      "\r",
      " 46%|████████████████████████████████████▉                                           | 396/859 [26:48<30:41,  3.98s/it]"
     ]
    },
    {
     "name": "stdout",
     "output_type": "stream",
     "text": [
      "tensor([[273.18842,  28.29039, 398.20416, 316.35608,   0.50747,   0.00000],\n",
      "        [ 85.71605,  22.50568, 202.72670, 305.87378,   0.43509,   0.00000]])\n"
     ]
    },
    {
     "name": "stderr",
     "output_type": "stream",
     "text": [
      "\r",
      " 46%|████████████████████████████████████▉                                           | 397/859 [26:52<30:36,  3.97s/it]"
     ]
    },
    {
     "name": "stdout",
     "output_type": "stream",
     "text": [
      "tensor([[3.01169e+02, 7.26099e+01, 4.42376e+02, 3.34960e+02, 3.50772e-01, 0.00000e+00],\n",
      "        [7.56938e+01, 9.81625e+01, 1.93720e+02, 3.16164e+02, 2.12471e-01, 0.00000e+00]])\n"
     ]
    },
    {
     "name": "stderr",
     "output_type": "stream",
     "text": [
      "\r",
      " 46%|█████████████████████████████████████                                           | 398/859 [26:56<30:40,  3.99s/it]"
     ]
    },
    {
     "name": "stdout",
     "output_type": "stream",
     "text": [
      "tensor([[1.28605e+02, 1.48194e+02, 2.45023e+02, 4.14304e+02, 1.93638e-01, 0.00000e+00],\n",
      "        [3.22834e+02, 1.82367e+02, 4.32361e+02, 3.87267e+02, 1.04218e-01, 0.00000e+00]])\n"
     ]
    },
    {
     "name": "stderr",
     "output_type": "stream",
     "text": [
      "\r",
      " 46%|█████████████████████████████████████▏                                          | 399/859 [27:00<30:40,  4.00s/it]"
     ]
    },
    {
     "name": "stdout",
     "output_type": "stream",
     "text": [
      "tensor([[3.08363e+02, 8.22346e+01, 4.97598e+02, 4.44009e+02, 3.05389e-01, 0.00000e+00],\n",
      "        [8.84010e+01, 1.25027e+02, 2.40345e+02, 4.87961e+02, 2.66858e-01, 0.00000e+00]])\n"
     ]
    },
    {
     "name": "stderr",
     "output_type": "stream",
     "text": [
      "\r",
      " 47%|█████████████████████████████████████▎                                          | 400/859 [27:05<30:48,  4.03s/it]"
     ]
    },
    {
     "name": "stdout",
     "output_type": "stream",
     "text": [
      "tensor([[3.18966e+02, 1.41130e+02, 4.46136e+02, 3.72384e+02, 2.74590e-01, 0.00000e+00],\n",
      "        [1.01444e+02, 1.25305e+02, 2.29182e+02, 3.73850e+02, 2.68548e-01, 0.00000e+00]])\n"
     ]
    },
    {
     "name": "stderr",
     "output_type": "stream",
     "text": [
      "\r",
      " 47%|█████████████████████████████████████▎                                          | 401/859 [27:09<31:02,  4.07s/it]"
     ]
    },
    {
     "name": "stdout",
     "output_type": "stream",
     "text": [
      "tensor([[1.36307e+02, 5.59544e+01, 2.59410e+02, 2.79800e+02, 1.27262e-01, 0.00000e+00],\n",
      "        [3.41536e+02, 4.62481e+01, 4.35869e+02, 2.06191e+02, 1.00158e-01, 0.00000e+00]])\n"
     ]
    },
    {
     "name": "stderr",
     "output_type": "stream",
     "text": [
      "\r",
      " 47%|█████████████████████████████████████▍                                          | 402/859 [27:13<31:21,  4.12s/it]"
     ]
    },
    {
     "name": "stdout",
     "output_type": "stream",
     "text": [
      "tensor([[2.54456e+02, 7.62959e+00, 4.25294e+02, 3.38852e+02, 2.26252e-01, 0.00000e+00],\n",
      "        [1.53610e+01, 3.76735e+00, 1.95632e+02, 4.01477e+02, 2.22595e-01, 0.00000e+00]])\n"
     ]
    },
    {
     "name": "stderr",
     "output_type": "stream",
     "text": [
      "\r",
      " 47%|█████████████████████████████████████▌                                          | 403/859 [27:17<31:34,  4.15s/it]"
     ]
    },
    {
     "name": "stdout",
     "output_type": "stream",
     "text": [
      "tensor([[1.15129e+02, 9.67520e+01, 2.39296e+02, 2.84691e+02, 4.16773e-01, 0.00000e+00],\n",
      "        [3.21676e+02, 9.51490e+01, 4.41937e+02, 2.73053e+02, 2.55857e-01, 0.00000e+00]])\n"
     ]
    },
    {
     "name": "stderr",
     "output_type": "stream",
     "text": [
      "\r",
      " 47%|█████████████████████████████████████▋                                          | 404/859 [27:21<31:18,  4.13s/it]"
     ]
    },
    {
     "name": "stdout",
     "output_type": "stream",
     "text": [
      "tensor([[3.01332e+02, 7.55349e+01, 4.32045e+02, 3.51086e+02, 4.58419e-01, 0.00000e+00],\n",
      "        [8.13165e+01, 9.55801e+01, 2.24918e+02, 3.99779e+02, 4.00323e-01, 0.00000e+00]])\n"
     ]
    },
    {
     "name": "stderr",
     "output_type": "stream",
     "text": [
      "\r",
      " 47%|█████████████████████████████████████▋                                          | 405/859 [27:25<31:03,  4.10s/it]"
     ]
    },
    {
     "name": "stdout",
     "output_type": "stream",
     "text": [
      "tensor([[3.95672e+01, 5.82112e+01, 2.03448e+02, 3.76177e+02, 5.26662e-01, 0.00000e+00],\n",
      "        [2.71803e+02, 5.33548e+01, 4.13921e+02, 3.73936e+02, 2.12262e-01, 0.00000e+00]])\n"
     ]
    },
    {
     "name": "stderr",
     "output_type": "stream",
     "text": [
      "\r",
      " 47%|█████████████████████████████████████▊                                          | 406/859 [27:29<30:44,  4.07s/it]"
     ]
    },
    {
     "name": "stdout",
     "output_type": "stream",
     "text": [
      "tensor([[4.82012e+01, 9.77567e+01, 2.06822e+02, 4.35934e+02, 2.65995e-01, 0.00000e+00],\n",
      "        [3.33538e+02, 1.26204e+02, 4.48046e+02, 4.14195e+02, 1.58754e-01, 0.00000e+00]])\n"
     ]
    },
    {
     "name": "stderr",
     "output_type": "stream",
     "text": [
      "\r",
      " 47%|█████████████████████████████████████▉                                          | 407/859 [27:33<30:44,  4.08s/it]"
     ]
    },
    {
     "name": "stdout",
     "output_type": "stream",
     "text": [
      "tensor([[2.79300e+02, 2.13619e+02, 4.10365e+02, 4.15232e+02, 4.13349e-01, 0.00000e+00],\n",
      "        [6.72855e+01, 1.59354e+02, 1.67378e+02, 3.95003e+02, 3.36325e-01, 0.00000e+00]])\n"
     ]
    },
    {
     "name": "stderr",
     "output_type": "stream",
     "text": [
      "\r",
      " 47%|█████████████████████████████████████▉                                          | 408/859 [27:37<30:39,  4.08s/it]"
     ]
    },
    {
     "name": "stdout",
     "output_type": "stream",
     "text": [
      "tensor([[1.40960e+02, 6.38610e+01, 2.49526e+02, 3.05629e+02, 3.28076e-01, 0.00000e+00],\n",
      "        [3.09620e+02, 3.81736e+01, 4.20686e+02, 3.25625e+02, 2.96778e-01, 0.00000e+00]])\n"
     ]
    },
    {
     "name": "stderr",
     "output_type": "stream",
     "text": [
      "\r",
      " 48%|██████████████████████████████████████                                          | 409/859 [27:41<30:29,  4.07s/it]"
     ]
    },
    {
     "name": "stdout",
     "output_type": "stream",
     "text": [
      "tensor([[8.25767e+01, 9.43628e+01, 2.27075e+02, 3.58962e+02, 2.96961e-01, 0.00000e+00],\n",
      "        [3.28341e+02, 1.24511e+02, 4.55929e+02, 3.90846e+02, 2.08083e-01, 0.00000e+00]])\n"
     ]
    },
    {
     "name": "stderr",
     "output_type": "stream",
     "text": [
      "\r",
      " 48%|██████████████████████████████████████▏                                         | 410/859 [27:45<30:20,  4.05s/it]"
     ]
    },
    {
     "name": "stdout",
     "output_type": "stream",
     "text": [
      "tensor([[7.99025e+01, 8.60708e+01, 2.23629e+02, 3.87281e+02, 4.07139e-01, 0.00000e+00],\n",
      "        [3.08811e+02, 1.15236e+02, 4.39761e+02, 3.97603e+02, 3.44958e-01, 0.00000e+00]])\n"
     ]
    },
    {
     "name": "stderr",
     "output_type": "stream",
     "text": [
      "\r",
      " 48%|██████████████████████████████████████▎                                         | 411/859 [27:50<30:12,  4.05s/it]"
     ]
    },
    {
     "name": "stdout",
     "output_type": "stream",
     "text": [
      "tensor([[284.25909,  76.77368, 413.16119, 358.43463,   0.43535,   0.00000],\n",
      "        [ 61.76665,  88.33450, 204.81366, 363.89273,   0.41683,   0.00000]])\n"
     ]
    },
    {
     "name": "stderr",
     "output_type": "stream",
     "text": [
      "\r",
      " 48%|██████████████████████████████████████▎                                         | 412/859 [27:54<30:00,  4.03s/it]"
     ]
    },
    {
     "name": "stdout",
     "output_type": "stream",
     "text": [
      "tensor([[3.33007e+02, 7.54562e+01, 4.63359e+02, 3.26983e+02, 4.08022e-01, 0.00000e+00],\n",
      "        [9.98373e+01, 4.92573e+01, 2.27466e+02, 3.12100e+02, 2.44520e-01, 0.00000e+00]])\n"
     ]
    },
    {
     "name": "stderr",
     "output_type": "stream",
     "text": [
      "\r",
      " 48%|██████████████████████████████████████▍                                         | 413/859 [27:58<29:59,  4.03s/it]"
     ]
    },
    {
     "name": "stdout",
     "output_type": "stream",
     "text": [
      "tensor([[1.04935e+02, 6.66541e+01, 2.25977e+02, 3.32321e+02, 4.27664e-01, 0.00000e+00],\n",
      "        [3.13647e+02, 7.12985e+01, 4.38498e+02, 3.26846e+02, 4.09381e-01, 0.00000e+00]])\n"
     ]
    },
    {
     "name": "stderr",
     "output_type": "stream",
     "text": [
      "\r",
      " 48%|██████████████████████████████████████▌                                         | 414/859 [28:02<29:54,  4.03s/it]"
     ]
    },
    {
     "name": "stdout",
     "output_type": "stream",
     "text": [
      "tensor([[5.78783e+01, 7.99341e+01, 2.16980e+02, 4.36431e+02, 2.73165e-01, 0.00000e+00],\n",
      "        [3.20187e+02, 9.62078e+01, 4.57788e+02, 4.28299e+02, 2.46971e-01, 0.00000e+00]])\n"
     ]
    },
    {
     "name": "stderr",
     "output_type": "stream",
     "text": [
      "\r",
      " 48%|██████████████████████████████████████▋                                         | 415/859 [28:06<29:41,  4.01s/it]"
     ]
    },
    {
     "name": "stdout",
     "output_type": "stream",
     "text": [
      "tensor([[9.13587e+01, 9.08771e+01, 2.54431e+02, 4.62303e+02, 2.90401e-01, 0.00000e+00],\n",
      "        [3.41047e+02, 1.30890e+02, 4.79452e+02, 4.77235e+02, 2.61390e-01, 0.00000e+00]])\n"
     ]
    },
    {
     "name": "stderr",
     "output_type": "stream",
     "text": [
      "\r",
      " 48%|██████████████████████████████████████▋                                         | 416/859 [28:10<29:32,  4.00s/it]"
     ]
    },
    {
     "name": "stdout",
     "output_type": "stream",
     "text": [
      "tensor([[1.05042e+02, 9.14246e+01, 2.47752e+02, 3.74854e+02, 4.66954e-01, 0.00000e+00],\n",
      "        [3.02644e+02, 1.31971e+02, 4.44879e+02, 4.21054e+02, 2.96024e-01, 0.00000e+00]])\n"
     ]
    },
    {
     "name": "stderr",
     "output_type": "stream",
     "text": [
      "\r",
      " 49%|██████████████████████████████████████▊                                         | 417/859 [28:13<29:18,  3.98s/it]"
     ]
    },
    {
     "name": "stdout",
     "output_type": "stream",
     "text": [
      "tensor([[1.30099e+02, 1.58448e+02, 2.26295e+02, 3.42705e+02, 2.38261e-01, 0.00000e+00],\n",
      "        [2.83014e+02, 1.58511e+02, 3.82363e+02, 3.37260e+02, 1.71725e-01, 0.00000e+00]])\n"
     ]
    },
    {
     "name": "stderr",
     "output_type": "stream",
     "text": [
      "\r",
      " 49%|██████████████████████████████████████▉                                         | 418/859 [28:17<29:01,  3.95s/it]"
     ]
    },
    {
     "name": "stdout",
     "output_type": "stream",
     "text": [
      "tensor([[2.93093e+02, 7.44159e+01, 3.92304e+02, 2.62567e+02, 3.56548e-01, 0.00000e+00],\n",
      "        [5.92641e+01, 7.74606e+01, 2.06781e+02, 3.17142e+02, 3.11986e-01, 0.00000e+00],\n",
      "        [3.55538e+02, 1.58861e+02, 4.42646e+02, 3.12862e+02, 1.18555e-01, 0.00000e+00]])\n"
     ]
    },
    {
     "name": "stderr",
     "output_type": "stream",
     "text": [
      "\r",
      " 49%|███████████████████████████████████████                                         | 419/859 [28:21<29:10,  3.98s/it]"
     ]
    },
    {
     "name": "stdout",
     "output_type": "stream",
     "text": [
      "tensor([[7.47738e+01, 7.31828e+01, 2.25918e+02, 3.45767e+02, 2.03650e-01, 0.00000e+00],\n",
      "        [2.94585e+02, 7.34273e+01, 4.34156e+02, 3.35152e+02, 1.76962e-01, 0.00000e+00]])\n"
     ]
    },
    {
     "name": "stderr",
     "output_type": "stream",
     "text": [
      "\r",
      " 49%|███████████████████████████████████████                                         | 420/859 [28:25<29:08,  3.98s/it]"
     ]
    },
    {
     "name": "stdout",
     "output_type": "stream",
     "text": [
      "tensor([[7.25971e+01, 1.67368e+02, 1.55576e+02, 3.15993e+02, 3.26190e-01, 0.00000e+00],\n",
      "        [1.31343e+02, 3.84992e+01, 2.13383e+02, 1.67606e+02, 1.96419e-01, 0.00000e+00],\n",
      "        [3.10171e+02, 2.60096e+02, 4.15420e+02, 3.91648e+02, 1.37117e-01, 0.00000e+00]])\n"
     ]
    },
    {
     "name": "stderr",
     "output_type": "stream",
     "text": [
      "\r",
      " 49%|███████████████████████████████████████▏                                        | 421/859 [28:29<29:05,  3.98s/it]"
     ]
    },
    {
     "name": "stdout",
     "output_type": "stream",
     "text": [
      "tensor([[1.04677e+02, 6.14145e+01, 2.45457e+02, 3.52941e+02, 4.32042e-01, 0.00000e+00],\n",
      "        [3.11403e+02, 6.33020e+01, 4.33744e+02, 3.71694e+02, 4.09756e-01, 0.00000e+00]])\n"
     ]
    },
    {
     "name": "stderr",
     "output_type": "stream",
     "text": [
      "\r",
      " 49%|███████████████████████████████████████▎                                        | 422/859 [28:33<29:06,  4.00s/it]"
     ]
    },
    {
     "name": "stdout",
     "output_type": "stream",
     "text": [
      "tensor([[1.23368e+02, 1.13429e+02, 2.39801e+02, 3.30767e+02, 1.82892e-01, 0.00000e+00],\n",
      "        [3.30604e+02, 1.01813e+02, 4.55882e+02, 3.38285e+02, 1.67747e-01, 0.00000e+00]])\n"
     ]
    },
    {
     "name": "stderr",
     "output_type": "stream",
     "text": [
      "\r",
      " 49%|███████████████████████████████████████▍                                        | 423/859 [28:37<29:15,  4.03s/it]"
     ]
    },
    {
     "name": "stdout",
     "output_type": "stream",
     "text": [
      "tensor([[2.47336e+02, 9.93396e+01, 4.25031e+02, 4.82999e+02, 1.71138e-01, 0.00000e+00],\n",
      "        [4.75889e+01, 1.80263e+02, 1.68734e+02, 3.91639e+02, 1.14341e-01, 0.00000e+00]])\n"
     ]
    },
    {
     "name": "stderr",
     "output_type": "stream",
     "text": [
      "\r",
      " 49%|███████████████████████████████████████▍                                        | 424/859 [28:42<29:10,  4.03s/it]"
     ]
    },
    {
     "name": "stdout",
     "output_type": "stream",
     "text": [
      "tensor([[5.31156e+01, 6.80292e+01, 1.84942e+02, 2.48018e+02, 3.36292e-01, 0.00000e+00],\n",
      "        [2.66102e+02, 9.94508e+01, 4.01003e+02, 2.65218e+02, 2.25660e-01, 0.00000e+00]])\n"
     ]
    },
    {
     "name": "stderr",
     "output_type": "stream",
     "text": [
      "\r",
      " 49%|███████████████████████████████████████▌                                        | 425/859 [28:46<29:03,  4.02s/it]"
     ]
    },
    {
     "name": "stdout",
     "output_type": "stream",
     "text": [
      "tensor([[2.83944e+02, 6.04847e+01, 4.22408e+02, 3.67291e+02, 3.33658e-01, 0.00000e+00],\n",
      "        [5.16888e+01, 7.72017e+01, 1.93373e+02, 3.40441e+02, 1.45034e-01, 0.00000e+00]])\n"
     ]
    },
    {
     "name": "stderr",
     "output_type": "stream",
     "text": [
      "\r",
      " 50%|███████████████████████████████████████▋                                        | 426/859 [28:50<29:10,  4.04s/it]"
     ]
    },
    {
     "name": "stdout",
     "output_type": "stream",
     "text": [
      "tensor([[3.04670e+02, 1.80454e+02, 4.74875e+02, 4.63805e+02, 3.87342e-01, 0.00000e+00],\n",
      "        [3.00623e+01, 1.74430e+02, 2.19738e+02, 4.51264e+02, 1.99375e-01, 0.00000e+00],\n",
      "        [4.34890e+02, 1.39761e+02, 5.12256e+02, 4.66164e+02, 1.10092e-01, 0.00000e+00]])\n"
     ]
    },
    {
     "name": "stderr",
     "output_type": "stream",
     "text": [
      "\r",
      " 50%|███████████████████████████████████████▊                                        | 427/859 [28:54<29:03,  4.04s/it]"
     ]
    },
    {
     "name": "stdout",
     "output_type": "stream",
     "text": [
      "tensor([[2.88068e+02, 1.73574e+02, 4.92233e+02, 4.74490e+02, 3.61760e-01, 0.00000e+00],\n",
      "        [7.23512e+01, 2.05116e+02, 2.27423e+02, 5.03562e+02, 2.90222e-01, 0.00000e+00]])\n"
     ]
    },
    {
     "name": "stderr",
     "output_type": "stream",
     "text": [
      "\r",
      " 50%|███████████████████████████████████████▊                                        | 428/859 [28:58<29:05,  4.05s/it]"
     ]
    },
    {
     "name": "stdout",
     "output_type": "stream",
     "text": [
      "tensor([[5.07074e+01, 5.43679e+01, 1.92134e+02, 3.82398e+02, 2.59767e-01, 0.00000e+00],\n",
      "        [2.77665e+02, 6.57025e+01, 4.20725e+02, 4.22127e+02, 2.55734e-01, 0.00000e+00]])\n"
     ]
    },
    {
     "name": "stderr",
     "output_type": "stream",
     "text": [
      "\r",
      " 50%|███████████████████████████████████████▉                                        | 429/859 [29:02<28:43,  4.01s/it]"
     ]
    },
    {
     "name": "stdout",
     "output_type": "stream",
     "text": [
      "tensor([[5.86095e+01, 7.97837e+01, 1.73469e+02, 2.80486e+02, 5.58088e-01, 0.00000e+00],\n",
      "        [2.58415e+02, 1.14503e+02, 3.80692e+02, 3.24871e+02, 2.94008e-01, 0.00000e+00]])\n"
     ]
    },
    {
     "name": "stderr",
     "output_type": "stream",
     "text": [
      "\r",
      " 50%|████████████████████████████████████████                                        | 430/859 [29:06<28:45,  4.02s/it]"
     ]
    },
    {
     "name": "stdout",
     "output_type": "stream",
     "text": [
      "tensor([[2.71800e+02, 1.26828e+02, 4.16907e+02, 3.84669e+02, 1.37749e-01, 0.00000e+00]])\n"
     ]
    },
    {
     "name": "stderr",
     "output_type": "stream",
     "text": [
      "\r",
      " 50%|████████████████████████████████████████▏                                       | 431/859 [29:10<28:58,  4.06s/it]"
     ]
    },
    {
     "name": "stdout",
     "output_type": "stream",
     "text": [
      "tensor([[3.24468e+02, 8.81729e+01, 4.35557e+02, 3.34407e+02, 2.90821e-01, 0.00000e+00],\n",
      "        [1.31325e+02, 8.30564e+01, 2.59170e+02, 3.33800e+02, 2.34373e-01, 0.00000e+00]])\n"
     ]
    },
    {
     "name": "stderr",
     "output_type": "stream",
     "text": [
      "\r",
      " 50%|████████████████████████████████████████▏                                       | 432/859 [29:14<29:09,  4.10s/it]"
     ]
    },
    {
     "name": "stdout",
     "output_type": "stream",
     "text": [
      "tensor([[2.02436e+02, 4.80660e+01, 3.17767e+02, 2.74416e+02, 3.87352e-01, 0.00000e+00],\n",
      "        [4.07112e+02, 9.87050e+01, 5.12549e+02, 3.32211e+02, 1.23483e-01, 0.00000e+00]])\n"
     ]
    },
    {
     "name": "stderr",
     "output_type": "stream",
     "text": [
      "\r",
      " 50%|████████████████████████████████████████▎                                       | 433/859 [29:18<29:15,  4.12s/it]"
     ]
    },
    {
     "name": "stdout",
     "output_type": "stream",
     "text": [
      "tensor([[2.89190e+02, 1.44437e+02, 4.13783e+02, 3.73458e+02, 3.91737e-01, 0.00000e+00],\n",
      "        [6.21215e+01, 1.45079e+02, 1.98987e+02, 3.87266e+02, 3.73831e-01, 0.00000e+00]])\n"
     ]
    },
    {
     "name": "stderr",
     "output_type": "stream",
     "text": [
      "\r",
      " 51%|████████████████████████████████████████▍                                       | 434/859 [29:22<29:04,  4.10s/it]"
     ]
    },
    {
     "name": "stdout",
     "output_type": "stream",
     "text": [
      "tensor([[9.09647e+01, 1.27941e+02, 2.09388e+02, 3.70280e+02, 2.76169e-01, 0.00000e+00],\n",
      "        [2.83351e+02, 1.09685e+02, 4.04877e+02, 3.81317e+02, 1.89083e-01, 0.00000e+00]])\n"
     ]
    },
    {
     "name": "stderr",
     "output_type": "stream",
     "text": [
      "\r",
      " 51%|████████████████████████████████████████▌                                       | 435/859 [29:26<28:38,  4.05s/it]"
     ]
    },
    {
     "name": "stdout",
     "output_type": "stream",
     "text": [
      "tensor([[1.21401e+02, 9.80755e+01, 2.37920e+02, 3.50445e+02, 2.02088e-01, 0.00000e+00],\n",
      "        [3.28104e+02, 8.33633e+01, 4.49332e+02, 3.45195e+02, 1.17387e-01, 0.00000e+00]])\n"
     ]
    },
    {
     "name": "stderr",
     "output_type": "stream",
     "text": [
      "\r",
      " 51%|████████████████████████████████████████▌                                       | 436/859 [29:30<28:27,  4.04s/it]"
     ]
    },
    {
     "name": "stdout",
     "output_type": "stream",
     "text": [
      "tensor([[3.28706e+02, 1.65460e+02, 4.42805e+02, 3.87549e+02, 3.71276e-01, 0.00000e+00],\n",
      "        [9.85322e+01, 1.70584e+02, 2.12399e+02, 4.02688e+02, 3.42107e-01, 0.00000e+00]])\n"
     ]
    },
    {
     "name": "stderr",
     "output_type": "stream",
     "text": [
      "\r",
      " 51%|████████████████████████████████████████▋                                       | 437/859 [29:34<28:21,  4.03s/it]"
     ]
    },
    {
     "name": "stdout",
     "output_type": "stream",
     "text": [
      "tensor([[3.32530e+02, 6.70946e+01, 4.50421e+02, 3.56418e+02, 3.08238e-01, 0.00000e+00],\n",
      "        [1.06654e+02, 6.13875e+01, 2.46406e+02, 3.50290e+02, 1.62005e-01, 0.00000e+00]])\n"
     ]
    },
    {
     "name": "stderr",
     "output_type": "stream",
     "text": [
      "\r",
      " 51%|████████████████████████████████████████▊                                       | 438/859 [29:38<28:20,  4.04s/it]"
     ]
    },
    {
     "name": "stdout",
     "output_type": "stream",
     "text": [
      "tensor([[3.20404e+02, 1.30128e+02, 4.41747e+02, 4.37868e+02, 3.89978e-01, 0.00000e+00],\n",
      "        [1.03968e+02, 1.76647e+02, 2.33591e+02, 4.28093e+02, 2.86459e-01, 0.00000e+00]])\n"
     ]
    },
    {
     "name": "stderr",
     "output_type": "stream",
     "text": [
      "\r",
      " 51%|████████████████████████████████████████▉                                       | 439/859 [29:42<28:25,  4.06s/it]"
     ]
    },
    {
     "name": "stdout",
     "output_type": "stream",
     "text": [
      "tensor([[9.03022e+01, 9.56108e+01, 2.08260e+02, 3.25470e+02, 3.94997e-01, 0.00000e+00],\n",
      "        [2.68451e+02, 9.98151e+01, 3.92688e+02, 3.95951e+02, 3.04580e-01, 0.00000e+00]])\n"
     ]
    },
    {
     "name": "stderr",
     "output_type": "stream",
     "text": [
      "\r",
      " 51%|████████████████████████████████████████▉                                       | 440/859 [29:46<28:15,  4.05s/it]"
     ]
    },
    {
     "name": "stdout",
     "output_type": "stream",
     "text": [
      "tensor([[9.08407e+01, 9.91790e+01, 2.38557e+02, 3.85854e+02, 2.34803e-01, 0.00000e+00],\n",
      "        [3.27697e+02, 1.21752e+02, 4.90612e+02, 3.76674e+02, 1.81513e-01, 0.00000e+00]])\n"
     ]
    },
    {
     "name": "stderr",
     "output_type": "stream",
     "text": [
      "\r",
      " 51%|█████████████████████████████████████████                                       | 441/859 [29:50<28:04,  4.03s/it]"
     ]
    },
    {
     "name": "stdout",
     "output_type": "stream",
     "text": [
      "tensor([[5.35782e+01, 2.92309e+02, 1.90875e+02, 5.10595e+02, 1.94617e-01, 0.00000e+00],\n",
      "        [2.93728e+02, 1.23398e+02, 4.43470e+02, 4.78811e+02, 1.90772e-01, 0.00000e+00]])\n"
     ]
    },
    {
     "name": "stderr",
     "output_type": "stream",
     "text": [
      "\r",
      " 51%|█████████████████████████████████████████▏                                      | 442/859 [29:54<27:48,  4.00s/it]"
     ]
    },
    {
     "name": "stdout",
     "output_type": "stream",
     "text": [
      "tensor([[1.26121e+02, 3.35945e+02, 2.82467e+02, 4.77896e+02, 2.92319e-01, 0.00000e+00],\n",
      "        [3.99147e+02, 2.72354e+02, 5.13128e+02, 4.75780e+02, 2.45724e-01, 0.00000e+00]])\n"
     ]
    },
    {
     "name": "stderr",
     "output_type": "stream",
     "text": [
      "\r",
      " 52%|█████████████████████████████████████████▎                                      | 443/859 [29:58<27:36,  3.98s/it]"
     ]
    },
    {
     "name": "stdout",
     "output_type": "stream",
     "text": [
      "tensor([[8.32015e+00, 1.49656e+01, 2.03337e+02, 4.24108e+02, 2.11852e-01, 0.00000e+00],\n",
      "        [2.95657e+02, 3.35402e+01, 4.72115e+02, 3.99034e+02, 1.79840e-01, 0.00000e+00]])\n"
     ]
    },
    {
     "name": "stderr",
     "output_type": "stream",
     "text": [
      "\r",
      " 52%|█████████████████████████████████████████▎                                      | 444/859 [30:02<27:37,  3.99s/it]"
     ]
    },
    {
     "name": "stdout",
     "output_type": "stream",
     "text": [
      "tensor([[7.67133e+01, 4.53219e+01, 2.37509e+02, 2.99836e+02, 4.51078e-01, 0.00000e+00],\n",
      "        [3.06124e+02, 7.75269e+01, 4.57039e+02, 3.25884e+02, 3.98124e-01, 0.00000e+00]])\n"
     ]
    },
    {
     "name": "stderr",
     "output_type": "stream",
     "text": [
      "\r",
      " 52%|█████████████████████████████████████████▍                                      | 445/859 [30:06<27:29,  3.98s/it]"
     ]
    },
    {
     "name": "stdout",
     "output_type": "stream",
     "text": [
      "tensor([[1.10092e+02, 6.27294e+01, 2.44579e+02, 2.71595e+02, 2.23553e-01, 0.00000e+00],\n",
      "        [3.15910e+02, 7.61348e+01, 4.36027e+02, 2.71640e+02, 2.06587e-01, 0.00000e+00]])\n"
     ]
    },
    {
     "name": "stderr",
     "output_type": "stream",
     "text": [
      "\r",
      " 52%|█████████████████████████████████████████▌                                      | 446/859 [30:10<27:27,  3.99s/it]"
     ]
    },
    {
     "name": "stdout",
     "output_type": "stream",
     "text": [
      "tensor([[8.79922e+01, 1.09293e+02, 2.10249e+02, 3.54046e+02, 4.17672e-01, 0.00000e+00],\n",
      "        [3.22263e+02, 1.87568e+02, 4.64659e+02, 3.53787e+02, 2.32215e-01, 0.00000e+00]])\n"
     ]
    },
    {
     "name": "stderr",
     "output_type": "stream",
     "text": [
      "\r",
      " 52%|█████████████████████████████████████████▋                                      | 447/859 [30:14<27:18,  3.98s/it]"
     ]
    },
    {
     "name": "stdout",
     "output_type": "stream",
     "text": [
      "tensor([[1.51597e+02, 1.30894e+02, 2.46019e+02, 3.14925e+02, 2.86197e-01, 0.00000e+00],\n",
      "        [2.97573e+02, 1.17499e+02, 4.05303e+02, 3.32376e+02, 2.56235e-01, 0.00000e+00]])\n"
     ]
    },
    {
     "name": "stderr",
     "output_type": "stream",
     "text": [
      "\r",
      " 52%|█████████████████████████████████████████▋                                      | 448/859 [30:18<27:17,  3.98s/it]"
     ]
    },
    {
     "name": "stdout",
     "output_type": "stream",
     "text": [
      "tensor([[9.59248e+01, 4.54122e+01, 2.03242e+02, 2.89656e+02, 4.98094e-01, 0.00000e+00],\n",
      "        [2.69489e+02, 5.62023e+01, 3.87007e+02, 3.17840e+02, 3.53284e-01, 0.00000e+00]])\n"
     ]
    },
    {
     "name": "stderr",
     "output_type": "stream",
     "text": [
      "\r",
      " 52%|█████████████████████████████████████████▊                                      | 449/859 [30:22<27:20,  4.00s/it]"
     ]
    },
    {
     "name": "stdout",
     "output_type": "stream",
     "text": [
      "tensor([[8.36979e+01, 6.57104e+01, 2.22158e+02, 3.47519e+02, 4.92547e-01, 0.00000e+00],\n",
      "        [2.80399e+02, 3.99297e+01, 4.16439e+02, 3.74663e+02, 2.48321e-01, 0.00000e+00]])\n"
     ]
    },
    {
     "name": "stderr",
     "output_type": "stream",
     "text": [
      "\r",
      " 52%|█████████████████████████████████████████▉                                      | 450/859 [30:26<27:18,  4.01s/it]"
     ]
    },
    {
     "name": "stdout",
     "output_type": "stream",
     "text": [
      "tensor([[7.87716e+01, 1.07283e+02, 2.29756e+02, 4.24095e+02, 4.46253e-01, 0.00000e+00],\n",
      "        [3.52223e+02, 1.31952e+02, 4.71480e+02, 4.14167e+02, 3.19255e-01, 0.00000e+00]])\n"
     ]
    },
    {
     "name": "stderr",
     "output_type": "stream",
     "text": [
      "\r",
      " 53%|██████████████████████████████████████████                                      | 451/859 [30:30<27:18,  4.02s/it]"
     ]
    },
    {
     "name": "stdout",
     "output_type": "stream",
     "text": [
      "tensor([[3.09685e+02, 7.42890e+01, 4.47822e+02, 3.63789e+02, 3.03727e-01, 0.00000e+00],\n",
      "        [1.13026e+02, 1.15606e+02, 2.33927e+02, 3.71239e+02, 2.83618e-01, 0.00000e+00]])\n"
     ]
    },
    {
     "name": "stderr",
     "output_type": "stream",
     "text": [
      "\r",
      " 53%|██████████████████████████████████████████                                      | 452/859 [30:34<27:14,  4.02s/it]"
     ]
    },
    {
     "name": "stdout",
     "output_type": "stream",
     "text": [
      "tensor([[6.62446e+01, 1.01979e+02, 1.96675e+02, 3.44263e+02, 3.16879e-01, 0.00000e+00],\n",
      "        [3.15767e+02, 1.11009e+02, 4.23773e+02, 3.36992e+02, 2.77173e-01, 0.00000e+00]])\n"
     ]
    },
    {
     "name": "stderr",
     "output_type": "stream",
     "text": [
      "\r",
      " 53%|██████████████████████████████████████████▏                                     | 453/859 [30:38<27:07,  4.01s/it]"
     ]
    },
    {
     "name": "stdout",
     "output_type": "stream",
     "text": [
      "tensor([[8.31787e+01, 1.12219e+02, 2.28506e+02, 3.84994e+02, 3.64873e-01, 0.00000e+00],\n",
      "        [3.08520e+02, 1.30988e+02, 4.31405e+02, 3.60858e+02, 2.26796e-01, 0.00000e+00]])\n"
     ]
    },
    {
     "name": "stderr",
     "output_type": "stream",
     "text": [
      "\r",
      " 53%|██████████████████████████████████████████▎                                     | 454/859 [30:42<26:54,  3.99s/it]"
     ]
    },
    {
     "name": "stdout",
     "output_type": "stream",
     "text": [
      "tensor([[9.38111e+01, 7.09750e+01, 2.63270e+02, 3.72025e+02, 6.18321e-01, 0.00000e+00],\n",
      "        [3.45276e+02, 8.92873e+01, 4.95528e+02, 3.98627e+02, 4.23661e-01, 0.00000e+00]])\n"
     ]
    },
    {
     "name": "stderr",
     "output_type": "stream",
     "text": [
      "\r",
      " 53%|██████████████████████████████████████████▎                                     | 455/859 [30:46<26:47,  3.98s/it]"
     ]
    },
    {
     "name": "stdout",
     "output_type": "stream",
     "text": [
      "tensor([[1.22513e+02, 1.10915e+02, 2.36585e+02, 2.96442e+02, 2.46890e-01, 0.00000e+00],\n",
      "        [2.98280e+02, 1.04344e+02, 4.07549e+02, 3.12597e+02, 2.24523e-01, 0.00000e+00]])\n"
     ]
    },
    {
     "name": "stderr",
     "output_type": "stream",
     "text": [
      "\r",
      " 53%|██████████████████████████████████████████▍                                     | 456/859 [30:50<26:38,  3.97s/it]"
     ]
    },
    {
     "name": "stdout",
     "output_type": "stream",
     "text": [
      "tensor([[5.41023e+01, 9.80165e+01, 2.06368e+02, 4.52764e+02, 2.82652e-01, 0.00000e+00],\n",
      "        [2.84859e+02, 9.48869e+01, 4.36333e+02, 4.52249e+02, 2.26271e-01, 0.00000e+00],\n",
      "        [4.20548e+02, 2.62145e+01, 5.09676e+02, 2.36859e+02, 1.44366e-01, 0.00000e+00],\n",
      "        [8.56953e+00, 1.03546e+02, 4.86987e+01, 2.29896e+02, 1.04520e-01, 0.00000e+00]])\n"
     ]
    },
    {
     "name": "stderr",
     "output_type": "stream",
     "text": [
      "\r",
      " 53%|██████████████████████████████████████████▌                                     | 457/859 [30:54<26:37,  3.97s/it]"
     ]
    },
    {
     "name": "stdout",
     "output_type": "stream",
     "text": [
      "tensor([[3.36478e+02, 1.10078e+02, 4.57383e+02, 4.11673e+02, 1.61271e-01, 0.00000e+00],\n",
      "        [9.18093e+01, 1.04102e+02, 2.39909e+02, 4.03084e+02, 1.60103e-01, 0.00000e+00]])\n"
     ]
    },
    {
     "name": "stderr",
     "output_type": "stream",
     "text": [
      "\r",
      " 53%|██████████████████████████████████████████▋                                     | 458/859 [30:58<26:34,  3.98s/it]"
     ]
    },
    {
     "name": "stdout",
     "output_type": "stream",
     "text": [
      "tensor([[2.56407e+02, 1.38800e+02, 3.52062e+02, 3.30235e+02, 3.50356e-01, 0.00000e+00],\n",
      "        [6.30876e+01, 1.29818e+02, 1.70966e+02, 3.45032e+02, 3.17039e-01, 0.00000e+00]])\n"
     ]
    },
    {
     "name": "stderr",
     "output_type": "stream",
     "text": [
      "\r",
      " 53%|██████████████████████████████████████████▋                                     | 459/859 [31:02<26:35,  3.99s/it]"
     ]
    },
    {
     "name": "stdout",
     "output_type": "stream",
     "text": [
      "tensor([[6.12311e+01, 1.28488e+02, 1.50809e+02, 3.01996e+02, 1.22412e-01, 0.00000e+00],\n",
      "        [3.62425e+02, 1.98286e+02, 4.28521e+02, 3.35351e+02, 1.05975e-01, 0.00000e+00]])\n"
     ]
    },
    {
     "name": "stderr",
     "output_type": "stream",
     "text": [
      "\r",
      " 54%|██████████████████████████████████████████▊                                     | 460/859 [31:06<26:31,  3.99s/it]"
     ]
    },
    {
     "name": "stdout",
     "output_type": "stream",
     "text": [
      "tensor([[2.68307e+02, 1.25610e+02, 3.97302e+02, 3.66550e+02, 3.35581e-01, 0.00000e+00],\n",
      "        [6.52158e+01, 1.16555e+02, 2.10967e+02, 3.50188e+02, 3.23636e-01, 0.00000e+00]])\n"
     ]
    },
    {
     "name": "stderr",
     "output_type": "stream",
     "text": [
      "\r",
      " 54%|██████████████████████████████████████████▉                                     | 461/859 [31:10<26:54,  4.06s/it]"
     ]
    },
    {
     "name": "stdout",
     "output_type": "stream",
     "text": [
      "tensor([[9.87614e+01, 1.41824e+01, 2.28361e+02, 2.79036e+02, 3.77948e-01, 0.00000e+00],\n",
      "        [3.07904e+02, 1.30415e+01, 4.30697e+02, 3.20399e+02, 3.35171e-01, 0.00000e+00]])\n"
     ]
    },
    {
     "name": "stderr",
     "output_type": "stream",
     "text": [
      "\r",
      " 54%|███████████████████████████████████████████                                     | 462/859 [31:14<26:59,  4.08s/it]"
     ]
    },
    {
     "name": "stdout",
     "output_type": "stream",
     "text": [
      "tensor([[3.21998e+02, 1.11552e+02, 4.85174e+02, 4.10910e+02, 4.35677e-01, 0.00000e+00],\n",
      "        [3.68757e+01, 1.04049e+02, 2.05981e+02, 4.31153e+02, 3.30451e-01, 0.00000e+00]])\n"
     ]
    },
    {
     "name": "stderr",
     "output_type": "stream",
     "text": [
      "\r",
      " 54%|███████████████████████████████████████████                                     | 463/859 [31:19<27:21,  4.15s/it]"
     ]
    },
    {
     "name": "stdout",
     "output_type": "stream",
     "text": [
      "tensor([[1.00919e+02, 6.69333e+01, 2.31095e+02, 4.23434e+02, 5.80856e-01, 0.00000e+00],\n",
      "        [3.00701e+02, 9.80874e+01, 4.39343e+02, 3.94658e+02, 1.96960e-01, 0.00000e+00]])\n"
     ]
    },
    {
     "name": "stderr",
     "output_type": "stream",
     "text": [
      "\r",
      " 54%|███████████████████████████████████████████▏                                    | 464/859 [31:23<27:18,  4.15s/it]"
     ]
    },
    {
     "name": "stdout",
     "output_type": "stream",
     "text": [
      "tensor([[3.02200e+02, 1.43839e+02, 4.32355e+02, 3.73060e+02, 2.61269e-01, 0.00000e+00],\n",
      "        [6.93493e+01, 2.07817e+02, 2.03637e+02, 4.01944e+02, 2.42723e-01, 0.00000e+00]])\n"
     ]
    },
    {
     "name": "stderr",
     "output_type": "stream",
     "text": [
      "\r",
      " 54%|███████████████████████████████████████████▎                                    | 465/859 [31:27<26:58,  4.11s/it]"
     ]
    },
    {
     "name": "stdout",
     "output_type": "stream",
     "text": [
      "tensor([[1.13916e+02, 1.60193e+02, 2.43390e+02, 3.49987e+02, 3.58725e-01, 0.00000e+00],\n",
      "        [3.26873e+02, 1.28703e+02, 4.81420e+02, 3.90555e+02, 2.97846e-01, 0.00000e+00]])\n"
     ]
    },
    {
     "name": "stderr",
     "output_type": "stream",
     "text": [
      "\r",
      " 54%|███████████████████████████████████████████▍                                    | 466/859 [31:31<26:56,  4.11s/it]"
     ]
    },
    {
     "name": "stdout",
     "output_type": "stream",
     "text": [
      "tensor([[3.11923e+02, 7.02440e+01, 4.62151e+02, 3.52547e+02, 4.10273e-01, 0.00000e+00],\n",
      "        [1.34811e+02, 1.30287e+02, 2.45777e+02, 3.55851e+02, 2.57793e-01, 0.00000e+00]])\n"
     ]
    },
    {
     "name": "stderr",
     "output_type": "stream",
     "text": [
      "\r",
      " 54%|███████████████████████████████████████████▍                                    | 467/859 [31:35<26:34,  4.07s/it]"
     ]
    },
    {
     "name": "stdout",
     "output_type": "stream",
     "text": [
      "tensor([[9.14027e+01, 2.48516e+02, 2.23559e+02, 4.81943e+02, 2.80118e-01, 0.00000e+00],\n",
      "        [3.25343e+02, 2.98214e+02, 4.54329e+02, 5.08770e+02, 1.84728e-01, 0.00000e+00]])\n"
     ]
    },
    {
     "name": "stderr",
     "output_type": "stream",
     "text": [
      "\r",
      " 54%|███████████████████████████████████████████▌                                    | 468/859 [31:39<26:27,  4.06s/it]"
     ]
    },
    {
     "name": "stdout",
     "output_type": "stream",
     "text": [
      "tensor([[3.33254e+02, 1.16162e+02, 4.32186e+02, 3.26664e+02, 2.54083e-01, 0.00000e+00],\n",
      "        [8.05362e+01, 8.65998e+01, 2.03279e+02, 3.36743e+02, 2.09708e-01, 0.00000e+00]])\n"
     ]
    },
    {
     "name": "stderr",
     "output_type": "stream",
     "text": [
      "\r",
      " 55%|███████████████████████████████████████████▋                                    | 469/859 [31:43<26:15,  4.04s/it]"
     ]
    },
    {
     "name": "stdout",
     "output_type": "stream",
     "text": [
      "tensor([[1.05655e+02, 1.27937e+02, 2.43748e+02, 3.87453e+02, 4.28410e-01, 0.00000e+00],\n",
      "        [3.28107e+02, 1.72677e+02, 4.69176e+02, 4.12859e+02, 4.23346e-01, 0.00000e+00]])\n"
     ]
    },
    {
     "name": "stderr",
     "output_type": "stream",
     "text": [
      "\r",
      " 55%|███████████████████████████████████████████▊                                    | 470/859 [31:47<26:15,  4.05s/it]"
     ]
    },
    {
     "name": "stdout",
     "output_type": "stream",
     "text": [
      "tensor([[3.19328e+02, 1.95846e+02, 4.51302e+02, 3.72639e+02, 1.85005e-01, 0.00000e+00],\n",
      "        [1.35778e+02, 2.80370e+02, 2.17114e+02, 3.74862e+02, 1.15763e-01, 0.00000e+00]])\n"
     ]
    },
    {
     "name": "stderr",
     "output_type": "stream",
     "text": [
      "\r",
      " 55%|███████████████████████████████████████████▊                                    | 471/859 [31:51<26:04,  4.03s/it]"
     ]
    },
    {
     "name": "stdout",
     "output_type": "stream",
     "text": [
      "tensor([[7.82944e+01, 1.04494e+02, 2.20451e+02, 3.97443e+02, 2.65882e-01, 0.00000e+00],\n",
      "        [2.78272e+02, 1.11410e+02, 4.10606e+02, 4.23645e+02, 1.37241e-01, 0.00000e+00]])\n"
     ]
    },
    {
     "name": "stderr",
     "output_type": "stream",
     "text": [
      "\r",
      " 55%|███████████████████████████████████████████▉                                    | 472/859 [31:55<25:57,  4.03s/it]"
     ]
    },
    {
     "name": "stdout",
     "output_type": "stream",
     "text": [
      "tensor([[3.13702e+02, 1.55895e+02, 4.32857e+02, 3.64110e+02, 3.99975e-01, 0.00000e+00],\n",
      "        [7.55680e+01, 6.40499e+01, 2.22282e+02, 3.58230e+02, 3.10007e-01, 0.00000e+00]])\n"
     ]
    },
    {
     "name": "stderr",
     "output_type": "stream",
     "text": [
      "\r",
      " 55%|████████████████████████████████████████████                                    | 473/859 [31:59<25:46,  4.01s/it]"
     ]
    },
    {
     "name": "stdout",
     "output_type": "stream",
     "text": [
      "tensor([[8.97063e+01, 5.49216e+01, 2.25838e+02, 3.82366e+02, 2.99253e-01, 0.00000e+00],\n",
      "        [2.83246e+02, 8.60601e+01, 4.19353e+02, 3.64578e+02, 2.65025e-01, 0.00000e+00]])\n"
     ]
    },
    {
     "name": "stderr",
     "output_type": "stream",
     "text": [
      "\r",
      " 55%|████████████████████████████████████████████▏                                   | 474/859 [32:03<25:47,  4.02s/it]"
     ]
    },
    {
     "name": "stdout",
     "output_type": "stream",
     "text": [
      "tensor([[3.26023e+02, 2.18935e+02, 4.32933e+02, 4.17669e+02, 2.75519e-01, 0.00000e+00],\n",
      "        [1.28249e+02, 2.91567e+02, 2.29135e+02, 4.42354e+02, 2.09474e-01, 0.00000e+00]])\n"
     ]
    },
    {
     "name": "stderr",
     "output_type": "stream",
     "text": [
      "\r",
      " 55%|████████████████████████████████████████████▏                                   | 475/859 [32:07<25:36,  4.00s/it]"
     ]
    },
    {
     "name": "stdout",
     "output_type": "stream",
     "text": [
      "tensor([[3.90441e+01, 6.33731e+01, 1.88607e+02, 3.78580e+02, 3.75241e-01, 0.00000e+00],\n",
      "        [2.73871e+02, 6.28983e+01, 4.23975e+02, 3.77457e+02, 2.97459e-01, 0.00000e+00],\n",
      "        [5.29331e+01, 1.06277e+02, 1.17359e+02, 2.44643e+02, 1.43072e-01, 0.00000e+00]])\n"
     ]
    },
    {
     "name": "stderr",
     "output_type": "stream",
     "text": [
      "\r",
      " 55%|████████████████████████████████████████████▎                                   | 476/859 [32:11<25:32,  4.00s/it]"
     ]
    },
    {
     "name": "stdout",
     "output_type": "stream",
     "text": [
      "tensor([[7.43905e+01, 5.17380e+01, 2.32717e+02, 3.75553e+02, 2.45023e-01, 0.00000e+00],\n",
      "        [3.15146e+02, 4.50849e+01, 4.78322e+02, 3.84394e+02, 2.17051e-01, 0.00000e+00]])\n"
     ]
    },
    {
     "name": "stderr",
     "output_type": "stream",
     "text": [
      "\r",
      " 56%|████████████████████████████████████████████▍                                   | 477/859 [32:15<25:27,  4.00s/it]"
     ]
    },
    {
     "name": "stdout",
     "output_type": "stream",
     "text": [
      "tensor([[2.67911e+02, 7.75377e+01, 3.61042e+02, 2.48404e+02, 2.02488e-01, 0.00000e+00],\n",
      "        [8.53587e+01, 6.68781e+01, 1.86446e+02, 2.60594e+02, 1.92872e-01, 0.00000e+00],\n",
      "        [1.87530e+01, 2.89699e+02, 1.47793e+02, 4.11193e+02, 1.00226e-01, 0.00000e+00]])\n"
     ]
    },
    {
     "name": "stderr",
     "output_type": "stream",
     "text": [
      "\r",
      " 56%|████████████████████████████████████████████▌                                   | 478/859 [32:19<25:19,  3.99s/it]"
     ]
    },
    {
     "name": "stdout",
     "output_type": "stream",
     "text": [
      "tensor([[7.86214e+01, 5.60047e+01, 2.00415e+02, 2.88302e+02, 4.05985e-01, 0.00000e+00],\n",
      "        [2.94439e+02, 1.01828e+02, 4.16691e+02, 2.98113e+02, 2.89339e-01, 0.00000e+00]])\n"
     ]
    },
    {
     "name": "stderr",
     "output_type": "stream",
     "text": [
      "\r",
      " 56%|████████████████████████████████████████████▌                                   | 479/859 [32:23<25:14,  3.99s/it]"
     ]
    },
    {
     "name": "stdout",
     "output_type": "stream",
     "text": [
      "tensor([[6.79971e+01, 1.00829e+02, 2.19095e+02, 4.07209e+02, 2.98249e-01, 0.00000e+00],\n",
      "        [3.12060e+02, 1.17698e+02, 4.40343e+02, 3.94463e+02, 2.63542e-01, 0.00000e+00]])\n"
     ]
    },
    {
     "name": "stderr",
     "output_type": "stream",
     "text": [
      "\r",
      " 56%|████████████████████████████████████████████▋                                   | 480/859 [32:27<25:11,  3.99s/it]"
     ]
    },
    {
     "name": "stdout",
     "output_type": "stream",
     "text": [
      "tensor([[3.29031e+02, 8.66156e+01, 4.91202e+02, 4.03804e+02, 5.31355e-01, 0.00000e+00],\n",
      "        [1.18471e+02, 9.96037e+01, 2.46417e+02, 3.84785e+02, 4.47126e-01, 0.00000e+00]])\n"
     ]
    },
    {
     "name": "stderr",
     "output_type": "stream",
     "text": [
      "\r",
      " 56%|████████████████████████████████████████████▊                                   | 481/859 [32:31<25:02,  3.97s/it]"
     ]
    },
    {
     "name": "stdout",
     "output_type": "stream",
     "text": [
      "tensor([[7.70006e+01, 6.14235e+01, 2.06534e+02, 3.65310e+02, 3.15319e-01, 0.00000e+00],\n",
      "        [3.06467e+02, 8.38261e+01, 4.28656e+02, 3.47684e+02, 2.32004e-01, 0.00000e+00]])\n"
     ]
    },
    {
     "name": "stderr",
     "output_type": "stream",
     "text": [
      "\r",
      " 56%|████████████████████████████████████████████▉                                   | 482/859 [32:35<25:04,  3.99s/it]"
     ]
    },
    {
     "name": "stdout",
     "output_type": "stream",
     "text": [
      "tensor([[2.87639e+02, 1.43219e+02, 4.11374e+02, 3.93570e+02, 2.74800e-01, 0.00000e+00],\n",
      "        [4.49766e+01, 1.21529e+02, 2.00815e+02, 3.73794e+02, 2.53237e-01, 0.00000e+00],\n",
      "        [1.31411e+02, 9.57167e+01, 2.30602e+02, 2.49800e+02, 1.34715e-01, 0.00000e+00]])\n"
     ]
    },
    {
     "name": "stderr",
     "output_type": "stream",
     "text": [
      "\r",
      " 56%|████████████████████████████████████████████▉                                   | 483/859 [32:39<24:50,  3.97s/it]"
     ]
    },
    {
     "name": "stdout",
     "output_type": "stream",
     "text": [
      "tensor([[3.18617e+02, 9.31911e+01, 4.32056e+02, 3.08997e+02, 3.20537e-01, 0.00000e+00],\n",
      "        [1.31790e+02, 1.12004e+02, 2.40830e+02, 3.08565e+02, 3.04940e-01, 0.00000e+00]])\n"
     ]
    },
    {
     "name": "stderr",
     "output_type": "stream",
     "text": [
      "\r",
      " 56%|█████████████████████████████████████████████                                   | 484/859 [32:43<24:52,  3.98s/it]"
     ]
    },
    {
     "name": "stdout",
     "output_type": "stream",
     "text": [
      "tensor([[4.61175e+01, 8.94138e+01, 2.04054e+02, 4.42043e+02, 2.49083e-01, 0.00000e+00],\n",
      "        [2.79971e+02, 1.10385e+02, 4.44654e+02, 4.60875e+02, 2.44523e-01, 0.00000e+00]])\n"
     ]
    },
    {
     "name": "stderr",
     "output_type": "stream",
     "text": [
      "\r",
      " 56%|█████████████████████████████████████████████▏                                  | 485/859 [32:47<24:40,  3.96s/it]"
     ]
    },
    {
     "name": "stdout",
     "output_type": "stream",
     "text": [
      "tensor([[4.57758e+01, 1.44267e+02, 1.95617e+02, 3.60119e+02, 2.80966e-01, 0.00000e+00],\n",
      "        [2.93995e+02, 8.20467e+01, 4.59609e+02, 3.97167e+02, 2.73999e-01, 0.00000e+00]])\n"
     ]
    },
    {
     "name": "stderr",
     "output_type": "stream",
     "text": [
      "\r",
      " 57%|█████████████████████████████████████████████▎                                  | 486/859 [32:51<24:39,  3.97s/it]"
     ]
    },
    {
     "name": "stdout",
     "output_type": "stream",
     "text": [
      "tensor([[3.14080e+02, 3.10432e+01, 4.55672e+02, 3.89194e+02, 2.88670e-01, 0.00000e+00],\n",
      "        [9.78716e+01, 4.07946e+01, 2.49628e+02, 3.82185e+02, 2.85491e-01, 0.00000e+00]])\n"
     ]
    },
    {
     "name": "stderr",
     "output_type": "stream",
     "text": [
      "\r",
      " 57%|█████████████████████████████████████████████▎                                  | 487/859 [32:55<24:44,  3.99s/it]"
     ]
    },
    {
     "name": "stdout",
     "output_type": "stream",
     "text": [
      "tensor([[2.87590e+02, 4.79374e+01, 4.09475e+02, 2.99382e+02, 4.35634e-01, 0.00000e+00],\n",
      "        [6.00370e+01, 4.39693e+01, 2.02496e+02, 2.88411e+02, 3.61366e-01, 0.00000e+00]])\n"
     ]
    },
    {
     "name": "stderr",
     "output_type": "stream",
     "text": [
      "\r",
      " 57%|█████████████████████████████████████████████▍                                  | 488/859 [32:59<24:40,  3.99s/it]"
     ]
    },
    {
     "name": "stdout",
     "output_type": "stream",
     "text": [
      "tensor([[1.40623e+02, 8.37860e+01, 2.73965e+02, 3.45190e+02, 2.36624e-01, 0.00000e+00],\n",
      "        [3.14207e+02, 1.27124e+02, 4.25457e+02, 3.69910e+02, 2.24448e-01, 0.00000e+00]])\n"
     ]
    },
    {
     "name": "stderr",
     "output_type": "stream",
     "text": [
      "\r",
      " 57%|█████████████████████████████████████████████▌                                  | 489/859 [33:03<24:31,  3.98s/it]"
     ]
    },
    {
     "name": "stdout",
     "output_type": "stream",
     "text": [
      "tensor([[2.80904e+02, 1.17443e+02, 4.22738e+02, 3.69158e+02, 3.29015e-01, 0.00000e+00],\n",
      "        [5.10247e+01, 9.57496e+01, 1.95715e+02, 3.56672e+02, 2.56200e-01, 0.00000e+00]])\n"
     ]
    },
    {
     "name": "stderr",
     "output_type": "stream",
     "text": [
      "\r",
      " 57%|█████████████████████████████████████████████▋                                  | 490/859 [33:07<24:29,  3.98s/it]"
     ]
    },
    {
     "name": "stdout",
     "output_type": "stream",
     "text": [
      "tensor([[5.04272e+01, 1.10125e+02, 2.03754e+02, 3.92260e+02, 4.28896e-01, 0.00000e+00],\n",
      "        [2.83842e+02, 1.00153e+02, 4.43627e+02, 4.08134e+02, 2.65064e-01, 0.00000e+00]])\n"
     ]
    },
    {
     "name": "stderr",
     "output_type": "stream",
     "text": [
      "\r",
      " 57%|█████████████████████████████████████████████▋                                  | 491/859 [33:11<24:34,  4.01s/it]"
     ]
    },
    {
     "name": "stdout",
     "output_type": "stream",
     "text": [
      "tensor([[7.50443e+01, 9.65749e+01, 2.17429e+02, 3.89385e+02, 1.76310e-01, 0.00000e+00],\n",
      "        [2.99917e+02, 1.38001e+02, 4.18286e+02, 3.91543e+02, 1.40636e-01, 0.00000e+00]])\n"
     ]
    },
    {
     "name": "stderr",
     "output_type": "stream",
     "text": [
      "\r",
      " 57%|█████████████████████████████████████████████▊                                  | 492/859 [33:15<24:54,  4.07s/it]"
     ]
    },
    {
     "name": "stdout",
     "output_type": "stream",
     "text": [
      "tensor([[2.48791e+02, 8.92215e+01, 3.89037e+02, 3.44467e+02, 3.11296e-01, 0.00000e+00],\n",
      "        [2.89076e+01, 9.67114e+01, 1.73282e+02, 3.47949e+02, 1.83117e-01, 0.00000e+00]])\n"
     ]
    },
    {
     "name": "stderr",
     "output_type": "stream",
     "text": [
      "\r",
      " 57%|█████████████████████████████████████████████▉                                  | 493/859 [33:19<24:48,  4.07s/it]"
     ]
    },
    {
     "name": "stdout",
     "output_type": "stream",
     "text": [
      "tensor([[5.67211e+01, 1.16857e+02, 1.58704e+02, 2.97303e+02, 2.82446e-01, 0.00000e+00],\n",
      "        [2.58855e+02, 1.92577e+02, 3.68156e+02, 3.53595e+02, 2.20726e-01, 0.00000e+00]])\n"
     ]
    },
    {
     "name": "stderr",
     "output_type": "stream",
     "text": [
      "\r",
      " 58%|██████████████████████████████████████████████                                  | 494/859 [33:23<24:52,  4.09s/it]"
     ]
    },
    {
     "name": "stdout",
     "output_type": "stream",
     "text": [
      "tensor([[1.01028e+02, 1.36157e+02, 2.08583e+02, 3.78126e+02, 3.12120e-01, 0.00000e+00],\n",
      "        [2.91005e+02, 1.53556e+02, 4.18476e+02, 4.10331e+02, 2.75689e-01, 0.00000e+00]])\n"
     ]
    },
    {
     "name": "stderr",
     "output_type": "stream",
     "text": [
      "\r",
      " 58%|██████████████████████████████████████████████                                  | 495/859 [33:27<24:43,  4.07s/it]"
     ]
    },
    {
     "name": "stdout",
     "output_type": "stream",
     "text": [
      "tensor([[3.93699e+00, 6.04906e+01, 1.38648e+02, 2.90147e+02, 3.08833e-01, 0.00000e+00],\n",
      "        [2.80150e+02, 9.58639e+01, 3.98007e+02, 3.17732e+02, 1.77869e-01, 0.00000e+00]])\n"
     ]
    },
    {
     "name": "stderr",
     "output_type": "stream",
     "text": [
      "\r",
      " 58%|██████████████████████████████████████████████▏                                 | 496/859 [33:31<24:23,  4.03s/it]"
     ]
    },
    {
     "name": "stdout",
     "output_type": "stream",
     "text": [
      "tensor([[9.93060e+01, 9.20914e+01, 2.13804e+02, 3.99780e+02, 2.48637e-01, 0.00000e+00],\n",
      "        [3.51506e+02, 1.02655e+02, 4.76888e+02, 3.94869e+02, 2.37650e-01, 0.00000e+00]])\n"
     ]
    },
    {
     "name": "stderr",
     "output_type": "stream",
     "text": [
      "\r",
      " 58%|██████████████████████████████████████████████▎                                 | 497/859 [33:35<24:16,  4.02s/it]"
     ]
    },
    {
     "name": "stdout",
     "output_type": "stream",
     "text": [
      "tensor([[2.97147e+02, 8.19880e+01, 4.27051e+02, 3.30361e+02, 3.26778e-01, 0.00000e+00],\n",
      "        [6.37638e+01, 7.72182e+01, 2.07223e+02, 3.23855e+02, 2.52486e-01, 0.00000e+00]])\n"
     ]
    },
    {
     "name": "stderr",
     "output_type": "stream",
     "text": [
      "\r",
      " 58%|██████████████████████████████████████████████▍                                 | 498/859 [33:39<24:08,  4.01s/it]"
     ]
    },
    {
     "name": "stdout",
     "output_type": "stream",
     "text": [
      "tensor([[2.99413e+02, 8.26050e+01, 4.57366e+02, 3.95749e+02, 4.09553e-01, 0.00000e+00],\n",
      "        [7.78430e+01, 8.16586e+01, 2.04658e+02, 3.60044e+02, 3.45084e-01, 0.00000e+00]])\n"
     ]
    },
    {
     "name": "stderr",
     "output_type": "stream",
     "text": [
      "\r",
      " 58%|██████████████████████████████████████████████▍                                 | 499/859 [33:43<24:05,  4.02s/it]"
     ]
    },
    {
     "name": "stdout",
     "output_type": "stream",
     "text": [
      "tensor([[2.55564e+02, 1.32687e+02, 4.00312e+02, 3.91098e+02, 3.17921e-01, 0.00000e+00],\n",
      "        [1.16866e+02, 1.82615e+02, 2.43892e+02, 4.19069e+02, 2.76630e-01, 0.00000e+00]])\n"
     ]
    },
    {
     "name": "stderr",
     "output_type": "stream",
     "text": [
      "C:\\Users\\Julian\\AppData\\Roaming\\Python\\Python39\\site-packages\\ensemble_boxes\\ensemble_boxes_wbf.py:85: UserWarning: Y2 > 1 in box. Set it to 1. Check that you normalize boxes in [0, 1] range.\n",
      "  warnings.warn('Y2 > 1 in box. Set it to 1. Check that you normalize boxes in [0, 1] range.')\n",
      "\r",
      " 58%|██████████████████████████████████████████████▌                                 | 500/859 [33:47<24:12,  4.05s/it]"
     ]
    },
    {
     "name": "stdout",
     "output_type": "stream",
     "text": [
      "tensor([[1.53509e+02, 2.90026e+02, 2.73473e+02, 4.91717e+02, 4.11323e-01, 0.00000e+00],\n",
      "        [3.54553e+02, 2.28413e+02, 4.78061e+02, 4.41738e+02, 2.07078e-01, 0.00000e+00],\n",
      "        [3.69185e+02, 4.12929e+02, 4.98952e+02, 5.12180e+02, 1.57811e-01, 0.00000e+00]])\n"
     ]
    },
    {
     "name": "stderr",
     "output_type": "stream",
     "text": [
      "\r",
      " 58%|██████████████████████████████████████████████▋                                 | 501/859 [33:51<24:05,  4.04s/it]"
     ]
    },
    {
     "name": "stdout",
     "output_type": "stream",
     "text": [
      "tensor([[2.85444e+02, 1.02032e+02, 4.06304e+02, 3.30648e+02, 2.09697e-01, 0.00000e+00],\n",
      "        [4.42271e+01, 8.58570e+01, 1.83725e+02, 3.38814e+02, 2.05650e-01, 0.00000e+00]])\n"
     ]
    },
    {
     "name": "stderr",
     "output_type": "stream",
     "text": [
      "\r",
      " 58%|██████████████████████████████████████████████▊                                 | 502/859 [33:55<24:03,  4.04s/it]"
     ]
    },
    {
     "name": "stdout",
     "output_type": "stream",
     "text": [
      "tensor([[2.85452e+02, 4.01170e+01, 4.84571e+02, 3.98310e+02, 3.59822e-01, 0.00000e+00],\n",
      "        [1.10040e+02, 1.17226e+02, 2.38552e+02, 3.99251e+02, 3.10157e-01, 0.00000e+00]])\n"
     ]
    },
    {
     "name": "stderr",
     "output_type": "stream",
     "text": [
      "\r",
      " 59%|██████████████████████████████████████████████▊                                 | 503/859 [33:59<23:58,  4.04s/it]"
     ]
    },
    {
     "name": "stdout",
     "output_type": "stream",
     "text": [
      "tensor([[7.86519e+01, 8.91488e+01, 2.46351e+02, 4.43231e+02, 1.74313e-01, 0.00000e+00],\n",
      "        [3.00800e+02, 9.18699e+01, 4.38805e+02, 4.47184e+02, 1.50889e-01, 0.00000e+00]])\n"
     ]
    },
    {
     "name": "stderr",
     "output_type": "stream",
     "text": [
      "\r",
      " 59%|██████████████████████████████████████████████▉                                 | 504/859 [34:03<23:48,  4.03s/it]"
     ]
    },
    {
     "name": "stdout",
     "output_type": "stream",
     "text": [
      "tensor([[2.85672e+02, 9.68282e+01, 4.21429e+02, 3.39367e+02, 4.39005e-01, 0.00000e+00],\n",
      "        [8.29040e+01, 9.86767e+01, 2.20758e+02, 3.19169e+02, 4.13405e-01, 0.00000e+00]])\n"
     ]
    },
    {
     "name": "stderr",
     "output_type": "stream",
     "text": [
      "\r",
      " 59%|███████████████████████████████████████████████                                 | 505/859 [34:08<23:50,  4.04s/it]"
     ]
    },
    {
     "name": "stdout",
     "output_type": "stream",
     "text": [
      "tensor([[2.92545e+02, 1.09993e+02, 4.32066e+02, 3.89842e+02, 3.66553e-01, 0.00000e+00],\n",
      "        [6.10878e+01, 1.41898e+02, 1.96096e+02, 3.75577e+02, 3.36063e-01, 0.00000e+00]])\n"
     ]
    },
    {
     "name": "stderr",
     "output_type": "stream",
     "text": [
      "\r",
      " 59%|███████████████████████████████████████████████                                 | 506/859 [34:11<23:32,  4.00s/it]"
     ]
    },
    {
     "name": "stdout",
     "output_type": "stream",
     "text": [
      "tensor([[8.17476e+01, 7.86862e+01, 2.43016e+02, 4.12330e+02, 2.75768e-01, 0.00000e+00]])\n"
     ]
    },
    {
     "name": "stderr",
     "output_type": "stream",
     "text": [
      "\r",
      " 59%|███████████████████████████████████████████████▏                                | 507/859 [34:15<23:17,  3.97s/it]"
     ]
    },
    {
     "name": "stdout",
     "output_type": "stream",
     "text": [
      "tensor([[9.71807e+01, 1.29945e+02, 2.17630e+02, 3.42046e+02, 2.14079e-01, 0.00000e+00],\n",
      "        [2.84975e+02, 1.25356e+02, 4.01755e+02, 3.47812e+02, 2.10730e-01, 0.00000e+00]])\n"
     ]
    },
    {
     "name": "stderr",
     "output_type": "stream",
     "text": [
      "\r",
      " 59%|███████████████████████████████████████████████▎                                | 508/859 [34:19<23:20,  3.99s/it]"
     ]
    },
    {
     "name": "stdout",
     "output_type": "stream",
     "text": [
      "tensor([[1.08264e+02, 7.85724e+01, 2.42919e+02, 3.63480e+02, 3.93224e-01, 0.00000e+00],\n",
      "        [3.13319e+02, 7.49826e+01, 4.41797e+02, 3.53536e+02, 3.49000e-01, 0.00000e+00]])\n"
     ]
    },
    {
     "name": "stderr",
     "output_type": "stream",
     "text": [
      "\r",
      " 59%|███████████████████████████████████████████████▍                                | 509/859 [34:23<23:03,  3.95s/it]"
     ]
    },
    {
     "name": "stdout",
     "output_type": "stream",
     "text": [
      "tensor([[1.57387e+02, 1.22868e+02, 2.62160e+02, 3.73438e+02, 1.91510e-01, 0.00000e+00],\n",
      "        [3.49474e+02, 1.41486e+02, 4.68818e+02, 3.52204e+02, 1.81181e-01, 0.00000e+00]])\n"
     ]
    },
    {
     "name": "stderr",
     "output_type": "stream",
     "text": [
      "\r",
      " 59%|███████████████████████████████████████████████▍                                | 510/859 [34:27<23:05,  3.97s/it]"
     ]
    },
    {
     "name": "stdout",
     "output_type": "stream",
     "text": [
      "tensor([[1.33654e+02, 1.09575e+02, 2.50800e+02, 3.16568e+02, 3.46925e-01, 0.00000e+00],\n",
      "        [3.22349e+02, 9.08564e+01, 4.57465e+02, 3.22841e+02, 3.21930e-01, 0.00000e+00]])\n"
     ]
    },
    {
     "name": "stderr",
     "output_type": "stream",
     "text": [
      "\r",
      " 59%|███████████████████████████████████████████████▌                                | 511/859 [34:31<23:03,  3.98s/it]"
     ]
    },
    {
     "name": "stdout",
     "output_type": "stream",
     "text": [
      "tensor([[3.73284e+02, 1.56586e+01, 5.06721e+02, 3.97546e+02, 3.88929e-01, 0.00000e+00],\n",
      "        [1.92543e+02, 3.16800e+00, 3.26002e+02, 3.23075e+02, 3.33120e-01, 0.00000e+00]])\n"
     ]
    },
    {
     "name": "stderr",
     "output_type": "stream",
     "text": [
      "\r",
      " 60%|███████████████████████████████████████████████▋                                | 512/859 [34:35<23:06,  4.00s/it]"
     ]
    },
    {
     "name": "stdout",
     "output_type": "stream",
     "text": [
      "tensor([[8.98944e+01, 5.28132e+01, 2.19691e+02, 3.16636e+02, 2.61423e-01, 0.00000e+00],\n",
      "        [2.99550e+02, 1.95944e+02, 4.09897e+02, 3.61276e+02, 2.05839e-01, 0.00000e+00]])\n"
     ]
    },
    {
     "name": "stderr",
     "output_type": "stream",
     "text": [
      "\r",
      " 60%|███████████████████████████████████████████████▊                                | 513/859 [34:39<23:02,  4.00s/it]"
     ]
    },
    {
     "name": "stdout",
     "output_type": "stream",
     "text": [
      "tensor([[2.70952e+02, 1.09062e+02, 4.09193e+02, 4.03317e+02, 4.41651e-01, 0.00000e+00],\n",
      "        [4.05513e+01, 1.06461e+02, 1.94267e+02, 3.78073e+02, 3.74383e-01, 0.00000e+00]])\n"
     ]
    },
    {
     "name": "stderr",
     "output_type": "stream",
     "text": [
      "\r",
      " 60%|███████████████████████████████████████████████▊                                | 514/859 [34:43<22:58,  3.99s/it]"
     ]
    },
    {
     "name": "stdout",
     "output_type": "stream",
     "text": [
      "tensor([[6.34670e+01, 1.50408e+02, 1.97319e+02, 3.70588e+02, 3.04964e-01, 0.00000e+00],\n",
      "        [3.09498e+02, 2.51278e+02, 4.20765e+02, 4.10262e+02, 2.43001e-01, 0.00000e+00],\n",
      "        [4.35547e+02, 1.33291e+02, 5.11908e+02, 2.76664e+02, 1.04715e-01, 0.00000e+00]])\n"
     ]
    },
    {
     "name": "stderr",
     "output_type": "stream",
     "text": [
      "\r",
      " 60%|███████████████████████████████████████████████▉                                | 515/859 [34:47<22:49,  3.98s/it]"
     ]
    },
    {
     "name": "stdout",
     "output_type": "stream",
     "text": [
      "tensor([[5.01289e+01, 7.80463e+01, 1.91643e+02, 3.09769e+02, 4.16195e-01, 0.00000e+00],\n",
      "        [2.55934e+02, 8.82290e+01, 3.61465e+02, 3.50975e+02, 3.18856e-01, 0.00000e+00]])\n"
     ]
    },
    {
     "name": "stderr",
     "output_type": "stream",
     "text": [
      "\r",
      " 60%|████████████████████████████████████████████████                                | 516/859 [34:51<22:49,  3.99s/it]"
     ]
    },
    {
     "name": "stdout",
     "output_type": "stream",
     "text": [
      "tensor([[1.53678e+01, 1.26201e+01, 1.49412e+02, 2.82714e+02, 3.49665e-01, 0.00000e+00],\n",
      "        [2.22021e+02, 1.96643e+01, 3.55949e+02, 3.12366e+02, 2.71275e-01, 0.00000e+00]])\n"
     ]
    },
    {
     "name": "stderr",
     "output_type": "stream",
     "text": [
      "\r",
      " 60%|████████████████████████████████████████████████▏                               | 517/859 [34:55<22:45,  3.99s/it]"
     ]
    },
    {
     "name": "stdout",
     "output_type": "stream",
     "text": [
      "tensor([[3.22323e+02, 1.80747e+02, 4.78789e+02, 4.34684e+02, 1.82489e-01, 0.00000e+00],\n",
      "        [3.84787e+01, 1.10258e+02, 2.13111e+02, 4.04872e+02, 1.28659e-01, 0.00000e+00]])\n"
     ]
    },
    {
     "name": "stderr",
     "output_type": "stream",
     "text": [
      "\r",
      " 60%|████████████████████████████████████████████████▏                               | 518/859 [34:59<22:42,  3.99s/it]"
     ]
    },
    {
     "name": "stdout",
     "output_type": "stream",
     "text": [
      "tensor([[2.62401e+02, 8.35363e+01, 3.93875e+02, 4.13858e+02, 2.44206e-01, 0.00000e+00],\n",
      "        [4.47546e+01, 6.01140e+01, 1.89012e+02, 3.45864e+02, 1.90217e-01, 0.00000e+00]])\n"
     ]
    },
    {
     "name": "stderr",
     "output_type": "stream",
     "text": [
      "\r",
      " 60%|████████████████████████████████████████████████▎                               | 519/859 [35:03<22:45,  4.02s/it]"
     ]
    },
    {
     "name": "stdout",
     "output_type": "stream",
     "text": [
      "tensor([[7.31169e+01, 4.05090e+01, 2.21261e+02, 2.96620e+02, 4.67163e-01, 0.00000e+00],\n",
      "        [2.93865e+02, 2.58876e+01, 4.30187e+02, 3.13049e+02, 4.23134e-01, 0.00000e+00]])\n"
     ]
    },
    {
     "name": "stderr",
     "output_type": "stream",
     "text": [
      "\r",
      " 61%|████████████████████████████████████████████████▍                               | 520/859 [35:07<22:44,  4.03s/it]"
     ]
    },
    {
     "name": "stdout",
     "output_type": "stream",
     "text": [
      "tensor([[3.11238e+02, 6.15585e+01, 4.69278e+02, 3.72923e+02, 2.85099e-01, 0.00000e+00],\n",
      "        [1.08508e+02, 6.08422e+01, 2.27331e+02, 2.57563e+02, 2.28294e-01, 0.00000e+00]])\n"
     ]
    },
    {
     "name": "stderr",
     "output_type": "stream",
     "text": [
      "\r",
      " 61%|████████████████████████████████████████████████▌                               | 521/859 [35:11<22:35,  4.01s/it]"
     ]
    },
    {
     "name": "stdout",
     "output_type": "stream",
     "text": [
      "tensor([[2.88570e+02, 3.10457e+01, 4.56009e+02, 3.97327e+02, 2.63230e-01, 0.00000e+00],\n",
      "        [9.18329e+01, 3.29047e+01, 2.59331e+02, 3.84832e+02, 2.40109e-01, 0.00000e+00]])\n"
     ]
    },
    {
     "name": "stderr",
     "output_type": "stream",
     "text": [
      "\r",
      " 61%|████████████████████████████████████████████████▌                               | 522/859 [35:15<22:48,  4.06s/it]"
     ]
    },
    {
     "name": "stdout",
     "output_type": "stream",
     "text": [
      "tensor([[1.30506e+02, 7.80353e+01, 2.50027e+02, 3.38975e+02, 2.73858e-01, 0.00000e+00],\n",
      "        [3.47109e+02, 1.04696e+02, 4.84361e+02, 2.97759e+02, 1.45634e-01, 0.00000e+00]])\n"
     ]
    },
    {
     "name": "stderr",
     "output_type": "stream",
     "text": [
      "\r",
      " 61%|████████████████████████████████████████████████▋                               | 523/859 [35:20<22:50,  4.08s/it]"
     ]
    },
    {
     "name": "stdout",
     "output_type": "stream",
     "text": [
      "tensor([[3.34229e+02, 2.53341e+02, 4.77684e+02, 4.75275e+02, 2.37219e-01, 0.00000e+00],\n",
      "        [8.80593e+01, 1.37937e+02, 2.22896e+02, 4.34663e+02, 2.33831e-01, 0.00000e+00]])\n"
     ]
    },
    {
     "name": "stderr",
     "output_type": "stream",
     "text": [
      "\r",
      " 61%|████████████████████████████████████████████████▊                               | 524/859 [35:24<23:03,  4.13s/it]"
     ]
    },
    {
     "name": "stdout",
     "output_type": "stream",
     "text": [
      "tensor([[7.79317e+01, 1.85295e+02, 2.13150e+02, 3.75983e+02, 3.45062e-01, 0.00000e+00],\n",
      "        [3.14087e+02, 1.54749e+02, 4.34235e+02, 4.15629e+02, 2.62332e-01, 0.00000e+00]])\n"
     ]
    },
    {
     "name": "stderr",
     "output_type": "stream",
     "text": [
      "\r",
      " 61%|████████████████████████████████████████████████▉                               | 525/859 [35:28<23:03,  4.14s/it]"
     ]
    },
    {
     "name": "stdout",
     "output_type": "stream",
     "text": [
      "tensor([[9.66436e+01, 1.32800e+02, 2.27351e+02, 3.45607e+02, 3.23853e-01, 0.00000e+00],\n",
      "        [2.98554e+02, 8.20385e+01, 4.41853e+02, 3.44576e+02, 2.73401e-01, 0.00000e+00]])\n"
     ]
    },
    {
     "name": "stderr",
     "output_type": "stream",
     "text": [
      "\r",
      " 61%|████████████████████████████████████████████████▉                               | 526/859 [35:32<22:40,  4.09s/it]"
     ]
    },
    {
     "name": "stdout",
     "output_type": "stream",
     "text": [
      "tensor([[5.83166e+01, 1.71615e+02, 1.97532e+02, 4.31334e+02, 2.59959e-01, 0.00000e+00],\n",
      "        [3.05642e+02, 2.67025e+02, 4.17253e+02, 4.38669e+02, 1.34489e-01, 0.00000e+00]])\n"
     ]
    },
    {
     "name": "stderr",
     "output_type": "stream",
     "text": [
      "\r",
      " 61%|█████████████████████████████████████████████████                               | 527/859 [35:36<22:26,  4.05s/it]"
     ]
    },
    {
     "name": "stdout",
     "output_type": "stream",
     "text": [
      "tensor([[8.11464e+01, 9.78206e+01, 1.96376e+02, 3.18490e+02, 1.19538e-01, 0.00000e+00],\n",
      "        [3.06670e+02, 1.18251e+02, 4.03087e+02, 3.34994e+02, 1.01296e-01, 0.00000e+00]])\n"
     ]
    },
    {
     "name": "stderr",
     "output_type": "stream",
     "text": [
      "\r",
      " 61%|█████████████████████████████████████████████████▏                              | 528/859 [35:40<22:23,  4.06s/it]"
     ]
    },
    {
     "name": "stdout",
     "output_type": "stream",
     "text": [
      "tensor([[1.18625e+02, 2.85605e+02, 2.25579e+02, 4.43964e+02, 3.46194e-01, 0.00000e+00],\n",
      "        [3.09701e+02, 2.11656e+02, 4.32585e+02, 4.32153e+02, 3.24459e-01, 0.00000e+00],\n",
      "        [3.48120e+02, 1.76667e+02, 4.14587e+02, 2.99437e+02, 1.05245e-01, 0.00000e+00]])\n"
     ]
    },
    {
     "name": "stderr",
     "output_type": "stream",
     "text": [
      "\r",
      " 62%|█████████████████████████████████████████████████▎                              | 529/859 [35:44<22:08,  4.03s/it]"
     ]
    },
    {
     "name": "stdout",
     "output_type": "stream",
     "text": [
      "tensor([[1.18799e+02, 5.10712e+01, 2.83079e+02, 3.68108e+02, 3.10997e-01, 0.00000e+00],\n",
      "        [3.16324e+02, 1.23955e+02, 4.39912e+02, 4.42521e+02, 1.75350e-01, 0.00000e+00]])\n"
     ]
    },
    {
     "name": "stderr",
     "output_type": "stream",
     "text": [
      "\r",
      " 62%|█████████████████████████████████████████████████▎                              | 530/859 [35:48<22:03,  4.02s/it]"
     ]
    },
    {
     "name": "stdout",
     "output_type": "stream",
     "text": [
      "tensor([[3.42421e+02, 2.09121e+02, 4.47433e+02, 3.94520e+02, 2.10826e-01, 0.00000e+00],\n",
      "        [1.23551e+02, 1.68605e+02, 2.37659e+02, 3.97648e+02, 1.96133e-01, 0.00000e+00]])\n"
     ]
    },
    {
     "name": "stderr",
     "output_type": "stream",
     "text": [
      "\r",
      " 62%|█████████████████████████████████████████████████▍                              | 531/859 [35:52<21:54,  4.01s/it]"
     ]
    },
    {
     "name": "stdout",
     "output_type": "stream",
     "text": [
      "tensor([[5.45607e+01, 3.95003e+01, 1.74200e+02, 2.82078e+02, 3.89567e-01, 0.00000e+00],\n",
      "        [2.59807e+02, 4.53796e+01, 3.89415e+02, 3.02348e+02, 1.99591e-01, 0.00000e+00]])\n"
     ]
    },
    {
     "name": "stderr",
     "output_type": "stream",
     "text": [
      "\r",
      " 62%|█████████████████████████████████████████████████▌                              | 532/859 [35:56<21:46,  4.00s/it]"
     ]
    },
    {
     "name": "stdout",
     "output_type": "stream",
     "text": [
      "tensor([[8.67160e+01, 7.81794e+01, 1.98895e+02, 3.51192e+02, 2.14196e-01, 0.00000e+00],\n",
      "        [2.93107e+02, 1.31788e+02, 3.98802e+02, 3.62358e+02, 1.80119e-01, 0.00000e+00]])\n"
     ]
    },
    {
     "name": "stderr",
     "output_type": "stream",
     "text": [
      "\r",
      " 62%|█████████████████████████████████████████████████▋                              | 533/859 [36:00<21:47,  4.01s/it]"
     ]
    },
    {
     "name": "stdout",
     "output_type": "stream",
     "text": [
      "tensor([[3.30341e+02, 1.09411e+02, 4.54228e+02, 3.39197e+02, 4.31839e-01, 0.00000e+00],\n",
      "        [1.37807e+02, 8.74926e+01, 2.44640e+02, 3.47324e+02, 3.88805e-01, 0.00000e+00]])\n"
     ]
    },
    {
     "name": "stderr",
     "output_type": "stream",
     "text": [
      "\r",
      " 62%|█████████████████████████████████████████████████▋                              | 534/859 [36:04<21:45,  4.02s/it]"
     ]
    },
    {
     "name": "stdout",
     "output_type": "stream",
     "text": [
      "tensor([[9.28674e+01, 1.36785e+02, 2.43557e+02, 4.38737e+02, 4.03654e-01, 0.00000e+00],\n",
      "        [3.18640e+02, 2.39312e+02, 4.56250e+02, 4.33287e+02, 3.39950e-01, 0.00000e+00]])\n"
     ]
    },
    {
     "name": "stderr",
     "output_type": "stream",
     "text": [
      "\r",
      " 62%|█████████████████████████████████████████████████▊                              | 535/859 [36:08<21:43,  4.02s/it]"
     ]
    },
    {
     "name": "stdout",
     "output_type": "stream",
     "text": [
      "tensor([[6.31047e+01, 7.37140e+01, 2.13628e+02, 3.58572e+02, 4.17488e-01, 0.00000e+00],\n",
      "        [2.91889e+02, 1.18446e+02, 4.30568e+02, 3.92279e+02, 3.20788e-01, 0.00000e+00]])\n"
     ]
    },
    {
     "name": "stderr",
     "output_type": "stream",
     "text": [
      "\r",
      " 62%|█████████████████████████████████████████████████▉                              | 536/859 [36:12<21:39,  4.02s/it]"
     ]
    },
    {
     "name": "stdout",
     "output_type": "stream",
     "text": [
      "tensor([[6.28162e+01, 8.15400e+01, 2.01182e+02, 4.48257e+02, 2.78387e-01, 0.00000e+00],\n",
      "        [2.77838e+02, 1.38398e+02, 4.25923e+02, 3.82570e+02, 1.76161e-01, 0.00000e+00]])\n"
     ]
    },
    {
     "name": "stderr",
     "output_type": "stream",
     "text": [
      "\r",
      " 63%|██████████████████████████████████████████████████                              | 537/859 [36:16<21:37,  4.03s/it]"
     ]
    },
    {
     "name": "stdout",
     "output_type": "stream",
     "text": [
      "tensor([[3.15391e+02, 2.33155e+02, 4.89208e+02, 4.86583e+02, 2.02841e-01, 0.00000e+00],\n",
      "        [8.48026e+01, 1.79003e+02, 2.32325e+02, 4.47972e+02, 1.95495e-01, 0.00000e+00]])\n"
     ]
    },
    {
     "name": "stderr",
     "output_type": "stream",
     "text": [
      "\r",
      " 63%|██████████████████████████████████████████████████                              | 538/859 [36:20<21:27,  4.01s/it]"
     ]
    },
    {
     "name": "stdout",
     "output_type": "stream",
     "text": [
      "tensor([[3.14932e+02, 1.18848e+02, 4.64597e+02, 3.80900e+02, 3.94684e-01, 0.00000e+00],\n",
      "        [7.37767e+01, 1.01280e+02, 2.33485e+02, 3.53946e+02, 3.61326e-01, 0.00000e+00]])\n"
     ]
    },
    {
     "name": "stderr",
     "output_type": "stream",
     "text": [
      "\r",
      " 63%|██████████████████████████████████████████████████▏                             | 539/859 [36:24<21:21,  4.00s/it]"
     ]
    },
    {
     "name": "stdout",
     "output_type": "stream",
     "text": [
      "tensor([[8.15101e+01, 1.81696e+02, 2.15969e+02, 3.92279e+02, 3.00118e-01, 0.00000e+00],\n",
      "        [2.89583e+02, 2.02735e+02, 4.07854e+02, 3.67229e+02, 2.44965e-01, 0.00000e+00]])\n"
     ]
    },
    {
     "name": "stderr",
     "output_type": "stream",
     "text": [
      "\r",
      " 63%|██████████████████████████████████████████████████▎                             | 540/859 [36:28<21:12,  3.99s/it]"
     ]
    },
    {
     "name": "stdout",
     "output_type": "stream",
     "text": [
      "tensor([[9.26564e+01, 1.65040e+02, 2.00334e+02, 4.43818e+02, 2.50097e-01, 0.00000e+00],\n",
      "        [2.67738e+02, 1.47091e+02, 3.81908e+02, 4.43305e+02, 1.81818e-01, 0.00000e+00]])\n"
     ]
    },
    {
     "name": "stderr",
     "output_type": "stream",
     "text": [
      "\r",
      " 63%|██████████████████████████████████████████████████▍                             | 541/859 [36:32<21:11,  4.00s/it]"
     ]
    },
    {
     "name": "stdout",
     "output_type": "stream",
     "text": [
      "tensor([[3.13134e+02, 1.71801e+02, 4.59132e+02, 4.08147e+02, 2.34065e-01, 0.00000e+00],\n",
      "        [1.19593e+02, 1.04715e+02, 2.44295e+02, 4.25756e+02, 2.31155e-01, 0.00000e+00]])\n"
     ]
    },
    {
     "name": "stderr",
     "output_type": "stream",
     "text": [
      "\r",
      " 63%|██████████████████████████████████████████████████▍                             | 542/859 [36:36<21:15,  4.02s/it]"
     ]
    },
    {
     "name": "stdout",
     "output_type": "stream",
     "text": [
      "tensor([[1.40447e+02, 1.43488e+02, 2.79585e+02, 4.27612e+02, 4.47099e-01, 0.00000e+00],\n",
      "        [3.48291e+02, 1.67840e+02, 4.75788e+02, 4.56713e+02, 4.14773e-01, 0.00000e+00]])\n"
     ]
    },
    {
     "name": "stderr",
     "output_type": "stream",
     "text": [
      "\r",
      " 63%|██████████████████████████████████████████████████▌                             | 543/859 [36:40<21:08,  4.01s/it]"
     ]
    },
    {
     "name": "stdout",
     "output_type": "stream",
     "text": [
      "tensor([[9.36157e+01, 4.24359e+01, 2.26198e+02, 2.75939e+02, 2.59643e-01, 0.00000e+00],\n",
      "        [2.98320e+02, 5.92354e+01, 4.39652e+02, 3.68653e+02, 2.40076e-01, 0.00000e+00]])\n"
     ]
    },
    {
     "name": "stderr",
     "output_type": "stream",
     "text": [
      "\r",
      " 63%|██████████████████████████████████████████████████▋                             | 544/859 [36:44<20:58,  3.99s/it]"
     ]
    },
    {
     "name": "stdout",
     "output_type": "stream",
     "text": [
      "tensor([[4.05612e+01, 8.04483e+01, 2.01912e+02, 4.34896e+02, 3.07169e-01, 0.00000e+00],\n",
      "        [2.78625e+02, 8.74022e+01, 4.48331e+02, 4.01515e+02, 2.86887e-01, 0.00000e+00]])\n"
     ]
    },
    {
     "name": "stderr",
     "output_type": "stream",
     "text": [
      "\r",
      " 63%|██████████████████████████████████████████████████▊                             | 545/859 [36:48<20:58,  4.01s/it]"
     ]
    },
    {
     "name": "stdout",
     "output_type": "stream",
     "text": [
      "tensor([[5.72062e+01, 3.83513e+01, 2.19674e+02, 3.77642e+02, 2.34501e-01, 0.00000e+00],\n",
      "        [2.76439e+02, 6.23000e+01, 4.00779e+02, 3.78522e+02, 2.27914e-01, 0.00000e+00]])\n"
     ]
    },
    {
     "name": "stderr",
     "output_type": "stream",
     "text": [
      "\r",
      " 64%|██████████████████████████████████████████████████▊                             | 546/859 [36:52<20:47,  3.99s/it]"
     ]
    },
    {
     "name": "stdout",
     "output_type": "stream",
     "text": [
      "tensor([[2.83341e+02, 2.23670e+02, 4.11986e+02, 4.80907e+02, 2.62796e-01, 0.00000e+00],\n",
      "        [4.48313e+01, 1.92769e+02, 1.86962e+02, 4.25361e+02, 2.29429e-01, 0.00000e+00]])\n"
     ]
    },
    {
     "name": "stderr",
     "output_type": "stream",
     "text": [
      "\r",
      " 64%|██████████████████████████████████████████████████▉                             | 547/859 [36:56<20:48,  4.00s/it]"
     ]
    },
    {
     "name": "stdout",
     "output_type": "stream",
     "text": [
      "tensor([[1.09380e+02, 1.05539e+02, 2.38721e+02, 3.91861e+02, 2.43510e-01, 0.00000e+00],\n",
      "        [3.34250e+02, 8.31960e+01, 4.49177e+02, 3.67137e+02, 1.98198e-01, 0.00000e+00]])\n"
     ]
    },
    {
     "name": "stderr",
     "output_type": "stream",
     "text": [
      "\r",
      " 64%|███████████████████████████████████████████████████                             | 548/859 [37:00<20:42,  4.00s/it]"
     ]
    },
    {
     "name": "stdout",
     "output_type": "stream",
     "text": [
      "tensor([[3.15656e+02, 1.52613e+02, 4.52409e+02, 4.20954e+02, 3.94405e-01, 0.00000e+00],\n",
      "        [1.44464e+02, 1.44120e+02, 2.53613e+02, 3.89668e+02, 3.87488e-01, 0.00000e+00]])\n"
     ]
    },
    {
     "name": "stderr",
     "output_type": "stream",
     "text": [
      "\r",
      " 64%|███████████████████████████████████████████████████▏                            | 549/859 [37:04<20:44,  4.01s/it]"
     ]
    },
    {
     "name": "stdout",
     "output_type": "stream",
     "text": [
      "tensor([[2.78930e+02, 5.76799e+01, 3.69323e+02, 1.82859e+02, 2.17302e-01, 0.00000e+00],\n",
      "        [2.98789e+02, 6.97939e+01, 4.33147e+02, 3.73714e+02, 1.65645e-01, 0.00000e+00],\n",
      "        [5.95034e+01, 5.74894e+01, 2.09789e+02, 3.56609e+02, 1.55615e-01, 0.00000e+00]])\n"
     ]
    },
    {
     "name": "stderr",
     "output_type": "stream",
     "text": [
      "\r",
      " 64%|███████████████████████████████████████████████████▏                            | 550/859 [37:08<20:42,  4.02s/it]"
     ]
    },
    {
     "name": "stdout",
     "output_type": "stream",
     "text": [
      "tensor([[1.53719e+02, 5.45027e+01, 2.69053e+02, 2.78185e+02, 4.26372e-01, 0.00000e+00],\n",
      "        [3.54446e+02, 7.67813e+01, 4.69649e+02, 3.06909e+02, 3.66822e-01, 0.00000e+00]])\n"
     ]
    },
    {
     "name": "stderr",
     "output_type": "stream",
     "text": [
      "\r",
      " 64%|███████████████████████████████████████████████████▎                            | 551/859 [37:12<20:35,  4.01s/it]"
     ]
    },
    {
     "name": "stdout",
     "output_type": "stream",
     "text": [
      "tensor([[6.98406e+01, 3.99471e+01, 2.37680e+02, 3.72322e+02, 3.02297e-01, 0.00000e+00],\n",
      "        [2.91482e+02, 3.75471e+01, 4.43025e+02, 3.91825e+02, 2.74776e-01, 0.00000e+00]])\n"
     ]
    },
    {
     "name": "stderr",
     "output_type": "stream",
     "text": [
      "\r",
      " 64%|███████████████████████████████████████████████████▍                            | 552/859 [37:16<20:44,  4.05s/it]"
     ]
    },
    {
     "name": "stdout",
     "output_type": "stream",
     "text": [
      "tensor([[3.44518e+02, 7.15777e+01, 4.92099e+02, 3.69498e+02, 3.75799e-01, 0.00000e+00],\n",
      "        [7.47916e+01, 1.11377e+02, 2.17414e+02, 3.68455e+02, 3.31649e-01, 0.00000e+00]])\n"
     ]
    },
    {
     "name": "stderr",
     "output_type": "stream",
     "text": [
      "\r",
      " 64%|███████████████████████████████████████████████████▌                            | 553/859 [37:21<20:58,  4.11s/it]"
     ]
    },
    {
     "name": "stdout",
     "output_type": "stream",
     "text": [
      "tensor([[3.25423e+02, 1.54790e+02, 4.55158e+02, 3.89047e+02, 3.47245e-01, 0.00000e+00],\n",
      "        [1.06780e+02, 1.57162e+02, 2.33195e+02, 3.66486e+02, 3.18600e-01, 0.00000e+00]])\n"
     ]
    },
    {
     "name": "stderr",
     "output_type": "stream",
     "text": [
      "\r",
      " 64%|███████████████████████████████████████████████████▌                            | 554/859 [37:25<21:04,  4.14s/it]"
     ]
    },
    {
     "name": "stdout",
     "output_type": "stream",
     "text": [
      "tensor([[4.33366e+01, 1.21989e+02, 1.88453e+02, 3.89567e+02, 4.59665e-01, 0.00000e+00],\n",
      "        [2.53972e+02, 1.58502e+02, 3.70795e+02, 4.25827e+02, 3.11365e-01, 0.00000e+00]])\n"
     ]
    },
    {
     "name": "stderr",
     "output_type": "stream",
     "text": [
      "\r",
      " 65%|███████████████████████████████████████████████████▋                            | 555/859 [37:29<20:47,  4.10s/it]"
     ]
    },
    {
     "name": "stdout",
     "output_type": "stream",
     "text": [
      "tensor([[3.35061e+02, 8.76784e+01, 4.67646e+02, 3.29767e+02, 3.63098e-01, 0.00000e+00],\n",
      "        [1.23232e+02, 5.10252e+01, 2.48271e+02, 2.61723e+02, 3.33115e-01, 0.00000e+00]])\n"
     ]
    },
    {
     "name": "stderr",
     "output_type": "stream",
     "text": [
      "\r",
      " 65%|███████████████████████████████████████████████████▊                            | 556/859 [37:33<20:32,  4.07s/it]"
     ]
    },
    {
     "name": "stdout",
     "output_type": "stream",
     "text": [
      "tensor([[3.36823e+02, 1.36693e+01, 4.83561e+02, 3.50867e+02, 4.33540e-01, 0.00000e+00],\n",
      "        [8.89485e+01, 1.01575e+01, 2.58694e+02, 3.75159e+02, 4.15799e-01, 0.00000e+00]])\n"
     ]
    },
    {
     "name": "stderr",
     "output_type": "stream",
     "text": [
      "\r",
      " 65%|███████████████████████████████████████████████████▊                            | 557/859 [37:37<20:23,  4.05s/it]"
     ]
    },
    {
     "name": "stdout",
     "output_type": "stream",
     "text": [
      "tensor([[3.16317e+02, 2.43975e+02, 4.28444e+02, 4.12102e+02, 1.41920e-01, 0.00000e+00],\n",
      "        [1.05267e+02, 5.10209e+01, 2.41324e+02, 3.78283e+02, 1.33171e-01, 0.00000e+00]])\n"
     ]
    },
    {
     "name": "stderr",
     "output_type": "stream",
     "text": [
      "\r",
      " 65%|███████████████████████████████████████████████████▉                            | 558/859 [37:41<20:12,  4.03s/it]"
     ]
    },
    {
     "name": "stdout",
     "output_type": "stream",
     "text": [
      "tensor([[4.04520e+01, 6.71491e+01, 2.13366e+02, 4.27669e+02, 2.58196e-01, 0.00000e+00],\n",
      "        [2.92936e+02, 6.70487e+01, 4.54101e+02, 4.20865e+02, 2.14704e-01, 0.00000e+00]])\n"
     ]
    },
    {
     "name": "stderr",
     "output_type": "stream",
     "text": [
      "\r",
      " 65%|████████████████████████████████████████████████████                            | 559/859 [37:45<20:00,  4.00s/it]"
     ]
    },
    {
     "name": "stdout",
     "output_type": "stream",
     "text": [
      "tensor([[333.58365, 100.48295, 446.91116, 333.49615,   0.46864,   0.00000],\n",
      "        [117.59762,  84.67371, 251.63382, 314.66336,   0.45108,   0.00000]])\n"
     ]
    },
    {
     "name": "stderr",
     "output_type": "stream",
     "text": [
      "\r",
      " 65%|████████████████████████████████████████████████████▏                           | 560/859 [37:49<19:53,  3.99s/it]"
     ]
    },
    {
     "name": "stdout",
     "output_type": "stream",
     "text": [
      "tensor([[ 8.31021e+01, -7.12082e-01,  2.45013e+02,  2.05852e+02,  4.32279e-01,  0.00000e+00],\n",
      "        [ 3.38458e+02,  3.86292e+00,  4.95579e+02,  2.25824e+02,  4.24479e-01,  0.00000e+00]])\n"
     ]
    },
    {
     "name": "stderr",
     "output_type": "stream",
     "text": [
      "\r",
      " 65%|████████████████████████████████████████████████████▏                           | 561/859 [37:53<19:44,  3.98s/it]"
     ]
    },
    {
     "name": "stdout",
     "output_type": "stream",
     "text": [
      "tensor([[6.06940e+01, 7.64126e+01, 1.95227e+02, 3.72341e+02, 2.10168e-01, 0.00000e+00],\n",
      "        [2.92498e+02, 1.13659e+02, 4.38536e+02, 3.89182e+02, 1.64141e-01, 0.00000e+00]])\n"
     ]
    },
    {
     "name": "stderr",
     "output_type": "stream",
     "text": [
      "\r",
      " 65%|████████████████████████████████████████████████████▎                           | 562/859 [37:57<19:44,  3.99s/it]"
     ]
    },
    {
     "name": "stdout",
     "output_type": "stream",
     "text": [
      "tensor([[3.38075e+02, 3.60641e+01, 4.76560e+02, 3.25309e+02, 4.70227e-01, 0.00000e+00],\n",
      "        [8.55855e+01, 6.32677e+01, 2.32343e+02, 3.60222e+02, 2.35828e-01, 0.00000e+00]])\n"
     ]
    },
    {
     "name": "stderr",
     "output_type": "stream",
     "text": [
      "\r",
      " 66%|████████████████████████████████████████████████████▍                           | 563/859 [38:01<19:31,  3.96s/it]"
     ]
    },
    {
     "name": "stdout",
     "output_type": "stream",
     "text": [
      "tensor([[6.34796e+01, 7.92048e+01, 2.28852e+02, 3.28395e+02, 4.41199e-01, 0.00000e+00],\n",
      "        [3.19405e+02, 8.60808e+01, 4.67965e+02, 3.11597e+02, 4.27188e-01, 0.00000e+00]])\n"
     ]
    },
    {
     "name": "stderr",
     "output_type": "stream",
     "text": [
      "\r",
      " 66%|████████████████████████████████████████████████████▌                           | 564/859 [38:05<19:30,  3.97s/it]"
     ]
    },
    {
     "name": "stdout",
     "output_type": "stream",
     "text": [
      "tensor([[1.19364e+02, 7.90503e+01, 2.43839e+02, 3.24499e+02, 3.06849e-01, 0.00000e+00],\n",
      "        [3.14927e+02, 1.56231e+02, 4.36710e+02, 3.45982e+02, 2.18694e-01, 0.00000e+00]])\n"
     ]
    },
    {
     "name": "stderr",
     "output_type": "stream",
     "text": [
      "\r",
      " 66%|████████████████████████████████████████████████████▌                           | 565/859 [38:08<19:26,  3.97s/it]"
     ]
    },
    {
     "name": "stdout",
     "output_type": "stream",
     "text": [
      "tensor([[1.26718e+02, 1.01371e+02, 2.63775e+02, 3.30858e+02, 4.02172e-01, 0.00000e+00],\n",
      "        [3.34219e+02, 1.53380e+02, 4.43243e+02, 3.62693e+02, 3.45823e-01, 0.00000e+00]])\n"
     ]
    },
    {
     "name": "stderr",
     "output_type": "stream",
     "text": [
      "\r",
      " 66%|████████████████████████████████████████████████████▋                           | 566/859 [38:12<19:25,  3.98s/it]"
     ]
    },
    {
     "name": "stdout",
     "output_type": "stream",
     "text": [
      "tensor([[3.11987e+02, 3.93277e+01, 4.70868e+02, 3.01917e+02, 3.83198e-01, 0.00000e+00],\n",
      "        [4.97788e+01, 5.98321e+01, 1.91858e+02, 3.17865e+02, 2.56704e-01, 0.00000e+00]])\n"
     ]
    },
    {
     "name": "stderr",
     "output_type": "stream",
     "text": [
      "\r",
      " 66%|████████████████████████████████████████████████████▊                           | 567/859 [38:16<19:23,  3.98s/it]"
     ]
    },
    {
     "name": "stdout",
     "output_type": "stream",
     "text": [
      "tensor([[1.17481e+02, 1.05843e+02, 2.39015e+02, 3.63016e+02, 3.57451e-01, 0.00000e+00],\n",
      "        [3.34773e+02, 1.03889e+02, 4.66222e+02, 3.91947e+02, 3.39121e-01, 0.00000e+00]])\n"
     ]
    },
    {
     "name": "stderr",
     "output_type": "stream",
     "text": [
      "\r",
      " 66%|████████████████████████████████████████████████████▉                           | 568/859 [38:21<19:33,  4.03s/it]"
     ]
    },
    {
     "name": "stdout",
     "output_type": "stream",
     "text": [
      "tensor([[2.97878e+02, 1.41209e+02, 4.14931e+02, 3.95894e+02, 2.11066e-01, 0.00000e+00],\n",
      "        [8.62021e+01, 1.09018e+02, 1.99536e+02, 3.79787e+02, 1.32517e-01, 0.00000e+00]])\n"
     ]
    },
    {
     "name": "stderr",
     "output_type": "stream",
     "text": [
      "\r",
      " 66%|████████████████████████████████████████████████████▉                           | 569/859 [38:25<19:26,  4.02s/it]"
     ]
    },
    {
     "name": "stdout",
     "output_type": "stream",
     "text": [
      "tensor([[ 73.85460, 125.53712, 198.75392, 346.22540,   0.58576,   0.00000],\n",
      "        [263.11768, 102.94697, 421.28076, 321.29782,   0.57304,   0.00000]])\n"
     ]
    },
    {
     "name": "stderr",
     "output_type": "stream",
     "text": [
      "\r",
      " 66%|█████████████████████████████████████████████████████                           | 570/859 [38:29<19:25,  4.03s/it]"
     ]
    },
    {
     "name": "stdout",
     "output_type": "stream",
     "text": [
      "tensor([[1.89243e+01, 6.43344e+01, 2.00169e+02, 4.66141e+02, 3.22789e-01, 0.00000e+00],\n",
      "        [3.05373e+02, 6.81414e+01, 4.76812e+02, 4.40959e+02, 2.67050e-01, 0.00000e+00]])\n"
     ]
    },
    {
     "name": "stderr",
     "output_type": "stream",
     "text": [
      "\r",
      " 66%|█████████████████████████████████████████████████████▏                          | 571/859 [38:33<19:30,  4.06s/it]"
     ]
    },
    {
     "name": "stdout",
     "output_type": "stream",
     "text": [
      "tensor([[6.02448e+01, 9.63118e+01, 1.81549e+02, 3.24579e+02, 3.37772e-01, 0.00000e+00],\n",
      "        [2.76945e+02, 8.25197e+01, 3.92127e+02, 3.51403e+02, 3.20619e-01, 0.00000e+00]])\n"
     ]
    },
    {
     "name": "stderr",
     "output_type": "stream",
     "text": [
      "\r",
      " 67%|█████████████████████████████████████████████████████▎                          | 572/859 [38:37<19:29,  4.08s/it]"
     ]
    },
    {
     "name": "stdout",
     "output_type": "stream",
     "text": [
      "tensor([[7.54904e+01, 7.68288e+01, 2.29405e+02, 4.24791e+02, 4.02144e-01, 0.00000e+00],\n",
      "        [3.02803e+02, 8.76412e+01, 4.66006e+02, 4.12057e+02, 2.76504e-01, 0.00000e+00]])\n"
     ]
    },
    {
     "name": "stderr",
     "output_type": "stream",
     "text": [
      "\r",
      " 67%|█████████████████████████████████████████████████████▎                          | 573/859 [38:41<19:14,  4.04s/it]"
     ]
    },
    {
     "name": "stdout",
     "output_type": "stream",
     "text": [
      "tensor([[3.59732e+02, 2.97501e+02, 4.96431e+02, 4.57103e+02, 2.57824e-01, 0.00000e+00],\n",
      "        [1.23994e+02, 1.35782e+02, 2.66259e+02, 4.77778e+02, 1.27381e-01, 0.00000e+00]])\n"
     ]
    },
    {
     "name": "stderr",
     "output_type": "stream",
     "text": [
      "\r",
      " 67%|█████████████████████████████████████████████████████▍                          | 574/859 [38:45<19:09,  4.03s/it]"
     ]
    },
    {
     "name": "stdout",
     "output_type": "stream",
     "text": [
      "tensor([[8.62012e+01, 1.42774e+02, 2.09548e+02, 3.50458e+02, 4.52520e-01, 0.00000e+00],\n",
      "        [2.76722e+02, 1.43913e+02, 4.20996e+02, 3.55701e+02, 2.49911e-01, 0.00000e+00]])\n"
     ]
    },
    {
     "name": "stderr",
     "output_type": "stream",
     "text": [
      "\r",
      " 67%|█████████████████████████████████████████████████████▌                          | 575/859 [38:49<19:03,  4.03s/it]"
     ]
    },
    {
     "name": "stdout",
     "output_type": "stream",
     "text": [
      "tensor([[3.50595e+02, 1.79610e+02, 4.75945e+02, 3.59406e+02, 2.55914e-01, 0.00000e+00],\n",
      "        [1.04178e+02, 1.06424e+02, 2.39588e+02, 3.30212e+02, 1.33927e-01, 0.00000e+00]])\n"
     ]
    },
    {
     "name": "stderr",
     "output_type": "stream",
     "text": [
      "\r",
      " 67%|█████████████████████████████████████████████████████▋                          | 576/859 [38:53<18:58,  4.02s/it]"
     ]
    },
    {
     "name": "stdout",
     "output_type": "stream",
     "text": [
      "tensor([[2.96252e+02, 1.14595e+02, 4.53455e+02, 4.47205e+02, 3.72077e-01, 0.00000e+00],\n",
      "        [6.31884e+01, 1.02891e+02, 2.16687e+02, 4.17604e+02, 3.24178e-01, 0.00000e+00],\n",
      "        [3.45094e+02, 1.41452e+02, 4.15159e+02, 2.79738e+02, 1.12405e-01, 0.00000e+00]])\n"
     ]
    },
    {
     "name": "stderr",
     "output_type": "stream",
     "text": [
      "\r",
      " 67%|█████████████████████████████████████████████████████▋                          | 577/859 [38:57<18:41,  3.98s/it]"
     ]
    },
    {
     "name": "stdout",
     "output_type": "stream",
     "text": [
      "tensor([[3.23877e+02, 3.78421e+01, 4.59570e+02, 2.90733e+02, 2.93838e-01, 0.00000e+00],\n",
      "        [1.24730e+02, 2.88174e+01, 2.71010e+02, 3.62664e+02, 2.86171e-01, 0.00000e+00]])\n"
     ]
    },
    {
     "name": "stderr",
     "output_type": "stream",
     "text": [
      "\r",
      " 67%|█████████████████████████████████████████████████████▊                          | 578/859 [39:01<18:40,  3.99s/it]"
     ]
    },
    {
     "name": "stdout",
     "output_type": "stream",
     "text": [
      "tensor([[2.97739e+02, 9.47161e+01, 4.43957e+02, 3.21753e+02, 2.05871e-01, 0.00000e+00],\n",
      "        [6.22892e+01, 9.25146e+01, 2.06746e+02, 3.45168e+02, 1.99597e-01, 0.00000e+00]])\n"
     ]
    },
    {
     "name": "stderr",
     "output_type": "stream",
     "text": [
      "\r",
      " 67%|█████████████████████████████████████████████████████▉                          | 579/859 [39:05<18:35,  3.98s/it]"
     ]
    },
    {
     "name": "stdout",
     "output_type": "stream",
     "text": [
      "tensor([[1.32945e+02, 1.36124e+02, 2.71041e+02, 3.66331e+02, 1.24096e-01, 0.00000e+00],\n",
      "        [3.06423e+02, 7.76201e+01, 4.41587e+02, 3.31154e+02, 1.17544e-01, 0.00000e+00]])\n"
     ]
    },
    {
     "name": "stderr",
     "output_type": "stream",
     "text": [
      "\r",
      " 68%|██████████████████████████████████████████████████████                          | 580/859 [39:09<18:30,  3.98s/it]"
     ]
    },
    {
     "name": "stdout",
     "output_type": "stream",
     "text": [
      "tensor([[8.83619e+01, 7.59240e+01, 2.36041e+02, 3.56782e+02, 4.03767e-01, 0.00000e+00],\n",
      "        [3.01726e+02, 5.97053e+01, 4.50469e+02, 3.45806e+02, 3.80716e-01, 0.00000e+00]])\n"
     ]
    },
    {
     "name": "stderr",
     "output_type": "stream",
     "text": [
      "\r",
      " 68%|██████████████████████████████████████████████████████                          | 581/859 [39:13<18:18,  3.95s/it]"
     ]
    },
    {
     "name": "stdout",
     "output_type": "stream",
     "text": [
      "tensor([[3.50125e+02, 6.76998e+01, 4.78083e+02, 3.47693e+02, 2.15516e-01, 0.00000e+00],\n",
      "        [8.69416e+01, 7.48644e+01, 2.08508e+02, 2.59363e+02, 1.89744e-01, 0.00000e+00]])\n"
     ]
    },
    {
     "name": "stderr",
     "output_type": "stream",
     "text": [
      "\r",
      " 68%|██████████████████████████████████████████████████████▏                         | 582/859 [39:17<18:21,  3.98s/it]"
     ]
    },
    {
     "name": "stdout",
     "output_type": "stream",
     "text": [
      "tensor([[3.04367e+02, 3.34665e+01, 4.41896e+02, 3.86230e+02, 3.20082e-01, 0.00000e+00],\n",
      "        [9.33316e+01, 2.22151e+01, 2.48862e+02, 4.04416e+02, 2.86394e-01, 0.00000e+00]])\n"
     ]
    },
    {
     "name": "stderr",
     "output_type": "stream",
     "text": [
      "\r",
      " 68%|██████████████████████████████████████████████████████▎                         | 583/859 [39:21<18:32,  4.03s/it]"
     ]
    },
    {
     "name": "stdout",
     "output_type": "stream",
     "text": [
      "tensor([[1.57546e+02, 9.46124e+01, 2.92635e+02, 3.22798e+02, 2.53697e-01, 0.00000e+00],\n",
      "        [4.18880e+02, 1.78552e+02, 5.11833e+02, 3.58534e+02, 1.59546e-01, 0.00000e+00]])\n"
     ]
    },
    {
     "name": "stderr",
     "output_type": "stream",
     "text": [
      "\r",
      " 68%|██████████████████████████████████████████████████████▍                         | 584/859 [39:25<18:42,  4.08s/it]"
     ]
    },
    {
     "name": "stdout",
     "output_type": "stream",
     "text": [
      "tensor([[8.70994e+01, 1.16389e+02, 2.00536e+02, 3.89992e+02, 3.65037e-01, 0.00000e+00],\n",
      "        [2.84633e+02, 1.60479e+02, 3.90952e+02, 4.18426e+02, 2.60125e-01, 0.00000e+00]])\n"
     ]
    },
    {
     "name": "stderr",
     "output_type": "stream",
     "text": [
      "\r",
      " 68%|██████████████████████████████████████████████████████▍                         | 585/859 [39:29<18:36,  4.08s/it]"
     ]
    },
    {
     "name": "stdout",
     "output_type": "stream",
     "text": [
      "tensor([[3.85389e+01, 5.20847e+01, 1.93400e+02, 3.65591e+02, 3.81755e-01, 0.00000e+00],\n",
      "        [2.64414e+02, 6.06280e+01, 3.93588e+02, 3.69248e+02, 3.47233e-01, 0.00000e+00]])\n"
     ]
    },
    {
     "name": "stderr",
     "output_type": "stream",
     "text": [
      "\r",
      " 68%|██████████████████████████████████████████████████████▌                         | 586/859 [39:33<18:39,  4.10s/it]"
     ]
    },
    {
     "name": "stdout",
     "output_type": "stream",
     "text": [
      "tensor([[2.51550e+02, 1.01515e+02, 4.03693e+02, 3.34143e+02, 2.89376e-01, 0.00000e+00],\n",
      "        [7.09535e+01, 4.89377e+00, 2.08767e+02, 3.46702e+02, 1.64503e-01, 0.00000e+00]])\n"
     ]
    },
    {
     "name": "stderr",
     "output_type": "stream",
     "text": [
      "\r",
      " 68%|██████████████████████████████████████████████████████▋                         | 587/859 [39:37<18:29,  4.08s/it]"
     ]
    },
    {
     "name": "stdout",
     "output_type": "stream",
     "text": [
      "tensor([[2.67261e+02, 8.81997e+01, 4.10652e+02, 4.04402e+02, 2.25493e-01, 0.00000e+00],\n",
      "        [1.17297e+01, 9.26288e+01, 1.79612e+02, 4.34776e+02, 2.14766e-01, 0.00000e+00]])\n"
     ]
    },
    {
     "name": "stderr",
     "output_type": "stream",
     "text": [
      "\r",
      " 68%|██████████████████████████████████████████████████████▊                         | 588/859 [39:41<18:20,  4.06s/it]"
     ]
    },
    {
     "name": "stdout",
     "output_type": "stream",
     "text": [
      "tensor([[7.88515e+01, 5.59792e+01, 2.21223e+02, 3.57650e+02, 1.99106e-01, 0.00000e+00],\n",
      "        [2.84367e+02, 6.06269e+01, 4.21937e+02, 3.56228e+02, 1.81640e-01, 0.00000e+00]])\n"
     ]
    },
    {
     "name": "stderr",
     "output_type": "stream",
     "text": [
      "\r",
      " 69%|██████████████████████████████████████████████████████▊                         | 589/859 [39:45<18:17,  4.07s/it]"
     ]
    },
    {
     "name": "stdout",
     "output_type": "stream",
     "text": [
      "tensor([[9.91480e+01, 1.48960e+02, 2.00507e+02, 3.57877e+02, 3.48651e-01, 0.00000e+00],\n",
      "        [2.98987e+02, 1.02764e+02, 4.33245e+02, 3.83600e+02, 3.35727e-01, 0.00000e+00]])\n"
     ]
    },
    {
     "name": "stderr",
     "output_type": "stream",
     "text": [
      "\r",
      " 69%|██████████████████████████████████████████████████████▉                         | 590/859 [39:49<18:04,  4.03s/it]"
     ]
    },
    {
     "name": "stdout",
     "output_type": "stream",
     "text": [
      "tensor([[1.05163e+02, 1.28045e+02, 2.48753e+02, 4.55331e+02, 3.10642e-01, 0.00000e+00],\n",
      "        [3.20002e+02, 1.85085e+02, 4.57773e+02, 4.41064e+02, 1.92872e-01, 0.00000e+00]])\n"
     ]
    },
    {
     "name": "stderr",
     "output_type": "stream",
     "text": [
      "\r",
      " 69%|███████████████████████████████████████████████████████                         | 591/859 [39:53<17:56,  4.02s/it]"
     ]
    },
    {
     "name": "stdout",
     "output_type": "stream",
     "text": [
      "tensor([[9.76187e+01, 6.98364e+01, 2.26635e+02, 3.19520e+02, 3.94468e-01, 0.00000e+00],\n",
      "        [3.42583e+02, 5.05647e+01, 4.67508e+02, 2.67896e+02, 3.14431e-01, 0.00000e+00]])\n"
     ]
    },
    {
     "name": "stderr",
     "output_type": "stream",
     "text": [
      "\r",
      " 69%|███████████████████████████████████████████████████████▏                        | 592/859 [39:57<17:49,  4.01s/it]"
     ]
    },
    {
     "name": "stdout",
     "output_type": "stream",
     "text": [
      "tensor([[3.43029e+02, 1.35340e+02, 4.67253e+02, 3.11217e+02, 3.42092e-01, 0.00000e+00],\n",
      "        [1.10234e+02, 1.01188e+02, 2.30805e+02, 2.92905e+02, 2.12489e-01, 0.00000e+00]])\n"
     ]
    },
    {
     "name": "stderr",
     "output_type": "stream",
     "text": [
      "\r",
      " 69%|███████████████████████████████████████████████████████▏                        | 593/859 [40:01<17:35,  3.97s/it]"
     ]
    },
    {
     "name": "stdout",
     "output_type": "stream",
     "text": [
      "tensor([[3.02541e+02, 5.95078e+01, 4.58846e+02, 3.35138e+02, 3.65091e-01, 0.00000e+00],\n",
      "        [1.00466e+02, 5.53438e+01, 2.44397e+02, 3.27813e+02, 2.96996e-01, 0.00000e+00]])\n"
     ]
    },
    {
     "name": "stderr",
     "output_type": "stream",
     "text": [
      "\r",
      " 69%|███████████████████████████████████████████████████████▎                        | 594/859 [40:05<17:32,  3.97s/it]"
     ]
    },
    {
     "name": "stdout",
     "output_type": "stream",
     "text": [
      "tensor([[3.56013e+02, 1.12196e+02, 4.80917e+02, 3.99393e+02, 1.88459e-01, 0.00000e+00],\n",
      "        [8.40368e+01, 1.01600e+02, 2.28628e+02, 3.97642e+02, 1.88009e-01, 0.00000e+00]])\n"
     ]
    },
    {
     "name": "stderr",
     "output_type": "stream",
     "text": [
      "\r",
      " 69%|███████████████████████████████████████████████████████▍                        | 595/859 [40:09<17:29,  3.98s/it]"
     ]
    },
    {
     "name": "stdout",
     "output_type": "stream",
     "text": [
      "tensor([[3.11202e+02, 4.76841e+01, 4.55019e+02, 3.58087e+02, 2.71146e-01, 0.00000e+00],\n",
      "        [1.04157e+02, 4.17846e+01, 2.40560e+02, 3.55675e+02, 2.45930e-01, 0.00000e+00]])\n"
     ]
    },
    {
     "name": "stderr",
     "output_type": "stream",
     "text": [
      "\r",
      " 69%|███████████████████████████████████████████████████████▌                        | 596/859 [40:13<17:34,  4.01s/it]"
     ]
    },
    {
     "name": "stdout",
     "output_type": "stream",
     "text": [
      "tensor([[3.07268e+02, 1.34356e+02, 4.36771e+02, 3.71695e+02, 3.57167e-01, 0.00000e+00],\n",
      "        [9.94164e+01, 1.38430e+02, 2.37187e+02, 3.50613e+02, 2.89000e-01, 0.00000e+00]])\n"
     ]
    },
    {
     "name": "stderr",
     "output_type": "stream",
     "text": [
      "\r",
      " 69%|███████████████████████████████████████████████████████▌                        | 597/859 [40:17<17:32,  4.02s/it]"
     ]
    },
    {
     "name": "stdout",
     "output_type": "stream",
     "text": [
      "tensor([[1.25994e+02, 1.29920e+02, 2.62891e+02, 3.77461e+02, 3.09009e-01, 0.00000e+00],\n",
      "        [3.50868e+02, 1.62089e+02, 4.81823e+02, 4.12216e+02, 2.36017e-01, 0.00000e+00]])\n"
     ]
    },
    {
     "name": "stderr",
     "output_type": "stream",
     "text": [
      "\r",
      " 70%|███████████████████████████████████████████████████████▋                        | 598/859 [40:21<17:23,  4.00s/it]"
     ]
    },
    {
     "name": "stdout",
     "output_type": "stream",
     "text": [
      "tensor([[9.56390e+01, 1.55317e+02, 2.20536e+02, 3.97261e+02, 4.08757e-01, 0.00000e+00],\n",
      "        [3.03585e+02, 1.41108e+02, 4.37089e+02, 4.03247e+02, 2.05776e-01, 0.00000e+00]])\n"
     ]
    },
    {
     "name": "stderr",
     "output_type": "stream",
     "text": [
      "\r",
      " 70%|███████████████████████████████████████████████████████▊                        | 599/859 [40:25<17:20,  4.00s/it]"
     ]
    },
    {
     "name": "stdout",
     "output_type": "stream",
     "text": [
      "tensor([[1.04662e+02, 3.74712e+01, 2.22636e+02, 2.55426e+02, 3.77447e-01, 0.00000e+00],\n",
      "        [3.07895e+02, 7.49113e+01, 4.38552e+02, 2.63935e+02, 2.71895e-01, 0.00000e+00]])\n"
     ]
    },
    {
     "name": "stderr",
     "output_type": "stream",
     "text": [
      "\r",
      " 70%|███████████████████████████████████████████████████████▉                        | 600/859 [40:29<17:16,  4.00s/it]"
     ]
    },
    {
     "name": "stdout",
     "output_type": "stream",
     "text": [
      "tensor([[3.41330e+02, 9.51173e+01, 4.86174e+02, 3.99318e+02, 2.47782e-01, 0.00000e+00],\n",
      "        [7.50672e+01, 1.08179e+02, 2.32078e+02, 4.20513e+02, 2.24809e-01, 0.00000e+00]])\n"
     ]
    },
    {
     "name": "stderr",
     "output_type": "stream",
     "text": [
      "\r",
      " 70%|███████████████████████████████████████████████████████▉                        | 601/859 [40:33<17:17,  4.02s/it]"
     ]
    },
    {
     "name": "stdout",
     "output_type": "stream",
     "text": [
      "tensor([[3.68843e+02, 1.69312e+02, 4.84809e+02, 4.01389e+02, 2.44577e-01, 0.00000e+00],\n",
      "        [1.42985e+02, 2.65961e+02, 2.62375e+02, 4.43841e+02, 2.42966e-01, 0.00000e+00]])\n"
     ]
    },
    {
     "name": "stderr",
     "output_type": "stream",
     "text": [
      "\r",
      " 70%|████████████████████████████████████████████████████████                        | 602/859 [40:37<17:07,  4.00s/it]"
     ]
    },
    {
     "name": "stdout",
     "output_type": "stream",
     "text": [
      "tensor([[3.10311e+02, 1.76001e+01, 4.88883e+02, 3.76923e+02, 3.93565e-01, 0.00000e+00],\n",
      "        [9.16923e+01, 2.03192e+01, 2.31543e+02, 1.99386e+02, 3.31767e-01, 0.00000e+00]])\n"
     ]
    },
    {
     "name": "stderr",
     "output_type": "stream",
     "text": [
      "\r",
      " 70%|████████████████████████████████████████████████████████▏                       | 603/859 [40:41<17:00,  3.99s/it]"
     ]
    },
    {
     "name": "stdout",
     "output_type": "stream",
     "text": [
      "tensor([[2.75496e+02, 2.21850e+02, 3.92171e+02, 3.71800e+02, 2.62900e-01, 0.00000e+00],\n",
      "        [9.39336e+01, 2.44152e+02, 2.01256e+02, 3.62721e+02, 1.95433e-01, 0.00000e+00]])\n"
     ]
    },
    {
     "name": "stderr",
     "output_type": "stream",
     "text": [
      "\r",
      " 70%|████████████████████████████████████████████████████████▎                       | 604/859 [40:45<16:52,  3.97s/it]"
     ]
    },
    {
     "name": "stdout",
     "output_type": "stream",
     "text": [
      "tensor([[3.04011e+02, 1.17888e+02, 3.99521e+02, 3.24434e+02, 2.99179e-01, 0.00000e+00],\n",
      "        [1.23999e+02, 1.76920e+02, 2.31656e+02, 3.36634e+02, 2.94825e-01, 0.00000e+00]])\n"
     ]
    },
    {
     "name": "stderr",
     "output_type": "stream",
     "text": [
      "\r",
      " 70%|████████████████████████████████████████████████████████▎                       | 605/859 [40:49<16:51,  3.98s/it]"
     ]
    },
    {
     "name": "stdout",
     "output_type": "stream",
     "text": [
      "tensor([[7.28405e+01, 6.68373e+01, 2.19269e+02, 3.50335e+02, 3.90601e-01, 0.00000e+00],\n",
      "        [3.13906e+02, 9.92312e+01, 4.54050e+02, 3.78951e+02, 1.90943e-01, 0.00000e+00]])\n"
     ]
    },
    {
     "name": "stderr",
     "output_type": "stream",
     "text": [
      "\r",
      " 71%|████████████████████████████████████████████████████████▍                       | 606/859 [40:53<16:45,  3.97s/it]"
     ]
    },
    {
     "name": "stdout",
     "output_type": "stream",
     "text": [
      "tensor([[1.23796e+02, 8.10830e+01, 2.37724e+02, 3.88542e+02, 3.17526e-01, 0.00000e+00],\n",
      "        [3.10538e+02, 8.38397e+01, 4.17185e+02, 3.62388e+02, 2.53766e-01, 0.00000e+00]])\n"
     ]
    },
    {
     "name": "stderr",
     "output_type": "stream",
     "text": [
      "\r",
      " 71%|████████████████████████████████████████████████████████▌                       | 607/859 [40:57<16:33,  3.94s/it]"
     ]
    },
    {
     "name": "stdout",
     "output_type": "stream",
     "text": [
      "tensor([[2.67446e+02, 1.56428e+02, 4.04109e+02, 4.11175e+02, 2.67013e-01, 0.00000e+00],\n",
      "        [1.95100e+01, 1.17059e+02, 1.28221e+02, 3.67109e+02, 2.43250e-01, 0.00000e+00]])\n"
     ]
    },
    {
     "name": "stderr",
     "output_type": "stream",
     "text": [
      "\r",
      " 71%|████████████████████████████████████████████████████████▌                       | 608/859 [41:01<16:20,  3.90s/it]"
     ]
    },
    {
     "name": "stdout",
     "output_type": "stream",
     "text": [
      "tensor([[3.75333e+02, 2.10574e+02, 5.01104e+02, 3.95651e+02, 1.77025e-01, 0.00000e+00],\n",
      "        [8.62944e+01, 1.06244e+02, 2.41590e+02, 3.15141e+02, 1.68886e-01, 0.00000e+00]])\n"
     ]
    },
    {
     "name": "stderr",
     "output_type": "stream",
     "text": [
      "\r",
      " 71%|████████████████████████████████████████████████████████▋                       | 609/859 [41:05<16:25,  3.94s/it]"
     ]
    },
    {
     "name": "stdout",
     "output_type": "stream",
     "text": [
      "tensor([[9.13378e+01, 8.51994e+01, 2.32674e+02, 3.48116e+02, 3.21773e-01, 0.00000e+00],\n",
      "        [3.17220e+02, 8.88894e+01, 4.49842e+02, 3.33656e+02, 3.10607e-01, 0.00000e+00]])\n"
     ]
    },
    {
     "name": "stderr",
     "output_type": "stream",
     "text": [
      "\r",
      " 71%|████████████████████████████████████████████████████████▊                       | 610/859 [41:09<16:19,  3.93s/it]"
     ]
    },
    {
     "name": "stdout",
     "output_type": "stream",
     "text": [
      "tensor([[2.94474e+02, 8.57479e+01, 4.33549e+02, 4.50941e+02, 3.18285e-01, 0.00000e+00],\n",
      "        [7.65100e+01, 5.86292e+01, 2.26777e+02, 4.35558e+02, 2.55147e-01, 0.00000e+00]])\n"
     ]
    },
    {
     "name": "stderr",
     "output_type": "stream",
     "text": [
      "\r",
      " 71%|████████████████████████████████████████████████████████▉                       | 611/859 [41:13<16:19,  3.95s/it]"
     ]
    },
    {
     "name": "stdout",
     "output_type": "stream",
     "text": [
      "tensor([[9.76209e+01, 1.25856e+02, 2.50744e+02, 3.63468e+02, 5.54995e-01, 0.00000e+00],\n",
      "        [3.44742e+02, 1.09395e+02, 4.92959e+02, 4.16014e+02, 4.68674e-01, 0.00000e+00]])\n"
     ]
    },
    {
     "name": "stderr",
     "output_type": "stream",
     "text": [
      "\r",
      " 71%|████████████████████████████████████████████████████████▉                       | 612/859 [41:17<16:14,  3.95s/it]"
     ]
    },
    {
     "name": "stdout",
     "output_type": "stream",
     "text": [
      "tensor([[3.18747e+02, 5.63256e+01, 4.91660e+02, 4.58995e+02, 3.54345e-01, 0.00000e+00],\n",
      "        [9.33201e+01, 7.64629e+01, 2.60453e+02, 4.41431e+02, 2.65885e-01, 0.00000e+00]])\n"
     ]
    },
    {
     "name": "stderr",
     "output_type": "stream",
     "text": [
      "\r",
      " 71%|█████████████████████████████████████████████████████████                       | 613/859 [41:21<16:26,  4.01s/it]"
     ]
    },
    {
     "name": "stdout",
     "output_type": "stream",
     "text": [
      "tensor([[2.45646e+02, 6.90520e+01, 3.68538e+02, 2.91699e+02, 2.21770e-01, 0.00000e+00],\n",
      "        [1.13238e+02, 8.17061e+01, 2.03394e+02, 2.76091e+02, 1.27252e-01, 0.00000e+00]])\n"
     ]
    },
    {
     "name": "stderr",
     "output_type": "stream",
     "text": [
      "\r",
      " 71%|█████████████████████████████████████████████████████████▏                      | 614/859 [41:25<16:29,  4.04s/it]"
     ]
    },
    {
     "name": "stdout",
     "output_type": "stream",
     "text": [
      "tensor([[7.46735e+01, 1.03254e+02, 2.08182e+02, 3.83309e+02, 3.75812e-01, 0.00000e+00],\n",
      "        [2.91748e+02, 9.80596e+01, 4.39915e+02, 3.92466e+02, 2.50421e-01, 0.00000e+00]])\n"
     ]
    },
    {
     "name": "stderr",
     "output_type": "stream",
     "text": [
      "\r",
      " 72%|█████████████████████████████████████████████████████████▎                      | 615/859 [41:29<16:37,  4.09s/it]"
     ]
    },
    {
     "name": "stdout",
     "output_type": "stream",
     "text": [
      "tensor([[1.04437e+02, 2.10965e+01, 2.21499e+02, 3.30280e+02, 3.20854e-01, 0.00000e+00],\n",
      "        [2.95121e+02, 5.98022e+01, 4.03208e+02, 3.52962e+02, 2.01183e-01, 0.00000e+00]])\n"
     ]
    },
    {
     "name": "stderr",
     "output_type": "stream",
     "text": [
      "\r",
      " 72%|█████████████████████████████████████████████████████████▎                      | 616/859 [41:33<16:29,  4.07s/it]"
     ]
    },
    {
     "name": "stdout",
     "output_type": "stream",
     "text": [
      "tensor([[1.43206e+02, 1.26955e+02, 2.59539e+02, 3.71674e+02, 2.50612e-01, 0.00000e+00],\n",
      "        [3.33476e+02, 1.21343e+02, 4.43153e+02, 3.81009e+02, 1.34892e-01, 0.00000e+00]])\n"
     ]
    },
    {
     "name": "stderr",
     "output_type": "stream",
     "text": [
      "\r",
      " 72%|█████████████████████████████████████████████████████████▍                      | 617/859 [41:37<16:30,  4.09s/it]"
     ]
    },
    {
     "name": "stdout",
     "output_type": "stream",
     "text": [
      "tensor([[2.53089e+01, 1.85144e+02, 1.93542e+02, 5.12777e+02, 5.31678e-01, 0.00000e+00],\n",
      "        [2.57137e+02, 1.58550e+02, 4.31549e+02, 5.07761e+02, 5.02277e-01, 0.00000e+00]])\n"
     ]
    },
    {
     "name": "stderr",
     "output_type": "stream",
     "text": [
      "\r",
      " 72%|█████████████████████████████████████████████████████████▌                      | 618/859 [41:41<16:23,  4.08s/it]"
     ]
    },
    {
     "name": "stdout",
     "output_type": "stream",
     "text": [
      "tensor([[1.03252e+02, 8.23644e+01, 2.55389e+02, 4.02060e+02, 1.98866e-01, 0.00000e+00],\n",
      "        [3.38800e+02, 9.87697e+01, 4.91619e+02, 3.99447e+02, 1.50537e-01, 0.00000e+00]])\n"
     ]
    },
    {
     "name": "stderr",
     "output_type": "stream",
     "text": [
      "\r",
      " 72%|█████████████████████████████████████████████████████████▋                      | 619/859 [41:45<16:10,  4.04s/it]"
     ]
    },
    {
     "name": "stdout",
     "output_type": "stream",
     "text": [
      "tensor([[1.22314e+02, 1.11120e+02, 2.54962e+02, 4.00445e+02, 3.10336e-01, 0.00000e+00],\n",
      "        [3.32163e+02, 1.04622e+02, 4.72567e+02, 4.01877e+02, 2.29396e-01, 0.00000e+00]])\n"
     ]
    },
    {
     "name": "stderr",
     "output_type": "stream",
     "text": [
      "\r",
      " 72%|█████████████████████████████████████████████████████████▋                      | 620/859 [41:49<15:57,  4.01s/it]"
     ]
    },
    {
     "name": "stdout",
     "output_type": "stream",
     "text": [
      "tensor([[1.10383e+02, 6.48838e+01, 2.50935e+02, 3.20222e+02, 4.69071e-01, 0.00000e+00],\n",
      "        [3.38181e+02, 6.58431e+01, 4.65237e+02, 3.43347e+02, 3.08736e-01, 0.00000e+00]])\n"
     ]
    },
    {
     "name": "stderr",
     "output_type": "stream",
     "text": [
      "\r",
      " 72%|█████████████████████████████████████████████████████████▊                      | 621/859 [41:53<15:58,  4.03s/it]"
     ]
    },
    {
     "name": "stdout",
     "output_type": "stream",
     "text": [
      "tensor([[2.92485e+02, 7.46088e+01, 4.14386e+02, 3.35266e+02, 2.27811e-01, 0.00000e+00],\n",
      "        [7.13229e+01, 5.98601e+01, 1.91688e+02, 3.53762e+02, 1.78832e-01, 0.00000e+00]])\n"
     ]
    },
    {
     "name": "stderr",
     "output_type": "stream",
     "text": [
      "\r",
      " 72%|█████████████████████████████████████████████████████████▉                      | 622/859 [41:57<15:50,  4.01s/it]"
     ]
    },
    {
     "name": "stdout",
     "output_type": "stream",
     "text": [
      "tensor([[209.53574, 147.64241, 325.17606, 348.03882,   0.49400,   0.00000],\n",
      "        [  2.69836, 144.54108, 125.57973, 386.23541,   0.47707,   0.00000]])\n"
     ]
    },
    {
     "name": "stderr",
     "output_type": "stream",
     "text": [
      "\r",
      " 73%|██████████████████████████████████████████████████████████                      | 623/859 [42:01<15:50,  4.03s/it]"
     ]
    },
    {
     "name": "stdout",
     "output_type": "stream",
     "text": [
      "tensor([[5.97426e+01, 2.94570e+01, 2.38459e+02, 4.15879e+02, 3.15384e-01, 0.00000e+00],\n",
      "        [3.01647e+02, 2.86385e+01, 4.68480e+02, 4.16584e+02, 2.27674e-01, 0.00000e+00]])\n"
     ]
    },
    {
     "name": "stderr",
     "output_type": "stream",
     "text": [
      "\r",
      " 73%|██████████████████████████████████████████████████████████                      | 624/859 [42:05<15:50,  4.04s/it]"
     ]
    },
    {
     "name": "stdout",
     "output_type": "stream",
     "text": [
      "tensor([[2.78125e+02, 1.17331e+02, 4.14797e+02, 3.88384e+02, 2.14658e-01, 0.00000e+00],\n",
      "        [8.67478e+01, 2.38596e+02, 2.06504e+02, 4.17427e+02, 1.93486e-01, 0.00000e+00]])\n"
     ]
    },
    {
     "name": "stderr",
     "output_type": "stream",
     "text": [
      "\r",
      " 73%|██████████████████████████████████████████████████████████▏                     | 625/859 [42:10<15:52,  4.07s/it]"
     ]
    },
    {
     "name": "stdout",
     "output_type": "stream",
     "text": [
      "tensor([[1.01664e+02, 1.86085e+02, 2.26650e+02, 4.49999e+02, 3.00932e-01, 0.00000e+00],\n",
      "        [3.26244e+02, 3.30353e+02, 4.55599e+02, 4.61611e+02, 2.32966e-01, 0.00000e+00]])\n"
     ]
    },
    {
     "name": "stderr",
     "output_type": "stream",
     "text": [
      "\r",
      " 73%|██████████████████████████████████████████████████████████▎                     | 626/859 [42:14<15:44,  4.05s/it]"
     ]
    },
    {
     "name": "stdout",
     "output_type": "stream",
     "text": [
      "tensor([[1.00091e+02, 6.49695e+01, 2.44280e+02, 3.39801e+02, 2.61970e-01, 0.00000e+00],\n",
      "        [3.03887e+02, 2.35997e+01, 4.67774e+02, 3.50607e+02, 2.32620e-01, 0.00000e+00]])\n"
     ]
    },
    {
     "name": "stderr",
     "output_type": "stream",
     "text": [
      "\r",
      " 73%|██████████████████████████████████████████████████████████▍                     | 627/859 [42:18<15:36,  4.04s/it]"
     ]
    },
    {
     "name": "stdout",
     "output_type": "stream",
     "text": [
      "tensor([[4.94847e+01, 1.13614e+02, 2.16462e+02, 3.97719e+02, 4.16396e-01, 0.00000e+00],\n",
      "        [2.81239e+02, 1.66263e+02, 4.33612e+02, 4.21685e+02, 3.13386e-01, 0.00000e+00]])\n"
     ]
    },
    {
     "name": "stderr",
     "output_type": "stream",
     "text": [
      "\r",
      " 73%|██████████████████████████████████████████████████████████▍                     | 628/859 [42:22<15:32,  4.04s/it]"
     ]
    },
    {
     "name": "stdout",
     "output_type": "stream",
     "text": [
      "tensor([[9.73417e+01, 7.45892e+01, 2.35153e+02, 3.23900e+02, 5.05648e-01, 0.00000e+00],\n",
      "        [3.09491e+02, 9.62526e+01, 4.44837e+02, 3.35304e+02, 3.98380e-01, 0.00000e+00]])\n"
     ]
    },
    {
     "name": "stderr",
     "output_type": "stream",
     "text": [
      "\r",
      " 73%|██████████████████████████████████████████████████████████▌                     | 629/859 [42:25<15:18,  4.00s/it]"
     ]
    },
    {
     "name": "stdout",
     "output_type": "stream",
     "text": [
      "tensor([[5.90523e+01, 8.28062e+01, 2.08596e+02, 3.95597e+02, 2.07711e-01, 0.00000e+00],\n",
      "        [3.02474e+02, 1.11873e+02, 4.34917e+02, 3.69059e+02, 1.75968e-01, 0.00000e+00]])\n"
     ]
    },
    {
     "name": "stderr",
     "output_type": "stream",
     "text": [
      "\r",
      " 73%|██████████████████████████████████████████████████████████▋                     | 630/859 [42:30<15:17,  4.01s/it]"
     ]
    },
    {
     "name": "stdout",
     "output_type": "stream",
     "text": [
      "tensor([[1.32627e+02, 1.70452e+02, 2.34863e+02, 3.27396e+02, 2.36910e-01, 0.00000e+00],\n",
      "        [3.39340e+02, 8.08142e+01, 4.49973e+02, 3.48981e+02, 2.18635e-01, 0.00000e+00]])\n"
     ]
    },
    {
     "name": "stderr",
     "output_type": "stream",
     "text": [
      "\r",
      " 73%|██████████████████████████████████████████████████████████▊                     | 631/859 [42:34<15:14,  4.01s/it]"
     ]
    },
    {
     "name": "stdout",
     "output_type": "stream",
     "text": [
      "tensor([[9.24570e+01, 1.28821e+02, 2.21232e+02, 3.77711e+02, 2.36438e-01, 0.00000e+00],\n",
      "        [2.97789e+02, 1.31577e+02, 4.25209e+02, 3.79955e+02, 1.77363e-01, 0.00000e+00]])\n"
     ]
    },
    {
     "name": "stderr",
     "output_type": "stream",
     "text": [
      "\r",
      " 74%|██████████████████████████████████████████████████████████▊                     | 632/859 [42:38<15:09,  4.01s/it]"
     ]
    },
    {
     "name": "stdout",
     "output_type": "stream",
     "text": [
      "tensor([[3.40689e+02, 6.99632e+01, 4.44338e+02, 2.70925e+02, 4.54073e-01, 0.00000e+00],\n",
      "        [7.79491e+01, 3.71327e+01, 1.94426e+02, 2.44421e+02, 3.70512e-01, 0.00000e+00]])\n"
     ]
    },
    {
     "name": "stderr",
     "output_type": "stream",
     "text": [
      "\r",
      " 74%|██████████████████████████████████████████████████████████▉                     | 633/859 [42:42<15:07,  4.02s/it]"
     ]
    },
    {
     "name": "stdout",
     "output_type": "stream",
     "text": [
      "tensor([[1.54165e+02, 1.07731e+02, 2.58209e+02, 2.95527e+02, 1.32597e-01, 0.00000e+00],\n",
      "        [3.48973e+02, 3.64177e+02, 4.44204e+02, 4.36470e+02, 1.00015e-01, 0.00000e+00]])\n"
     ]
    },
    {
     "name": "stderr",
     "output_type": "stream",
     "text": [
      "\r",
      " 74%|███████████████████████████████████████████████████████████                     | 634/859 [42:46<15:05,  4.02s/it]"
     ]
    },
    {
     "name": "stdout",
     "output_type": "stream",
     "text": [
      "tensor([[6.45474e+01, 9.58114e+01, 2.10658e+02, 4.02069e+02, 4.04876e-01, 0.00000e+00],\n",
      "        [2.82321e+02, 1.42504e+02, 4.05605e+02, 4.07627e+02, 1.28741e-01, 0.00000e+00]])\n"
     ]
    },
    {
     "name": "stderr",
     "output_type": "stream",
     "text": [
      "\r",
      " 74%|███████████████████████████████████████████████████████████▏                    | 635/859 [42:50<15:01,  4.02s/it]"
     ]
    },
    {
     "name": "stdout",
     "output_type": "stream",
     "text": [
      "tensor([[5.85545e+01, 3.46953e+02, 1.82505e+02, 4.66051e+02, 3.61555e-01, 0.00000e+00],\n",
      "        [2.88992e+02, 1.79770e+02, 4.06244e+02, 4.39985e+02, 3.19414e-01, 0.00000e+00]])\n"
     ]
    },
    {
     "name": "stderr",
     "output_type": "stream",
     "text": [
      "\r",
      " 74%|███████████████████████████████████████████████████████████▏                    | 636/859 [42:54<14:51,  4.00s/it]"
     ]
    },
    {
     "name": "stdout",
     "output_type": "stream",
     "text": [
      "tensor([[5.77762e+01, 1.09684e+02, 1.94658e+02, 3.43424e+02, 4.52784e-01, 0.00000e+00],\n",
      "        [2.52002e+02, 9.94389e+01, 3.92402e+02, 3.40868e+02, 3.01562e-01, 0.00000e+00]])\n"
     ]
    },
    {
     "name": "stderr",
     "output_type": "stream",
     "text": [
      "\r",
      " 74%|███████████████████████████████████████████████████████████▎                    | 637/859 [42:58<14:45,  3.99s/it]"
     ]
    },
    {
     "name": "stdout",
     "output_type": "stream",
     "text": [
      "tensor([[5.65828e+01, 4.65726e+01, 2.49982e+02, 3.96310e+02, 5.09612e-01, 0.00000e+00],\n",
      "        [3.08307e+02, 6.14085e+01, 4.66714e+02, 4.58565e+02, 2.85795e-01, 0.00000e+00]])\n"
     ]
    },
    {
     "name": "stderr",
     "output_type": "stream",
     "text": [
      "\r",
      " 74%|███████████████████████████████████████████████████████████▍                    | 638/859 [43:02<14:52,  4.04s/it]"
     ]
    },
    {
     "name": "stdout",
     "output_type": "stream",
     "text": [
      "tensor([[8.94205e+01, 8.11987e+01, 2.24687e+02, 4.17843e+02, 2.25368e-01, 0.00000e+00],\n",
      "        [3.02030e+02, 1.11905e+02, 4.35533e+02, 3.76474e+02, 1.85607e-01, 0.00000e+00]])\n"
     ]
    },
    {
     "name": "stderr",
     "output_type": "stream",
     "text": [
      "\r",
      " 74%|███████████████████████████████████████████████████████████▌                    | 639/859 [43:06<14:50,  4.05s/it]"
     ]
    },
    {
     "name": "stdout",
     "output_type": "stream",
     "text": [
      "tensor([[6.30179e+01, 2.93103e+01, 2.32613e+02, 3.94616e+02, 3.21197e-01, 0.00000e+00],\n",
      "        [2.91208e+02, 4.45156e+01, 4.52066e+02, 3.95394e+02, 2.50553e-01, 0.00000e+00]])\n"
     ]
    },
    {
     "name": "stderr",
     "output_type": "stream",
     "text": [
      "\r",
      " 75%|███████████████████████████████████████████████████████████▌                    | 640/859 [43:10<14:43,  4.04s/it]"
     ]
    },
    {
     "name": "stdout",
     "output_type": "stream",
     "text": [
      "tensor([[6.19325e+01, 1.85444e+02, 2.02672e+02, 3.65849e+02, 2.61370e-01, 0.00000e+00],\n",
      "        [3.06464e+02, 7.09794e+01, 4.39249e+02, 3.39863e+02, 2.21980e-01, 0.00000e+00]])\n"
     ]
    },
    {
     "name": "stderr",
     "output_type": "stream",
     "text": [
      "\r",
      " 75%|███████████████████████████████████████████████████████████▋                    | 641/859 [43:14<14:36,  4.02s/it]"
     ]
    },
    {
     "name": "stdout",
     "output_type": "stream",
     "text": [
      "tensor([[9.20993e+01, 8.33053e+01, 2.11651e+02, 3.58838e+02, 3.25588e-01, 0.00000e+00],\n",
      "        [2.99372e+02, 1.04617e+02, 4.24087e+02, 4.27129e+02, 2.38682e-01, 0.00000e+00]])\n"
     ]
    },
    {
     "name": "stderr",
     "output_type": "stream",
     "text": [
      "\r",
      " 75%|███████████████████████████████████████████████████████████▊                    | 642/859 [43:18<14:23,  3.98s/it]"
     ]
    },
    {
     "name": "stdout",
     "output_type": "stream",
     "text": [
      "tensor([[3.18612e+02, 1.09409e+02, 5.09992e+02, 4.64337e+02, 4.19898e-01, 0.00000e+00],\n",
      "        [8.30654e+01, 1.04666e+02, 2.59317e+02, 4.61684e+02, 3.81209e-01, 0.00000e+00]])\n"
     ]
    },
    {
     "name": "stderr",
     "output_type": "stream",
     "text": [
      "\r",
      " 75%|███████████████████████████████████████████████████████████▉                    | 643/859 [43:22<14:25,  4.01s/it]"
     ]
    },
    {
     "name": "stdout",
     "output_type": "stream",
     "text": [
      "tensor([[9.96086e+01, 1.08283e+02, 2.41292e+02, 3.94684e+02, 3.44760e-01, 0.00000e+00],\n",
      "        [3.10587e+02, 2.46297e+02, 4.34913e+02, 4.19486e+02, 2.00807e-01, 0.00000e+00]])\n"
     ]
    },
    {
     "name": "stderr",
     "output_type": "stream",
     "text": [
      "\r",
      " 75%|███████████████████████████████████████████████████████████▉                    | 644/859 [43:26<14:35,  4.07s/it]"
     ]
    },
    {
     "name": "stdout",
     "output_type": "stream",
     "text": [
      "tensor([[ 32.29749, 141.31879, 132.49756, 377.68970,   0.61874,   0.00000],\n",
      "        [262.81116, 134.53046, 381.35815, 386.63916,   0.50321,   0.00000]])\n"
     ]
    },
    {
     "name": "stderr",
     "output_type": "stream",
     "text": [
      "\r",
      " 75%|████████████████████████████████████████████████████████████                    | 645/859 [43:30<14:47,  4.15s/it]"
     ]
    },
    {
     "name": "stdout",
     "output_type": "stream",
     "text": [
      "tensor([[3.36898e+02, 1.10059e+02, 4.78449e+02, 3.70523e+02, 2.88786e-01, 0.00000e+00],\n",
      "        [9.86690e+01, 1.37307e+02, 2.01633e+02, 3.55205e+02, 2.67653e-01, 0.00000e+00]])\n"
     ]
    },
    {
     "name": "stderr",
     "output_type": "stream",
     "text": [
      "\r",
      " 75%|████████████████████████████████████████████████████████████▏                   | 646/859 [43:34<14:43,  4.15s/it]"
     ]
    },
    {
     "name": "stdout",
     "output_type": "stream",
     "text": [
      "tensor([[1.15404e+02, 3.08585e+02, 2.19846e+02, 4.35337e+02, 2.02984e-01, 0.00000e+00],\n",
      "        [3.25288e+02, 2.27958e+02, 4.40764e+02, 4.41671e+02, 1.21331e-01, 0.00000e+00]])\n"
     ]
    },
    {
     "name": "stderr",
     "output_type": "stream",
     "text": [
      "\r",
      " 75%|████████████████████████████████████████████████████████████▎                   | 647/859 [43:39<14:46,  4.18s/it]"
     ]
    },
    {
     "name": "stdout",
     "output_type": "stream",
     "text": [
      "tensor([[279.84705, 126.52364, 389.80725, 376.53876,   0.47773,   0.00000],\n",
      "        [120.25909, 119.14851, 224.60889, 390.46539,   0.46632,   0.00000]])\n"
     ]
    },
    {
     "name": "stderr",
     "output_type": "stream",
     "text": [
      "\r",
      " 75%|████████████████████████████████████████████████████████████▎                   | 648/859 [43:43<14:39,  4.17s/it]"
     ]
    },
    {
     "name": "stdout",
     "output_type": "stream",
     "text": [
      "tensor([[3.76664e+01, 3.86192e+01, 1.79175e+02, 3.60058e+02, 3.29902e-01, 0.00000e+00],\n",
      "        [2.36680e+02, 4.92501e+01, 3.74015e+02, 3.83618e+02, 1.43607e-01, 0.00000e+00]])\n"
     ]
    },
    {
     "name": "stderr",
     "output_type": "stream",
     "text": [
      "\r",
      " 76%|████████████████████████████████████████████████████████████▍                   | 649/859 [43:47<14:24,  4.12s/it]"
     ]
    },
    {
     "name": "stdout",
     "output_type": "stream",
     "text": [
      "tensor([[1.32033e+02, 8.51614e+01, 2.49823e+02, 3.41333e+02, 1.78747e-01, 0.00000e+00],\n",
      "        [3.98165e+02, 2.03406e+02, 4.98336e+02, 3.99188e+02, 1.60882e-01, 0.00000e+00]])\n"
     ]
    },
    {
     "name": "stderr",
     "output_type": "stream",
     "text": [
      "\r",
      " 76%|████████████████████████████████████████████████████████████▌                   | 650/859 [43:51<14:09,  4.06s/it]"
     ]
    },
    {
     "name": "stdout",
     "output_type": "stream",
     "text": [
      "tensor([[6.04298e+01, 1.09927e+02, 1.99690e+02, 4.30590e+02, 3.59086e-01, 0.00000e+00],\n",
      "        [2.68549e+02, 1.16555e+02, 4.00108e+02, 4.44021e+02, 2.29067e-01, 0.00000e+00]])\n"
     ]
    },
    {
     "name": "stderr",
     "output_type": "stream",
     "text": [
      "\r",
      " 76%|████████████████████████████████████████████████████████████▋                   | 651/859 [43:55<14:03,  4.05s/it]"
     ]
    },
    {
     "name": "stdout",
     "output_type": "stream",
     "text": [
      "tensor([[3.21083e+02, 8.48853e+01, 4.36283e+02, 3.14455e+02, 3.74110e-01, 0.00000e+00],\n",
      "        [1.25371e+02, 6.94119e+01, 2.35112e+02, 2.92562e+02, 2.88348e-01, 0.00000e+00]])\n"
     ]
    },
    {
     "name": "stderr",
     "output_type": "stream",
     "text": [
      "\r",
      " 76%|████████████████████████████████████████████████████████████▋                   | 652/859 [43:59<13:52,  4.02s/it]"
     ]
    },
    {
     "name": "stdout",
     "output_type": "stream",
     "text": [
      "tensor([[3.48820e+02, 1.55171e+02, 4.74579e+02, 4.30437e+02, 2.65031e-01, 0.00000e+00],\n",
      "        [7.19585e+01, 1.43157e+02, 2.13886e+02, 4.43814e+02, 1.89828e-01, 0.00000e+00]])\n"
     ]
    },
    {
     "name": "stderr",
     "output_type": "stream",
     "text": [
      "\r",
      " 76%|████████████████████████████████████████████████████████████▊                   | 653/859 [44:03<13:42,  3.99s/it]"
     ]
    },
    {
     "name": "stdout",
     "output_type": "stream",
     "text": [
      "tensor([[9.64659e+01, 7.47392e+01, 2.32731e+02, 3.37536e+02, 2.47891e-01, 0.00000e+00],\n",
      "        [3.48066e+02, 1.88311e+02, 4.72267e+02, 3.85059e+02, 1.45250e-01, 0.00000e+00]])\n"
     ]
    },
    {
     "name": "stderr",
     "output_type": "stream",
     "text": [
      "\r",
      " 76%|████████████████████████████████████████████████████████████▉                   | 654/859 [44:07<13:41,  4.01s/it]"
     ]
    },
    {
     "name": "stdout",
     "output_type": "stream",
     "text": [
      "tensor([[2.83948e+02, 8.56725e+01, 4.41709e+02, 4.35154e+02, 3.06042e-01, 0.00000e+00],\n",
      "        [4.83708e+01, 6.85537e+01, 2.17494e+02, 3.83984e+02, 2.98566e-01, 0.00000e+00]])\n"
     ]
    },
    {
     "name": "stderr",
     "output_type": "stream",
     "text": [
      "\r",
      " 76%|█████████████████████████████████████████████████████████████                   | 655/859 [44:11<13:31,  3.98s/it]"
     ]
    },
    {
     "name": "stdout",
     "output_type": "stream",
     "text": [
      "tensor([[7.82575e+01, 6.76912e+01, 2.23837e+02, 3.93582e+02, 2.93031e-01, 0.00000e+00],\n",
      "        [2.98353e+02, 1.01680e+02, 4.38605e+02, 4.15762e+02, 1.87320e-01, 0.00000e+00]])\n"
     ]
    },
    {
     "name": "stderr",
     "output_type": "stream",
     "text": [
      "\r",
      " 76%|█████████████████████████████████████████████████████████████                   | 656/859 [44:15<13:33,  4.01s/it]"
     ]
    },
    {
     "name": "stdout",
     "output_type": "stream",
     "text": [
      "tensor([[1.90921e+02, 1.27899e+02, 2.82028e+02, 3.15319e+02, 4.21652e-01, 0.00000e+00],\n",
      "        [3.58762e+02, 1.53418e+02, 4.52977e+02, 3.30641e+02, 2.65336e-01, 0.00000e+00]])\n"
     ]
    },
    {
     "name": "stderr",
     "output_type": "stream",
     "text": [
      "\r",
      " 76%|█████████████████████████████████████████████████████████████▏                  | 657/859 [44:19<13:30,  4.01s/it]"
     ]
    },
    {
     "name": "stdout",
     "output_type": "stream",
     "text": [
      "tensor([[7.85775e+01, 1.12265e+02, 2.20221e+02, 4.39368e+02, 3.14940e-01, 0.00000e+00],\n",
      "        [2.52277e+02, 8.65850e+01, 3.97916e+02, 4.13213e+02, 2.34398e-01, 0.00000e+00]])\n"
     ]
    },
    {
     "name": "stderr",
     "output_type": "stream",
     "text": [
      "\r",
      " 77%|█████████████████████████████████████████████████████████████▎                  | 658/859 [44:23<13:22,  3.99s/it]"
     ]
    },
    {
     "name": "stdout",
     "output_type": "stream",
     "text": [
      "tensor([[3.37477e+02, 6.19562e+01, 4.54338e+02, 2.71956e+02, 3.46834e-01, 0.00000e+00],\n",
      "        [9.58069e+01, 1.97790e+02, 1.96210e+02, 3.52085e+02, 2.61197e-01, 0.00000e+00]])\n"
     ]
    },
    {
     "name": "stderr",
     "output_type": "stream",
     "text": [
      "\r",
      " 77%|█████████████████████████████████████████████████████████████▎                  | 659/859 [44:27<13:18,  3.99s/it]"
     ]
    },
    {
     "name": "stdout",
     "output_type": "stream",
     "text": [
      "tensor([[8.17991e+01, 1.55159e+02, 2.14220e+02, 2.93786e+02, 3.15136e-01, 0.00000e+00],\n",
      "        [3.08325e+02, 1.74019e+02, 4.47726e+02, 3.15127e+02, 2.89818e-01, 0.00000e+00]])\n"
     ]
    },
    {
     "name": "stderr",
     "output_type": "stream",
     "text": [
      "\r",
      " 77%|█████████████████████████████████████████████████████████████▍                  | 660/859 [44:31<13:21,  4.03s/it]"
     ]
    },
    {
     "name": "stdout",
     "output_type": "stream",
     "text": [
      "tensor([[2.91830e+02, 1.06040e+02, 4.34279e+02, 3.93616e+02, 2.97867e-01, 0.00000e+00],\n",
      "        [8.41387e+01, 5.15399e+01, 2.25822e+02, 3.85161e+02, 2.58793e-01, 0.00000e+00]])\n"
     ]
    },
    {
     "name": "stderr",
     "output_type": "stream",
     "text": [
      "\r",
      " 77%|█████████████████████████████████████████████████████████████▌                  | 661/859 [44:35<13:13,  4.01s/it]"
     ]
    },
    {
     "name": "stdout",
     "output_type": "stream",
     "text": [
      "tensor([[3.00915e+02, 9.81298e+01, 4.50260e+02, 3.93763e+02, 4.39796e-01, 0.00000e+00],\n",
      "        [7.04359e+01, 1.33361e+02, 2.02210e+02, 3.79685e+02, 2.44751e-01, 0.00000e+00]])\n"
     ]
    },
    {
     "name": "stderr",
     "output_type": "stream",
     "text": [
      "\r",
      " 77%|█████████████████████████████████████████████████████████████▋                  | 662/859 [44:39<13:07,  4.00s/it]"
     ]
    },
    {
     "name": "stdout",
     "output_type": "stream",
     "text": [
      "tensor([[3.01959e+02, 4.67681e+01, 4.45808e+02, 3.99270e+02, 4.20092e-01, 0.00000e+00],\n",
      "        [1.31113e+02, 6.79517e+01, 2.46660e+02, 3.60583e+02, 2.50739e-01, 0.00000e+00]])\n"
     ]
    },
    {
     "name": "stderr",
     "output_type": "stream",
     "text": [
      "\r",
      " 77%|█████████████████████████████████████████████████████████████▋                  | 663/859 [44:43<13:05,  4.01s/it]"
     ]
    },
    {
     "name": "stdout",
     "output_type": "stream",
     "text": [
      "tensor([[2.93999e+02, 1.13359e+02, 4.30809e+02, 3.98020e+02, 2.50620e-01, 0.00000e+00],\n",
      "        [9.17037e+01, 1.32193e+02, 2.37916e+02, 4.55219e+02, 2.07898e-01, 0.00000e+00]])\n"
     ]
    },
    {
     "name": "stderr",
     "output_type": "stream",
     "text": [
      "\r",
      " 77%|█████████████████████████████████████████████████████████████▊                  | 664/859 [44:47<13:02,  4.01s/it]"
     ]
    },
    {
     "name": "stdout",
     "output_type": "stream",
     "text": [
      "tensor([[139.39087,  30.78766, 285.42249, 311.67944,   0.63151,   0.00000],\n",
      "        [334.40320,  41.26974, 483.50275, 322.14554,   0.62499,   0.00000]])\n"
     ]
    },
    {
     "name": "stderr",
     "output_type": "stream",
     "text": [
      "\r",
      " 77%|█████████████████████████████████████████████████████████████▉                  | 665/859 [44:51<12:58,  4.01s/it]"
     ]
    },
    {
     "name": "stdout",
     "output_type": "stream",
     "text": [
      "tensor([[1.01665e+02, 1.13335e+02, 2.24201e+02, 3.58149e+02, 4.98493e-01, 0.00000e+00],\n",
      "        [2.96374e+02, 6.80448e+01, 4.48400e+02, 3.65148e+02, 4.38468e-01, 0.00000e+00]])\n"
     ]
    },
    {
     "name": "stderr",
     "output_type": "stream",
     "text": [
      "\r",
      " 78%|██████████████████████████████████████████████████████████████                  | 666/859 [44:55<12:50,  3.99s/it]"
     ]
    },
    {
     "name": "stdout",
     "output_type": "stream",
     "text": [
      "tensor([[8.35882e+01, 2.20335e+02, 2.43361e+02, 4.06393e+02, 2.56464e-01, 0.00000e+00],\n",
      "        [3.12378e+02, 1.65118e+02, 4.38761e+02, 4.41407e+02, 1.74692e-01, 0.00000e+00]])\n"
     ]
    },
    {
     "name": "stderr",
     "output_type": "stream",
     "text": [
      "\r",
      " 78%|██████████████████████████████████████████████████████████████                  | 667/859 [44:59<12:48,  4.00s/it]"
     ]
    },
    {
     "name": "stdout",
     "output_type": "stream",
     "text": [
      "tensor([[1.03976e+02, 8.34194e+01, 2.18133e+02, 3.11156e+02, 4.04350e-01, 0.00000e+00],\n",
      "        [2.63287e+02, 8.76297e+01, 3.80818e+02, 3.28444e+02, 2.90340e-01, 0.00000e+00]])\n"
     ]
    },
    {
     "name": "stderr",
     "output_type": "stream",
     "text": [
      "\r",
      " 78%|██████████████████████████████████████████████████████████████▏                 | 668/859 [45:03<12:40,  3.98s/it]"
     ]
    },
    {
     "name": "stdout",
     "output_type": "stream",
     "text": [
      "tensor([[4.79890e+01, 2.64631e+02, 1.84479e+02, 4.51275e+02, 2.94972e-01, 0.00000e+00],\n",
      "        [2.71968e+02, 1.46077e+02, 4.00318e+02, 4.23135e+02, 1.79210e-01, 0.00000e+00]])\n"
     ]
    },
    {
     "name": "stderr",
     "output_type": "stream",
     "text": [
      "\r",
      " 78%|██████████████████████████████████████████████████████████████▎                 | 669/859 [45:07<12:44,  4.02s/it]"
     ]
    },
    {
     "name": "stdout",
     "output_type": "stream",
     "text": [
      "tensor([[5.08751e+01, 2.49760e+02, 2.18645e+02, 4.58029e+02, 3.32549e-01, 0.00000e+00],\n",
      "        [3.22520e+02, 2.51676e+02, 4.55214e+02, 4.57702e+02, 2.54399e-01, 0.00000e+00]])\n"
     ]
    },
    {
     "name": "stderr",
     "output_type": "stream",
     "text": [
      "\r",
      " 78%|██████████████████████████████████████████████████████████████▍                 | 670/859 [45:11<12:39,  4.02s/it]"
     ]
    },
    {
     "name": "stdout",
     "output_type": "stream",
     "text": [
      "tensor([[6.24733e+01, 1.45925e+02, 1.96499e+02, 3.87462e+02, 3.90989e-01, 0.00000e+00],\n",
      "        [2.91158e+02, 1.29544e+02, 4.34932e+02, 3.63229e+02, 3.13843e-01, 0.00000e+00]])\n"
     ]
    },
    {
     "name": "stderr",
     "output_type": "stream",
     "text": [
      "\r",
      " 78%|██████████████████████████████████████████████████████████████▍                 | 671/859 [45:15<12:29,  3.99s/it]"
     ]
    },
    {
     "name": "stdout",
     "output_type": "stream",
     "text": [
      "tensor([[9.39112e+01, 9.59898e+01, 2.25263e+02, 3.23091e+02, 3.57968e-01, 0.00000e+00],\n",
      "        [3.08582e+02, 1.00261e+02, 4.39135e+02, 3.93868e+02, 1.24263e-01, 0.00000e+00]])\n"
     ]
    },
    {
     "name": "stderr",
     "output_type": "stream",
     "text": [
      "\r",
      " 78%|██████████████████████████████████████████████████████████████▌                 | 672/859 [45:19<12:26,  3.99s/it]"
     ]
    },
    {
     "name": "stdout",
     "output_type": "stream",
     "text": [
      "tensor([[1.46186e+02, 1.40474e+02, 2.74834e+02, 3.82067e+02, 2.42608e-01, 0.00000e+00],\n",
      "        [3.46920e+02, 2.76927e+02, 4.62710e+02, 4.48649e+02, 1.15029e-01, 0.00000e+00]])\n"
     ]
    },
    {
     "name": "stderr",
     "output_type": "stream",
     "text": [
      "\r",
      " 78%|██████████████████████████████████████████████████████████████▋                 | 673/859 [45:23<12:26,  4.02s/it]"
     ]
    },
    {
     "name": "stdout",
     "output_type": "stream",
     "text": [
      "tensor([[3.25229e+02, 1.89525e+02, 4.68562e+02, 4.35536e+02, 3.19661e-01, 0.00000e+00],\n",
      "        [4.90780e+01, 1.35339e+02, 1.93667e+02, 4.50424e+02, 3.15875e-01, 0.00000e+00]])\n"
     ]
    },
    {
     "name": "stderr",
     "output_type": "stream",
     "text": [
      "\r",
      " 78%|██████████████████████████████████████████████████████████████▊                 | 674/859 [45:27<12:32,  4.07s/it]"
     ]
    },
    {
     "name": "stdout",
     "output_type": "stream",
     "text": [
      "tensor([[1.44964e+02, 9.49169e+01, 2.57166e+02, 3.03837e+02, 3.24823e-01, 0.00000e+00],\n",
      "        [3.25445e+02, 7.04232e+01, 4.46123e+02, 3.34302e+02, 2.71481e-01, 0.00000e+00]])\n"
     ]
    },
    {
     "name": "stderr",
     "output_type": "stream",
     "text": [
      "\r",
      " 79%|██████████████████████████████████████████████████████████████▊                 | 675/859 [45:31<12:30,  4.08s/it]"
     ]
    },
    {
     "name": "stdout",
     "output_type": "stream",
     "text": [
      "tensor([[2.79906e+02, 6.38642e+01, 3.85938e+02, 2.52444e+02, 2.80867e-01, 0.00000e+00],\n",
      "        [1.27091e+02, 5.44349e+01, 2.24267e+02, 2.67147e+02, 2.37788e-01, 0.00000e+00],\n",
      "        [7.35734e+01, 2.46640e+02, 1.97655e+02, 4.02537e+02, 1.72704e-01, 0.00000e+00]])\n"
     ]
    },
    {
     "name": "stderr",
     "output_type": "stream",
     "text": [
      "\r",
      " 79%|██████████████████████████████████████████████████████████████▉                 | 676/859 [45:35<12:33,  4.12s/it]"
     ]
    },
    {
     "name": "stdout",
     "output_type": "stream",
     "text": [
      "tensor([[6.03448e+01, 2.90506e+02, 2.10345e+02, 4.47920e+02, 3.26439e-01, 0.00000e+00],\n",
      "        [2.95045e+02, 2.10356e+02, 4.43020e+02, 4.14808e+02, 2.23677e-01, 0.00000e+00]])\n"
     ]
    },
    {
     "name": "stderr",
     "output_type": "stream",
     "text": [
      "\r",
      " 79%|███████████████████████████████████████████████████████████████                 | 677/859 [45:39<12:35,  4.15s/it]"
     ]
    },
    {
     "name": "stdout",
     "output_type": "stream",
     "text": [
      "tensor([[8.96818e+01, 1.13612e+02, 2.14136e+02, 3.03133e+02, 3.71240e-01, 0.00000e+00],\n",
      "        [3.06954e+02, 1.10802e+02, 4.22851e+02, 3.31932e+02, 3.68167e-01, 0.00000e+00]])\n"
     ]
    },
    {
     "name": "stderr",
     "output_type": "stream",
     "text": [
      "\r",
      " 79%|███████████████████████████████████████████████████████████████▏                | 678/859 [45:44<12:29,  4.14s/it]"
     ]
    },
    {
     "name": "stdout",
     "output_type": "stream",
     "text": [
      "tensor([[8.28891e+01, 1.85419e+02, 2.06853e+02, 3.80889e+02, 2.06735e-01, 0.00000e+00],\n",
      "        [3.41915e+02, 2.71860e+02, 4.37587e+02, 4.08268e+02, 1.84200e-01, 0.00000e+00]])\n"
     ]
    },
    {
     "name": "stderr",
     "output_type": "stream",
     "text": [
      "\r",
      " 79%|███████████████████████████████████████████████████████████████▏                | 679/859 [45:48<12:19,  4.11s/it]"
     ]
    },
    {
     "name": "stdout",
     "output_type": "stream",
     "text": [
      "tensor([[3.15872e+02, 2.00150e+02, 4.99080e+02, 4.20033e+02, 3.72284e-01, 0.00000e+00],\n",
      "        [9.83168e+01, 1.13201e+02, 2.43424e+02, 4.25138e+02, 3.41807e-01, 0.00000e+00]])\n"
     ]
    },
    {
     "name": "stderr",
     "output_type": "stream",
     "text": [
      "\r",
      " 79%|███████████████████████████████████████████████████████████████▎                | 680/859 [45:52<12:10,  4.08s/it]"
     ]
    },
    {
     "name": "stdout",
     "output_type": "stream",
     "text": [
      "tensor([[3.33614e+02, 2.90358e+02, 5.01433e+02, 3.99350e+02, 1.87239e-01, 0.00000e+00],\n",
      "        [4.31336e+01, 1.29413e+02, 1.90039e+02, 3.78446e+02, 1.11866e-01, 0.00000e+00]])\n"
     ]
    },
    {
     "name": "stderr",
     "output_type": "stream",
     "text": [
      "\r",
      " 79%|███████████████████████████████████████████████████████████████▍                | 681/859 [45:56<12:04,  4.07s/it]"
     ]
    },
    {
     "name": "stdout",
     "output_type": "stream",
     "text": [
      "tensor([[1.02124e+02, 5.24868e+01, 2.52166e+02, 3.60105e+02, 4.49879e-01, 0.00000e+00],\n",
      "        [2.97288e+02, 5.96623e+01, 4.43007e+02, 3.94019e+02, 2.59423e-01, 0.00000e+00]])\n"
     ]
    },
    {
     "name": "stderr",
     "output_type": "stream",
     "text": [
      "\r",
      " 79%|███████████████████████████████████████████████████████████████▌                | 682/859 [46:00<11:59,  4.06s/it]"
     ]
    },
    {
     "name": "stdout",
     "output_type": "stream",
     "text": [
      "tensor([[7.15530e+01, 1.28985e+02, 2.13083e+02, 4.30942e+02, 3.07578e-01, 0.00000e+00],\n",
      "        [3.18302e+02, 2.82562e+02, 4.36312e+02, 4.46201e+02, 2.37865e-01, 0.00000e+00]])\n"
     ]
    },
    {
     "name": "stderr",
     "output_type": "stream",
     "text": [
      "\r",
      " 80%|███████████████████████████████████████████████████████████████▌                | 683/859 [46:04<11:54,  4.06s/it]"
     ]
    },
    {
     "name": "stdout",
     "output_type": "stream",
     "text": [
      "tensor([[8.32225e+01, 7.74468e+01, 2.37786e+02, 3.48704e+02, 3.29788e-01, 0.00000e+00],\n",
      "        [3.23122e+02, 8.80426e+01, 4.61516e+02, 3.48148e+02, 3.24119e-01, 0.00000e+00]])\n"
     ]
    },
    {
     "name": "stderr",
     "output_type": "stream",
     "text": [
      "\r",
      " 80%|███████████████████████████████████████████████████████████████▋                | 684/859 [46:08<11:49,  4.05s/it]"
     ]
    },
    {
     "name": "stdout",
     "output_type": "stream",
     "text": [
      "tensor([[2.98489e+02, 1.07190e+02, 4.69526e+02, 4.39200e+02, 2.31279e-01, 0.00000e+00],\n",
      "        [3.20543e+01, 1.57338e+02, 1.93996e+02, 4.32233e+02, 2.29684e-01, 0.00000e+00]])\n"
     ]
    },
    {
     "name": "stderr",
     "output_type": "stream",
     "text": [
      "\r",
      " 80%|███████████████████████████████████████████████████████████████▊                | 685/859 [46:12<11:38,  4.01s/it]"
     ]
    },
    {
     "name": "stdout",
     "output_type": "stream",
     "text": [
      "tensor([[7.52276e+01, 9.61783e+01, 1.97494e+02, 3.22126e+02, 1.65146e-01, 0.00000e+00]])\n"
     ]
    },
    {
     "name": "stderr",
     "output_type": "stream",
     "text": [
      "\r",
      " 80%|███████████████████████████████████████████████████████████████▉                | 686/859 [46:16<11:30,  3.99s/it]"
     ]
    },
    {
     "name": "stdout",
     "output_type": "stream",
     "text": [
      "tensor([[2.69118e+02, 1.79644e+01, 4.31162e+02, 3.06886e+02, 4.39333e-01, 0.00000e+00],\n",
      "        [7.33926e+01, 2.45527e+01, 2.24359e+02, 3.03502e+02, 3.74103e-01, 0.00000e+00]])\n"
     ]
    },
    {
     "name": "stderr",
     "output_type": "stream",
     "text": [
      "\r",
      " 80%|███████████████████████████████████████████████████████████████▉                | 687/859 [46:20<11:26,  3.99s/it]"
     ]
    },
    {
     "name": "stdout",
     "output_type": "stream",
     "text": [
      "tensor([[9.61540e+01, 1.02581e+02, 2.22654e+02, 3.83125e+02, 2.16329e-01, 0.00000e+00],\n",
      "        [3.05196e+02, 1.23585e+02, 4.15300e+02, 4.12264e+02, 1.57232e-01, 0.00000e+00]])\n"
     ]
    },
    {
     "name": "stderr",
     "output_type": "stream",
     "text": [
      "\r",
      " 80%|████████████████████████████████████████████████████████████████                | 688/859 [46:24<11:23,  4.00s/it]"
     ]
    },
    {
     "name": "stdout",
     "output_type": "stream",
     "text": [
      "tensor([[1.20101e+02, 2.81917e+01, 2.65665e+02, 3.40257e+02, 4.18066e-01, 0.00000e+00],\n",
      "        [3.26246e+02, 4.77099e+01, 4.68032e+02, 3.60021e+02, 3.38232e-01, 0.00000e+00]])\n"
     ]
    },
    {
     "name": "stderr",
     "output_type": "stream",
     "text": [
      "\r",
      " 80%|████████████████████████████████████████████████████████████████▏               | 689/859 [46:28<11:16,  3.98s/it]"
     ]
    },
    {
     "name": "stdout",
     "output_type": "stream",
     "text": [
      "tensor([[1.00897e+02, 1.50944e+02, 2.48447e+02, 4.33982e+02, 4.59570e-01, 0.00000e+00],\n",
      "        [3.38424e+02, 1.38064e+02, 4.65695e+02, 3.94191e+02, 1.88130e-01, 0.00000e+00]])\n"
     ]
    },
    {
     "name": "stderr",
     "output_type": "stream",
     "text": [
      "\r",
      " 80%|████████████████████████████████████████████████████████████████▎               | 690/859 [46:32<11:13,  3.98s/it]"
     ]
    },
    {
     "name": "stdout",
     "output_type": "stream",
     "text": [
      "tensor([[3.21479e+02, 2.48424e+02, 4.17195e+02, 3.98477e+02, 1.72949e-01, 0.00000e+00],\n",
      "        [1.10178e+02, 1.52888e+02, 2.00405e+02, 3.40800e+02, 1.49773e-01, 0.00000e+00]])\n"
     ]
    },
    {
     "name": "stderr",
     "output_type": "stream",
     "text": [
      "\r",
      " 80%|████████████████████████████████████████████████████████████████▎               | 691/859 [46:36<11:08,  3.98s/it]"
     ]
    },
    {
     "name": "stdout",
     "output_type": "stream",
     "text": [
      "tensor([[4.97726e+01, 8.04363e+01, 2.08544e+02, 4.29926e+02, 4.38517e-01, 0.00000e+00],\n",
      "        [2.93711e+02, 1.05078e+02, 4.34159e+02, 4.35052e+02, 1.95225e-01, 0.00000e+00]])\n"
     ]
    },
    {
     "name": "stderr",
     "output_type": "stream",
     "text": [
      "\r",
      " 81%|████████████████████████████████████████████████████████████████▍               | 692/859 [46:40<11:00,  3.95s/it]"
     ]
    },
    {
     "name": "stdout",
     "output_type": "stream",
     "text": [
      "tensor([[5.42050e+01, 1.45536e+02, 1.87452e+02, 3.87321e+02, 2.38743e-01, 0.00000e+00],\n",
      "        [3.24274e+02, 2.00530e+02, 4.34525e+02, 3.76189e+02, 2.11378e-01, 0.00000e+00]])\n"
     ]
    },
    {
     "name": "stderr",
     "output_type": "stream",
     "text": [
      "\r",
      " 81%|████████████████████████████████████████████████████████████████▌               | 693/859 [46:43<10:54,  3.94s/it]"
     ]
    },
    {
     "name": "stdout",
     "output_type": "stream",
     "text": [
      "tensor([[9.24096e+01, 1.05868e+02, 2.39289e+02, 4.12548e+02, 5.51969e-01, 0.00000e+00],\n",
      "        [3.77046e+02, 1.43234e+02, 5.01373e+02, 4.07931e+02, 4.16157e-01, 0.00000e+00]])\n"
     ]
    },
    {
     "name": "stderr",
     "output_type": "stream",
     "text": [
      "\r",
      " 81%|████████████████████████████████████████████████████████████████▋               | 694/859 [46:47<10:49,  3.94s/it]"
     ]
    },
    {
     "name": "stdout",
     "output_type": "stream",
     "text": [
      "tensor([[6.41102e+01, 6.65838e+01, 2.04210e+02, 3.43114e+02, 4.23377e-01, 0.00000e+00],\n",
      "        [2.85850e+02, 8.93230e+01, 3.99136e+02, 3.40243e+02, 1.82976e-01, 0.00000e+00]])\n"
     ]
    },
    {
     "name": "stderr",
     "output_type": "stream",
     "text": [
      "\r",
      " 81%|████████████████████████████████████████████████████████████████▋               | 695/859 [46:51<10:51,  3.98s/it]"
     ]
    },
    {
     "name": "stdout",
     "output_type": "stream",
     "text": [
      "tensor([[7.14622e+01, 7.86572e+01, 2.00732e+02, 3.43287e+02, 3.52098e-01, 0.00000e+00],\n",
      "        [3.27655e+02, 2.41892e+02, 4.13578e+02, 3.57901e+02, 1.53314e-01, 0.00000e+00]])\n"
     ]
    },
    {
     "name": "stderr",
     "output_type": "stream",
     "text": [
      "\r",
      " 81%|████████████████████████████████████████████████████████████████▊               | 696/859 [46:55<10:49,  3.99s/it]"
     ]
    },
    {
     "name": "stdout",
     "output_type": "stream",
     "text": [
      "tensor([[1.11593e+02, 8.90341e+01, 2.39158e+02, 3.95541e+02, 2.57300e-01, 0.00000e+00],\n",
      "        [3.31328e+02, 1.09679e+02, 4.67061e+02, 3.93085e+02, 1.76929e-01, 0.00000e+00]])\n"
     ]
    },
    {
     "name": "stderr",
     "output_type": "stream",
     "text": [
      "\r",
      " 81%|████████████████████████████████████████████████████████████████▉               | 697/859 [47:00<10:51,  4.02s/it]"
     ]
    },
    {
     "name": "stdout",
     "output_type": "stream",
     "text": [
      "tensor([[3.28493e+02, 5.68725e+01, 4.73250e+02, 3.57345e+02, 3.19340e-01, 0.00000e+00],\n",
      "        [9.65138e+01, 4.48013e+01, 2.38066e+02, 3.16179e+02, 2.90764e-01, 0.00000e+00]])\n"
     ]
    },
    {
     "name": "stderr",
     "output_type": "stream",
     "text": [
      "\r",
      " 81%|█████████████████████████████████████████████████████████████████               | 698/859 [47:04<10:46,  4.02s/it]"
     ]
    },
    {
     "name": "stdout",
     "output_type": "stream",
     "text": [
      "tensor([[7.41774e+01, 1.15581e+02, 2.07386e+02, 3.61757e+02, 2.86553e-01, 0.00000e+00],\n",
      "        [3.36374e+02, 1.50376e+02, 4.47186e+02, 3.73102e+02, 1.78462e-01, 0.00000e+00]])\n"
     ]
    },
    {
     "name": "stderr",
     "output_type": "stream",
     "text": [
      "\r",
      " 81%|█████████████████████████████████████████████████████████████████               | 699/859 [47:08<10:41,  4.01s/it]"
     ]
    },
    {
     "name": "stdout",
     "output_type": "stream",
     "text": [
      "tensor([[285.95132,  62.01062, 427.93851, 282.14188,   0.50967,   0.00000],\n",
      "        [ 64.15759,  24.01019, 210.88766, 237.21078,   0.48503,   0.00000]])\n"
     ]
    },
    {
     "name": "stderr",
     "output_type": "stream",
     "text": [
      "\r",
      " 81%|█████████████████████████████████████████████████████████████████▏              | 700/859 [47:12<10:37,  4.01s/it]"
     ]
    },
    {
     "name": "stdout",
     "output_type": "stream",
     "text": [
      "tensor([[1.00156e+02, 1.13795e+02, 2.01087e+02, 3.24342e+02, 4.35915e-01, 0.00000e+00],\n",
      "        [3.20938e+02, 1.03635e+02, 4.25401e+02, 2.98717e+02, 2.63616e-01, 0.00000e+00]])\n"
     ]
    },
    {
     "name": "stderr",
     "output_type": "stream",
     "text": [
      "\r",
      " 82%|█████████████████████████████████████████████████████████████████▎              | 701/859 [47:16<10:32,  4.00s/it]"
     ]
    },
    {
     "name": "stdout",
     "output_type": "stream",
     "text": [
      "tensor([[2.92705e+02, 1.43405e+02, 4.26766e+02, 3.68260e+02, 2.28433e-01, 0.00000e+00],\n",
      "        [6.42736e+01, 6.81666e+01, 2.00889e+02, 3.54040e+02, 2.25140e-01, 0.00000e+00]])\n"
     ]
    },
    {
     "name": "stderr",
     "output_type": "stream",
     "text": [
      "\r",
      " 82%|█████████████████████████████████████████████████████████████████▍              | 702/859 [47:20<10:31,  4.02s/it]"
     ]
    },
    {
     "name": "stdout",
     "output_type": "stream",
     "text": [
      "tensor([[9.51870e+01, 6.16465e+01, 2.33570e+02, 3.37404e+02, 2.46959e-01, 0.00000e+00],\n",
      "        [2.93756e+02, 7.51216e+01, 4.06537e+02, 4.13033e+02, 1.58273e-01, 0.00000e+00]])\n"
     ]
    },
    {
     "name": "stderr",
     "output_type": "stream",
     "text": [
      "\r",
      " 82%|█████████████████████████████████████████████████████████████████▍              | 703/859 [47:23<10:21,  3.98s/it]"
     ]
    },
    {
     "name": "stdout",
     "output_type": "stream",
     "text": [
      "tensor([[5.36927e+01, 7.95219e+01, 2.02181e+02, 3.80237e+02, 2.15528e-01, 0.00000e+00],\n",
      "        [2.68408e+02, 7.74420e+01, 4.18113e+02, 4.06247e+02, 1.57751e-01, 0.00000e+00]])\n"
     ]
    },
    {
     "name": "stderr",
     "output_type": "stream",
     "text": [
      "\r",
      " 82%|█████████████████████████████████████████████████████████████████▌              | 704/859 [47:28<10:28,  4.06s/it]"
     ]
    },
    {
     "name": "stdout",
     "output_type": "stream",
     "text": [
      "tensor([[1.42051e+02, 1.37380e+02, 2.52860e+02, 3.41335e+02, 2.63721e-01, 0.00000e+00],\n",
      "        [3.16380e+02, 1.56852e+02, 4.09363e+02, 3.53484e+02, 2.29536e-01, 0.00000e+00]])\n"
     ]
    },
    {
     "name": "stderr",
     "output_type": "stream",
     "text": [
      "\r",
      " 82%|█████████████████████████████████████████████████████████████████▋              | 705/859 [47:32<10:25,  4.06s/it]"
     ]
    },
    {
     "name": "stdout",
     "output_type": "stream",
     "text": [
      "tensor([[9.37438e+01, 1.02579e+02, 2.29479e+02, 3.88045e+02, 3.74813e-01, 0.00000e+00],\n",
      "        [3.17530e+02, 2.12121e+02, 4.38055e+02, 3.74547e+02, 2.49866e-01, 0.00000e+00]])\n"
     ]
    },
    {
     "name": "stderr",
     "output_type": "stream",
     "text": [
      "\r",
      " 82%|█████████████████████████████████████████████████████████████████▊              | 706/859 [47:36<10:29,  4.11s/it]"
     ]
    },
    {
     "name": "stdout",
     "output_type": "stream",
     "text": [
      "tensor([[4.03709e+00, 2.16724e+02, 1.42867e+02, 3.37554e+02, 2.78986e-01, 0.00000e+00],\n",
      "        [2.52760e+02, 3.99577e+01, 3.94483e+02, 3.75601e+02, 1.93533e-01, 0.00000e+00]])\n"
     ]
    },
    {
     "name": "stderr",
     "output_type": "stream",
     "text": [
      "\r",
      " 82%|█████████████████████████████████████████████████████████████████▊              | 707/859 [47:40<10:20,  4.08s/it]"
     ]
    },
    {
     "name": "stdout",
     "output_type": "stream",
     "text": [
      "tensor([[3.08286e+01, 6.75354e+01, 1.79959e+02, 3.49733e+02, 3.14610e-01, 0.00000e+00],\n",
      "        [2.79213e+02, 8.19928e+01, 4.23406e+02, 3.53366e+02, 2.97434e-01, 0.00000e+00]])\n"
     ]
    },
    {
     "name": "stderr",
     "output_type": "stream",
     "text": [
      "\r",
      " 82%|█████████████████████████████████████████████████████████████████▉              | 708/859 [47:44<10:14,  4.07s/it]"
     ]
    },
    {
     "name": "stdout",
     "output_type": "stream",
     "text": [
      "tensor([[7.30798e+01, 4.31323e+01, 2.28088e+02, 3.74884e+02, 2.51953e-01, 0.00000e+00],\n",
      "        [2.82467e+02, 4.52262e+01, 4.35358e+02, 3.93561e+02, 2.23270e-01, 0.00000e+00]])\n"
     ]
    },
    {
     "name": "stderr",
     "output_type": "stream",
     "text": [
      "\r",
      " 83%|██████████████████████████████████████████████████████████████████              | 709/859 [47:48<10:09,  4.06s/it]"
     ]
    },
    {
     "name": "stdout",
     "output_type": "stream",
     "text": [
      "tensor([[5.76635e+01, 7.07076e+01, 1.93820e+02, 3.19643e+02, 4.38597e-01, 0.00000e+00],\n",
      "        [2.67062e+02, 1.35392e+02, 3.78737e+02, 3.55555e+02, 2.60040e-01, 0.00000e+00]])\n"
     ]
    },
    {
     "name": "stderr",
     "output_type": "stream",
     "text": [
      "\r",
      " 83%|██████████████████████████████████████████████████████████████████              | 710/859 [47:52<10:05,  4.06s/it]"
     ]
    },
    {
     "name": "stdout",
     "output_type": "stream",
     "text": [
      "tensor([[1.04548e+02, 1.52488e+02, 2.02732e+02, 3.58827e+02, 2.85926e-01, 0.00000e+00],\n",
      "        [2.92793e+02, 1.28386e+02, 4.00266e+02, 3.66007e+02, 2.60070e-01, 0.00000e+00]])\n"
     ]
    },
    {
     "name": "stderr",
     "output_type": "stream",
     "text": [
      "\r",
      " 83%|██████████████████████████████████████████████████████████████████▏             | 711/859 [47:56<09:59,  4.05s/it]"
     ]
    },
    {
     "name": "stdout",
     "output_type": "stream",
     "text": [
      "tensor([[2.75765e+02, 5.26354e+01, 4.08956e+02, 3.67135e+02, 1.86588e-01, 0.00000e+00],\n",
      "        [1.31357e+02, 6.12804e+01, 2.11498e+02, 2.14169e+02, 1.43836e-01, 0.00000e+00],\n",
      "        [8.51376e+01, 1.21522e+02, 2.14359e+02, 3.83693e+02, 1.11854e-01, 0.00000e+00]])\n"
     ]
    },
    {
     "name": "stderr",
     "output_type": "stream",
     "text": [
      "\r",
      " 83%|██████████████████████████████████████████████████████████████████▎             | 712/859 [48:00<09:52,  4.03s/it]"
     ]
    },
    {
     "name": "stdout",
     "output_type": "stream",
     "text": [
      "tensor([[1.74730e+01, 4.77770e+01, 1.78476e+02, 3.69440e+02, 2.53638e-01, 0.00000e+00],\n",
      "        [2.81890e+02, 5.01659e+01, 4.20314e+02, 3.92739e+02, 2.33475e-01, 0.00000e+00]])\n"
     ]
    },
    {
     "name": "stderr",
     "output_type": "stream",
     "text": [
      "\r",
      " 83%|██████████████████████████████████████████████████████████████████▍             | 713/859 [48:04<09:48,  4.03s/it]"
     ]
    },
    {
     "name": "stdout",
     "output_type": "stream",
     "text": [
      "tensor([[3.05849e+02, 8.08051e+01, 4.60715e+02, 4.03089e+02, 3.64333e-01, 0.00000e+00],\n",
      "        [9.67744e+01, 1.21775e+02, 2.12094e+02, 3.81205e+02, 2.54638e-01, 0.00000e+00]])\n"
     ]
    },
    {
     "name": "stderr",
     "output_type": "stream",
     "text": [
      "\r",
      " 83%|██████████████████████████████████████████████████████████████████▍             | 714/859 [48:08<09:47,  4.05s/it]"
     ]
    },
    {
     "name": "stdout",
     "output_type": "stream",
     "text": [
      "tensor([[3.09321e+02, 1.75514e+02, 4.51376e+02, 3.98144e+02, 2.87776e-01, 0.00000e+00],\n",
      "        [5.58087e+01, 1.84926e+02, 2.04764e+02, 4.48150e+02, 2.59707e-01, 0.00000e+00]])\n"
     ]
    },
    {
     "name": "stderr",
     "output_type": "stream",
     "text": [
      "\r",
      " 83%|██████████████████████████████████████████████████████████████████▌             | 715/859 [48:12<09:38,  4.01s/it]"
     ]
    },
    {
     "name": "stdout",
     "output_type": "stream",
     "text": [
      "tensor([[3.64401e+02, 1.97588e+02, 4.82842e+02, 3.68767e+02, 2.87829e-01, 0.00000e+00],\n",
      "        [1.47225e+02, 1.47870e+02, 2.71292e+02, 3.57314e+02, 1.62326e-01, 0.00000e+00]])\n"
     ]
    },
    {
     "name": "stderr",
     "output_type": "stream",
     "text": [
      "\r",
      " 83%|██████████████████████████████████████████████████████████████████▋             | 716/859 [48:16<09:30,  3.99s/it]"
     ]
    },
    {
     "name": "stdout",
     "output_type": "stream",
     "text": [
      "tensor([[3.03573e+02, 8.85936e+01, 4.30386e+02, 4.27574e+02, 2.03802e-01, 0.00000e+00],\n",
      "        [1.14766e+02, 1.14939e+02, 2.39242e+02, 4.09236e+02, 1.28196e-01, 0.00000e+00],\n",
      "        [1.67191e+02, 6.03763e+01, 2.44173e+02, 2.13521e+02, 1.03070e-01, 0.00000e+00]])\n"
     ]
    },
    {
     "name": "stderr",
     "output_type": "stream",
     "text": [
      "\r",
      " 83%|██████████████████████████████████████████████████████████████████▊             | 717/859 [48:20<09:25,  3.98s/it]"
     ]
    },
    {
     "name": "stdout",
     "output_type": "stream",
     "text": [
      "tensor([[5.07564e+01, 1.89052e+01, 1.88239e+02, 2.38849e+02, 4.33397e-01, 0.00000e+00],\n",
      "        [2.51969e+02, 2.78018e+01, 3.86144e+02, 2.66204e+02, 3.41616e-01, 0.00000e+00]])\n"
     ]
    },
    {
     "name": "stderr",
     "output_type": "stream",
     "text": [
      "\r",
      " 84%|██████████████████████████████████████████████████████████████████▊             | 718/859 [48:24<09:21,  3.98s/it]"
     ]
    },
    {
     "name": "stdout",
     "output_type": "stream",
     "text": [
      "tensor([[1.33251e+02, 1.04764e+02, 2.30436e+02, 3.31633e+02, 3.37698e-01, 0.00000e+00],\n",
      "        [2.91915e+02, 1.07391e+02, 3.92274e+02, 3.39065e+02, 2.78465e-01, 0.00000e+00],\n",
      "        [2.93495e+02, 3.33804e+02, 3.54580e+02, 4.17719e+02, 1.21527e-01, 0.00000e+00]])\n"
     ]
    },
    {
     "name": "stderr",
     "output_type": "stream",
     "text": [
      "\r",
      " 84%|██████████████████████████████████████████████████████████████████▉             | 719/859 [48:28<09:20,  4.00s/it]"
     ]
    },
    {
     "name": "stdout",
     "output_type": "stream",
     "text": [
      "tensor([[2.75588e+02, 1.84342e+02, 4.38843e+02, 4.22053e+02, 3.02379e-01, 0.00000e+00],\n",
      "        [3.66604e+01, 1.21181e+02, 1.93680e+02, 4.21915e+02, 2.88265e-01, 0.00000e+00]])\n"
     ]
    },
    {
     "name": "stderr",
     "output_type": "stream",
     "text": [
      "\r",
      " 84%|███████████████████████████████████████████████████████████████████             | 720/859 [48:32<09:17,  4.01s/it]"
     ]
    },
    {
     "name": "stdout",
     "output_type": "stream",
     "text": [
      "tensor([[2.97068e+02, 1.18967e+02, 4.47407e+02, 4.43683e+02, 4.49562e-01, 0.00000e+00],\n",
      "        [8.48375e+01, 8.74020e+01, 2.21782e+02, 3.15698e+02, 3.28975e-01, 0.00000e+00]])\n"
     ]
    },
    {
     "name": "stderr",
     "output_type": "stream",
     "text": [
      "\r",
      " 84%|███████████████████████████████████████████████████████████████████▏            | 721/859 [48:36<09:13,  4.01s/it]"
     ]
    },
    {
     "name": "stdout",
     "output_type": "stream",
     "text": [
      "tensor([[9.88116e+01, 1.72986e+02, 2.15024e+02, 3.30227e+02, 2.05428e-01, 0.00000e+00],\n",
      "        [3.11081e+02, 1.61955e+02, 4.22016e+02, 3.36750e+02, 1.96813e-01, 0.00000e+00]])\n"
     ]
    },
    {
     "name": "stderr",
     "output_type": "stream",
     "text": [
      "\r",
      " 84%|███████████████████████████████████████████████████████████████████▏            | 722/859 [48:40<09:10,  4.02s/it]"
     ]
    },
    {
     "name": "stdout",
     "output_type": "stream",
     "text": [
      "tensor([[1.38587e+02, 1.55109e+02, 2.43835e+02, 3.40930e+02, 2.84051e-01, 0.00000e+00],\n",
      "        [3.56806e+02, 2.01732e+02, 4.56628e+02, 3.90620e+02, 2.19693e-01, 0.00000e+00]])\n"
     ]
    },
    {
     "name": "stderr",
     "output_type": "stream",
     "text": [
      "\r",
      " 84%|███████████████████████████████████████████████████████████████████▎            | 723/859 [48:44<09:08,  4.03s/it]"
     ]
    },
    {
     "name": "stdout",
     "output_type": "stream",
     "text": [
      "tensor([[1.04026e+02, 1.49053e+02, 2.02489e+02, 3.48335e+02, 3.61426e-01, 0.00000e+00],\n",
      "        [2.86364e+02, 1.31133e+02, 4.02718e+02, 3.90450e+02, 1.59766e-01, 0.00000e+00]])\n"
     ]
    },
    {
     "name": "stderr",
     "output_type": "stream",
     "text": [
      "\r",
      " 84%|███████████████████████████████████████████████████████████████████▍            | 724/859 [48:48<09:05,  4.04s/it]"
     ]
    },
    {
     "name": "stdout",
     "output_type": "stream",
     "text": [
      "tensor([[4.54772e+01, 1.11042e+02, 1.88608e+02, 3.83586e+02, 2.32583e-01, 0.00000e+00]])\n"
     ]
    },
    {
     "name": "stderr",
     "output_type": "stream",
     "text": [
      "\r",
      " 84%|███████████████████████████████████████████████████████████████████▌            | 725/859 [48:52<09:01,  4.04s/it]"
     ]
    },
    {
     "name": "stdout",
     "output_type": "stream",
     "text": [
      "tensor([[3.81919e+01, 1.50017e+02, 1.88615e+02, 4.62548e+02, 1.76849e-01, 0.00000e+00],\n",
      "        [2.72281e+02, 1.66395e+02, 4.22608e+02, 4.71490e+02, 1.42908e-01, 0.00000e+00]])\n"
     ]
    },
    {
     "name": "stderr",
     "output_type": "stream",
     "text": [
      "\r",
      " 85%|███████████████████████████████████████████████████████████████████▌            | 726/859 [48:56<08:59,  4.06s/it]"
     ]
    },
    {
     "name": "stdout",
     "output_type": "stream",
     "text": [
      "tensor([[8.63754e+01, 2.18065e+02, 2.37759e+02, 3.98101e+02, 2.28526e-01, 0.00000e+00],\n",
      "        [3.26062e+02, 2.35220e+02, 4.42204e+02, 4.10274e+02, 1.94651e-01, 0.00000e+00]])\n"
     ]
    },
    {
     "name": "stderr",
     "output_type": "stream",
     "text": [
      "\r",
      " 85%|███████████████████████████████████████████████████████████████████▋            | 727/859 [49:01<08:55,  4.05s/it]"
     ]
    },
    {
     "name": "stdout",
     "output_type": "stream",
     "text": [
      "tensor([[3.54794e+02, 1.22081e+02, 4.44018e+02, 3.56255e+02, 3.50069e-01, 0.00000e+00],\n",
      "        [1.15098e+02, 1.41849e+02, 2.24587e+02, 3.48026e+02, 2.71709e-01, 0.00000e+00]])\n"
     ]
    },
    {
     "name": "stderr",
     "output_type": "stream",
     "text": [
      "\r",
      " 85%|███████████████████████████████████████████████████████████████████▊            | 728/859 [49:05<08:49,  4.04s/it]"
     ]
    },
    {
     "name": "stdout",
     "output_type": "stream",
     "text": [
      "tensor([[1.05803e+02, 8.51712e+01, 2.46625e+02, 3.48042e+02, 1.98550e-01, 0.00000e+00],\n",
      "        [3.03004e+02, 7.67491e+01, 4.53505e+02, 3.91249e+02, 1.39358e-01, 0.00000e+00]])\n"
     ]
    },
    {
     "name": "stderr",
     "output_type": "stream",
     "text": [
      "\r",
      " 85%|███████████████████████████████████████████████████████████████████▉            | 729/859 [49:09<08:46,  4.05s/it]"
     ]
    },
    {
     "name": "stdout",
     "output_type": "stream",
     "text": [
      "tensor([[249.51733,  95.41540, 376.53064, 347.65756,   0.45080,   0.00000],\n",
      "        [ 47.51127, 106.62434, 175.52936, 321.77979,   0.40938,   0.00000]])\n"
     ]
    },
    {
     "name": "stderr",
     "output_type": "stream",
     "text": [
      "\r",
      " 85%|███████████████████████████████████████████████████████████████████▉            | 730/859 [49:13<08:39,  4.03s/it]"
     ]
    },
    {
     "name": "stdout",
     "output_type": "stream",
     "text": [
      "tensor([[2.96971e+02, 1.10291e+02, 3.97419e+02, 3.44395e+02, 2.50585e-01, 0.00000e+00],\n",
      "        [1.10743e+02, 6.08930e+01, 2.25649e+02, 3.40650e+02, 2.44388e-01, 0.00000e+00]])\n"
     ]
    },
    {
     "name": "stderr",
     "output_type": "stream",
     "text": [
      "\r",
      " 85%|████████████████████████████████████████████████████████████████████            | 731/859 [49:17<08:36,  4.04s/it]"
     ]
    },
    {
     "name": "stdout",
     "output_type": "stream",
     "text": [
      "tensor([[3.39404e+02, 9.22080e+01, 4.79516e+02, 4.35782e+02, 5.25667e-01, 0.00000e+00],\n",
      "        [1.30896e+02, 1.40559e+02, 2.64261e+02, 3.92947e+02, 3.36236e-01, 0.00000e+00]])\n"
     ]
    },
    {
     "name": "stderr",
     "output_type": "stream",
     "text": [
      "\r",
      " 85%|████████████████████████████████████████████████████████████████████▏           | 732/859 [49:21<08:27,  4.00s/it]"
     ]
    },
    {
     "name": "stdout",
     "output_type": "stream",
     "text": [
      "tensor([[3.55429e+00, 2.25946e+02, 1.38289e+02, 4.11901e+02, 3.70263e-01, 0.00000e+00],\n",
      "        [2.72427e+02, 2.58233e+02, 4.10871e+02, 4.14592e+02, 2.39766e-01, 0.00000e+00]])\n"
     ]
    },
    {
     "name": "stderr",
     "output_type": "stream",
     "text": [
      "\r",
      " 85%|████████████████████████████████████████████████████████████████████▎           | 733/859 [49:25<08:27,  4.03s/it]"
     ]
    },
    {
     "name": "stdout",
     "output_type": "stream",
     "text": [
      "tensor([[3.46939e+01, 7.58637e+01, 2.00729e+02, 3.52606e+02, 4.17503e-01, 0.00000e+00],\n",
      "        [2.83728e+02, 7.62624e+01, 4.57473e+02, 3.64994e+02, 3.12139e-01, 0.00000e+00]])\n"
     ]
    },
    {
     "name": "stderr",
     "output_type": "stream",
     "text": [
      "\r",
      " 85%|████████████████████████████████████████████████████████████████████▎           | 734/859 [49:29<08:23,  4.03s/it]"
     ]
    },
    {
     "name": "stdout",
     "output_type": "stream",
     "text": [
      "tensor([[1.02181e+02, 2.19254e+02, 2.04303e+02, 4.32825e+02, 2.48245e-01, 0.00000e+00],\n",
      "        [2.82606e+02, 2.34413e+02, 3.92452e+02, 4.12920e+02, 1.44590e-01, 0.00000e+00]])\n"
     ]
    },
    {
     "name": "stderr",
     "output_type": "stream",
     "text": [
      "\r",
      " 86%|████████████████████████████████████████████████████████████████████▍           | 735/859 [49:33<08:25,  4.07s/it]"
     ]
    },
    {
     "name": "stdout",
     "output_type": "stream",
     "text": [
      "tensor([[4.97168e+01, 1.24085e+02, 1.75114e+02, 3.90191e+02, 4.66784e-01, 0.00000e+00],\n",
      "        [2.78089e+02, 1.68091e+02, 4.06136e+02, 3.85102e+02, 2.81698e-01, 0.00000e+00]])\n"
     ]
    },
    {
     "name": "stderr",
     "output_type": "stream",
     "text": [
      "\r",
      " 86%|████████████████████████████████████████████████████████████████████▌           | 736/859 [49:37<08:33,  4.17s/it]"
     ]
    },
    {
     "name": "stdout",
     "output_type": "stream",
     "text": [
      "tensor([[2.42513e+02, 1.46536e+02, 3.56237e+02, 4.27159e+02, 3.59776e-01, 0.00000e+00],\n",
      "        [2.60589e+01, 2.06825e+02, 1.39085e+02, 4.16446e+02, 3.08373e-01, 0.00000e+00]])\n"
     ]
    },
    {
     "name": "stderr",
     "output_type": "stream",
     "text": [
      "\r",
      " 86%|████████████████████████████████████████████████████████████████████▋           | 737/859 [49:41<08:29,  4.18s/it]"
     ]
    },
    {
     "name": "stdout",
     "output_type": "stream",
     "text": [
      "tensor([[3.02086e+01, 5.49907e+01, 1.72397e+02, 2.88600e+02, 4.14815e-01, 0.00000e+00],\n",
      "        [2.30100e+02, 7.69964e+01, 3.60470e+02, 3.41061e+02, 2.62465e-01, 0.00000e+00]])\n"
     ]
    },
    {
     "name": "stderr",
     "output_type": "stream",
     "text": [
      "\r",
      " 86%|████████████████████████████████████████████████████████████████████▋           | 738/859 [49:46<08:26,  4.19s/it]"
     ]
    },
    {
     "name": "stdout",
     "output_type": "stream",
     "text": [
      "tensor([[3.05930e+02, 8.19889e+01, 4.38755e+02, 3.58266e+02, 2.37001e-01, 0.00000e+00],\n",
      "        [7.46159e+01, 7.48136e+01, 2.16466e+02, 3.63328e+02, 1.89154e-01, 0.00000e+00]])\n"
     ]
    },
    {
     "name": "stderr",
     "output_type": "stream",
     "text": [
      "\r",
      " 86%|████████████████████████████████████████████████████████████████████▊           | 739/859 [49:50<08:13,  4.11s/it]"
     ]
    },
    {
     "name": "stdout",
     "output_type": "stream",
     "text": [
      "tensor([[3.20339e+02, 6.15595e+01, 4.61506e+02, 3.63516e+02, 2.43169e-01, 0.00000e+00],\n",
      "        [6.15641e+01, 3.73456e+01, 2.13617e+02, 2.89662e+02, 1.59297e-01, 0.00000e+00],\n",
      "        [1.28649e+01, 2.17581e+02, 1.95662e+02, 3.92083e+02, 1.17458e-01, 0.00000e+00]])\n"
     ]
    },
    {
     "name": "stderr",
     "output_type": "stream",
     "text": [
      "\r",
      " 86%|████████████████████████████████████████████████████████████████████▉           | 740/859 [49:54<08:02,  4.06s/it]"
     ]
    },
    {
     "name": "stdout",
     "output_type": "stream",
     "text": [
      "tensor([[8.84589e+01, 1.32813e+02, 2.24763e+02, 4.52808e+02, 2.49347e-01, 0.00000e+00],\n",
      "        [3.06885e+02, 1.55354e+02, 4.29242e+02, 4.35661e+02, 2.23617e-01, 0.00000e+00]])\n"
     ]
    },
    {
     "name": "stderr",
     "output_type": "stream",
     "text": [
      "\r",
      " 86%|█████████████████████████████████████████████████████████████████████           | 741/859 [49:58<07:56,  4.04s/it]"
     ]
    },
    {
     "name": "stdout",
     "output_type": "stream",
     "text": [
      "tensor([[8.33161e+01, 1.21484e+02, 2.10335e+02, 3.14333e+02, 4.64980e-01, 0.00000e+00],\n",
      "        [2.91360e+02, 1.46258e+02, 4.06155e+02, 3.50336e+02, 3.92278e-01, 0.00000e+00]])\n"
     ]
    },
    {
     "name": "stderr",
     "output_type": "stream",
     "text": [
      "\r",
      " 86%|█████████████████████████████████████████████████████████████████████           | 742/859 [50:02<07:54,  4.05s/it]"
     ]
    },
    {
     "name": "stdout",
     "output_type": "stream",
     "text": [
      "tensor([[3.06602e+02, 9.81427e+01, 4.45035e+02, 3.88307e+02, 2.10543e-01, 0.00000e+00],\n",
      "        [4.95119e+01, 1.12649e+02, 1.95967e+02, 3.76232e+02, 1.56524e-01, 0.00000e+00]])\n"
     ]
    },
    {
     "name": "stderr",
     "output_type": "stream",
     "text": [
      "\r",
      " 86%|█████████████████████████████████████████████████████████████████████▏          | 743/859 [50:06<07:50,  4.05s/it]"
     ]
    },
    {
     "name": "stdout",
     "output_type": "stream",
     "text": [
      "tensor([[3.09134e+02, 7.75663e+01, 4.34390e+02, 3.31057e+02, 2.60934e-01, 0.00000e+00],\n",
      "        [1.08844e+02, 9.16687e+01, 2.38610e+02, 3.22992e+02, 2.43656e-01, 0.00000e+00]])\n"
     ]
    },
    {
     "name": "stderr",
     "output_type": "stream",
     "text": [
      "\r",
      " 87%|█████████████████████████████████████████████████████████████████████▎          | 744/859 [50:10<07:43,  4.03s/it]"
     ]
    },
    {
     "name": "stdout",
     "output_type": "stream",
     "text": [
      "tensor([[7.11063e+01, 1.43352e+02, 2.29379e+02, 4.54464e+02, 3.34496e-01, 0.00000e+00],\n",
      "        [3.05459e+02, 1.32014e+02, 4.46781e+02, 4.61963e+02, 3.34033e-01, 0.00000e+00]])\n"
     ]
    },
    {
     "name": "stderr",
     "output_type": "stream",
     "text": [
      "\r",
      " 87%|█████████████████████████████████████████████████████████████████████▍          | 745/859 [50:14<07:37,  4.01s/it]"
     ]
    },
    {
     "name": "stdout",
     "output_type": "stream",
     "text": [
      "tensor([[8.36103e+01, 1.81964e+01, 2.53853e+02, 4.02328e+02, 2.63878e-01, 0.00000e+00],\n",
      "        [3.28861e+02, 1.94498e+01, 5.05920e+02, 4.66085e+02, 2.15595e-01, 0.00000e+00]])\n"
     ]
    },
    {
     "name": "stderr",
     "output_type": "stream",
     "text": [
      "\r",
      " 87%|█████████████████████████████████████████████████████████████████████▍          | 746/859 [50:18<07:30,  3.98s/it]"
     ]
    },
    {
     "name": "stdout",
     "output_type": "stream",
     "text": [
      "tensor([[3.31864e+02, 1.02947e+02, 4.46954e+02, 3.41198e+02, 2.98573e-01, 0.00000e+00],\n",
      "        [5.24533e+01, 5.74767e+01, 2.11563e+02, 3.69074e+02, 2.25146e-01, 0.00000e+00]])\n"
     ]
    },
    {
     "name": "stderr",
     "output_type": "stream",
     "text": [
      "\r",
      " 87%|█████████████████████████████████████████████████████████████████████▌          | 747/859 [50:22<07:27,  3.99s/it]"
     ]
    },
    {
     "name": "stdout",
     "output_type": "stream",
     "text": [
      "tensor([[2.87774e+02, 1.06785e+02, 4.00877e+02, 3.16213e+02, 2.78091e-01, 0.00000e+00],\n",
      "        [9.03458e+01, 1.37133e+02, 2.12903e+02, 3.45943e+02, 2.74837e-01, 0.00000e+00]])\n"
     ]
    },
    {
     "name": "stderr",
     "output_type": "stream",
     "text": [
      "\r",
      " 87%|█████████████████████████████████████████████████████████████████████▋          | 748/859 [50:26<07:22,  3.99s/it]"
     ]
    },
    {
     "name": "stdout",
     "output_type": "stream",
     "text": [
      "tensor([[8.67426e+01, 8.01902e+01, 2.21081e+02, 3.50633e+02, 1.96633e-01, 0.00000e+00],\n",
      "        [3.33845e+02, 1.65795e+02, 4.46664e+02, 3.65702e+02, 1.94817e-01, 0.00000e+00]])\n"
     ]
    },
    {
     "name": "stderr",
     "output_type": "stream",
     "text": [
      "\r",
      " 87%|█████████████████████████████████████████████████████████████████████▊          | 749/859 [50:30<07:18,  3.99s/it]"
     ]
    },
    {
     "name": "stdout",
     "output_type": "stream",
     "text": [
      "tensor([[3.24154e+02, 2.03960e+02, 4.80130e+02, 4.21569e+02, 2.21412e-01, 0.00000e+00],\n",
      "        [9.07247e+01, 1.37779e+02, 2.17270e+02, 3.78244e+02, 1.96430e-01, 0.00000e+00]])\n"
     ]
    },
    {
     "name": "stderr",
     "output_type": "stream",
     "text": [
      "\r",
      " 87%|█████████████████████████████████████████████████████████████████████▊          | 750/859 [50:34<07:17,  4.02s/it]"
     ]
    },
    {
     "name": "stdout",
     "output_type": "stream",
     "text": [
      "tensor([[282.73907, 124.65772, 402.59375, 333.06021,   0.55940,   0.00000],\n",
      "        [ 62.28170, 189.01172, 174.28812, 385.37506,   0.45269,   0.00000]])\n"
     ]
    },
    {
     "name": "stderr",
     "output_type": "stream",
     "text": [
      "\r",
      " 87%|█████████████████████████████████████████████████████████████████████▉          | 751/859 [50:38<07:14,  4.02s/it]"
     ]
    },
    {
     "name": "stdout",
     "output_type": "stream",
     "text": [
      "tensor([[9.96968e+01, 1.06098e+02, 2.09005e+02, 3.76282e+02, 2.98622e-01, 0.00000e+00],\n",
      "        [2.87001e+02, 1.30965e+02, 4.00316e+02, 3.48693e+02, 1.62878e-01, 0.00000e+00]])\n"
     ]
    },
    {
     "name": "stderr",
     "output_type": "stream",
     "text": [
      "\r",
      " 88%|██████████████████████████████████████████████████████████████████████          | 752/859 [50:42<07:08,  4.01s/it]"
     ]
    },
    {
     "name": "stdout",
     "output_type": "stream",
     "text": [
      "tensor([[4.95625e+01, 2.51912e+02, 1.85953e+02, 4.58381e+02, 2.11010e-01, 0.00000e+00],\n",
      "        [3.04539e+02, 3.25692e+02, 4.37675e+02, 4.75127e+02, 1.16368e-01, 0.00000e+00]])\n"
     ]
    },
    {
     "name": "stderr",
     "output_type": "stream",
     "text": [
      "\r",
      " 88%|██████████████████████████████████████████████████████████████████████▏         | 753/859 [50:46<07:06,  4.02s/it]"
     ]
    },
    {
     "name": "stdout",
     "output_type": "stream",
     "text": [
      "tensor([[2.89564e+02, 3.34001e+01, 4.47780e+02, 3.89817e+02, 2.01841e-01, 0.00000e+00],\n",
      "        [6.69382e+01, 3.46891e+01, 2.36331e+02, 3.54902e+02, 1.93750e-01, 0.00000e+00]])\n"
     ]
    },
    {
     "name": "stderr",
     "output_type": "stream",
     "text": [
      "\r",
      " 88%|██████████████████████████████████████████████████████████████████████▏         | 754/859 [50:50<06:59,  3.99s/it]"
     ]
    },
    {
     "name": "stdout",
     "output_type": "stream",
     "text": [
      "tensor([[2.50306e+02, 1.09726e+02, 4.00760e+02, 4.44177e+02, 3.80397e-01, 0.00000e+00],\n",
      "        [2.01199e+00, 1.04725e+02, 1.28185e+02, 4.09279e+02, 3.32401e-01, 0.00000e+00]])\n"
     ]
    },
    {
     "name": "stderr",
     "output_type": "stream",
     "text": [
      "\r",
      " 88%|██████████████████████████████████████████████████████████████████████▎         | 755/859 [50:54<06:54,  3.98s/it]"
     ]
    },
    {
     "name": "stdout",
     "output_type": "stream",
     "text": [
      "tensor([[6.95464e+01, 2.54997e+02, 1.65366e+02, 4.02405e+02, 1.43049e-01, 0.00000e+00],\n",
      "        [2.92285e+02, 8.55780e+01, 4.34881e+02, 4.19812e+02, 1.23212e-01, 0.00000e+00]])\n"
     ]
    },
    {
     "name": "stderr",
     "output_type": "stream",
     "text": [
      "\r",
      " 88%|██████████████████████████████████████████████████████████████████████▍         | 756/859 [50:57<06:49,  3.97s/it]"
     ]
    },
    {
     "name": "stdout",
     "output_type": "stream",
     "text": [
      "tensor([[3.03857e+02, 1.23286e+02, 4.31533e+02, 4.29050e+02, 3.62076e-01, 0.00000e+00],\n",
      "        [1.05029e+02, 1.14259e+02, 2.41126e+02, 4.20640e+02, 3.31668e-01, 0.00000e+00]])\n"
     ]
    },
    {
     "name": "stderr",
     "output_type": "stream",
     "text": [
      "\r",
      " 88%|██████████████████████████████████████████████████████████████████████▌         | 757/859 [51:01<06:45,  3.98s/it]"
     ]
    },
    {
     "name": "stdout",
     "output_type": "stream",
     "text": [
      "tensor([[1.00201e+02, 6.80551e+01, 2.47301e+02, 3.82026e+02, 4.12048e-01, 0.00000e+00],\n",
      "        [3.11127e+02, 7.53389e+01, 4.67304e+02, 3.71323e+02, 2.62034e-01, 0.00000e+00]])\n"
     ]
    },
    {
     "name": "stderr",
     "output_type": "stream",
     "text": [
      "\r",
      " 88%|██████████████████████████████████████████████████████████████████████▌         | 758/859 [51:06<06:44,  4.00s/it]"
     ]
    },
    {
     "name": "stdout",
     "output_type": "stream",
     "text": [
      "tensor([[1.17400e+02, 1.23325e+02, 2.42103e+02, 3.59724e+02, 3.41909e-01, 0.00000e+00],\n",
      "        [3.37942e+02, 9.79860e+01, 4.99353e+02, 4.12679e+02, 2.72965e-01, 0.00000e+00]])\n"
     ]
    },
    {
     "name": "stderr",
     "output_type": "stream",
     "text": [
      "\r",
      " 88%|██████████████████████████████████████████████████████████████████████▋         | 759/859 [51:10<06:42,  4.02s/it]"
     ]
    },
    {
     "name": "stdout",
     "output_type": "stream",
     "text": [
      "tensor([[4.93806e+01, 2.68385e+01, 2.00393e+02, 3.81909e+02, 3.69730e-01, 0.00000e+00],\n",
      "        [2.60815e+02, 3.75893e+01, 3.92683e+02, 3.78552e+02, 1.76933e-01, 0.00000e+00]])\n"
     ]
    },
    {
     "name": "stderr",
     "output_type": "stream",
     "text": [
      "\r",
      " 88%|██████████████████████████████████████████████████████████████████████▊         | 760/859 [51:14<06:35,  3.99s/it]"
     ]
    },
    {
     "name": "stdout",
     "output_type": "stream",
     "text": [
      "tensor([[1.02037e+02, 1.57049e+02, 2.14354e+02, 3.36219e+02, 3.22293e-01, 0.00000e+00],\n",
      "        [2.85617e+02, 9.69108e+01, 4.02506e+02, 3.84240e+02, 1.96737e-01, 0.00000e+00]])\n"
     ]
    },
    {
     "name": "stderr",
     "output_type": "stream",
     "text": [
      "\r",
      " 89%|██████████████████████████████████████████████████████████████████████▊         | 761/859 [51:18<06:31,  4.00s/it]"
     ]
    },
    {
     "name": "stdout",
     "output_type": "stream",
     "text": [
      "tensor([[9.01179e+01, 6.99202e+01, 2.27923e+02, 3.48337e+02, 3.58234e-01, 0.00000e+00],\n",
      "        [3.48646e+02, 1.47500e+02, 4.63897e+02, 3.68774e+02, 2.40596e-01, 0.00000e+00]])\n"
     ]
    },
    {
     "name": "stderr",
     "output_type": "stream",
     "text": [
      "\r",
      " 89%|██████████████████████████████████████████████████████████████████████▉         | 762/859 [51:22<06:28,  4.01s/it]"
     ]
    },
    {
     "name": "stdout",
     "output_type": "stream",
     "text": [
      "tensor([[9.13465e+01, 1.21514e+02, 2.31303e+02, 4.14628e+02, 3.12180e-01, 0.00000e+00],\n",
      "        [2.97630e+02, 1.45262e+02, 4.26633e+02, 4.20630e+02, 2.83210e-01, 0.00000e+00]])\n"
     ]
    },
    {
     "name": "stderr",
     "output_type": "stream",
     "text": [
      "\r",
      " 89%|███████████████████████████████████████████████████████████████████████         | 763/859 [51:26<06:24,  4.00s/it]"
     ]
    },
    {
     "name": "stdout",
     "output_type": "stream",
     "text": [
      "tensor([[1.10591e+02, 4.10755e+01, 2.38867e+02, 3.56119e+02, 1.87453e-01, 0.00000e+00]])\n"
     ]
    },
    {
     "name": "stderr",
     "output_type": "stream",
     "text": [
      "\r",
      " 89%|███████████████████████████████████████████████████████████████████████▏        | 764/859 [51:30<06:24,  4.05s/it]"
     ]
    },
    {
     "name": "stdout",
     "output_type": "stream",
     "text": [
      "tensor([[2.75898e+02, 8.30880e+01, 4.12099e+02, 4.05633e+02, 2.14616e-01, 0.00000e+00],\n",
      "        [9.37760e+01, 8.19116e+01, 2.24778e+02, 4.31494e+02, 2.13873e-01, 0.00000e+00]])\n"
     ]
    },
    {
     "name": "stderr",
     "output_type": "stream",
     "text": [
      "\r",
      " 89%|███████████████████████████████████████████████████████████████████████▏        | 765/859 [51:34<06:26,  4.11s/it]"
     ]
    },
    {
     "name": "stdout",
     "output_type": "stream",
     "text": [
      "tensor([[9.77709e+01, 7.79977e+01, 2.58568e+02, 4.32171e+02, 2.14679e-01, 0.00000e+00]])\n"
     ]
    },
    {
     "name": "stderr",
     "output_type": "stream",
     "text": [
      "\r",
      " 89%|███████████████████████████████████████████████████████████████████████▎        | 766/859 [51:38<06:24,  4.13s/it]"
     ]
    },
    {
     "name": "stdout",
     "output_type": "stream",
     "text": [
      "tensor([[7.69334e+01, 1.35335e+02, 1.98060e+02, 3.77451e+02, 3.16840e-01, 0.00000e+00],\n",
      "        [3.07735e+02, 1.46618e+02, 4.45713e+02, 4.20561e+02, 1.89765e-01, 0.00000e+00]])\n"
     ]
    },
    {
     "name": "stderr",
     "output_type": "stream",
     "text": [
      "\r",
      " 89%|███████████████████████████████████████████████████████████████████████▍        | 767/859 [51:43<06:25,  4.19s/it]"
     ]
    },
    {
     "name": "stdout",
     "output_type": "stream",
     "text": [
      "tensor([[2.41104e+02, 1.28485e+02, 4.05600e+02, 4.62531e+02, 1.92907e-01, 0.00000e+00],\n",
      "        [2.59185e+00, 1.51230e+02, 1.49625e+02, 4.84328e+02, 1.92502e-01, 0.00000e+00]])\n"
     ]
    },
    {
     "name": "stderr",
     "output_type": "stream",
     "text": [
      "\r",
      " 89%|███████████████████████████████████████████████████████████████████████▌        | 768/859 [51:47<06:23,  4.22s/it]"
     ]
    },
    {
     "name": "stdout",
     "output_type": "stream",
     "text": [
      "tensor([[2.74294e+02, 2.87951e+01, 4.88635e+02, 4.06608e+02, 2.65594e-01, 0.00000e+00],\n",
      "        [5.33316e+01, 4.55051e+01, 2.18980e+02, 3.88979e+02, 2.35196e-01, 0.00000e+00]])\n"
     ]
    },
    {
     "name": "stderr",
     "output_type": "stream",
     "text": [
      "\r",
      " 90%|███████████████████████████████████████████████████████████████████████▌        | 769/859 [51:51<06:16,  4.19s/it]"
     ]
    },
    {
     "name": "stdout",
     "output_type": "stream",
     "text": [
      "tensor([[1.17285e+02, 1.64126e+02, 2.47968e+02, 3.53751e+02, 3.96252e-01, 0.00000e+00],\n",
      "        [3.43229e+02, 1.11718e+02, 4.92265e+02, 3.73552e+02, 2.84666e-01, 0.00000e+00]])\n"
     ]
    },
    {
     "name": "stderr",
     "output_type": "stream",
     "text": [
      "\r",
      " 90%|███████████████████████████████████████████████████████████████████████▋        | 770/859 [51:55<06:07,  4.13s/it]"
     ]
    },
    {
     "name": "stdout",
     "output_type": "stream",
     "text": [
      "tensor([[4.38035e+01, 1.42496e+01, 1.93014e+02, 3.21332e+02, 2.94134e-01, 0.00000e+00],\n",
      "        [2.94808e+02, 2.08528e+01, 4.32216e+02, 3.33794e+02, 2.20294e-01, 0.00000e+00]])\n"
     ]
    },
    {
     "name": "stderr",
     "output_type": "stream",
     "text": [
      "\r",
      " 90%|███████████████████████████████████████████████████████████████████████▊        | 771/859 [51:59<06:03,  4.13s/it]"
     ]
    },
    {
     "name": "stdout",
     "output_type": "stream",
     "text": [
      "tensor([[3.28123e+02, 9.07335e+01, 4.91371e+02, 3.98483e+02, 2.45815e-01, 0.00000e+00],\n",
      "        [8.43094e+01, 8.58289e+01, 2.40949e+02, 3.98087e+02, 2.43615e-01, 0.00000e+00]])\n"
     ]
    },
    {
     "name": "stderr",
     "output_type": "stream",
     "text": [
      "\r",
      " 90%|███████████████████████████████████████████████████████████████████████▉        | 772/859 [52:03<05:56,  4.10s/it]"
     ]
    },
    {
     "name": "stdout",
     "output_type": "stream",
     "text": [
      "tensor([[4.64354e+01, 8.87123e+01, 2.12747e+02, 4.51166e+02, 2.83139e-01, 0.00000e+00],\n",
      "        [3.29139e+02, 1.17027e+02, 4.61289e+02, 4.12018e+02, 2.67023e-01, 0.00000e+00]])\n"
     ]
    },
    {
     "name": "stderr",
     "output_type": "stream",
     "text": [
      "\r",
      " 90%|███████████████████████████████████████████████████████████████████████▉        | 773/859 [52:07<05:47,  4.04s/it]"
     ]
    },
    {
     "name": "stdout",
     "output_type": "stream",
     "text": [
      "tensor([[3.41583e+02, 3.48398e+01, 4.78402e+02, 3.19857e+02, 4.16813e-01, 0.00000e+00],\n",
      "        [1.06238e+02, 7.48209e+01, 2.61623e+02, 3.46367e+02, 3.99401e-01, 0.00000e+00]])\n"
     ]
    },
    {
     "name": "stderr",
     "output_type": "stream",
     "text": [
      "\r",
      " 90%|████████████████████████████████████████████████████████████████████████        | 774/859 [52:11<05:40,  4.01s/it]"
     ]
    },
    {
     "name": "stdout",
     "output_type": "stream",
     "text": [
      "tensor([[3.19495e+02, 9.41498e+01, 4.92289e+02, 4.84486e+02, 3.78777e-01, 0.00000e+00],\n",
      "        [3.39038e+01, 9.32374e+01, 2.17399e+02, 4.31590e+02, 3.17086e-01, 0.00000e+00]])\n"
     ]
    },
    {
     "name": "stderr",
     "output_type": "stream",
     "text": [
      "\r",
      " 90%|████████████████████████████████████████████████████████████████████████▏       | 775/859 [52:15<05:36,  4.01s/it]"
     ]
    },
    {
     "name": "stdout",
     "output_type": "stream",
     "text": [
      "tensor([[6.32311e+01, 8.50195e+01, 1.90853e+02, 3.49434e+02, 2.43863e-01, 0.00000e+00],\n",
      "        [2.87223e+02, 1.74198e+02, 3.90623e+02, 3.24400e+02, 2.41584e-01, 0.00000e+00]])\n"
     ]
    },
    {
     "name": "stderr",
     "output_type": "stream",
     "text": [
      "\r",
      " 90%|████████████████████████████████████████████████████████████████████████▎       | 776/859 [52:19<05:32,  4.00s/it]"
     ]
    },
    {
     "name": "stdout",
     "output_type": "stream",
     "text": [
      "tensor([[3.30571e+02, 2.22298e+02, 4.54953e+02, 4.07409e+02, 3.34188e-01, 0.00000e+00],\n",
      "        [9.64999e+01, 2.01559e+02, 2.34179e+02, 3.99861e+02, 2.55447e-01, 0.00000e+00]])\n"
     ]
    },
    {
     "name": "stderr",
     "output_type": "stream",
     "text": [
      "\r",
      " 90%|████████████████████████████████████████████████████████████████████████▎       | 777/859 [52:23<05:26,  3.98s/it]"
     ]
    },
    {
     "name": "stdout",
     "output_type": "stream",
     "text": [
      "tensor([[5.40465e+01, 6.26572e+01, 1.48278e+02, 2.93114e+02, 2.43053e-01, 0.00000e+00],\n",
      "        [2.96958e+02, 8.29801e+01, 4.06261e+02, 3.27482e+02, 1.62433e-01, 0.00000e+00]])\n"
     ]
    },
    {
     "name": "stderr",
     "output_type": "stream",
     "text": [
      "\r",
      " 91%|████████████████████████████████████████████████████████████████████████▍       | 778/859 [52:27<05:20,  3.96s/it]"
     ]
    },
    {
     "name": "stdout",
     "output_type": "stream",
     "text": [
      "tensor([[3.45086e+02, 1.82713e+02, 4.45104e+02, 3.55250e+02, 2.75819e-01, 0.00000e+00],\n",
      "        [1.27478e+02, 1.23746e+02, 2.34385e+02, 3.62575e+02, 2.61072e-01, 0.00000e+00]])\n"
     ]
    },
    {
     "name": "stderr",
     "output_type": "stream",
     "text": [
      "\r",
      " 91%|████████████████████████████████████████████████████████████████████████▌       | 779/859 [52:31<05:17,  3.97s/it]"
     ]
    },
    {
     "name": "stdout",
     "output_type": "stream",
     "text": [
      "tensor([[8.82505e+01, 1.01774e+02, 2.06352e+02, 3.22148e+02, 4.13264e-01, 0.00000e+00],\n",
      "        [2.89472e+02, 1.13243e+02, 4.41730e+02, 3.15416e+02, 2.33636e-01, 0.00000e+00]])\n"
     ]
    },
    {
     "name": "stderr",
     "output_type": "stream",
     "text": [
      "\r",
      " 91%|████████████████████████████████████████████████████████████████████████▋       | 780/859 [52:35<05:13,  3.97s/it]"
     ]
    },
    {
     "name": "stdout",
     "output_type": "stream",
     "text": [
      "tensor([[3.37865e+02, 1.14863e+02, 4.72266e+02, 3.87671e+02, 1.90644e-01, 0.00000e+00],\n",
      "        [7.21250e+01, 7.14528e+01, 2.00759e+02, 3.62227e+02, 1.54634e-01, 0.00000e+00]])\n"
     ]
    },
    {
     "name": "stderr",
     "output_type": "stream",
     "text": [
      "\r",
      " 91%|████████████████████████████████████████████████████████████████████████▋       | 781/859 [52:39<05:09,  3.96s/it]"
     ]
    },
    {
     "name": "stdout",
     "output_type": "stream",
     "text": [
      "tensor([[2.60596e+02, 1.84596e+02, 3.85219e+02, 4.46154e+02, 2.05169e-01, 0.00000e+00],\n",
      "        [4.39501e+01, 1.68934e+02, 1.72755e+02, 4.46758e+02, 1.48249e-01, 0.00000e+00]])\n"
     ]
    },
    {
     "name": "stderr",
     "output_type": "stream",
     "text": [
      "\r",
      " 91%|████████████████████████████████████████████████████████████████████████▊       | 782/859 [52:43<05:05,  3.97s/it]"
     ]
    },
    {
     "name": "stdout",
     "output_type": "stream",
     "text": [
      "tensor([[1.02929e+02, 9.08313e+01, 2.43052e+02, 3.44206e+02, 3.05286e-01, 0.00000e+00],\n",
      "        [3.18775e+02, 1.50351e+02, 4.26850e+02, 3.57609e+02, 2.22846e-01, 0.00000e+00]])\n"
     ]
    },
    {
     "name": "stderr",
     "output_type": "stream",
     "text": [
      "\r",
      " 91%|████████████████████████████████████████████████████████████████████████▉       | 783/859 [52:47<05:01,  3.97s/it]"
     ]
    },
    {
     "name": "stdout",
     "output_type": "stream",
     "text": [
      "tensor([[8.37511e+01, 7.48196e+01, 2.16771e+02, 3.35268e+02, 4.24118e-01, 0.00000e+00],\n",
      "        [2.82256e+02, 7.93171e+01, 4.09404e+02, 3.07299e+02, 3.76150e-01, 0.00000e+00]])\n"
     ]
    },
    {
     "name": "stderr",
     "output_type": "stream",
     "text": [
      "\r",
      " 91%|█████████████████████████████████████████████████████████████████████████       | 784/859 [52:51<04:56,  3.96s/it]"
     ]
    },
    {
     "name": "stdout",
     "output_type": "stream",
     "text": [
      "tensor([[3.05293e+02, 1.90208e+02, 4.48147e+02, 3.96283e+02, 2.25798e-01, 0.00000e+00],\n",
      "        [4.84113e+01, 2.16153e+02, 1.84331e+02, 3.96122e+02, 1.38769e-01, 0.00000e+00]])\n"
     ]
    },
    {
     "name": "stderr",
     "output_type": "stream",
     "text": [
      "\r",
      " 91%|█████████████████████████████████████████████████████████████████████████       | 785/859 [52:55<04:54,  3.98s/it]"
     ]
    },
    {
     "name": "stdout",
     "output_type": "stream",
     "text": [
      "tensor([[2.97243e+02, 1.83673e+02, 4.07682e+02, 3.83739e+02, 2.28443e-01, 0.00000e+00],\n",
      "        [1.20582e+02, 1.83282e+02, 2.30496e+02, 3.82048e+02, 2.19832e-01, 0.00000e+00]])\n"
     ]
    },
    {
     "name": "stderr",
     "output_type": "stream",
     "text": [
      "\r",
      " 92%|█████████████████████████████████████████████████████████████████████████▏      | 786/859 [52:59<04:51,  4.00s/it]"
     ]
    },
    {
     "name": "stdout",
     "output_type": "stream",
     "text": [
      "tensor([[8.48484e+01, 1.34375e+02, 2.65099e+02, 4.37581e+02, 2.95663e-01, 0.00000e+00],\n",
      "        [3.07510e+02, 1.95966e+02, 4.72822e+02, 5.10343e+02, 2.15594e-01, 0.00000e+00],\n",
      "        [2.84042e+02, 3.54858e+02, 3.82436e+02, 4.96419e+02, 1.83653e-01, 0.00000e+00]])\n"
     ]
    },
    {
     "name": "stderr",
     "output_type": "stream",
     "text": [
      "\r",
      " 92%|█████████████████████████████████████████████████████████████████████████▎      | 787/859 [53:03<04:47,  3.99s/it]"
     ]
    },
    {
     "name": "stdout",
     "output_type": "stream",
     "text": [
      "tensor([[2.98528e+02, 2.09096e+02, 4.24689e+02, 4.24834e+02, 2.76046e-01, 0.00000e+00],\n",
      "        [9.27875e+01, 1.87858e+02, 2.13214e+02, 4.24855e+02, 2.66208e-01, 0.00000e+00]])\n"
     ]
    },
    {
     "name": "stderr",
     "output_type": "stream",
     "text": [
      "\r",
      " 92%|█████████████████████████████████████████████████████████████████████████▍      | 788/859 [53:07<04:42,  3.98s/it]"
     ]
    },
    {
     "name": "stdout",
     "output_type": "stream",
     "text": [
      "tensor([[3.34215e+02, 1.40229e+02, 4.90273e+02, 3.49385e+02, 3.64012e-01, 0.00000e+00],\n",
      "        [8.57783e+01, 1.21674e+02, 2.30830e+02, 3.24044e+02, 3.37392e-01, 0.00000e+00]])\n"
     ]
    },
    {
     "name": "stderr",
     "output_type": "stream",
     "text": [
      "\r",
      " 92%|█████████████████████████████████████████████████████████████████████████▍      | 789/859 [53:10<04:38,  3.97s/it]"
     ]
    },
    {
     "name": "stdout",
     "output_type": "stream",
     "text": [
      "tensor([[1.00285e+02, 5.05165e+01, 2.28732e+02, 2.66570e+02, 2.03824e-01, 0.00000e+00],\n",
      "        [3.08638e+02, 4.26172e+01, 4.17033e+02, 2.35399e+02, 1.30948e-01, 0.00000e+00],\n",
      "        [3.06337e+02, 1.66057e+02, 4.38458e+02, 3.63168e+02, 1.21703e-01, 0.00000e+00]])\n"
     ]
    },
    {
     "name": "stderr",
     "output_type": "stream",
     "text": [
      "\r",
      " 92%|█████████████████████████████████████████████████████████████████████████▌      | 790/859 [53:14<04:32,  3.95s/it]"
     ]
    },
    {
     "name": "stdout",
     "output_type": "stream",
     "text": [
      "tensor([[3.11977e+02, 1.40758e+02, 4.66462e+02, 4.11911e+02, 3.55277e-01, 0.00000e+00],\n",
      "        [5.39783e+01, 1.27235e+02, 2.20684e+02, 4.14147e+02, 3.24800e-01, 0.00000e+00]])\n"
     ]
    },
    {
     "name": "stderr",
     "output_type": "stream",
     "text": [
      "\r",
      " 92%|█████████████████████████████████████████████████████████████████████████▋      | 791/859 [53:18<04:28,  3.95s/it]"
     ]
    },
    {
     "name": "stdout",
     "output_type": "stream",
     "text": [
      "tensor([[2.48236e+01, 9.17685e+01, 1.83516e+02, 4.18533e+02, 2.47586e-01, 0.00000e+00],\n",
      "        [2.78373e+02, 1.27291e+02, 4.28752e+02, 4.79013e+02, 2.08691e-01, 0.00000e+00]])\n"
     ]
    },
    {
     "name": "stderr",
     "output_type": "stream",
     "text": [
      "\r",
      " 92%|█████████████████████████████████████████████████████████████████████████▊      | 792/859 [53:22<04:25,  3.96s/it]"
     ]
    },
    {
     "name": "stdout",
     "output_type": "stream",
     "text": [
      "tensor([[4.88649e+01, 1.16296e+02, 1.68215e+02, 3.20206e+02, 2.95903e-01, 0.00000e+00],\n",
      "        [3.25942e+02, 1.12598e+02, 5.00434e+02, 4.79801e+02, 1.96266e-01, 0.00000e+00]])\n"
     ]
    },
    {
     "name": "stderr",
     "output_type": "stream",
     "text": [
      "\r",
      " 92%|█████████████████████████████████████████████████████████████████████████▊      | 793/859 [53:26<04:22,  3.98s/it]"
     ]
    },
    {
     "name": "stdout",
     "output_type": "stream",
     "text": [
      "tensor([[1.08959e+02, 2.59620e+02, 2.15821e+02, 3.97733e+02, 3.03966e-01, 0.00000e+00],\n",
      "        [3.39100e+02, 1.44769e+02, 4.47532e+02, 3.72235e+02, 1.48850e-01, 0.00000e+00]])\n"
     ]
    },
    {
     "name": "stderr",
     "output_type": "stream",
     "text": [
      "\r",
      " 92%|█████████████████████████████████████████████████████████████████████████▉      | 794/859 [53:30<04:21,  4.02s/it]"
     ]
    },
    {
     "name": "stdout",
     "output_type": "stream",
     "text": [
      "tensor([[3.14881e+02, 1.40868e+02, 4.43292e+02, 3.75756e+02, 2.81655e-01, 0.00000e+00],\n",
      "        [1.46018e+02, 1.18051e+02, 2.53197e+02, 3.71788e+02, 2.40205e-01, 0.00000e+00]])\n"
     ]
    },
    {
     "name": "stderr",
     "output_type": "stream",
     "text": [
      "\r",
      " 93%|██████████████████████████████████████████████████████████████████████████      | 795/859 [53:35<04:22,  4.09s/it]"
     ]
    },
    {
     "name": "stdout",
     "output_type": "stream",
     "text": [
      "tensor([[8.61858e+01, 2.26034e+02, 2.36173e+02, 4.02985e+02, 1.49080e-01, 0.00000e+00],\n",
      "        [3.95609e+02, 2.38614e+02, 5.09669e+02, 4.08648e+02, 1.43185e-01, 0.00000e+00]])\n"
     ]
    },
    {
     "name": "stderr",
     "output_type": "stream",
     "text": [
      "\r",
      " 93%|██████████████████████████████████████████████████████████████████████████▏     | 796/859 [53:39<04:21,  4.15s/it]"
     ]
    },
    {
     "name": "stdout",
     "output_type": "stream",
     "text": [
      "tensor([[9.38988e+01, 2.32722e+01, 2.37816e+02, 2.31765e+02, 2.37930e-01, 0.00000e+00],\n",
      "        [2.92497e+02, 7.18494e+01, 4.55005e+02, 3.50915e+02, 2.14138e-01, 0.00000e+00]])\n"
     ]
    },
    {
     "name": "stderr",
     "output_type": "stream",
     "text": [
      "\r",
      " 93%|██████████████████████████████████████████████████████████████████████████▏     | 797/859 [53:43<04:18,  4.17s/it]"
     ]
    },
    {
     "name": "stdout",
     "output_type": "stream",
     "text": [
      "tensor([[3.27972e+02, 1.34563e+02, 4.30453e+02, 3.49312e+02, 2.29513e-01, 0.00000e+00],\n",
      "        [1.18990e+02, 1.03091e+02, 2.07088e+02, 3.30200e+02, 1.80616e-01, 0.00000e+00]])\n"
     ]
    },
    {
     "name": "stderr",
     "output_type": "stream",
     "text": [
      "\r",
      " 93%|██████████████████████████████████████████████████████████████████████████▎     | 798/859 [53:47<04:15,  4.18s/it]"
     ]
    },
    {
     "name": "stdout",
     "output_type": "stream",
     "text": [
      "tensor([[2.98504e+02, 7.15683e+01, 4.42951e+02, 3.60165e+02, 3.24200e-01, 0.00000e+00],\n",
      "        [7.69620e+01, 1.41824e+02, 2.04868e+02, 3.57014e+02, 2.21507e-01, 0.00000e+00]])\n"
     ]
    },
    {
     "name": "stderr",
     "output_type": "stream",
     "text": [
      "\r",
      " 93%|██████████████████████████████████████████████████████████████████████████▍     | 799/859 [53:52<04:10,  4.17s/it]"
     ]
    },
    {
     "name": "stdout",
     "output_type": "stream",
     "text": [
      "tensor([[1.03789e+02, 3.02767e+01, 2.50285e+02, 2.81477e+02, 5.02029e-01, 0.00000e+00],\n",
      "        [3.12819e+02, 6.04422e+01, 4.30816e+02, 3.49042e+02, 2.25215e-01, 0.00000e+00]])\n"
     ]
    },
    {
     "name": "stderr",
     "output_type": "stream",
     "text": [
      "\r",
      " 93%|██████████████████████████████████████████████████████████████████████████▌     | 800/859 [53:56<04:05,  4.15s/it]"
     ]
    },
    {
     "name": "stdout",
     "output_type": "stream",
     "text": [
      "tensor([[3.11372e+02, 1.12908e+02, 4.26320e+02, 3.06396e+02, 4.29813e-01, 0.00000e+00],\n",
      "        [1.16250e+02, 1.05692e+02, 2.34231e+02, 2.87150e+02, 3.24061e-01, 0.00000e+00]])\n"
     ]
    },
    {
     "name": "stderr",
     "output_type": "stream",
     "text": [
      "\r",
      " 93%|██████████████████████████████████████████████████████████████████████████▌     | 801/859 [54:00<03:58,  4.12s/it]"
     ]
    },
    {
     "name": "stdout",
     "output_type": "stream",
     "text": [
      "tensor([[1.62161e+02, 8.08107e+01, 2.90560e+02, 3.44784e+02, 3.34408e-01, 0.00000e+00],\n",
      "        [3.60555e+02, 1.38542e+02, 4.78889e+02, 3.75771e+02, 1.43710e-01, 0.00000e+00]])\n"
     ]
    },
    {
     "name": "stderr",
     "output_type": "stream",
     "text": [
      "\r",
      " 93%|██████████████████████████████████████████████████████████████████████████▋     | 802/859 [54:04<03:51,  4.06s/it]"
     ]
    },
    {
     "name": "stdout",
     "output_type": "stream",
     "text": [
      "tensor([[3.91587e+01, 8.24681e+01, 1.59644e+02, 3.38400e+02, 2.66169e-01, 0.00000e+00],\n",
      "        [2.65128e+02, 8.93887e+01, 4.14102e+02, 3.28991e+02, 2.56691e-01, 0.00000e+00]])\n"
     ]
    },
    {
     "name": "stderr",
     "output_type": "stream",
     "text": [
      "\r",
      " 93%|██████████████████████████████████████████████████████████████████████████▊     | 803/859 [54:08<03:46,  4.04s/it]"
     ]
    },
    {
     "name": "stdout",
     "output_type": "stream",
     "text": [
      "tensor([[5.54786e+01, 2.98312e+02, 2.02781e+02, 4.90150e+02, 1.52170e-01, 0.00000e+00],\n",
      "        [3.17904e+02, 2.78036e+02, 4.44183e+02, 4.67765e+02, 1.14867e-01, 0.00000e+00]])\n"
     ]
    },
    {
     "name": "stderr",
     "output_type": "stream",
     "text": [
      "\r",
      " 94%|██████████████████████████████████████████████████████████████████████████▉     | 804/859 [54:12<03:44,  4.09s/it]"
     ]
    },
    {
     "name": "stdout",
     "output_type": "stream",
     "text": [
      "tensor([[9.24911e+01, 9.06901e+01, 2.39762e+02, 3.17156e+02, 1.82457e-01, 0.00000e+00],\n",
      "        [3.28001e+02, 1.27517e+02, 4.40855e+02, 3.85813e+02, 1.75006e-01, 0.00000e+00]])\n"
     ]
    },
    {
     "name": "stderr",
     "output_type": "stream",
     "text": [
      "\r",
      " 94%|██████████████████████████████████████████████████████████████████████████▉     | 805/859 [54:16<03:40,  4.09s/it]"
     ]
    },
    {
     "name": "stdout",
     "output_type": "stream",
     "text": [
      "tensor([[2.84216e+02, 1.34968e+02, 4.22443e+02, 3.77271e+02, 2.97250e-01, 0.00000e+00],\n",
      "        [8.77466e+01, 1.29524e+02, 2.00599e+02, 3.75498e+02, 2.47785e-01, 0.00000e+00]])\n"
     ]
    },
    {
     "name": "stderr",
     "output_type": "stream",
     "text": [
      "\r",
      " 94%|███████████████████████████████████████████████████████████████████████████     | 806/859 [54:20<03:36,  4.08s/it]"
     ]
    },
    {
     "name": "stdout",
     "output_type": "stream",
     "text": [
      "tensor([[1.06822e+02, 9.93647e+01, 2.11039e+02, 2.81858e+02, 2.51369e-01, 0.00000e+00],\n",
      "        [3.13578e+02, 1.16673e+02, 4.12176e+02, 3.05456e+02, 1.81392e-01, 0.00000e+00]])\n"
     ]
    },
    {
     "name": "stderr",
     "output_type": "stream",
     "text": [
      "\r",
      " 94%|███████████████████████████████████████████████████████████████████████████▏    | 807/859 [54:24<03:31,  4.07s/it]"
     ]
    },
    {
     "name": "stdout",
     "output_type": "stream",
     "text": [
      "tensor([[3.52147e+02, 2.41534e+02, 4.36535e+02, 3.54773e+02, 2.02530e-01, 0.00000e+00],\n",
      "        [1.46532e+02, 1.05079e+02, 2.41539e+02, 3.23163e+02, 1.25329e-01, 0.00000e+00]])\n"
     ]
    },
    {
     "name": "stderr",
     "output_type": "stream",
     "text": [
      "\r",
      " 94%|███████████████████████████████████████████████████████████████████████████▎    | 808/859 [54:28<03:27,  4.07s/it]"
     ]
    },
    {
     "name": "stdout",
     "output_type": "stream",
     "text": [
      "tensor([[298.92355,   1.54126, 435.19815, 351.11691,   0.58644,   0.00000],\n",
      "        [ 90.35108,  10.65768, 231.21478, 341.75549,   0.57102,   0.00000]])\n"
     ]
    },
    {
     "name": "stderr",
     "output_type": "stream",
     "text": [
      "\r",
      " 94%|███████████████████████████████████████████████████████████████████████████▎    | 809/859 [54:32<03:22,  4.06s/it]"
     ]
    },
    {
     "name": "stdout",
     "output_type": "stream",
     "text": [
      "tensor([[3.20454e+02, 8.29020e+01, 4.37750e+02, 3.33278e+02, 3.94823e-01, 0.00000e+00],\n",
      "        [1.05135e+02, 1.11391e+02, 2.17155e+02, 3.10620e+02, 3.43748e-01, 0.00000e+00]])\n"
     ]
    },
    {
     "name": "stderr",
     "output_type": "stream",
     "text": [
      "\r",
      " 94%|███████████████████████████████████████████████████████████████████████████▍    | 810/859 [54:36<03:18,  4.05s/it]"
     ]
    },
    {
     "name": "stdout",
     "output_type": "stream",
     "text": [
      "tensor([[1.06778e+02, 1.13165e+02, 2.35808e+02, 3.17530e+02, 1.83831e-01, 0.00000e+00],\n",
      "        [3.11049e+02, 9.91172e+01, 4.57688e+02, 3.27842e+02, 1.62039e-01, 0.00000e+00]])\n"
     ]
    },
    {
     "name": "stderr",
     "output_type": "stream",
     "text": [
      "\r",
      " 94%|███████████████████████████████████████████████████████████████████████████▌    | 811/859 [54:40<03:14,  4.05s/it]"
     ]
    },
    {
     "name": "stdout",
     "output_type": "stream",
     "text": [
      "tensor([[3.30819e+02, 2.05568e+02, 4.56881e+02, 4.29855e+02, 3.61207e-01, 0.00000e+00],\n",
      "        [7.85909e+01, 2.51744e+02, 2.00116e+02, 4.03530e+02, 2.55259e-01, 0.00000e+00]])\n"
     ]
    },
    {
     "name": "stderr",
     "output_type": "stream",
     "text": [
      "\r",
      " 95%|███████████████████████████████████████████████████████████████████████████▌    | 812/859 [54:44<03:08,  4.01s/it]"
     ]
    },
    {
     "name": "stdout",
     "output_type": "stream",
     "text": [
      "tensor([[5.55516e+01, 9.39072e+01, 1.61151e+02, 3.22701e+02, 2.38411e-01, 0.00000e+00],\n",
      "        [3.88314e+02, 1.01585e+02, 4.97912e+02, 3.25088e+02, 1.10745e-01, 0.00000e+00]])\n"
     ]
    },
    {
     "name": "stderr",
     "output_type": "stream",
     "text": [
      "\r",
      " 95%|███████████████████████████████████████████████████████████████████████████▋    | 813/859 [54:48<03:04,  4.01s/it]"
     ]
    },
    {
     "name": "stdout",
     "output_type": "stream",
     "text": [
      "tensor([[3.09711e+02, 7.33136e+01, 4.46818e+02, 3.39176e+02, 2.57687e-01, 0.00000e+00],\n",
      "        [9.02700e+01, 7.03084e+01, 2.20250e+02, 3.56326e+02, 2.27801e-01, 0.00000e+00]])\n"
     ]
    },
    {
     "name": "stderr",
     "output_type": "stream",
     "text": [
      "\r",
      " 95%|███████████████████████████████████████████████████████████████████████████▊    | 814/859 [54:52<02:59,  3.98s/it]"
     ]
    },
    {
     "name": "stdout",
     "output_type": "stream",
     "text": [
      "tensor([[8.99264e+01, 1.51319e+02, 1.84310e+02, 3.43527e+02, 3.68242e-01, 0.00000e+00],\n",
      "        [3.01529e+02, 1.41699e+02, 4.59501e+02, 4.08556e+02, 2.99678e-01, 0.00000e+00]])\n"
     ]
    },
    {
     "name": "stderr",
     "output_type": "stream",
     "text": [
      "\r",
      " 95%|███████████████████████████████████████████████████████████████████████████▉    | 815/859 [54:56<02:55,  3.99s/it]"
     ]
    },
    {
     "name": "stdout",
     "output_type": "stream",
     "text": [
      "tensor([[3.25231e+02, 1.95770e+01, 4.71811e+02, 2.19182e+02, 2.49210e-01, 0.00000e+00],\n",
      "        [6.73198e+01, 5.05618e+01, 1.93968e+02, 2.55990e+02, 2.13421e-01, 0.00000e+00]])\n"
     ]
    },
    {
     "name": "stderr",
     "output_type": "stream",
     "text": [
      "\r",
      " 95%|███████████████████████████████████████████████████████████████████████████▉    | 816/859 [55:00<02:51,  4.00s/it]"
     ]
    },
    {
     "name": "stdout",
     "output_type": "stream",
     "text": [
      "tensor([[3.49273e+02, 1.83068e+02, 4.61989e+02, 4.30002e+02, 2.24324e-01, 0.00000e+00],\n",
      "        [8.92901e+01, 1.70738e+02, 1.99880e+02, 3.99464e+02, 1.89813e-01, 0.00000e+00],\n",
      "        [4.08873e+02, 4.56123e-02, 5.05425e+02, 4.25614e+01, 1.38785e-01, 0.00000e+00]])\n"
     ]
    },
    {
     "name": "stderr",
     "output_type": "stream",
     "text": [
      "\r",
      " 95%|████████████████████████████████████████████████████████████████████████████    | 817/859 [55:04<02:49,  4.04s/it]"
     ]
    },
    {
     "name": "stdout",
     "output_type": "stream",
     "text": [
      "tensor([[3.76289e+02, 2.84423e+02, 5.00881e+02, 4.42284e+02, 1.94749e-01, 0.00000e+00],\n",
      "        [1.10259e+02, 2.56910e+02, 2.49573e+02, 4.65529e+02, 1.94509e-01, 0.00000e+00]])\n"
     ]
    },
    {
     "name": "stderr",
     "output_type": "stream",
     "text": [
      "\r",
      " 95%|████████████████████████████████████████████████████████████████████████████▏   | 818/859 [55:08<02:47,  4.08s/it]"
     ]
    },
    {
     "name": "stdout",
     "output_type": "stream",
     "text": [
      "tensor([[2.56579e+02, 2.57002e+02, 4.12548e+02, 4.86803e+02, 2.98905e-01, 0.00000e+00],\n",
      "        [8.35996e+01, 2.98223e+02, 1.92089e+02, 5.04965e+02, 2.76419e-01, 0.00000e+00]])\n"
     ]
    },
    {
     "name": "stderr",
     "output_type": "stream",
     "text": [
      "\r",
      " 95%|████████████████████████████████████████████████████████████████████████████▎   | 819/859 [55:13<02:44,  4.11s/it]"
     ]
    },
    {
     "name": "stdout",
     "output_type": "stream",
     "text": [
      "tensor([[3.14321e+02, 1.69530e+02, 4.04152e+02, 3.25344e+02, 2.51003e-01, 0.00000e+00],\n",
      "        [1.13822e+02, 1.99870e+02, 2.02243e+02, 3.32059e+02, 2.18346e-01, 0.00000e+00]])\n"
     ]
    },
    {
     "name": "stderr",
     "output_type": "stream",
     "text": [
      "\r",
      " 95%|████████████████████████████████████████████████████████████████████████████▎   | 820/859 [55:17<02:42,  4.17s/it]"
     ]
    },
    {
     "name": "stdout",
     "output_type": "stream",
     "text": [
      "tensor([[4.10568e+01, 3.27049e+01, 1.97581e+02, 3.13629e+02, 4.63402e-01, 0.00000e+00],\n",
      "        [2.67110e+02, 3.84456e+01, 4.28205e+02, 3.47492e+02, 3.96498e-01, 0.00000e+00]])\n"
     ]
    },
    {
     "name": "stderr",
     "output_type": "stream",
     "text": [
      "\r",
      " 96%|████████████████████████████████████████████████████████████████████████████▍   | 821/859 [55:21<02:40,  4.23s/it]"
     ]
    },
    {
     "name": "stdout",
     "output_type": "stream",
     "text": [
      "tensor([[8.33276e+01, 7.67262e+01, 2.11731e+02, 3.14598e+02, 3.54503e-01, 0.00000e+00],\n",
      "        [2.98486e+02, 9.14826e+01, 4.03838e+02, 3.26815e+02, 2.22537e-01, 0.00000e+00]])\n"
     ]
    },
    {
     "name": "stderr",
     "output_type": "stream",
     "text": [
      "\r",
      " 96%|████████████████████████████████████████████████████████████████████████████▌   | 822/859 [55:26<02:38,  4.29s/it]"
     ]
    },
    {
     "name": "stdout",
     "output_type": "stream",
     "text": [
      "tensor([[6.30469e+01, 8.95552e+01, 1.67434e+02, 3.31649e+02, 5.52001e-01, 0.00000e+00],\n",
      "        [3.28022e+02, 1.01865e+02, 4.28724e+02, 4.10618e+02, 2.62239e-01, 0.00000e+00]])\n"
     ]
    },
    {
     "name": "stderr",
     "output_type": "stream",
     "text": [
      "\r",
      " 96%|████████████████████████████████████████████████████████████████████████████▋   | 823/859 [55:30<02:31,  4.22s/it]"
     ]
    },
    {
     "name": "stdout",
     "output_type": "stream",
     "text": [
      "tensor([[6.11247e+01, 2.25993e+02, 2.10437e+02, 3.68815e+02, 2.44315e-01, 0.00000e+00],\n",
      "        [3.08126e+02, 2.41128e+02, 4.35287e+02, 3.98522e+02, 1.75047e-01, 0.00000e+00]])\n"
     ]
    },
    {
     "name": "stderr",
     "output_type": "stream",
     "text": [
      "\r",
      " 96%|████████████████████████████████████████████████████████████████████████████▋   | 824/859 [55:34<02:26,  4.18s/it]"
     ]
    },
    {
     "name": "stdout",
     "output_type": "stream",
     "text": [
      "tensor([[9.05941e+01, 1.03611e+02, 2.23188e+02, 3.45301e+02, 3.82804e-01, 0.00000e+00],\n",
      "        [3.00706e+02, 1.38410e+02, 4.37758e+02, 3.73035e+02, 2.36488e-01, 0.00000e+00]])\n"
     ]
    },
    {
     "name": "stderr",
     "output_type": "stream",
     "text": [
      "\r",
      " 96%|████████████████████████████████████████████████████████████████████████████▊   | 825/859 [55:38<02:20,  4.14s/it]"
     ]
    },
    {
     "name": "stdout",
     "output_type": "stream",
     "text": [
      "tensor([[4.56087e+01, 1.61687e+02, 1.90747e+02, 4.61828e+02, 2.38744e-01, 0.00000e+00],\n",
      "        [3.50875e+02, 2.65982e+02, 4.56618e+02, 4.75567e+02, 1.81412e-01, 0.00000e+00]])\n"
     ]
    },
    {
     "name": "stderr",
     "output_type": "stream",
     "text": [
      "\r",
      " 96%|████████████████████████████████████████████████████████████████████████████▉   | 826/859 [55:42<02:15,  4.10s/it]"
     ]
    },
    {
     "name": "stdout",
     "output_type": "stream",
     "text": [
      "tensor([[3.01813e+02, 1.09523e+02, 4.39391e+02, 3.63198e+02, 4.08219e-01, 0.00000e+00],\n",
      "        [4.35649e+01, 1.36451e+02, 1.91379e+02, 4.16262e+02, 3.71392e-01, 0.00000e+00]])\n"
     ]
    },
    {
     "name": "stderr",
     "output_type": "stream",
     "text": [
      "\r",
      " 96%|█████████████████████████████████████████████████████████████████████████████   | 827/859 [55:46<02:12,  4.14s/it]"
     ]
    },
    {
     "name": "stdout",
     "output_type": "stream",
     "text": [
      "tensor([[3.09612e+02, 1.29641e+02, 4.45138e+02, 3.66147e+02, 3.07198e-01, 0.00000e+00],\n",
      "        [6.86681e+01, 1.42731e+02, 2.15120e+02, 3.45460e+02, 2.95789e-01, 0.00000e+00]])\n"
     ]
    },
    {
     "name": "stderr",
     "output_type": "stream",
     "text": [
      "\r",
      " 96%|█████████████████████████████████████████████████████████████████████████████   | 828/859 [55:50<02:08,  4.15s/it]"
     ]
    },
    {
     "name": "stdout",
     "output_type": "stream",
     "text": [
      "tensor([[ 9.06388e+01,  9.38283e+01,  2.02056e+02,  3.24163e+02,  3.61206e-01,  0.00000e+00],\n",
      "        [ 2.48888e+02,  9.16174e+01,  3.81855e+02,  3.10962e+02,  3.20693e-01,  0.00000e+00],\n",
      "        [-2.94586e-01,  1.06354e+02,  9.21267e+01,  3.28295e+02,  1.22276e-01,  0.00000e+00]])\n"
     ]
    },
    {
     "name": "stderr",
     "output_type": "stream",
     "text": [
      "\r",
      " 97%|█████████████████████████████████████████████████████████████████████████████▏  | 829/859 [55:54<02:03,  4.11s/it]"
     ]
    },
    {
     "name": "stdout",
     "output_type": "stream",
     "text": [
      "tensor([[4.96921e+01, 1.59901e+02, 1.90322e+02, 4.46583e+02, 2.74190e-01, 0.00000e+00],\n",
      "        [3.03947e+02, 1.51943e+02, 4.27686e+02, 4.62623e+02, 2.28540e-01, 0.00000e+00]])\n"
     ]
    },
    {
     "name": "stderr",
     "output_type": "stream",
     "text": [
      "\r",
      " 97%|█████████████████████████████████████████████████████████████████████████████▎  | 830/859 [55:58<01:59,  4.11s/it]"
     ]
    },
    {
     "name": "stdout",
     "output_type": "stream",
     "text": [
      "tensor([[ 8.73228e+01,  1.83851e+02,  2.31413e+02,  4.44987e+02,  3.17767e-01,  0.00000e+00],\n",
      "        [ 3.12193e+02,  1.64687e+02,  4.65341e+02,  4.53157e+02,  2.53713e-01,  0.00000e+00],\n",
      "        [-6.57200e-01,  1.72711e+02,  7.55579e+01,  3.53843e+02,  1.12687e-01,  0.00000e+00]])\n"
     ]
    },
    {
     "name": "stderr",
     "output_type": "stream",
     "text": [
      "\r",
      " 97%|█████████████████████████████████████████████████████████████████████████████▍  | 831/859 [56:02<01:55,  4.11s/it]"
     ]
    },
    {
     "name": "stdout",
     "output_type": "stream",
     "text": [
      "tensor([[1.03044e+02, 1.11130e+02, 2.24978e+02, 3.24720e+02, 3.87716e-01, 0.00000e+00],\n",
      "        [3.06970e+02, 1.17329e+02, 4.44208e+02, 3.62373e+02, 2.63352e-01, 0.00000e+00]])\n"
     ]
    },
    {
     "name": "stderr",
     "output_type": "stream",
     "text": [
      "\r",
      " 97%|█████████████████████████████████████████████████████████████████████████████▍  | 832/859 [56:07<01:50,  4.09s/it]"
     ]
    },
    {
     "name": "stdout",
     "output_type": "stream",
     "text": [
      "tensor([[2.45787e+02, 1.46405e+02, 3.59824e+02, 3.76317e+02, 2.97201e-01, 0.00000e+00],\n",
      "        [5.63043e+01, 9.20382e+01, 1.74007e+02, 3.30834e+02, 2.15592e-01, 0.00000e+00]])\n"
     ]
    },
    {
     "name": "stderr",
     "output_type": "stream",
     "text": [
      "\r",
      " 97%|█████████████████████████████████████████████████████████████████████████████▌  | 833/859 [56:10<01:45,  4.05s/it]"
     ]
    },
    {
     "name": "stdout",
     "output_type": "stream",
     "text": [
      "tensor([[3.05150e+02, 2.80328e+02, 4.38945e+02, 4.58913e+02, 1.45534e-01, 0.00000e+00],\n",
      "        [7.93296e+01, 1.57163e+02, 2.22669e+02, 4.83844e+02, 1.35077e-01, 0.00000e+00]])\n"
     ]
    },
    {
     "name": "stderr",
     "output_type": "stream",
     "text": [
      "\r",
      " 97%|█████████████████████████████████████████████████████████████████████████████▋  | 834/859 [56:15<01:43,  4.13s/it]"
     ]
    },
    {
     "name": "stdout",
     "output_type": "stream",
     "text": [
      "tensor([[9.59726e+01, 1.24922e+02, 2.30310e+02, 3.93522e+02, 3.41182e-01, 0.00000e+00],\n",
      "        [3.03408e+02, 1.44429e+02, 4.37031e+02, 3.91121e+02, 2.93243e-01, 0.00000e+00]])\n"
     ]
    },
    {
     "name": "stderr",
     "output_type": "stream",
     "text": [
      "\r",
      " 97%|█████████████████████████████████████████████████████████████████████████████▊  | 835/859 [56:19<01:37,  4.07s/it]"
     ]
    },
    {
     "name": "stdout",
     "output_type": "stream",
     "text": [
      "tensor([[2.15731e+02, 1.37570e+02, 3.53425e+02, 4.37192e+02, 2.22096e-01, 0.00000e+00],\n",
      "        [1.92584e+00, 1.22201e+02, 1.16214e+02, 3.71127e+02, 2.19176e-01, 0.00000e+00]])\n"
     ]
    },
    {
     "name": "stderr",
     "output_type": "stream",
     "text": [
      "\r",
      " 97%|█████████████████████████████████████████████████████████████████████████████▊  | 836/859 [56:23<01:33,  4.07s/it]"
     ]
    },
    {
     "name": "stdout",
     "output_type": "stream",
     "text": [
      "tensor([[2.68901e+02, 1.68778e+02, 3.96773e+02, 4.05192e+02, 2.85872e-01, 0.00000e+00],\n",
      "        [1.08692e+02, 2.03101e+02, 2.14789e+02, 4.60216e+02, 1.21572e-01, 0.00000e+00]])\n"
     ]
    },
    {
     "name": "stderr",
     "output_type": "stream",
     "text": [
      "\r",
      " 97%|█████████████████████████████████████████████████████████████████████████████▉  | 837/859 [56:27<01:29,  4.05s/it]"
     ]
    },
    {
     "name": "stdout",
     "output_type": "stream",
     "text": [
      "tensor([[2.94690e+02, 9.44863e+01, 4.29036e+02, 3.86360e+02, 3.93142e-01, 0.00000e+00],\n",
      "        [8.78436e+01, 8.14198e+01, 2.29553e+02, 3.62697e+02, 2.81018e-01, 0.00000e+00]])\n"
     ]
    },
    {
     "name": "stderr",
     "output_type": "stream",
     "text": [
      "\r",
      " 98%|██████████████████████████████████████████████████████████████████████████████  | 838/859 [56:31<01:24,  4.03s/it]"
     ]
    },
    {
     "name": "stdout",
     "output_type": "stream",
     "text": [
      "tensor([[3.94827e+02, 9.84839e+01, 5.01792e+02, 3.37094e+02, 2.29487e-01, 0.00000e+00],\n",
      "        [9.26888e+01, 1.27375e+02, 2.38374e+02, 3.91670e+02, 1.40209e-01, 0.00000e+00]])\n"
     ]
    },
    {
     "name": "stderr",
     "output_type": "stream",
     "text": [
      "\r",
      " 98%|██████████████████████████████████████████████████████████████████████████████▏ | 839/859 [56:35<01:20,  4.01s/it]"
     ]
    },
    {
     "name": "stdout",
     "output_type": "stream",
     "text": [
      "tensor([[2.75274e+02, 2.55053e+02, 3.78090e+02, 4.07078e+02, 1.87678e-01, 0.00000e+00],\n",
      "        [2.97154e+01, 1.17917e+02, 1.60643e+02, 3.85241e+02, 1.52555e-01, 0.00000e+00]])\n"
     ]
    },
    {
     "name": "stderr",
     "output_type": "stream",
     "text": [
      "\r",
      " 98%|██████████████████████████████████████████████████████████████████████████████▏ | 840/859 [56:39<01:16,  4.04s/it]"
     ]
    },
    {
     "name": "stdout",
     "output_type": "stream",
     "text": [
      "tensor([[9.37205e+01, 1.11100e+02, 2.11977e+02, 3.53889e+02, 3.14980e-01, 0.00000e+00],\n",
      "        [3.00502e+02, 6.74536e+01, 4.35659e+02, 3.89786e+02, 2.46190e-01, 0.00000e+00]])\n"
     ]
    },
    {
     "name": "stderr",
     "output_type": "stream",
     "text": [
      "\r",
      " 98%|██████████████████████████████████████████████████████████████████████████████▎ | 841/859 [56:43<01:12,  4.02s/it]"
     ]
    },
    {
     "name": "stdout",
     "output_type": "stream",
     "text": [
      "tensor([[8.74255e+01, 1.93997e+02, 2.03313e+02, 3.83802e+02, 2.50678e-01, 0.00000e+00],\n",
      "        [2.80587e+02, 1.78993e+02, 4.06285e+02, 3.89461e+02, 1.70178e-01, 0.00000e+00]])\n"
     ]
    },
    {
     "name": "stderr",
     "output_type": "stream",
     "text": [
      "\r",
      " 98%|██████████████████████████████████████████████████████████████████████████████▍ | 842/859 [56:47<01:08,  4.00s/it]"
     ]
    },
    {
     "name": "stdout",
     "output_type": "stream",
     "text": [
      "tensor([[8.05621e+01, 1.27037e+02, 2.37633e+02, 3.99954e+02, 3.03770e-01, 0.00000e+00],\n",
      "        [3.34214e+02, 1.83562e+02, 4.62632e+02, 4.16732e+02, 1.99721e-01, 0.00000e+00],\n",
      "        [2.56478e+02, 8.12009e+01, 4.01345e+02, 3.51990e+02, 1.29130e-01, 0.00000e+00]])\n"
     ]
    },
    {
     "name": "stderr",
     "output_type": "stream",
     "text": [
      "\r",
      " 98%|██████████████████████████████████████████████████████████████████████████████▌ | 843/859 [56:51<01:04,  4.03s/it]"
     ]
    },
    {
     "name": "stdout",
     "output_type": "stream",
     "text": [
      "tensor([[2.97664e+02, 1.33446e+02, 4.37914e+02, 3.87722e+02, 2.26301e-01, 0.00000e+00],\n",
      "        [8.08340e+01, 1.13191e+02, 2.19924e+02, 4.02653e+02, 2.16300e-01, 0.00000e+00]])\n"
     ]
    },
    {
     "name": "stderr",
     "output_type": "stream",
     "text": [
      "\r",
      " 98%|██████████████████████████████████████████████████████████████████████████████▌ | 844/859 [56:55<01:01,  4.09s/it]"
     ]
    },
    {
     "name": "stdout",
     "output_type": "stream",
     "text": [
      "tensor([[2.97293e+02, 3.82721e+01, 4.35077e+02, 3.53878e+02, 3.99316e-01, 0.00000e+00],\n",
      "        [6.19310e+01, 4.33627e+01, 2.09299e+02, 3.68676e+02, 2.56948e-01, 0.00000e+00]])\n"
     ]
    },
    {
     "name": "stderr",
     "output_type": "stream",
     "text": [
      "\r",
      " 98%|██████████████████████████████████████████████████████████████████████████████▋ | 845/859 [56:59<00:57,  4.12s/it]"
     ]
    },
    {
     "name": "stdout",
     "output_type": "stream",
     "text": [
      "tensor([[6.57270e+01, 1.70064e+02, 1.99209e+02, 4.35201e+02, 2.30314e-01, 0.00000e+00],\n",
      "        [3.06325e+02, 1.11750e+02, 4.42048e+02, 4.18744e+02, 1.65592e-01, 0.00000e+00]])\n"
     ]
    },
    {
     "name": "stderr",
     "output_type": "stream",
     "text": [
      "\r",
      " 98%|██████████████████████████████████████████████████████████████████████████████▊ | 846/859 [57:03<00:53,  4.12s/it]"
     ]
    },
    {
     "name": "stdout",
     "output_type": "stream",
     "text": [
      "tensor([[8.19421e+01, 5.79959e+01, 2.32791e+02, 3.74012e+02, 3.32861e-01, 0.00000e+00],\n",
      "        [3.27718e+02, 1.18854e+02, 4.61841e+02, 3.90394e+02, 2.45440e-01, 0.00000e+00]])\n"
     ]
    },
    {
     "name": "stderr",
     "output_type": "stream",
     "text": [
      "\r",
      " 99%|██████████████████████████████████████████████████████████████████████████████▉ | 847/859 [57:08<00:49,  4.15s/it]"
     ]
    },
    {
     "name": "stdout",
     "output_type": "stream",
     "text": [
      "tensor([[4.57366e+01, 8.43326e+01, 1.96111e+02, 2.86287e+02, 4.28145e-01, 0.00000e+00],\n",
      "        [2.67989e+02, 9.38346e+01, 4.02754e+02, 3.16207e+02, 3.07432e-01, 0.00000e+00]])\n"
     ]
    },
    {
     "name": "stderr",
     "output_type": "stream",
     "text": [
      "\r",
      " 99%|██████████████████████████████████████████████████████████████████████████████▉ | 848/859 [57:12<00:46,  4.21s/it]"
     ]
    },
    {
     "name": "stdout",
     "output_type": "stream",
     "text": [
      "tensor([[7.51074e+01, 1.28874e+02, 1.80976e+02, 3.37770e+02, 4.14117e-01, 0.00000e+00],\n",
      "        [2.87083e+02, 1.50043e+02, 4.23937e+02, 3.63396e+02, 3.25129e-01, 0.00000e+00]])\n"
     ]
    },
    {
     "name": "stderr",
     "output_type": "stream",
     "text": [
      "\r",
      " 99%|███████████████████████████████████████████████████████████████████████████████ | 849/859 [57:16<00:42,  4.23s/it]"
     ]
    },
    {
     "name": "stdout",
     "output_type": "stream",
     "text": [
      "tensor([[8.30662e+01, 4.89366e+01, 2.21775e+02, 3.76905e+02, 3.70302e-01, 0.00000e+00],\n",
      "        [2.99876e+02, 1.29298e+02, 4.38952e+02, 3.77770e+02, 1.41732e-01, 0.00000e+00]])\n"
     ]
    },
    {
     "name": "stderr",
     "output_type": "stream",
     "text": [
      "\r",
      " 99%|███████████████████████████████████████████████████████████████████████████████▏| 850/859 [57:20<00:37,  4.22s/it]"
     ]
    },
    {
     "name": "stdout",
     "output_type": "stream",
     "text": [
      "tensor([[9.28278e+01, 2.51938e+02, 2.00413e+02, 4.05919e+02, 1.99482e-01, 0.00000e+00],\n",
      "        [2.90000e+02, 1.26326e+02, 3.98147e+02, 3.55363e+02, 1.38732e-01, 0.00000e+00]])\n"
     ]
    },
    {
     "name": "stderr",
     "output_type": "stream",
     "text": [
      "\r",
      " 99%|███████████████████████████████████████████████████████████████████████████████▎| 851/859 [57:25<00:33,  4.22s/it]"
     ]
    },
    {
     "name": "stdout",
     "output_type": "stream",
     "text": [
      "tensor([[3.33885e+02, 1.66802e+02, 4.98329e+02, 3.30715e+02, 2.84501e-01, 0.00000e+00],\n",
      "        [4.80899e+01, 9.00963e+01, 2.06441e+02, 3.26845e+02, 2.75752e-01, 0.00000e+00]])\n"
     ]
    },
    {
     "name": "stderr",
     "output_type": "stream",
     "text": [
      "\r",
      " 99%|███████████████████████████████████████████████████████████████████████████████▎| 852/859 [57:29<00:29,  4.17s/it]"
     ]
    },
    {
     "name": "stdout",
     "output_type": "stream",
     "text": [
      "tensor([[3.13719e+02, 1.96588e+02, 4.34743e+02, 3.44420e+02, 2.79191e-01, 0.00000e+00],\n",
      "        [1.13829e+02, 1.49190e+02, 2.36837e+02, 3.57370e+02, 2.44037e-01, 0.00000e+00]])\n"
     ]
    },
    {
     "name": "stderr",
     "output_type": "stream",
     "text": [
      "\r",
      " 99%|███████████████████████████████████████████████████████████████████████████████▍| 853/859 [57:33<00:24,  4.14s/it]"
     ]
    },
    {
     "name": "stdout",
     "output_type": "stream",
     "text": [
      "tensor([[8.40740e+01, 5.92719e+00, 2.47373e+02, 3.08690e+02, 4.33516e-01, 0.00000e+00],\n",
      "        [3.31418e+02, 1.96092e+00, 4.92786e+02, 3.00740e+02, 4.28506e-01, 0.00000e+00]])\n"
     ]
    },
    {
     "name": "stderr",
     "output_type": "stream",
     "text": [
      "\r",
      " 99%|███████████████████████████████████████████████████████████████████████████████▌| 854/859 [57:37<00:20,  4.09s/it]"
     ]
    },
    {
     "name": "stdout",
     "output_type": "stream",
     "text": [
      "tensor([[3.59899e+02, 1.37927e+02, 4.70612e+02, 3.48900e+02, 2.48794e-01, 0.00000e+00],\n",
      "        [1.36330e+02, 9.18298e+01, 2.61585e+02, 3.00517e+02, 1.95785e-01, 0.00000e+00]])\n"
     ]
    },
    {
     "name": "stderr",
     "output_type": "stream",
     "text": [
      "\r",
      "100%|███████████████████████████████████████████████████████████████████████████████▋| 855/859 [57:41<00:16,  4.07s/it]"
     ]
    },
    {
     "name": "stdout",
     "output_type": "stream",
     "text": [
      "tensor([[2.85163e+01, 6.55607e+01, 2.12251e+02, 4.40002e+02, 3.57271e-01, 0.00000e+00],\n",
      "        [2.97634e+02, 8.73376e+01, 4.53242e+02, 4.01809e+02, 2.01102e-01, 0.00000e+00]])\n"
     ]
    },
    {
     "name": "stderr",
     "output_type": "stream",
     "text": [
      "\r",
      "100%|███████████████████████████████████████████████████████████████████████████████▋| 856/859 [57:45<00:12,  4.06s/it]"
     ]
    },
    {
     "name": "stdout",
     "output_type": "stream",
     "text": [
      "tensor([[3.05053e+02, 1.80030e+02, 4.17311e+02, 4.18806e+02, 2.81857e-01, 0.00000e+00],\n",
      "        [1.18886e+02, 2.08625e+02, 2.29161e+02, 4.01832e+02, 2.30978e-01, 0.00000e+00]])\n"
     ]
    },
    {
     "name": "stderr",
     "output_type": "stream",
     "text": [
      "\r",
      "100%|███████████████████████████████████████████████████████████████████████████████▊| 857/859 [57:49<00:08,  4.06s/it]"
     ]
    },
    {
     "name": "stdout",
     "output_type": "stream",
     "text": [
      "tensor([[4.20792e+01, 1.00288e+02, 2.02641e+02, 4.21484e+02, 3.79805e-01, 0.00000e+00],\n",
      "        [2.88122e+02, 8.53361e+01, 4.60687e+02, 4.26115e+02, 3.21656e-01, 0.00000e+00]])\n"
     ]
    },
    {
     "name": "stderr",
     "output_type": "stream",
     "text": [
      "\r",
      "100%|███████████████████████████████████████████████████████████████████████████████▉| 858/859 [57:53<00:04,  4.02s/it]"
     ]
    },
    {
     "name": "stdout",
     "output_type": "stream",
     "text": [
      "tensor([[1.03928e+02, 8.67695e+01, 2.37082e+02, 3.50228e+02, 2.95001e-01, 0.00000e+00],\n",
      "        [3.08233e+02, 7.87307e+01, 4.54369e+02, 3.97903e+02, 2.90639e-01, 0.00000e+00]])\n"
     ]
    },
    {
     "name": "stderr",
     "output_type": "stream",
     "text": [
      "100%|████████████████████████████████████████████████████████████████████████████████| 859/859 [57:57<00:00,  4.05s/it]"
     ]
    },
    {
     "name": "stdout",
     "output_type": "stream",
     "text": [
      "tensor([[3.19278e+02, 2.75469e+02, 4.43503e+02, 4.60951e+02, 1.20839e-01, 0.00000e+00]])\n"
     ]
    },
    {
     "name": "stderr",
     "output_type": "stream",
     "text": [
      "\n"
     ]
    }
   ],
   "source": [
    "jdict, stats, ap, ap_class = [], [], [], []\n",
    "stats_yolo, stats_fcnn = [], []\n",
    "iouv = torch.linspace(0.5, 0.55, 1) # iou vector for mAP@0.5:0.95\n",
    "niou = iouv.numel()\n",
    "general_test_results = []\n",
    "for i, (images, targets) in enumerate(tqdm.tqdm(test_loader)):\n",
    "    nb, _, height, width = images.shape\n",
    "    assert nb == 1\n",
    "    img_pil = transforms.ToPILImage()(images[0])\n",
    "    _, boxes, scores, pred_labels, yolo_box, yolo_scores, yolo_labels, fcnn_box, fcnn_scores, fcnn_labels = ensemble.detection_fusion(img_pil, extended_output=True)\n",
    "    boxes = torch.tensor(boxes)\n",
    "    yolo_box = torch.tensor(yolo_box)\n",
    "    fcnn_box = torch.tensor(fcnn_box)\n",
    "    gt_boxes = targets[0]['boxes']\n",
    "    labels = targets[0]['labels']\n",
    "    nl = len(labels)\n",
    "    tcls = labels[:].tolist() if nl else []  # target class\n",
    "\n",
    "    if len(boxes) == 0:\n",
    "        if nl:\n",
    "            stats.append((torch.zeros(0, niou, dtype=torch.bool), torch.Tensor(), torch.Tensor(), tcls))\n",
    "            stats_yolo.append((torch.zeros(0, niou, dtype=torch.bool), torch.Tensor(), torch.Tensor(), tcls))\n",
    "            stats_fcnn.append((torch.zeros(0, niou, dtype=torch.bool), torch.Tensor(), torch.Tensor(), tcls))\n",
    "\n",
    "        continue\n",
    "\n",
    "    correct = torch.zeros(len(boxes), niou, dtype=torch.bool)\n",
    "    correct_yolo = torch.zeros(len(yolo_box), niou, dtype=torch.bool)\n",
    "    correct_fcnn = torch.zeros(len(fcnn_box), niou, dtype=torch.bool)\n",
    "    \n",
    "    if nl:\n",
    "        detected = []\n",
    "        detected_yolo = []\n",
    "        detected_fcnn = []\n",
    "        tcls_tensor = labels[:]\n",
    "\n",
    "        # Per target class\n",
    "        for cls in torch.tensor([1]):\n",
    "            ti = (cls == tcls_tensor).nonzero(as_tuple=False).view(-1)\n",
    "            pi = (cls == torch.tensor(pred_labels)).nonzero(as_tuple=False).view(-1)\n",
    "            pi_yolo = (cls == torch.tensor(yolo_labels)).nonzero(as_tuple=False).view(-1)\n",
    "            pi_fcnn = (cls == torch.tensor(fcnn_labels)).nonzero(as_tuple=False).view(-1)\n",
    "\n",
    "            # Search for detections\n",
    "            if pi.shape[0]:\n",
    "                ious, i = box_iou(boxes[pi], gt_boxes[ti]).max(1)  # best ious, indices\n",
    "                # Append detections - Ensemble\n",
    "                detected_set = set()\n",
    "                for j in (ious > iouv[0]).nonzero(as_tuple=False):\n",
    "                    d = ti[i[j]]  \n",
    "                    if d.item() not in detected_set:\n",
    "                        detected_set.add(d.item())\n",
    "                        detected.append(d)\n",
    "                        correct[pi[j]] = ious[j] > iouv  \n",
    "                        if len(detected) == nl: \n",
    "                            break\n",
    "                            \n",
    "            if pi_yolo.shape[0]:\n",
    "                ious_yolo, i_yolo = box_iou(yolo_box[pi_yolo], gt_boxes[ti]).max(1)\n",
    "                # Yolo\n",
    "                detected_set_yolo = set()\n",
    "                for j in (ious_yolo > iouv[0]).nonzero(as_tuple=False):\n",
    "                    d = ti[i_yolo[j]]  \n",
    "                    if d.item() not in detected_set_yolo:\n",
    "                        detected_set_yolo.add(d.item())\n",
    "                        detected_yolo.append(d)\n",
    "                        correct_yolo[pi_yolo[j]] = ious[j] > iouv  \n",
    "                        if len(detected_yolo) == nl: \n",
    "                            break\n",
    "                            \n",
    "            if pi_fcnn.shape[0]:\n",
    "                ious_fcnn, i_fcnn = box_iou(fcnn_box[pi_fcnn], gt_boxes[ti]).max(1)\n",
    "                # Faster R-CNN\n",
    "                detected_set_fcnn = set()\n",
    "                for j in (ious_fcnn > iouv[0]).nonzero(as_tuple=False):\n",
    "                    d = ti[i_fcnn[j]]  \n",
    "                    if d.item() not in detected_set_fcnn:\n",
    "                        detected_set_fcnn.add(d.item())\n",
    "                        detected_fcnn.append(d)\n",
    "                        correct_fcnn[pi_fcnn[j]] = ious[j] > iouv  \n",
    "                        if len(detected_fcnn) == nl: \n",
    "                            break\n",
    "\n",
    "\n",
    "\n",
    "        # Append statistics (correct, conf, pcls, tcls)\n",
    "        #print((correct.cpu(), torch.tensor(scores),torch.tensor(pred_labels), tcls))\n",
    "        stats.append((correct.cpu(), torch.tensor(scores),torch.tensor(pred_labels), tcls))\n",
    "        stats_yolo.append((correct_yolo.cpu(), torch.tensor(yolo_scores),torch.tensor(yolo_labels), tcls))\n",
    "        stats_fcnn.append((correct_fcnn.cpu(), torch.tensor(fcnn_scores),torch.tensor(fcnn_labels), tcls))\n",
    "\n",
    "for statistic in [stats, stats_yolo, stats_fcnn]:\n",
    "    statistic = [np.concatenate(x, 0) for x in zip(*statistic)] \n",
    "    if len(statistic) and statistic[0].any():\n",
    "        p, r, ap, f1, ap_class = ap_per_class(*statistic)\n",
    "        ap50, ap = ap[:, 0], ap.mean(1) \n",
    "        mp, mr, map50, map = p.mean(), r.mean(), ap50.mean(), ap.mean()\n",
    "        nt = np.bincount(statistic[3].astype(np.int64), minlength=1)\n",
    "\n",
    "        general_test_results.append({\n",
    "        \"precision\": p,\n",
    "        \"recall\": r,\n",
    "        \"ap\": ap,\n",
    "        \"f1\": f1,\n",
    "        \"ap_class\": ap_class,\n",
    "        \"ap\": ap,\n",
    "        \"ap50\": ap50,\n",
    "        \"mp\": mp,\n",
    "        \"mr\": mr,\n",
    "        \"map50\": map50,\n",
    "        \"map\": map\n",
    "    })\n",
    "\n",
    "    else:\n",
    "        nt = torch.zeros(1)\n"
   ]
  },
  {
   "cell_type": "code",
   "execution_count": 11,
   "id": "1c353024",
   "metadata": {},
   "outputs": [
    {
     "data": {
      "text/plain": [
       "{'precision': array([    0.32703]),\n",
       " 'recall': array([    0.40346]),\n",
       " 'ap': array([    0.22222]),\n",
       " 'f1': array([    0.36124]),\n",
       " 'ap_class': array([1]),\n",
       " 'ap50': array([    0.22222]),\n",
       " 'mp': 0.32702590011204447,\n",
       " 'mr': 0.4034580034580035,\n",
       " 'map50': 0.22222274442615636,\n",
       " 'map': 0.22222274442615636}"
      ]
     },
     "execution_count": 11,
     "metadata": {},
     "output_type": "execute_result"
    }
   ],
   "source": [
    "general_test_results[0]"
   ]
  },
  {
   "cell_type": "code",
   "execution_count": 12,
   "id": "1767ae14",
   "metadata": {},
   "outputs": [
    {
     "data": {
      "text/plain": [
       "{'precision': array([    0.28628]),\n",
       " 'recall': array([    0.29299]),\n",
       " 'ap': array([    0.14523]),\n",
       " 'f1': array([     0.2896]),\n",
       " 'ap_class': array([1]),\n",
       " 'ap50': array([    0.14523]),\n",
       " 'mp': 0.28627978695647754,\n",
       " 'mr': 0.2929908510027988,\n",
       " 'map50': 0.1452307559503463,\n",
       " 'map': 0.1452307559503463}"
      ]
     },
     "execution_count": 12,
     "metadata": {},
     "output_type": "execute_result"
    }
   ],
   "source": [
    "general_test_results[1]"
   ]
  },
  {
   "cell_type": "code",
   "execution_count": 13,
   "id": "442f42ea",
   "metadata": {},
   "outputs": [
    {
     "data": {
      "text/plain": [
       "{'precision': array([    0.27606]),\n",
       " 'recall': array([    0.27209]),\n",
       " 'ap': array([   0.096146]),\n",
       " 'f1': array([    0.27406]),\n",
       " 'ap_class': array([1]),\n",
       " 'ap50': array([   0.096146]),\n",
       " 'mp': 0.27605637751810674,\n",
       " 'mr': 0.27209154481881753,\n",
       " 'map50': 0.0961461165073274,\n",
       " 'map': 0.0961461165073274}"
      ]
     },
     "execution_count": 13,
     "metadata": {},
     "output_type": "execute_result"
    }
   ],
   "source": [
    "general_test_results[2]"
   ]
  }
 ],
 "metadata": {
  "kernelspec": {
   "display_name": "aml",
   "language": "python",
   "name": "aml"
  },
  "language_info": {
   "codemirror_mode": {
    "name": "ipython",
    "version": 3
   },
   "file_extension": ".py",
   "mimetype": "text/x-python",
   "name": "python",
   "nbconvert_exporter": "python",
   "pygments_lexer": "ipython3",
   "version": "3.9.6"
  }
 },
 "nbformat": 4,
 "nbformat_minor": 5
}
